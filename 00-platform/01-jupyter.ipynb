{
 "cells": [
  {
   "cell_type": "markdown",
   "metadata": {},
   "source": [
    "<img src=\"../images/JHI_STRAP_Web.png\" style=\"width: 150px; float: right;\">\n",
    "# 01 - Jupyter Notebooks"
   ]
  },
  {
   "cell_type": "markdown",
   "metadata": {},
   "source": [
    "## Table of Contents\n",
    "\n",
    "1. [Introduction to Juypter](#introduction)\n",
    "2. [Lauching Jupyter](#starting_jupyter)\n",
    "3. [Opening a Jupyter notebook](#opening_notebook) \n",
    "4. [Cells inside a Jupyter notebook](#cells_in_jupyter)\n",
    "5. [Python inside a Jupter notebook](#python_in_jupyter)\n"
   ]
  },
  {
   "cell_type": "markdown",
   "metadata": {},
   "source": [
    "<a id=\"introduction\"></a>\n",
    "## Introduction to Jupyter\n",
    "\n",
    "In this workshop we're using a software platform call the Jupyter Notebook. This lets you write an electronic notebook combining text (with basic formatting like _italics_ or bullet points) and snippets of functional programming code (here we're using the Python programming language).\n",
    "\n",
    "You access a Jupyter Notebook through a webbrowser, but rather than depending on a server out on the internet, you can run Jupyter on your own computer.\n",
    "\n",
    "In this case both Jupyter and the webbrowser will run on the Linux server setup for this workshop, and you'll access them from your Windows Desktop."
   ]
  },
  {
   "cell_type": "markdown",
   "metadata": {},
   "source": [
    "<a id=\"starting_jupyter\"></a>\n",
    "### Launching Jupyter\n",
    "\n",
    "Using [MobaXterm](http://mobaxterm.mobatek.net) connect to the class server, and then at the command line prompt run:\n",
    "\n",
    "``` bash\n",
    "$ cd ~/Teaching-IBioIC-Intro-to-Bioinformatics\n",
    "$ source venv-IBioIC/bin/activate\n",
    "$ jupyter notebook\n",
    "...\n",
    "```\n",
    "\n",
    "The first command ``cd`` is short for \"change directory\", and just changes into the course directory so that all our sample data and the course notebooks are easy to find.\n",
    "\n",
    "The second command ``source`` activates something called a Python Virtual Environment, which takes care of all the Python library dependencies we'll be using - including Jupyter.\n",
    "\n",
    "The final command starts Jupyter. It should print various output to screen, and launch the web-browser Firefox showing the Jupyter Notebook Dashboard.\n",
    "\n",
    "This should show a file list coresponding to the course directory which we looked at earlier:\n",
    "\n",
    "![Jupyter showing the course folder](images/jupyter_startup.png)\n",
    "\n",
    "Notice in the web-browser address bar that the URL starts ``localhost:8888/`` where ``localhost`` is a special address for the local machine itself (not somewhere else on the network or internet)."
   ]
  },
  {
   "cell_type": "markdown",
   "metadata": {},
   "source": [
    "<a id=\"opening_notebook\"></a>\n",
    "### Opening a Jupyter notebook\n",
    "\n",
    "From the Jupyter file listing (the \"Jupter Notebook Dashboard\"), trying clicking on the ``00-platform`` entry (which has a folder icon). This should show you the contents of the directory ``~/Teaching-IBioIC-Intro-to-Bioinformatics/00-platform/``.\n",
    "\n",
    "Confirm Jupyter is showing the same files using ``ls`` at the Linux command line. Like many of the core Unix/Linux command this an extreme shortening, ``ls`` is short for \"list\":\n",
    "\n",
    "``` bash\n",
    "$ ls Teaching-IBioIC-Intro-to-Bioinformatics/00-platform\n",
    "```\n",
    "\n",
    "Back in our browser looking at the \"Jupter Notebook Dashboard\", clicking on the  ``01-jupyter.ipynb`` entry should open in a new tab. You're now looking at *this* file run from inside Jupyter.\n"
   ]
  },
  {
   "cell_type": "markdown",
   "metadata": {},
   "source": [
    "<a id=\"cells_in_jupyter\"></a>\n",
    "### Cells inside a Jupter notebook\n",
    "\n",
    "So far we've not taken advantage of the key feature of Jupyter Notebooks - in addition to blocks of pretty text, you can have real live code too. \n",
    "Jupyter calls each block a \"Cell\", and here we'll use two main kinds of cells:\n",
    "\n",
    "- Markdown - Pretty text which can include simple formatting like *italics*, bullet point lists, and images.\n",
    "- Code - Live code, here setup to use the Python 3 programming language.\n",
    "\n",
    "The next thing in this notebook is a code cell where you can type Python 3 code. The usual keyboard controls work with minor changes:\n",
    "\n",
    "- Pressing \"Enter\" will start a new line of code.\n",
    "- Pressing \"Ctrl + Enter\" will run the block of code, and show the output.\n",
    "\n",
    "Let's try it now with a traditional minimal Python example:"
   ]
  },
  {
   "cell_type": "code",
   "execution_count": 1,
   "metadata": {},
   "outputs": [
    {
     "name": "stdout",
     "output_type": "stream",
     "text": [
      "Hello world\n"
     ]
    }
   ],
   "source": [
    "print(\"Hello world\")"
   ]
  },
  {
   "cell_type": "markdown",
   "metadata": {},
   "source": [
    "This is a \"Markdown\" cell. You can edit this too if you first double click it to enter edit mode.\n",
    "\n",
    "Once in edit mode the background colour changes and you get a green outline. The text also changes:\n",
    "\n",
    "- This bullet point lists is now shown with minus signs.\n",
    "- This text which was in *italics* now has asterisks around it.\n",
    "- This text which was in **bold** has double asterisks.\n",
    "\n",
    "From Jupter's edit mode in a markdown cell:\n",
    "\n",
    "- Pressing \"Enter\" will start a new line of text\n",
    "- Pretting \"Ctrl + Enter\" will leave edit mode, and show the pretty text."
   ]
  },
  {
   "cell_type": "markdown",
   "metadata": {},
   "source": [
    "Try editing this Markdown cell, using basic formatting like *italics*, or **bold**, or including a website link like [Markdown](http://daringfireball.net/projects/markdown/)."
   ]
  },
  {
   "cell_type": "markdown",
   "metadata": {},
   "source": [
    "<a id=\"python_in_jupyter\"></a>\n",
    "### Python inside a Jupyter notebook\n",
    "\n",
    "<p></p>\n",
    "<div class=\"alert-warning\">We're introducing Python using Python 3 syntax, which has some changes from Python 2 - like how ``print`` works. This is something to be aware of if copying older examples from the internet or books.</div> \n",
    "\n",
    "\n",
    "We're going to introduce some programming concepts using the Python programming language.\n",
    "\n",
    "\n",
    "Python lets you work with simple data objects like booleans (defined with keywords ``True`` and ``False``), numbers (like ``1``, ``1.3``, or ``1.23e-4``), and strings (using double-quotes like ``\"Hello world\"`` or single quotes like ``'Hello World'``), and more complicated objects too including lists, sets, dictionaries.\n",
    "\n",
    "Numbers in Python these support the numerical operations you might expect, plus some additional operations were you might not guess the syntax meaning:"
   ]
  },
  {
   "cell_type": "code",
   "execution_count": 2,
   "metadata": {},
   "outputs": [
    {
     "data": {
      "text/plain": [
       "3"
      ]
     },
     "execution_count": 2,
     "metadata": {},
     "output_type": "execute_result"
    }
   ],
   "source": [
    "1 + 2"
   ]
  },
  {
   "cell_type": "code",
   "execution_count": 3,
   "metadata": {},
   "outputs": [
    {
     "data": {
      "text/plain": [
       "6"
      ]
     },
     "execution_count": 3,
     "metadata": {},
     "output_type": "execute_result"
    }
   ],
   "source": [
    "2 * 3"
   ]
  },
  {
   "cell_type": "code",
   "execution_count": 4,
   "metadata": {},
   "outputs": [
    {
     "data": {
      "text/plain": [
       "4.666666666666667"
      ]
     },
     "execution_count": 4,
     "metadata": {},
     "output_type": "execute_result"
    }
   ],
   "source": [
    "14 / 3"
   ]
  },
  {
   "cell_type": "code",
   "execution_count": 5,
   "metadata": {},
   "outputs": [
    {
     "data": {
      "text/plain": [
       "4"
      ]
     },
     "execution_count": 5,
     "metadata": {},
     "output_type": "execute_result"
    }
   ],
   "source": [
    "14 // 3"
   ]
  },
  {
   "cell_type": "markdown",
   "metadata": {},
   "source": [
    "For a single line expression like that, you don't need to bother with a ``print(...)`` as Jupyter will just show the result. But in general with multiple-line Python snippets you would need the print bits:"
   ]
  },
  {
   "cell_type": "code",
   "execution_count": 6,
   "metadata": {},
   "outputs": [
    {
     "name": "stdout",
     "output_type": "stream",
     "text": [
      "3\n",
      "6\n",
      "4.0\n"
     ]
    }
   ],
   "source": [
    "print(1 + 2)\n",
    "print(2 * 3)\n",
    "print(12 / 3)"
   ]
  },
  {
   "cell_type": "markdown",
   "metadata": {},
   "source": [
    "Python, like most programming languages lets you define *variables*, names for values which can change when the program is run. There are some restrictions on the characters you can use (letters, numbers, underscores) but convention is to use lower case names with underscores."
   ]
  },
  {
   "cell_type": "code",
   "execution_count": 7,
   "metadata": {},
   "outputs": [
    {
     "name": "stdout",
     "output_type": "stream",
     "text": [
      "Hello world\n"
     ]
    }
   ],
   "source": [
    "welcome_message = \"Hello world\"\n",
    "print(welcome_message)"
   ]
  },
  {
   "cell_type": "markdown",
   "metadata": {},
   "source": [
    "We've used the ``print(...)`` function without really explaining it. Python has lots of built-in functions (and you can define your own), which  are called with the brackets enclosing any arguments (instructions).\n",
    "\n",
    "Another commonly used built-in function is ``len(...)`` which gives the length of a string or more complicated data structure:"
   ]
  },
  {
   "cell_type": "code",
   "execution_count": 8,
   "metadata": {},
   "outputs": [
    {
     "name": "stdout",
     "output_type": "stream",
     "text": [
      "Number of letters in message:\n",
      "11\n"
     ]
    }
   ],
   "source": [
    "# Lines starting with a hash (#) are comments\n",
    "# This assumes the earlier cell defining welcome_message has been run\n",
    "print(\"Number of letters in message:\")\n",
    "print(len(welcome_message))"
   ]
  },
  {
   "cell_type": "markdown",
   "metadata": {},
   "source": [
    "The above example is *also* intended to show that the bits of Python in a Jupyter notebook are not self contained. You can deliberately break up the code with blocks of text like this - and this is very useful."
   ]
  },
  {
   "cell_type": "markdown",
   "metadata": {},
   "source": [
    "<a id=\"new_notebooks\"></a>\n",
    "### Making a new Jupter notebook\n",
    "\n",
    "From the Jupyter Notebook Dashboard (the first tab opened back when we started Jupyter), there is a drop-down menu option top right, \"New\", then \"Python 3\" (under the \"Notebooks\" section):\n",
    "\n",
    "![Jupyter Dashboard's new menu](images/jupyter_new_menu.png)\n",
    "\n",
    "From an existing Jupyter Notebook there is an entry under the menu (top left), \"File\", \"New Notebook\", \"Python 3\".\n",
    "\n",
    "Either will create a new initially named ``Untitled`` Notebook. By clicking on this default name, you can give it new name (the extension ``.ipynb`` is added automatically):\n",
    "\n",
    "![New Python 3 notebook in Jupyter](images/jupyter_untitled.png)\n",
    "\n",
    "To save the new notebook, goto the menu (top left), \"File\", \"Save and Checkpoint\" - or use the save icon just underneither the menu.\n",
    "\n",
    "We'll ask you to make your own new notebook tomorrow for one of the exercises."
   ]
  },
  {
   "cell_type": "markdown",
   "metadata": {},
   "source": [
    "### Resources\n",
    "\n",
    "* [Jupter Notebook Basics](http://jupyter-notebook.readthedocs.io/en/latest/examples/Notebook/Notebook%20Basics.html)\n",
    "* [Jupter Markdown cells](http://jupyter-notebook.readthedocs.io/en/latest/examples/Notebook/Working%20With%20Markdown%20Cells.html)\n",
    "* [Markdown](http://daringfireball.net/projects/markdown/) (original definition and tool)\n",
    "* [CommonMark](http://commonmark.org/) (community effort to formalise the Markdown standard)\n",
    "* [Python](https://www.python.org)\n",
    "\n",
    " "
   ]
  }
 ],
 "metadata": {
  "kernelspec": {
   "display_name": "Python 3 (IBioIC)",
   "language": "python",
   "name": "python3_ibioic_course"
  },
  "language_info": {
   "codemirror_mode": {
    "name": "ipython",
    "version": 3
   },
   "file_extension": ".py",
   "mimetype": "text/x-python",
   "name": "python",
   "nbconvert_exporter": "python",
   "pygments_lexer": "ipython3",
   "version": "3.6.3"
  }
 },
 "nbformat": 4,
 "nbformat_minor": 2
}
