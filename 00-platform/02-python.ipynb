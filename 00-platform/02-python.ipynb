{
 "cells": [
  {
   "cell_type": "markdown",
   "metadata": {},
   "source": [
    "<img src=\"../images/JHI_STRAP_Web.png\" style=\"width: 150px; float: right;\">\n",
    "# 02 - Python Basics"
   ]
  },
  {
   "cell_type": "markdown",
   "metadata": {},
   "source": [
    "## Table of Contents\n",
    "\n",
    "1. [Ways to run Python code](#running_python)\n",
    "2. [Python strings](#python_strings)\n",
    "3. [Python lists](#python_lists)\n",
    "4. [Python for-loops](#for_loop)"
   ]
  },
  {
   "cell_type": "markdown",
   "metadata": {},
   "source": [
    "<a id=\"running_python\"></a>\n",
    "## Ways to run Python code\n",
    "\n",
    "In this workshop we're using a software platform call the Jupyter Notebook, which lets you run Python code inside your web-browser, e.g. click on the next cell and press Ctrl+Enter to run this snippet of Python:"
   ]
  },
  {
   "cell_type": "code",
   "execution_count": 1,
   "metadata": {},
   "outputs": [
    {
     "name": "stdout",
     "output_type": "stream",
     "text": [
      "Hello world\n"
     ]
    }
   ],
   "source": [
    "print(\"Hello world\")"
   ]
  },
  {
   "cell_type": "markdown",
   "metadata": {},
   "source": [
    "Python can also be run interactively at the command line in your terminal window, where ``>>>`` represents the interactive Python prompt and ``quit()`` is the simplest way to exit.\n",
    "\n",
    "```\n",
    "$ python\n",
    "Python 3.6.4 |Anaconda, Inc.| (default, Jan 16 2018, 12:04:33) \n",
    "[GCC 4.2.1 Compatible Clang 4.0.1 (tags/RELEASE_401/final)] on darwin\n",
    "Type \"help\", \"copyright\", \"credits\" or \"license\" for more information.\n",
    ">>> print(\"Hello world\")\n",
    "Hello world\n",
    ">>> quit()\n",
    "```\n",
    "\n",
    "More commonly people write Python scripts, plain text files usually ending with the ``.py`` extension, which can be run like this:\n",
    "\n",
    "```bash\n",
    "$ python example.py\n",
    "...\n",
    "```\n",
    "\n",
    "Any self contained snippet of Python (including many of the examples here) could be run this way - but doing it in the notebook is in many ways easier, especially for interactive work and keeping notes with the code. The Jupyter Notebooks really shine when producing graphics with Python, as we will see this afternoon.\n",
    "\n"
   ]
  },
  {
   "cell_type": "markdown",
   "metadata": {},
   "source": [
    "<a id=\"python_strings\"></a>\n",
    "## Strings\n",
    "\n",
    "Python strings can be defined using double quotes, or single quotes -- it doesn't really matter but they have to match. Strings can be added together (concatenated) with the ``+`` operation, or duplicated by multiplying by an integer number:"
   ]
  },
  {
   "cell_type": "code",
   "execution_count": 2,
   "metadata": {},
   "outputs": [
    {
     "name": "stdout",
     "output_type": "stream",
     "text": [
      "Hello world\n",
      "Hello worldHello worldHello world\n"
     ]
    }
   ],
   "source": [
    "name = \"Hello\"\n",
    "message = name + \" world\"\n",
    "print(message)\n",
    "print(message * 3)"
   ]
  },
  {
   "cell_type": "markdown",
   "metadata": {},
   "source": [
    "It is very common to want to combine strings togther, often including numbers or other values. A widely used approach to string formating with percent sign place holders:\n",
    "\n",
    "- ``%s`` to insert a string\n",
    "- ``%i`` to insert an integer number\n",
    "- ``%f`` to insert a floating point number\n",
    "\n",
    "This convention was introduced in the C programming language, which was enourmously influential in later programming language design."
   ]
  },
  {
   "cell_type": "code",
   "execution_count": 3,
   "metadata": {},
   "outputs": [
    {
     "name": "stdout",
     "output_type": "stream",
     "text": [
      "Hello Peter, your name has 5 letters\n"
     ]
    }
   ],
   "source": [
    "name = \"Peter\"\n",
    "message = \"Hello %s, your name has %i letters\" % (name, len(name))\n",
    "print(message)"
   ]
  },
  {
   "cell_type": "markdown",
   "metadata": {},
   "source": [
    "<a id=\"python_listss\"></a>\n",
    "## Lists\n",
    "\n",
    "The Python ``list`` serves as a general purpose data structure for holding an ordered collection of values, commonly used in conjunction with a ``for`` loop as shown later. This is similar to an array in other languages.\n",
    "\n",
    "You can have lists of strings, lists of integers, etc. The length of a list is defined as the number of elements in the list."
   ]
  },
  {
   "cell_type": "code",
   "execution_count": 4,
   "metadata": {},
   "outputs": [
    {
     "name": "stdout",
     "output_type": "stream",
     "text": [
      "3\n"
     ]
    }
   ],
   "source": [
    "names = [\"Peter\", \"Sue\", \"Leighton\"]\n",
    "print(len(names))"
   ]
  },
  {
   "cell_type": "markdown",
   "metadata": {},
   "source": [
    "<a id=\"for_loops\"></a>\n",
    "## For loops\n",
    "\n",
    "Most programming languages, including Python, have several ways to repeat a block of code multiple times. Python's ``for`` loop works with a loop variable (``letter`` in the example below) which takes in turn each of the values to be looped over (here the letters in string varible ``message``):"
   ]
  },
  {
   "cell_type": "code",
   "execution_count": 5,
   "metadata": {},
   "outputs": [
    {
     "name": "stdout",
     "output_type": "stream",
     "text": [
      "H\n",
      "e\n",
      "l\n",
      "l\n",
      "o\n",
      " \n",
      "w\n",
      "o\n",
      "r\n",
      "l\n",
      "d\n"
     ]
    }
   ],
   "source": [
    "message = \"Hello world\"\n",
    "for letter in message:\n",
    "    print(letter)"
   ]
  },
  {
   "cell_type": "markdown",
   "metadata": {},
   "source": [
    "Another common situation is to loop over a list of values:"
   ]
  },
  {
   "cell_type": "code",
   "execution_count": 6,
   "metadata": {},
   "outputs": [
    {
     "name": "stdout",
     "output_type": "stream",
     "text": [
      "alpha\n",
      "beta\n",
      "gamma\n",
      "delta\n"
     ]
    }
   ],
   "source": [
    "for value in [\"alpha\", \"beta\", \"gamma\", \"delta\"]:\n",
    "    print(value)"
   ]
  },
  {
   "cell_type": "markdown",
   "metadata": {},
   "source": [
    "Later in the workshop you'll see this syntax used with other constructs, including parsing a sequence file were we loop over each record in the file."
   ]
  },
  {
   "cell_type": "markdown",
   "metadata": {},
   "source": [
    "## Defining Functions\n",
    "\n",
    "Often as your Python code gets longer you will find you repeat snippets of code. In this situation it is usually best to turn the repeated code into a function which can be defined once and then used multiple times."
   ]
  },
  {
   "cell_type": "code",
   "execution_count": 7,
   "metadata": {},
   "outputs": [
    {
     "name": "stdout",
     "output_type": "stream",
     "text": [
      "Hello Peter, your name is 5 characters long\n",
      "Hello Sue, your name is 3 characters long\n",
      "Hello Leighton, your name is 8 characters long\n"
     ]
    }
   ],
   "source": [
    "# Python keyword def is short for define\n",
    "# Here defining a function taking one argument\n",
    "def make_message(name):\n",
    "    length = len(name)\n",
    "    # Python keyword return exits the function with this value:\n",
    "    return \"Hello %s, your name is %i characters long\" % (name, length)\n",
    "\n",
    "print(make_message(\"Peter\"))\n",
    "print(make_message(\"Sue\"))\n",
    "print(make_message(\"Leighton\"))"
   ]
  },
  {
   "cell_type": "markdown",
   "metadata": {},
   "source": [
    "For loops are also very important for reducing duplicated code, so in this little exmaple rather than calling our function three times we could do this:"
   ]
  },
  {
   "cell_type": "code",
   "execution_count": 8,
   "metadata": {},
   "outputs": [
    {
     "name": "stdout",
     "output_type": "stream",
     "text": [
      "Hello Peter, your name is 5 characters long\n",
      "Hello Sue, your name is 3 characters long\n",
      "Hello Leighton, your name is 8 characters long\n"
     ]
    }
   ],
   "source": [
    "# Assumes you've already executed the cells above which defined\n",
    "# the list *names* and the function *make_message*\n",
    "for name in names:\n",
    "    print(make_message(name))"
   ]
  },
  {
   "cell_type": "markdown",
   "metadata": {},
   "source": [
    "The examples we have shown so far are functions taking a single argument, but they can take multiple arguments. Even optional arguments are possible (not shown here). This example is a function which requires two arguments:"
   ]
  },
  {
   "cell_type": "code",
   "execution_count": 9,
   "metadata": {},
   "outputs": [
    {
     "name": "stdout",
     "output_type": "stream",
     "text": [
      "Frequency of letter A is 0.333333\n",
      "Frequency of letter C is 0.166667\n",
      "Frequency of letter G is 0.333333\n",
      "Frequency of letter T is 0.166667\n"
     ]
    }
   ],
   "source": [
    "def letter_frequency(text, letter):\n",
    "    return text.count(letter) / len(text)\n",
    "\n",
    "sequence = \"AGTGACACAGGT\"\n",
    "for base in \"ACGT\":\n",
    "    print(\"Frequency of letter %s is %f\" % (base, letter_frequency(sequence, base)))"
   ]
  },
  {
   "cell_type": "markdown",
   "metadata": {},
   "source": [
    "This example also introduced something new for counting the letters in a string. Python strings have lots of *methods*, a special kind of Python function acting on the the object itself via this ``.method(...)`` syntax."
   ]
  },
  {
   "cell_type": "code",
   "execution_count": 10,
   "metadata": {},
   "outputs": [
    {
     "name": "stdout",
     "output_type": "stream",
     "text": [
      "HELLO WORLD\n",
      "hello world\n",
      "3\n"
     ]
    }
   ],
   "source": [
    "print(message.upper())\n",
    "print(message.lower())\n",
    "print(message.count(\"l\"))"
   ]
  },
  {
   "cell_type": "markdown",
   "metadata": {},
   "source": [
    "### Resources\n",
    "\n",
    "We've tried to introduce a minimum of concepts and syntax here. There will be more Python examples later on using more advanced things (like ``with`` statements), which we won't have time to explain in detail as we want to focus on the Bioinformatics instead. \n",
    "\n",
    "* [Jupyter Notebook Basics](http://jupyter-notebook.readthedocs.io/en/latest/examples/Notebook/Notebook%20Basics.html)\n",
    "* [Python](https://www.python.org)\n",
    "\n",
    " "
   ]
  }
 ],
 "metadata": {
  "kernelspec": {
   "display_name": "Python 3",
   "language": "python",
   "name": "python3"
  },
  "language_info": {
   "codemirror_mode": {
    "name": "ipython",
    "version": 3
   },
   "file_extension": ".py",
   "mimetype": "text/x-python",
   "name": "python",
   "nbconvert_exporter": "python",
   "pygments_lexer": "ipython3",
   "version": "3.6.4"
  }
 },
 "nbformat": 4,
 "nbformat_minor": 2
}
