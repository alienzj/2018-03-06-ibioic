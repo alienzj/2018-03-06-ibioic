{
 "cells": [
  {
   "cell_type": "markdown",
   "metadata": {
    "deletable": true,
    "editable": true
   },
   "source": [
    "<img src=\"images/JHI_STRAP_Web.png\" style=\"width: 150px; float: right;\">\n",
    "# 02 - Python Basics"
   ]
  },
  {
   "cell_type": "markdown",
   "metadata": {
    "deletable": true,
    "editable": true
   },
   "source": [
    "## Table of Contents\n",
    "\n",
    "1. [Ways to run Python code](#running_python)"
   ]
  },
  {
   "cell_type": "markdown",
   "metadata": {
    "deletable": true,
    "editable": true
   },
   "source": [
    "<a id=\"running_python\"></a>\n",
    "## Ways to run Python code\n",
    "\n",
    "In this workshop we're using a software platform call the Jupyter Notebook, which lets you run Python code inside your web-browser, e.g. click on the next cell and press Ctrl+Enter to run this snippet of Python:"
   ]
  },
  {
   "cell_type": "code",
   "execution_count": null,
   "metadata": {
    "collapsed": false,
    "deletable": true,
    "editable": true
   },
   "outputs": [],
   "source": [
    "print(\"Hello world\")"
   ]
  },
  {
   "cell_type": "markdown",
   "metadata": {
    "deletable": true,
    "editable": true
   },
   "source": [
    "Python can also be run interactively at the command line in your terminal window, where ``>>>`` represents the interactive Python prompt and ``quit()`` is the simplest way to exit.\n",
    "\n",
    "```bash\n",
    "$ python\n",
    "Python 3.6.0b2 (default, Oct 11 2016, 05:27:10) \n",
    "[GCC 6.0.2 20161005] on linux\n",
    "Type \"help\", \"copyright\", \"credits\" or \"license\" for more information.\n",
    ">>> print(\"Hello world\")\n",
    "Hello world\n",
    ">>> quit()\n",
    "```\n",
    "\n",
    "More commonly people write Python scripts, plain text files usually ending with the ``.py`` extension, which can be run like this:\n",
    "\n",
    "```\n",
    "$ python example.py\n",
    "...\n",
    "```\n",
    "\n",
    "Any self contained snippet of Python (including many of the examples here) could be run this way - but doing it in the notebook is in many ways easier, especially for interactive work and keeping notes with the code. The Jupyter Notebooks really shine when producing graphics with Python, as we will see this afternoon.\n",
    "\n"
   ]
  },
  {
   "cell_type": "markdown",
   "metadata": {
    "deletable": true,
    "editable": true
   },
   "source": [
    "### Resources\n",
    "\n",
    "* [Jupter Notebook Basics](http://jupyter-notebook.readthedocs.io/en/latest/examples/Notebook/Notebook%20Basics.html)\n",
    "* [Python](https://www.python.org)\n",
    "\n",
    " "
   ]
  }
 ],
 "metadata": {
  "kernelspec": {
   "display_name": "Python 3",
   "language": "python",
   "name": "python3"
  },
  "language_info": {
   "codemirror_mode": {
    "name": "ipython",
    "version": 3
   },
   "file_extension": ".py",
   "mimetype": "text/x-python",
   "name": "python",
   "nbconvert_exporter": "python",
   "pygments_lexer": "ipython3",
   "version": "3.6.0"
  }
 },
 "nbformat": 4,
 "nbformat_minor": 2
}
