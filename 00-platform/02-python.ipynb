{
 "cells": [
  {
   "cell_type": "markdown",
   "metadata": {
    "deletable": true,
    "editable": true
   },
   "source": [
    "<img src=\"images/JHI_STRAP_Web.png\" style=\"width: 150px; float: right;\">\n",
    "# 02 - Python Basics"
   ]
  },
  {
   "cell_type": "markdown",
   "metadata": {
    "deletable": true,
    "editable": true
   },
   "source": [
    "## Table of Contents\n",
    "\n",
    "1. [Ways to run Python code](#running_python)\n",
    "2. [Python strings](#python_strings)\n",
    "3. [Python lists](#python_lists)\n",
    "4. [Python for-loops](#for_loop)"
   ]
  },
  {
   "cell_type": "markdown",
   "metadata": {
    "deletable": true,
    "editable": true
   },
   "source": [
    "<a id=\"running_python\"></a>\n",
    "## Ways to run Python code\n",
    "\n",
    "In this workshop we're using a software platform call the Jupyter Notebook, which lets you run Python code inside your web-browser, e.g. click on the next cell and press Ctrl+Enter to run this snippet of Python:"
   ]
  },
  {
   "cell_type": "code",
   "execution_count": null,
   "metadata": {
    "collapsed": false,
    "deletable": true,
    "editable": true
   },
   "outputs": [],
   "source": [
    "print(\"Hello world\")"
   ]
  },
  {
   "cell_type": "markdown",
   "metadata": {
    "deletable": true,
    "editable": true
   },
   "source": [
    "Python can also be run interactively at the command line in your terminal window, where ``>>>`` represents the interactive Python prompt and ``quit()`` is the simplest way to exit.\n",
    "\n",
    "```\n",
    "$ python\n",
    "Python 3.6.0b2 (default, Oct 11 2016, 05:27:10) \n",
    "[GCC 6.0.2 20161005] on linux\n",
    "Type \"help\", \"copyright\", \"credits\" or \"license\" for more information.\n",
    ">>> print(\"Hello world\")\n",
    "Hello world\n",
    ">>> quit()\n",
    "```\n",
    "\n",
    "More commonly people write Python scripts, plain text files usually ending with the ``.py`` extension, which can be run like this:\n",
    "\n",
    "```bash\n",
    "$ python example.py\n",
    "...\n",
    "```\n",
    "\n",
    "Any self contained snippet of Python (including many of the examples here) could be run this way - but doing it in the notebook is in many ways easier, especially for interactive work and keeping notes with the code. The Jupyter Notebooks really shine when producing graphics with Python, as we will see this afternoon.\n",
    "\n"
   ]
  },
  {
   "cell_type": "markdown",
   "metadata": {},
   "source": [
    "<a id=\"python_strings\"></a>\n",
    "## Strings\n",
    "\n",
    "Python strings can be defined using double quotes, or single quotes -- it doesn't really matter but they have to match. Strings can be added together (concatenated) with the ``+`` operation, or duplicated by multiplying by an integer number:"
   ]
  },
  {
   "cell_type": "code",
   "execution_count": 3,
   "metadata": {
    "collapsed": false
   },
   "outputs": [
    {
     "name": "stdout",
     "output_type": "stream",
     "text": [
      "Hello world\n",
      "Hello worldHello worldHello world\n"
     ]
    }
   ],
   "source": [
    "name = \"Hello\"\n",
    "message = name + \" world\"\n",
    "print(message)\n",
    "print(message * 3)"
   ]
  },
  {
   "cell_type": "markdown",
   "metadata": {},
   "source": [
    "It is very common to want to combine strings togther, often including numbers or other values. A widely used approach to string formating with percent sign place holders:\n",
    "\n",
    "- ``%s`` to insert a string\n",
    "- ``%i`` to insert an integer number\n",
    "- ``%f`` to insert a floating point number\n",
    "\n",
    "This convention was introduced in the C programming language, which was enourmously influential in later programming language design."
   ]
  },
  {
   "cell_type": "code",
   "execution_count": 4,
   "metadata": {
    "collapsed": false
   },
   "outputs": [
    {
     "name": "stdout",
     "output_type": "stream",
     "text": [
      "Hello Peter, your name has 5 letters\n"
     ]
    }
   ],
   "source": [
    "name = \"Peter\"\n",
    "message = \"Hello %s, your name has %i letters\" % (name, len(name))\n",
    "print(message)"
   ]
  },
  {
   "cell_type": "markdown",
   "metadata": {},
   "source": [
    "<a id=\"python_listss\"></a>\n",
    "## Lists\n",
    "\n",
    "The Python ``list`` serves as a general purpose data structure for holding an ordered collection of values, commonly used in conjunction with a ``for`` loop as shown later. This is similar to an array in other languages.\n",
    "\n",
    "You can have lists of strings, lists of integers, etc. The length of a list is defined as the number of elements in the list."
   ]
  },
  {
   "cell_type": "code",
   "execution_count": 7,
   "metadata": {
    "collapsed": false
   },
   "outputs": [
    {
     "name": "stdout",
     "output_type": "stream",
     "text": [
      "3\n"
     ]
    }
   ],
   "source": [
    "names = [\"Peter\", \"Sue\", \"Leighton\"]\n",
    "print(len(names))"
   ]
  },
  {
   "cell_type": "markdown",
   "metadata": {},
   "source": [
    "<a id=\"for_loops\"></a>\n",
    "## For loops\n",
    "\n",
    "Most programming languages, including Python, have several ways to repeat a block of code multiple times. Python's ``for`` loop works with a loop variable (``letter`` in the example below) which takes in turn each of the values to be looped over (here the letters in string varible ``message``):"
   ]
  },
  {
   "cell_type": "code",
   "execution_count": 1,
   "metadata": {
    "collapsed": false
   },
   "outputs": [
    {
     "name": "stdout",
     "output_type": "stream",
     "text": [
      "H\n",
      "e\n",
      "l\n",
      "l\n",
      "o\n",
      " \n",
      "w\n",
      "o\n",
      "r\n",
      "l\n",
      "d\n"
     ]
    }
   ],
   "source": [
    "message = \"Hello world\"\n",
    "for letter in message:\n",
    "    print(letter)"
   ]
  },
  {
   "cell_type": "markdown",
   "metadata": {},
   "source": [
    "Another common situation is to loop over a list of values:"
   ]
  },
  {
   "cell_type": "code",
   "execution_count": 2,
   "metadata": {
    "collapsed": false
   },
   "outputs": [
    {
     "name": "stdout",
     "output_type": "stream",
     "text": [
      "alpha\n",
      "beta\n",
      "gamma\n",
      "delta\n"
     ]
    }
   ],
   "source": [
    "for value in [\"alpha\", \"beta\", \"gamma\", \"delta\"]:\n",
    "    print(value)"
   ]
  },
  {
   "cell_type": "markdown",
   "metadata": {},
   "source": [
    "Later in the workshop you'll see this syntax used with other constructs, including parsing a sequence file were we loop over each record in the file."
   ]
  },
  {
   "cell_type": "markdown",
   "metadata": {
    "deletable": true,
    "editable": true
   },
   "source": [
    "### Resources\n",
    "\n",
    "* [Jupter Notebook Basics](http://jupyter-notebook.readthedocs.io/en/latest/examples/Notebook/Notebook%20Basics.html)\n",
    "* [Python](https://www.python.org)\n",
    "\n",
    " "
   ]
  }
 ],
 "metadata": {
  "kernelspec": {
   "display_name": "Python 3",
   "language": "python",
   "name": "python3"
  },
  "language_info": {
   "codemirror_mode": {
    "name": "ipython",
    "version": 3
   },
   "file_extension": ".py",
   "mimetype": "text/x-python",
   "name": "python",
   "nbconvert_exporter": "python",
   "pygments_lexer": "ipython3",
   "version": "3.6.0"
  }
 },
 "nbformat": 4,
 "nbformat_minor": 2
}
