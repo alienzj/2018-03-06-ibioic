{
 "cells": [
  {
   "cell_type": "markdown",
   "metadata": {
    "deletable": true,
    "editable": true
   },
   "source": [
    "<img src=\"images/JHI_STRAP_Web.png\" style=\"width: 150px; float: right;\">\n",
    "# 03 - Parsing"
   ]
  },
  {
   "cell_type": "markdown",
   "metadata": {
    "deletable": true,
    "editable": true
   },
   "source": [
    "## Table of Contents\n",
    "\n",
    "1. [Introduction](#introduction)"
   ]
  },
  {
   "cell_type": "markdown",
   "metadata": {
    "deletable": true,
    "editable": true
   },
   "source": [
    "<a id=\"introduction\"></a>\n",
    "## Introduction\n",
    "\n",
    "<div class=\"alert-success\">\n",
    "<b>Thus far we've looked at GenBank files by eye and in Artemis. Now we'll do this with a Python script.</b>\n",
    "</div>\n",
    "\n",
    "To recap, we've used the NCBI Entrez Programming Utilities via Biopython's ``Bio.Entrez`` to download two genomes in GenBank format,\n",
    "\n",
    "- ``NZ_GG668576.gbk`` including our wild-type gene of interest with NCBI protein ID ``WP_004242549.1``\n",
    "- ``NC_010554.gbk`` including our engineered gene of interest with NCBI protein ID ``WP_004247922.1``\n",
    "\n",
    "What we're going to do now is pull out the nucleotide coding sequence for these genes using the CDS feature with the desired protein ID.\n",
    "\n",
    "We'll use Biopython to parse each genome, which gives all the features as a list. We'll then loop over the list of features to find the desired CDS feature:"
   ]
  },
  {
   "cell_type": "code",
   "execution_count": 1,
   "metadata": {
    "collapsed": false,
    "deletable": true,
    "editable": true
   },
   "outputs": [
    {
     "name": "stdout",
     "output_type": "stream",
     "text": [
      "type: CDS\n",
      "location: [46145:47009](+)\n",
      "qualifiers:\n",
      "    Key: codon_start, Value: ['1']\n",
      "    Key: inference, Value: ['COORDINATES: similar to AA sequence:RefSeq:WP_004242549.1']\n",
      "    Key: locus_tag, Value: ['HMPREF0693_RS00250']\n",
      "    Key: note, Value: ['Derived by automated computational analysis using gene prediction method: Protein Homology.']\n",
      "    Key: old_locus_tag, Value: ['HMPREF0693_0570']\n",
      "    Key: product, Value: ['lipase']\n",
      "    Key: protein_id, Value: ['WP_004242549.1']\n",
      "    Key: transl_table, Value: ['11']\n",
      "    Key: translation, Value: ['MSTKYPIVLVHGLAGFNEIVGFPYFYGIADALRQDGHQVFTASLSAFNSNEVRGKQLWQFVQTLLQETQAKKVNFIGHSQGPLACRYVAANYPDSVASVTSINGVNHGSEIADLYRRIMRKDSIPEYIVEKVLNAFGTIISTFSGHRGDPQDAIAALESLTTEQVTEFNNKYPQALPKIPGGEGDEIVNGVHYYCFGSYIQGLIAGEKGNLLDPTHAAMRVLNTFFTEKQNDGLVGRSSMRLGKLIKDDYAQDHIDMVNQVAGLVGYNEDIVAIYTQHAKYLASKQL']\n",
      "\n",
      "type: CDS\n",
      "location: [1063080:1063944](+)\n",
      "qualifiers:\n",
      "    Key: codon_start, Value: ['1']\n",
      "    Key: db_xref, Value: ['GeneID:6803666']\n",
      "    Key: inference, Value: ['EXISTENCE: similar to AA sequence:RefSeq:WP_004242549.1']\n",
      "    Key: locus_tag, Value: ['PMI_RS04850']\n",
      "    Key: note, Value: ['Derived by automated computational analysis using gene prediction method: Protein Homology.']\n",
      "    Key: old_locus_tag, Value: ['PMI0999']\n",
      "    Key: product, Value: ['lipase']\n",
      "    Key: protein_id, Value: ['WP_004247922.1']\n",
      "    Key: transl_table, Value: ['11']\n",
      "    Key: translation, Value: ['MSTKYPIVLVHGLAGFNEIVGFPYFYGIADALRQDGHQVFTASLSAFNSNEVRGKQLWQFVQTLLQETQAKKVNFIGHSQGPLACRYVAANYPDSVASVTSINGVNHGSEIADLYRRIMRKDSIPEYIVEKVLNAFGTIISTFSGHRGDPQDAIAALESLTTEQVTEFNNKYPQALPKTPGGEGDEIVNGVHYYCFGSYIQGLIAGEKGNLLDPTHAAMRVLNTFFTEKQNDGLVGRSSMRLGKLIKDDYAQDHIDMVNQVAGLVGYNEDIVAIYTQHAKYLASKQL']\n",
      "\n"
     ]
    }
   ],
   "source": [
    "# Biopython's SeqIO module handles sequence input/output\n",
    "from Bio import SeqIO\n",
    "\n",
    "def get_cds_feature_with_protein_id(seq_record, protein_id):\n",
    "    \"\"\"Function to look for CDS feature by protein id in sequence record.\"\"\"\n",
    "    # Loop over the features\n",
    "    for feature in genome_record.features:\n",
    "        if feature.type == \"CDS\" and protein_id in feature.qualifiers.get(\"protein_id\", []):\n",
    "            # print(\"Found feature with protein id %s\" % protein_id)\n",
    "            return feature\n",
    "    # Could not find it\n",
    "    return None\n",
    "\n",
    "wildtype_genome = genome_record = SeqIO.read(\"NZ_GG668576.gbk\", \"genbank\")\n",
    "wildtype_cds_feature = get_cds_feature_with_protein_id(wildtype_genome, \"WP_004242549.1\")\n",
    "print(wildtype_cds_feature)\n",
    "\n",
    "engineered_genome = genome_record = SeqIO.read(\"NC_010554.gbk\", \"genbank\")\n",
    "engineered_cds_feature = get_cds_feature_with_protein_id(engineered_genome, \"WP_004247922.1\")\n",
    "print(engineered_cds_feature)"
   ]
  },
  {
   "cell_type": "markdown",
   "metadata": {
    "deletable": true,
    "editable": true
   },
   "source": [
    "Using your text editor you can compare this to the matching sections in the GenBank files themselves, from ``NZ_GG668576.gbk`` we have:\n",
    "\n",
    "```\n",
    "     CDS             46146..47009\n",
    "                     /locus_tag=\"HMPREF0693_RS00250\"\n",
    "                     /old_locus_tag=\"HMPREF0693_0570\"\n",
    "                     /inference=\"COORDINATES: similar to AA\n",
    "                     sequence:RefSeq:WP_004242549.1\"\n",
    "                     /note=\"Derived by automated computational analysis using\n",
    "                     gene prediction method: Protein Homology.\"\n",
    "                     /codon_start=1\n",
    "                     /transl_table=11\n",
    "                     /product=\"lipase\"\n",
    "                     /protein_id=\"WP_004242549.1\"\n",
    "                     /translation=\"MSTKYPIVLVHGLAGFNEIVGFPYFYGIADALRQDGHQVFTASL\n",
    "                     SAFNSNEVRGKQLWQFVQTLLQETQAKKVNFIGHSQGPLACRYVAANYPDSVASVTSI\n",
    "                     NGVNHGSEIADLYRRIMRKDSIPEYIVEKVLNAFGTIISTFSGHRGDPQDAIAALESL\n",
    "                     TTEQVTEFNNKYPQALPKIPGGEGDEIVNGVHYYCFGSYIQGLIAGEKGNLLDPTHAA\n",
    "                     MRVLNTFFTEKQNDGLVGRSSMRLGKLIKDDYAQDHIDMVNQVAGLVGYNEDIVAIYT\n",
    "                     QHAKYLASKQL\"\n",
    "\n",
    "```\n",
    "\n",
    "and from ``NC_010554.gbk``:\n",
    "\n",
    "```\n",
    "     CDS             1063081..1063944\n",
    "                     /locus_tag=\"PMI_RS04850\"\n",
    "                     /old_locus_tag=\"PMI0999\"\n",
    "                     /inference=\"EXISTENCE: similar to AA\n",
    "                     sequence:RefSeq:WP_004242549.1\"\n",
    "                     /note=\"Derived by automated computational analysis using\n",
    "                     gene prediction method: Protein Homology.\"\n",
    "                     /codon_start=1\n",
    "                     /transl_table=11\n",
    "                     /product=\"lipase\"\n",
    "                     /protein_id=\"WP_004247922.1\"\n",
    "                     /db_xref=\"GeneID:6803666\"\n",
    "                     /translation=\"MSTKYPIVLVHGLAGFNEIVGFPYFYGIADALRQDGHQVFTASL\n",
    "                     SAFNSNEVRGKQLWQFVQTLLQETQAKKVNFIGHSQGPLACRYVAANYPDSVASVTSI\n",
    "                     NGVNHGSEIADLYRRIMRKDSIPEYIVEKVLNAFGTIISTFSGHRGDPQDAIAALESL\n",
    "                     TTEQVTEFNNKYPQALPKTPGGEGDEIVNGVHYYCFGSYIQGLIAGEKGNLLDPTHAA\n",
    "                     MRVLNTFFTEKQNDGLVGRSSMRLGKLIKDDYAQDHIDMVNQVAGLVGYNEDIVAIYT\n",
    "                     QHAKYLASKQL\"\n",
    "```\n",
    "\n",
    "Note that because of how we downloaded ``NZ_GG668576.gbk`` and ``NC_010554.gbk`` using NCBI Entrez, the CDS features include the protein translation. You may recall when we looked at these genomes on the NCBI website the translation was not shown."
   ]
  },
  {
   "cell_type": "markdown",
   "metadata": {
    "deletable": true,
    "editable": true
   },
   "source": [
    "### Locations in GenBank format\n",
    "\n",
    "The first line of a GenBank (or EMBL) feature gives the co-ordinates. Here we're lucky that both are simple cases on the forward strand, ``46146..47009`` and ``1063081..1063944`` meaning ``start..end`` using inclusive one-based counting. You'll often see ``complement(start..end)`` for features on the reverse strand, and more complicated CDS locations using ``join(...)`` are common in eurkaroytes to describe slicing.\n",
    "\n",
    "The way that Python (and many other programming languages) slices strings or arrays of data counts from zero but excludes the end point, which is why in Biopython these locations seem to start one base earlier."
   ]
  },
  {
   "cell_type": "code",
   "execution_count": 2,
   "metadata": {
    "collapsed": false,
    "deletable": true,
    "editable": true
   },
   "outputs": [
    {
     "name": "stdout",
     "output_type": "stream",
     "text": [
      "[46145:47009](+)\n",
      "[1063080:1063944](+)\n"
     ]
    }
   ],
   "source": [
    "print(wildtype_cds_feature.location)\n",
    "print(engineered_cds_feature.location)"
   ]
  },
  {
   "cell_type": "markdown",
   "metadata": {
    "deletable": true,
    "editable": true
   },
   "source": [
    "Rather than messing about with the start/end coordinates ourselves (and worrying about counting from zero or counting from one), we can get Biopython to apply the location information from the feature to extract the described region of the genome sequence."
   ]
  },
  {
   "cell_type": "code",
   "execution_count": 4,
   "metadata": {
    "collapsed": true,
    "deletable": true,
    "editable": true
   },
   "outputs": [],
   "source": [
    "wildtype_nucl = wildtype_cds_feature.extract(wildtype_genome.seq)\n",
    "engineered_nucl = engineered_cds_feature.extract(engineered_genome.seq)"
   ]
  },
  {
   "cell_type": "markdown",
   "metadata": {
    "deletable": true,
    "editable": true
   },
   "source": [
    "### Translating sequences\n",
    "\n",
    "Once we have the nucleotides, it is just one line to get Biopython to translate it. By default this would use the \"Standard\" genetic code (for humans etc), so we should explicitly specify we want to use the bacterial table. The GenBank annotation tells us we should use NCBI translation table 11 - see the [NCBI's list of genetic codes](https://www.ncbi.nlm.nih.gov/Taxonomy/Utils/wprintgc.cgi)."
   ]
  },
  {
   "cell_type": "code",
   "execution_count": 23,
   "metadata": {
    "collapsed": false,
    "deletable": true,
    "editable": true
   },
   "outputs": [
    {
     "name": "stdout",
     "output_type": "stream",
     "text": [
      "Translated into amino acids:\n",
      "MSTKYPIVLVHGLAGFNEIVGFPYFYGIADALRQDGHQVFTASLSAFNSNEVRGKQLWQFVQTLLQETQAKKVNFIGHSQGPLACRYVAANYPDSVASVTSINGVNHGSEIADLYRRIMRKDSIPEYIVEKVLNAFGTIISTFSGHRGDPQDAIAALESLTTEQVTEFNNKYPQALPKIPGGEGDEIVNGVHYYCFGSYIQGLIAGEKGNLLDPTHAAMRVLNTFFTEKQNDGLVGRSSMRLGKLIKDDYAQDHIDMVNQVAGLVGYNEDIVAIYTQHAKYLASKQL\n"
     ]
    }
   ],
   "source": [
    "wildtype_prot = wildtype_nucl.translate(table=11, cds=True)\n",
    "print(\"Translated into amino acids:\")\n",
    "print(wildtype_prot)"
   ]
  },
  {
   "cell_type": "markdown",
   "metadata": {
    "deletable": true,
    "editable": true
   },
   "source": [
    "Here we also told Biopython to interpret this as a complete CDS, meaning it checks there is a whole number of codons (the sequence is a multiple of three in length), verifies the last codon is a stop codon, and also ensures even if an alternative start codon is used it becomes a methione (``M``). In both these examples, it turns out the start codon is the typical ``ATG``:"
   ]
  },
  {
   "cell_type": "code",
   "execution_count": 14,
   "metadata": {
    "collapsed": false,
    "deletable": true,
    "editable": true
   },
   "outputs": [
    {
     "name": "stdout",
     "output_type": "stream",
     "text": [
      "Start codon is ATG\n",
      "Stop codon is TAA\n"
     ]
    }
   ],
   "source": [
    "print(\"Start codon is %s\" % wildtype_nucl[:3])  # Python's way to get first three letters\n",
    "print(\"Stop codon is %s\" % wildtype_nucl[-3:])  # Python trick for last three letters"
   ]
  },
  {
   "cell_type": "markdown",
   "metadata": {
    "deletable": true,
    "editable": true
   },
   "source": [
    "<a id=\"ex01\"></a>\n",
    "<img src=\"./images/exercise.png\" style=\"width: 40px; float: left;\">\n",
    "\n",
    "In the same way, let's get the second gene's nucleotide sequence and translate it:"
   ]
  },
  {
   "cell_type": "code",
   "execution_count": 16,
   "metadata": {
    "collapsed": false,
    "deletable": true,
    "editable": true
   },
   "outputs": [
    {
     "name": "stdout",
     "output_type": "stream",
     "text": [
      "MSTKYPIVLVHGLAGFNEIVGFPYFYGIADALRQDGHQVFTASLSAFNSNEVRGKQLWQFVQTLLQETQAKKVNFIGHSQGPLACRYVAANYPDSVASVTSINGVNHGSEIADLYRRIMRKDSIPEYIVEKVLNAFGTIISTFSGHRGDPQDAIAALESLTTEQVTEFNNKYPQALPKTPGGEGDEIVNGVHYYCFGSYIQGLIAGEKGNLLDPTHAAMRVLNTFFTEKQNDGLVGRSSMRLGKLIKDDYAQDHIDMVNQVAGLVGYNEDIVAIYTQHAKYLASKQL\n"
     ]
    }
   ],
   "source": [
    "engineered_nucl = engineered_cds_feature.extract(engineered_genome.seq)\n",
    "engineered_prot = engineered_nucl.translate(table=11, cds=True)\n",
    "print(engineered_prot)"
   ]
  },
  {
   "cell_type": "markdown",
   "metadata": {
    "deletable": true,
    "editable": true
   },
   "source": [
    "### Comparing sequences\n",
    "\n",
    "Let's double check our translations match that given in the annotation:"
   ]
  },
  {
   "cell_type": "code",
   "execution_count": 24,
   "metadata": {
    "collapsed": false,
    "deletable": true,
    "editable": true
   },
   "outputs": [
    {
     "name": "stdout",
     "output_type": "stream",
     "text": [
      "True\n",
      "True\n"
     ]
    }
   ],
   "source": [
    "print(wildtype_prot == wildtype_cds_feature.qualifiers[\"translation\"][0])\n",
    "print(engineered_prot == engineered_cds_feature.qualifiers[\"translation\"][0])"
   ]
  },
  {
   "cell_type": "markdown",
   "metadata": {
    "deletable": true,
    "editable": true
   },
   "source": [
    "Let's also double check our translations match that in the original UniProt FASTA files we stated with:"
   ]
  },
  {
   "cell_type": "code",
   "execution_count": 25,
   "metadata": {
    "collapsed": false,
    "deletable": true,
    "editable": true
   },
   "outputs": [
    {
     "name": "stdout",
     "output_type": "stream",
     "text": [
      "True\n",
      "True\n"
     ]
    }
   ],
   "source": [
    "wildtype_uniprot = SeqIO.read(\"C2LFD0.fasta\", \"fasta\")\n",
    "engineered_uniprot = SeqIO.read(\"B4EVM3.fasta\", \"fasta\")\n",
    "print(wildtype_prot == wildtype_uniprot.seq)\n",
    "print(engineered_prot == engineered_uniprot.seq)"
   ]
  },
  {
   "cell_type": "code",
   "execution_count": 22,
   "metadata": {
    "collapsed": false,
    "deletable": true,
    "editable": true
   },
   "outputs": [
    {
     "name": "stdout",
     "output_type": "stream",
     "text": [
      "False\n",
      "287\n",
      "287\n"
     ]
    }
   ],
   "source": [
    "print(wildtype_prot == engineered_prot)\n",
    "print(len(wildtype_prot))\n",
    "print(len(engineered_prot))"
   ]
  },
  {
   "cell_type": "markdown",
   "metadata": {
    "deletable": true,
    "editable": true
   },
   "source": [
    "We know while our two protein sequences look similar and have the same length, they differ - but how? This snippet of Python shows there is a single base pair difference about two-thirds of the way along. This will be important later."
   ]
  },
  {
   "cell_type": "code",
   "execution_count": 19,
   "metadata": {
    "collapsed": false,
    "deletable": true,
    "editable": true
   },
   "outputs": [
    {
     "name": "stdout",
     "output_type": "stream",
     "text": [
      "MSTKYPIVLVHGLAGFNEIVGFPYFYGIADALRQDGHQVFTASLSAFNSNEVRGKQLWQFVQTLLQETQAKKVNFIGHSQGPLACRYVAANYPDSVASVTSINGVNHGSEIADLYRRIMRKDSIPEYIVEKVLNAFGTIISTFSGHRGDPQDAIAALESLTTEQVTEFNNKYPQALPKIPGGEGDEIVNGVHYYCFGSYIQGLIAGEKGNLLDPTHAAMRVLNTFFTEKQNDGLVGRSSMRLGKLIKDDYAQDHIDMVNQVAGLVGYNEDIVAIYTQHAKYLASKQL\n",
      "..................................................................................................................................................................................X............................................................................................................\n",
      "MSTKYPIVLVHGLAGFNEIVGFPYFYGIADALRQDGHQVFTASLSAFNSNEVRGKQLWQFVQTLLQETQAKKVNFIGHSQGPLACRYVAANYPDSVASVTSINGVNHGSEIADLYRRIMRKDSIPEYIVEKVLNAFGTIISTFSGHRGDPQDAIAALESLTTEQVTEFNNKYPQALPKTPGGEGDEIVNGVHYYCFGSYIQGLIAGEKGNLLDPTHAAMRVLNTFFTEKQNDGLVGRSSMRLGKLIKDDYAQDHIDMVNQVAGLVGYNEDIVAIYTQHAKYLASKQL\n"
     ]
    }
   ],
   "source": [
    "print(wildtype_prot)\n",
    "# This is some advanced Python using a generator expression.\n",
    "# It prints out \".\" where the two proteins match, and \"X\" where they differ.\n",
    "print(\"\".join((\".\" if a==b else \"X\") for a, b in zip(wildtype_prot, engineered_prot)))\n",
    "print(engineered_prot)"
   ]
  },
  {
   "cell_type": "markdown",
   "metadata": {
    "deletable": true,
    "editable": true
   },
   "source": [
    "### Resources\n",
    "\n",
    "* [Biopython Tutorial and Cookbook](http://biopython.org/DIST/docs/tutorial/Tutorial.html)\n",
    "* [Biopython Tutorial and Cookbook (PDF)](http://biopython.org/DIST/docs/tutorial/Tutorial.pdf)\n",
    "* [NCBI's list of genetic codes](https://www.ncbi.nlm.nih.gov/Taxonomy/Utils/wprintgc.cgi)\n",
    "\n",
    " "
   ]
  }
 ],
 "metadata": {
  "kernelspec": {
   "display_name": "Python 3",
   "language": "python",
   "name": "python3"
  },
  "language_info": {
   "codemirror_mode": {
    "name": "ipython",
    "version": 3
   },
   "file_extension": ".py",
   "mimetype": "text/x-python",
   "name": "python",
   "nbconvert_exporter": "python",
   "pygments_lexer": "ipython3",
   "version": "3.5.2"
  }
 },
 "nbformat": 4,
 "nbformat_minor": 2
}
