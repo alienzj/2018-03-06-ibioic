{
 "cells": [
  {
   "cell_type": "markdown",
   "metadata": {
    "deletable": true,
    "editable": true
   },
   "source": [
    "<img src=\"../images/JHI_STRAP_Web.png\" style=\"width: 150px; float: right;\">\n",
    "# 03 - Parsing GenBank files"
   ]
  },
  {
   "cell_type": "markdown",
   "metadata": {
    "deletable": true,
    "editable": true
   },
   "source": [
    "## Table of Contents\n",
    "\n",
    "1. [Introduction](#introduction)\n",
    "2. [Parsing a GenBank file and finding a feature](#parsing)\n",
    "3. [Locations in GenBank format](#locations)\n",
    "4. [Translating sequences](#translating)\n",
    "5. [Saving FASTA sequences](#saving_fasta)"
   ]
  },
  {
   "cell_type": "markdown",
   "metadata": {
    "deletable": true,
    "editable": true
   },
   "source": [
    "<a id=\"introduction\"></a>\n",
    "## Introduction\n",
    "\n",
    "<div class=\"alert-success\">\n",
    "<b>Thus far we've looked at GenBank files by eye and in Artemis. Now we'll do this with a Python script.</b>\n",
    "</div>\n",
    "\n",
    "To recap, we've used the NCBI Entrez Programming Utilities via Biopython's ``Bio.Entrez`` to download the *Pectobacterium atrosepticum* genome in GenBank format as ``NC_004547.gbk``.\n",
    "\n",
    "Also, you have been provided a FASTA file ``glycoside_hydrolases_nt.fasta`` which we've said should contain genes from this genome, named using the old locus tags:\n",
    "\n",
    "- ECA0662 6-phospho-beta-glucosidase\n",
    "- ECA1451 6-phospho-beta-glucosidase\n",
    "- ECA1871 6-phospho-beta-glucosidase\n",
    "- ECA2166 6-phospho-beta-glucosidase\n",
    "- ECA3646 beta-glucosidase\n",
    "- ECA4387 6-phospho-beta-glucosidase\n",
    "- ECA4407 6-phospho-beta-glucosidase\n",
    "- ECA4432 6-phospho-beta-glucosidase\n",
    "\n",
    "What we're going to do now is recreate that FASTA file by loading the GenBank file into Python, and pull out the nucleotide coding sequence for these genes using the CDS feature with the desired locus tag. We'll also translate them into proteins."
   ]
  },
  {
   "cell_type": "markdown",
   "metadata": {
    "deletable": true,
    "editable": true
   },
   "source": [
    "<a id=\"parsing\"></a>\n",
    "### Parsing a GenBank file and finding a feature\n",
    "\n",
    "We'll use Biopython to parse each genome, which gives all the features as a list. We'll then loop over the list of features to find the desired CDS features:"
   ]
  },
  {
   "cell_type": "code",
   "execution_count": null,
   "metadata": {
    "collapsed": false,
    "deletable": true,
    "editable": true
   },
   "outputs": [],
   "source": [
    "# Biopython's SeqIO module handles sequence input/output\n",
    "from Bio import SeqIO\n",
    "\n",
    "def get_cds_feature_with_qualifier_value(seq_record, name, value):\n",
    "    \"\"\"Function to look for CDS feature by annotation value in sequence record.\n",
    "    \n",
    "    e.g. You can use this for finding features by locus tag, gene ID, or protein ID.\n",
    "    \"\"\"\n",
    "    # Loop over the features\n",
    "    for feature in genome_record.features:\n",
    "        if feature.type == \"CDS\" and value in feature.qualifiers.get(name, []):\n",
    "            return feature\n",
    "    # Could not find it\n",
    "    return None\n",
    "\n",
    "genome_record = SeqIO.read(\"NC_004547.gbk\", \"genbank\")\n",
    "cds_feature = get_cds_feature_with_qualifier_value(genome_record, \"old_locus_tag\", \"ECA0662\")\n",
    "print(cds_feature)"
   ]
  },
  {
   "cell_type": "markdown",
   "metadata": {
    "deletable": true,
    "editable": true
   },
   "source": [
    "Using your text editor you can compare this to the matching section in the GenBank file ``NC_004547.gbk`` were you should find:\n",
    "\n",
    "```\n",
    "     CDS             complement(736847..738235)\n",
    "                     /locus_tag=\"ECA_RS03295\"\n",
    "                     /old_locus_tag=\"ECA0662\"\n",
    "                     /inference=\"EXISTENCE: similar to AA\n",
    "                     sequence:RefSeq:WP_011092278.1\"\n",
    "                     /note=\"Derived by automated computational analysis using\n",
    "                     gene prediction method: Protein Homology.\"\n",
    "                     /codon_start=1\n",
    "                     /transl_table=11\n",
    "                     /product=\"6-phospho-beta-glucosidase\"\n",
    "                     /protein_id=\"WP_039289952.1\"\n",
    "                     /db_xref=\"GeneID:2881615\"\n",
    "                     /translation=\"MKAFPDGFLWGGSVAANQVEGAWNEDGKGVSTSDLQLKGVHGPV\n",
    "                     TERDESISCIKDRAIDFYHQYPQDIQLFAEMGFKVLRTSIAWTRIYPEGNEAEPCEAG\n",
    "                     LAFYDHLFDEMAKHHIQPLITLSHYEMPYGLVKKLGGWGNRAVIDHFEKYARTVFSRY\n",
    "                     KDKVKHWLTFNEINMALHSPFTGIGLSGEPSKQDIYQAIHHQLVASARVVKACHDIIP\n",
    "                     DAKIGNMLLGAVRYPMTCHPKDVLEAQNKNREWLFFGDVQVRGTYPAWIQRYFRENDV\n",
    "                     ELTITAQDKDDLSHTVDFVSFSYYMSGCATFEPEKYQSSRGNIIRLIPNPHLEASEWG\n",
    "                     WQIDPEGLRFLLNELYDRYQKPLFIVENGLGARDVVEEDGSIHDSYRIDYLRRHLIQV\n",
    "                     REAIDDGVELLGYTSWGPIDLVSAGTAQMSKRYGFIHVDRDDEGKGTLERRRKDSFYW\n",
    "                     YQDVISSNGKSL\"\n",
    "```\n",
    "\n",
    "Note that because of how we downloaded ``NC_004547.gbk`` using NCBI Entrez, the CDS features include the protein translation. You may recall when we looked at these genomes on the NCBI website the translation was not shown."
   ]
  },
  {
   "cell_type": "markdown",
   "metadata": {
    "deletable": true,
    "editable": true
   },
   "source": [
    "<a id=\"locations\"></a>\n",
    "### Locations in GenBank format\n",
    "\n",
    "The first line of a GenBank (or EMBL) feature gives the co-ordinates. Simple cases on the forward strand would look like ``46146..47009`` or ``1063081..1063944`` meaning ``start..end`` using inclusive one-based counting.\n",
    "\n",
    "Here we have ``complement(736847..738235)`` where ``complement(end..start)`` for features on the reverse strand. Here the start of the gene is at position ``738235`` while the stop codon should be the three bases ending at position ``736847``. If you still have Artemis open, you can check this.\n",
    "\n",
    "More complicated CDS locations using ``join(...)`` are common in eurkaroytes to describe slicing.\n",
    "\n",
    "The way that Python (and many other programming languages) slices strings or arrays of data counts from zero but excludes the end point, which is why in Biopython these locations seem to begin one base earlier."
   ]
  },
  {
   "cell_type": "code",
   "execution_count": null,
   "metadata": {
    "collapsed": false,
    "deletable": true,
    "editable": true
   },
   "outputs": [],
   "source": [
    "print(cds_feature.location)"
   ]
  },
  {
   "cell_type": "markdown",
   "metadata": {
    "deletable": true,
    "editable": true
   },
   "source": [
    "Rather than messing about with the start/end coordinates ourselves (and worrying about counting from zero or counting from one), we can get Biopython to apply the location information from the feature to extract the described region of the genome sequence."
   ]
  },
  {
   "cell_type": "code",
   "execution_count": null,
   "metadata": {
    "collapsed": false,
    "deletable": true,
    "editable": true
   },
   "outputs": [],
   "source": [
    "gene_sequence = cds_feature.extract(genome_record.seq)\n",
    "print(\"CDS nucleotide sequence:\")\n",
    "print(gene_sequence)\n",
    "print(\"Start codon is %s\" % gene_sequence[:3])  # Python's way to get first three letters\n",
    "print(\"Stop codon is %s\" % gene_sequence[-3:])  # Python trick for last three letters"
   ]
  },
  {
   "cell_type": "markdown",
   "metadata": {
    "deletable": true,
    "editable": true
   },
   "source": [
    "Notice getting Biopython to extract the sequence has taken care of the reverse completement for us - this nucleotide sequence starts ``ATG`` (a start codon) and ends ``TAA`` (a stop codon)."
   ]
  },
  {
   "cell_type": "markdown",
   "metadata": {
    "deletable": true,
    "editable": true
   },
   "source": [
    "<a id=\"translating\"></a>\n",
    "### Translating sequences\n",
    "\n",
    "Once we have the nucleotides, it is just one line to get Biopython to translate it. By default this would use the \"Standard\" genetic code (for humans etc), so we should explicitly specify we want to use the bacterial table. The GenBank annotation tells us we should use NCBI translation table 11 - see the [NCBI's list of genetic codes](https://www.ncbi.nlm.nih.gov/Taxonomy/Utils/wprintgc.cgi)."
   ]
  },
  {
   "cell_type": "code",
   "execution_count": null,
   "metadata": {
    "collapsed": false,
    "deletable": true,
    "editable": true
   },
   "outputs": [],
   "source": [
    "protein_sequence = gene_sequence.translate(table=11, cds=True)\n",
    "print(\"Translated into amino acids:\")\n",
    "print(protein_sequence)"
   ]
  },
  {
   "cell_type": "markdown",
   "metadata": {
    "deletable": true,
    "editable": true
   },
   "source": [
    "Here we also told Biopython to interpret this as a complete CDS, meaning it checks there is a whole number of codons (the sequence is a multiple of three in length), verifies the last codon is a stop codon, and also ensures even if an alternative start codon is used it becomes a methione (``M``). In this case the start codon is the typical ``ATG`` as we saw above.\n",
    "\n",
    "Let's double check our translation matches that given in the annotation:"
   ]
  },
  {
   "cell_type": "code",
   "execution_count": null,
   "metadata": {
    "collapsed": false,
    "deletable": true,
    "editable": true
   },
   "outputs": [],
   "source": [
    "print(protein_sequence == cds_feature.qualifiers[\"translation\"][0])"
   ]
  },
  {
   "cell_type": "markdown",
   "metadata": {
    "deletable": true,
    "editable": true
   },
   "source": [
    "<a id=\"ex01\"></a>\n",
    "<img src=\"../images/exercise.png\" style=\"width: 40px; float: left;\">\n",
    "\n",
    "In the same way, for all eight genes of interest, let's find the CDS feature, extract the nucleotide sequence and translate it, and just print this on screen."
   ]
  },
  {
   "cell_type": "code",
   "execution_count": null,
   "metadata": {
    "collapsed": false,
    "deletable": true,
    "editable": true
   },
   "outputs": [],
   "source": [
    "# This assumed you've already loaded the GenBank file as genome_record,\n",
    "# and have the function get_cds_feature_with_qualifier_value defined.\n",
    "\n",
    "old_tags = [\"ECA0662\", \"ECA1451\", \"ECA1871\", \"ECA2166\",\n",
    "            \"ECA3646\", \"ECA4387\", \"ECA4407\", \"ECA4432\"]\n",
    "\n",
    "for tag in old_tags:\n",
    "    print(\"Looking at \" + tag)\n",
    "    cds_feature = get_cds_feature_with_qualifier_value(genome_record, \"old_locus_tag\", tag)\n",
    "    ########################################################################\n",
    "    # Fill in the code to extract the nucleotide sequence and translate it #\n",
    "    ########################################################################"
   ]
  },
  {
   "cell_type": "markdown",
   "metadata": {
    "deletable": true,
    "editable": true
   },
   "source": [
    "<a id=\"saving_fasta\"></a>\n",
    "### Saving FASTA sequences\n",
    "\n",
    "The following code takes the ideas we've introduced above, and combines them with more advanced Python to save the nucleotide and protein sequences as two FASTA files."
   ]
  },
  {
   "cell_type": "code",
   "execution_count": null,
   "metadata": {
    "collapsed": false,
    "deletable": true,
    "editable": true
   },
   "outputs": [],
   "source": [
    "# Biopython's SeqIO module handles sequence input/output\n",
    "from Bio import SeqIO\n",
    "\n",
    "def get_cds_feature_with_qualifier_value(seq_record, name, value):\n",
    "    \"\"\"Function to look for CDS feature by annotation value in sequence record.\n",
    "    \n",
    "    e.g. You can use this for finding features by locus tag, gene ID, or protein ID.\n",
    "    \"\"\"\n",
    "    # Loop over the features\n",
    "    for feature in genome_record.features:\n",
    "        if feature.type == \"CDS\" and value in feature.qualifiers.get(name, []):\n",
    "            return feature\n",
    "    # Could not find it\n",
    "    return None\n",
    "\n",
    "genome_record = SeqIO.read(\"NC_004547.gbk\", \"genbank\")\n",
    "\n",
    "old_tags = [\"ECA0662\", \"ECA1451\", \"ECA1871\", \"ECA2166\",\n",
    "            \"ECA3646\", \"ECA4387\", \"ECA4407\", \"ECA4432\"]\n",
    "\n",
    "with open(\"nucleotides.fasta\", \"w\") as nt_output, open(\"proteins.fasta\", \"w\") as aa_output:\n",
    "    for tag in old_tags:\n",
    "        print(\"Looking at \" + tag)\n",
    "        cds_feature = get_cds_feature_with_qualifier_value(genome_record, \"old_locus_tag\", tag)\n",
    "        gene_sequence = cds_feature.extract(genome_record.seq)\n",
    "        protein_sequence = gene_sequence.translate(table=11, cds=True)\n",
    "    \n",
    "        # This is asking Python to halt if the translation does not match:\n",
    "        assert protein_sequence == cds_feature.qualifiers[\"translation\"][0]\n",
    " \n",
    "        # Output FASTA records - note \\n means insert a new line.\n",
    "        # This is a little lazy as it won't line wrap the sequence:\n",
    "        nt_output.write(\">%s\\n%s\\n\" % (tag, gene_sequence))\n",
    "        aa_output.write(\">%s\\n%s\\n\" % (tag, gene_sequence))\n",
    "\n",
    "print(\"Done\")"
   ]
  },
  {
   "cell_type": "markdown",
   "metadata": {
    "deletable": true,
    "editable": true
   },
   "source": [
    "### Resources\n",
    "\n",
    "* [Biopython Tutorial and Cookbook](http://biopython.org/DIST/docs/tutorial/Tutorial.html)\n",
    "* [Biopython Tutorial and Cookbook (PDF)](http://biopython.org/DIST/docs/tutorial/Tutorial.pdf)\n",
    "* [NCBI's list of genetic codes](https://www.ncbi.nlm.nih.gov/Taxonomy/Utils/wprintgc.cgi)\n",
    "* [NCBI Sample GenBank Record](https://www.ncbi.nlm.nih.gov/Sitemap/samplerecord.html)\n",
    " "
   ]
  }
 ],
 "metadata": {
  "kernelspec": {
   "display_name": "Python 3",
   "language": "python",
   "name": "python3"
  },
  "language_info": {
   "codemirror_mode": {
    "name": "ipython",
    "version": 3
   },
   "file_extension": ".py",
   "mimetype": "text/x-python",
   "name": "python",
   "nbconvert_exporter": "python",
   "pygments_lexer": "ipython3",
   "version": "3.6.0"
  }
 },
 "nbformat": 4,
 "nbformat_minor": 2
}
