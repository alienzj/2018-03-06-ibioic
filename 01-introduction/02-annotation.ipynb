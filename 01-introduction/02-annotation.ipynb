{
 "cells": [
  {
   "cell_type": "markdown",
   "metadata": {
    "deletable": true,
    "editable": true
   },
   "source": [
    "<img src=\"images/JHI_STRAP_Web.png\" style=\"width: 150px; float: right;\">\n",
    "# 01 - Introduction to sequence data and bioinformatics"
   ]
  },
  {
   "cell_type": "markdown",
   "metadata": {
    "deletable": true,
    "editable": true
   },
   "source": [
    "## Table of Contents\n",
    "\n",
    "1. [Genomic context](#genomic_context)\n",
    "2. [Genomic context on the NCBI website](genomic_context_ncbi)\n",
    "3. [Genomic context using Artemis](genomic_context_art)"
   ]
  },
  {
   "cell_type": "markdown",
   "metadata": {
    "deletable": true,
    "editable": true
   },
   "source": [
    "<a id=\"genomic_context\"></a>\n",
    "## Genomic context\n",
    "\n",
    "You can look directly at the GenBank file see what genes or other features are annotated nearby, and deduce if these genes are part of a gene locus etc. However, this is much easier to see graphically."
   ]
  },
  {
   "cell_type": "markdown",
   "metadata": {
    "deletable": true,
    "editable": true
   },
   "source": [
    "<a id=\"genomic_context_ncbi\"></a>\n",
    "## Genomic context on the NCBI website\n",
    "\n",
    "You might have noticed on the NCBI website display that for the gene ``ECA0662`` we searched for there was a clickable database cross-reference link, [GeneID:2881615](https://www.ncbi.nlm.nih.gov/sites/entrez?db=gene&cmd=Retrieve&dopt=full_report&list_uids=2881615) - that will show you the gene on the ``NC_004547.2`` genome visually:\n",
    "\n",
    "![Genomic context for GeneID:2881615](./images/genome_context_GeneID_2881615.png)\n",
    "\n",
    "You can try zooming out etc to examine what else is nearby - is your gene of interest part of an operon? Are the repeat regions nearby or anything else which might be important like an integrated phage?\n",
    "\n",
    "However, nice as that is, it is often useful to be able to vizualise the genomic context out with the NCBI website. You might be working on a draft genome which has not been published yet?\n",
    "\n",
    "For this we will open the downloaded GenBank plain text files in the [Sanger Institute's tool Artemis](http://www.sanger.ac.uk/science/tools/artemis), which is able to view and edit annotation files."
   ]
  },
  {
   "cell_type": "markdown",
   "metadata": {
    "deletable": true,
    "editable": true
   },
   "source": [
    "<a id=\"genomic_context_art\"></a>\n",
    "## Genomic context using Artemis\n",
    "\n",
    "You should have previously download this GenBank file, in which case you can load it with Artemis via the command ``art`` as follows:\n",
    "\n",
    "```bash\n",
    "$ cd ~/Teaching-IBioIC-Intro-to-Bioinformatics/01-introduction/data\n",
    "$ ls *.gbk\n",
    "NC_004547.gbk\n",
    "$ art NC_004547.gbk &\n",
    "```\n",
    "\n",
    "Artemis is a graphical tool written in Java, and should pop up a separate window from this Notebook - or from your terminal window if you run it directly at the command line. After a couple of harmless warnings, you should get a window like this:\n",
    "\n",
    "![Artemis with NC_004547.gbk loaded](images/artemis_NC_004547_default.png)\n",
    "\n",
    "The main window should have three regions,\n",
    "- Zoomed out view (showing genes as coloured bars)\n",
    "- Zoomed in view (showing individual bases and translated reading frames)\n",
    "- List of features\n",
    "\n",
    "Using the menu entry \"Goto\", \"Navigator...\" (or by pressing Ctrl+g), which pops up an \"Artemis Navigator\" window, tell Artemis to goto feature with the qualifier value ``ECA0662`` (the old locus ID), and you should see something like this:\n",
    "\n",
    "![Artemis with NC_004547.gbk loaded showing ECA0662 gene](images/artemis_NC_004547_goto.png)\n",
    "\n",
    "Notice a while gene feature has been outlined in black. Click \"Goto\" again, and the plane blue CDS feature should be highlighted:\n",
    "\n",
    "![Artemis with NC_004547.gbk loaded showing ECA0662 CDS](images/artemis_NC_004547_goto2.png)\n",
    "\n",
    "Clicking \"Goto\" a third time should say \"text not found\".\n",
    "\n",
    "This gene is on the reverse complement strand - Artemis shows these features on the bottom half of the track, with the arrow pointing left. Looking to the left (downstream) there is a gene on the opposite forward strand. Looking to the right (upstream) there is a small gene on the same strand, then a small steel blue repeat region.\n",
    "\n",
    "In the bottom pane Artemis shows any note in the annotation for each feature - this repeat region is described as a genomic island repeat, 3-prime fragment of tRNA Met.\n",
    "\n",
    "If you double click on any feature, Artemis will jump to center it.\n",
    "\n",
    "With a feature selected, pressing ``E`` brings up a window to edit the annotation of that feature. This is the quickest way to see things like the product or other information.\n",
    "\n",
    "Here's the edit view for the ``ECA0662`` CDS feature, which should be very familiar from looking at the GenBank file format entry:\n",
    "\n",
    "![Artemis with NC_004547.gbk loaded showing ECA0662 CDS](images/artemis_NC_004547_edit.png)\n"
   ]
  },
  {
   "cell_type": "markdown",
   "metadata": {
    "deletable": true,
    "editable": true
   },
   "source": [
    "### Resources\n",
    "\n",
    "* [Sanger Institute's tool Artemis](http://www.sanger.ac.uk/science/tools/artemis)\n",
    " "
   ]
  }
 ],
 "metadata": {
  "kernelspec": {
   "display_name": "Python 3",
   "language": "python",
   "name": "python3"
  },
  "language_info": {
   "codemirror_mode": {
    "name": "ipython",
    "version": 3
   },
   "file_extension": ".py",
   "mimetype": "text/x-python",
   "name": "python",
   "nbconvert_exporter": "python",
   "pygments_lexer": "ipython3",
   "version": "3.6.0"
  }
 },
 "nbformat": 4,
 "nbformat_minor": 2
}
