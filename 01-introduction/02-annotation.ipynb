{
 "cells": [
  {
   "cell_type": "markdown",
   "metadata": {
    "deletable": true,
    "editable": true
   },
   "source": [
    "<img src=\"images/JHI_STRAP_Web.png\" style=\"width: 150px; float: right;\">\n",
    "# 01 - Introduction to sequence data and bioinformatics"
   ]
  },
  {
   "cell_type": "markdown",
   "metadata": {
    "deletable": true,
    "editable": true
   },
   "source": [
    "## Table of Contents\n",
    "\n",
    "1. [Genomic context](#genomic_context)"
   ]
  },
  {
   "cell_type": "markdown",
   "metadata": {},
   "source": [
    "<a id=\"genomic_context\"></a>\n",
    "## Genomic context\n",
    "\n",
    "You can look directly at the GenBank file see what genes or other features are annotated nearby, and deduce if these genes are part of a gene locus etc. However, this is much easier to see graphically."
   ]
  },
  {
   "cell_type": "markdown",
   "metadata": {},
   "source": [
    "### Genomic context on the NCBI website\n",
    "\n",
    "You might have noticed on the NCBI website display that for the gene ``ECA0662`` we searched for there was a clickable database cross-reference link, [GeneID:2881615](https://www.ncbi.nlm.nih.gov/sites/entrez?db=gene&cmd=Retrieve&dopt=full_report&list_uids=2881615) - that will show you the gene on the ``NC_004547.2`` genome visually:\n",
    "\n",
    "![Genomic context for GeneID:2881615](./images/genome_context_GeneID_2881615.png)\n",
    "\n",
    "You can try zooming out etc to examine what else is nearby - is your gene of interest part of an operon? Are the repeat regions nearby or anything else which might be important like an integrated phage?\n",
    "\n",
    "However, nice as that is, it is often useful to be able to vizualise the genomic context out with the NCBI website. You might be working on a draft genome which has not been published yet?\n",
    "\n",
    "For this we will open the downloaded GenBank plain text files in the [Sanger Institute's tool Artemis](http://www.sanger.ac.uk/science/tools/artemis), which is able to view and edit annotation files."
   ]
  },
  {
   "cell_type": "markdown",
   "metadata": {
    "deletable": true,
    "editable": true
   },
   "source": [
    "### Genomic context using Artemis\n",
    "\n",
    "You should have previously download this GenBank file, in which case you can load it with Artemis via the command ``art`` as follows:\n",
    "\n",
    "```bash\n",
    "$ cd ~/Teaching-IBioIC-Intro-to-Bioinformatics/01-introduction/data\n",
    "$ ls *.gbk\n",
    "NC_004547.gbk\n",
    "$ art NC_004547.gbk &\n",
    "```\n",
    "\n",
    "Artemis is a graphical tool written in Java, and should pop up a separate window from this Notebook - or from your terminal window if you run it directly at the command line. After a couple of harmless warnings, you should get a window like this:\n",
    "\n",
    "![Artemis with NC_004547.gbk loaded](images/artemis_NC_004547_default.png)\n",
    "\n",
    "The main window should have three regions,\n",
    "- Zoomed out view (showing genes as coloured bars)\n",
    "- Zoomed in view (showing individual bases and translated reading frames)\n",
    "- List of features\n",
    "\n",
    "Using the menu entry \"Goto\", \"Navigator...\" (or by pressing Ctrl+g) tell Artemis to goto feature with the qualifier value ``ECA0662`` (the old locus ID), and you should see something like this:\n",
    "\n",
    "![Artemis with NC_004547.gbk loaded showing ECA0662](images/artemis_NC_004547_goto.png)\n",
    "\n",
    "You should notice how one of the pale blue CDS features has been highlighted with black."
   ]
  },
  {
   "cell_type": "markdown",
   "metadata": {
    "deletable": true,
    "editable": true
   },
   "source": [
    "### Resources\n",
    "\n",
    "* [UniProt webpage](http://www.uniprot.org/uniprot/)\n",
    "* [NCBI page about RefSeq non-redundant proteins](https://www.ncbi.nlm.nih.gov/refseq/about/nonredundantproteins/)\n",
    "* [NCBI Entrez Programming Utilities](https://www.ncbi.nlm.nih.gov/books/NBK25497/)\n",
    "* [Sanger Institute's tool Artemis](http://www.sanger.ac.uk/science/tools/artemis)\n",
    " "
   ]
  }
 ],
 "metadata": {
  "kernelspec": {
   "display_name": "Python 3",
   "language": "python",
   "name": "python3"
  },
  "language_info": {
   "codemirror_mode": {
    "name": "ipython",
    "version": 3
   },
   "file_extension": ".py",
   "mimetype": "text/x-python",
   "name": "python",
   "nbconvert_exporter": "python",
   "pygments_lexer": "ipython3",
   "version": "3.6.0"
  }
 },
 "nbformat": 4,
 "nbformat_minor": 2
}
