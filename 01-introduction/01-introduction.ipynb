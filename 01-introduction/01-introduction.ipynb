{
 "cells": [
  {
   "cell_type": "markdown",
   "metadata": {
    "deletable": true,
    "editable": true
   },
   "source": [
    "<img src=\"images/JHI_STRAP_Web.png\" style=\"width: 150px; float: right;\">\n",
    "# 01 - FASTA format"
   ]
  },
  {
   "cell_type": "markdown",
   "metadata": {
    "deletable": true,
    "editable": true
   },
   "source": [
    "## Table of Contents\n",
    "\n",
    "1. [Introduction](#introduction)\n",
    "2. [FASTA format](#fasta_format)\n"
   ]
  },
  {
   "cell_type": "markdown",
   "metadata": {
    "deletable": true,
    "editable": true
   },
   "source": [
    "<a id=\"introduction\"></a>\n",
    "## Introduction\n",
    "\n",
    "<div class=\"alert-success\">\n",
    "<b>We've come up with a little example to motivate the specific sample data we we be using.</b>\n",
    "</div>\n",
    "\n",
    "In the course of this workshop we're going to be looking at two forms of a lipase protein from the bacteria *Proteus mirabilis*, both the natural wild-type and an engineered form of this enzyme.\n",
    "\n",
    "To prepare for this we're going to first have to introduce some widely used sequence file formats for storing nucleotide and amino acid sequence data, or entire genome sequences."
   ]
  },
  {
   "cell_type": "markdown",
   "metadata": {
    "deletable": true,
    "editable": true
   },
   "source": [
    "<a id=\"fasta\"></a>\n",
    "## FASTA format\n",
    "\n",
    "<p></p>\n",
    "<div class=\"alert-success\">\n",
    "<b>What is FASTA format?</b>\n",
    "</div>\n",
    "\n",
    "The FASTA format (named after an early bioinformatics tool of the same name) uses a special ``>`` marker line to indicate the start of each sequence. This ``>`` header line should begin with an identifier, and then optional a space and description (all one one line). The subsequence lines (until the next ``>`` marker) are the associated sequence data, usually line wrapped (but the line wrapping has no meaning).\n",
    "\n",
    "In a new terminal window, please change to this data directory using:\n",
    "\n",
    "``` bash\n",
    "$ cd ~/Teaching-IBioIC-Intro-to-Bioinformatics/01-introduction/data\n",
    "```\n",
    "\n",
    "If you list the *.fasta files, you should see:\n",
    "\n",
    "``` bash\n",
    "$ ls *.fasta\n",
    "engineered_nt.fasta     glycoside_hydrolases_aa.fasta wildtype_nt.fasta\n",
    "```\n",
    "\n",
    "The wildtype.fasta file should look like this using the more command:\n",
    "\n",
    "``` bash\n",
    "$ more wildtype_nt.fasta\n",
    ">wildtype lipase protein from Proteus mirabilis\n",
    "ATGAGCACCAAGTACCCCATCGTGCTGGTGCACGGCCTGGCCGGCTTCAACGAGATCGTG\n",
    "GGCTTCCCCTACTTCTACGGCATCGCCGACGCCCTGAGGCAGGACGGCCACCAGGTGTTC\n",
    "ACCGCCAGCCTGAGCGCCTTCAACAGCAACGAGGTGAGGGGCAAGCAGCTGTGGCAGTTC\n",
    "GTGCAGACCCTGCTGCAGGAGACCCAGGCCAAGAAGGTGAACTTCATCGGCCACAGCCAG\n",
    "GGCCCCCTGGCCTGCAGGTACGTGGCCGCCAACTACCCCGACAGCGTGGCCAGCGTGACC\n",
    "AGCATCAACGGCGTGAACCACGGCAGCGAGATCGCCGACCTGTACAGGAGGATCATGAGG\n",
    "AAGGACAGCATCCCCGAGTACATCGTGGAGAAGGTGCTGAACGCCTTCGGCACCATCATC\n",
    "AGCACCTTCAGCGGCCACAGGGGCGACCCCCAGGACGCCATCGCCGCCCTGGAGAGCCTG\n",
    "ACCACCGAGCAGGTGACCGAGTTCAACAACAAGTACCCCCAGGCCCTGCCCAAGACCCCC\n",
    "GGCGGCGAGGGCGACGAGATCGTGAACGGCGTGCACTACTACTGCTTCGGCAGCTACATC\n",
    "CAGGGCCTGATCGCCGGCGAGAAGGGCAACCTGCTGGACCCCACCCACGCCGCCATGAGG\n",
    "GTGCTGAACACCTTCTTCACCGAGAAGCAGAACGACGGCCTGGTGGGCAGGAGCAGCATG\n",
    "AGGCTGGGCAAGCTGATCAAGGACGACTACGCCCAGGACCACATCGACATGGTGAACCAG\n",
    "GTGGCCGGCCTGGTGGGCTACAACGAGGACATCGTGGCCATCTACACCCAGCACGCCAAG\n",
    "TACCTGGCCAGCAAGCAGCTG\n",
    "```\n",
    "\n",
    "The engineered.fasta file should look like this with more:\n",
    "\n",
    "``` bash\n",
    "$ more engineered_nt.fasta\n",
    ">engineered lipase protein from Proteus mirabilis\n",
    "ATGAGCACCAAGTACCCCATCGTGCTGGTGCACGGCCTGGCCGGCTTCAGCGAGATCGTG\n",
    "GGCTTCCCCTACTTCTACGGCATCGCCGACGCCCTGACCCAGGACGGCCACCAGGTGTTC\n",
    "ACCGCCAGCCTGAGCGCCTTCAACAGCAACGAGGTGAGGGGCAAGCAGCTGTGGCAGTTC\n",
    "GTGCAGACCATCCTGCAGGAGACCCAGACCAAGAAGGTGAACTTCATCGGCCACAGCCAG\n",
    "GGCCCCCTGGCCTGCAGGTACGTGGCCGCCAACTACCCCGACAGCGTGGCCAGCGTGACC\n",
    "AGCATCAACGGCGTGAACCACGGCAGCGAGATCGCCGACCTGTACAGGAGGATCATCAGG\n",
    "AAGGACAGCATCCCCGAGTACATCGTGGAGAAGGTGCTGAACGCCTTCGGCACCATCATC\n",
    "AGCACCTTCAGCGGCCACAGGGGCGACCCCCAGGACGCCATCGCCGCCCTGGAGAGCCTG\n",
    "ACCACCGAGCAGGTGACCGAGTTCAACAACAAGTACCCCCAGGCCCTGCCCAAGACCCCC\n",
    "TGCGGCGAGGGCGACGAGATCGTGAACGGCGTGCACTACTACTGCTTCGGCAGCTACATC\n",
    "CAGGAGCTGATCGCCGGCGAGAACGGCAACCTGCTGGACCCCACCCACGCCGCCATGAGG\n",
    "GTGCTGAACACCCTGTTCACCGAGAAGCAGAACGACGGCCTGGTGGGCAGGTGCAGCATG\n",
    "AGGCTGGGCAAGCTGATCAAGGACGACTACGCCCAGGACCACTTCGACATGGTGAACCAG\n",
    "GTGGCCGGCCTGGTGAGCTACAACGAGAACATCGTGGCCATCTACACCCTGCACGCCAAG\n",
    "TACCTGGCCAGCAAGCAGCTG\n",
    "```\n",
    "\n",
    "Here we have two short FASTA files, each just five lines long, and each containing a single nucelotide sequence - which by eye look almost identical. We will come back to this later.\n",
    "\n",
    "FASTA files can contain much longer sequences - like whole chromosomes.\n",
    "\n",
    "FASTA files often contain multiple sequences - like all the proteins from a bacteria, all the gene coding seqeuences, or any hand compiled set of nucleotide sequences of interest. Have a look at the third file, ``glycoside_hydrolases_nt.fasta`` for comparison:\n",
    "\n",
    "```bash\n",
    "$ more glycoside_hydrolases_nt.fasta\n",
    ">ECA0662 6-phospho-beta-glucosidase\n",
    "ATGAAAGCATTCCCCGACGGATTTTTATGGGGCGGTTCAGTCGCAGCAAATCAGGTTGAA\n",
    "GGGGCATGGAATGAAGACGGCAAAGGCGTGTCGACCTCCGATCTTCAGCTAAAGGGCGTG\n",
    "CATGGTCCGGTGACAGAACGCGATGAGAGCATTAGCTGCATCAAAGATCGGGCAATCGAT\n",
    "...\n",
    "```\n",
    "\n",
    "You should find this contains eight nucleotide sequences. We'll look at the genome these came from soon, the bacteria *Pectobacterium carotovorum* accession [NC_004547.1](https://www.ncbi.nlm.nih.gov/nuccore/NC_004547.2) (originally known as *Erwinia carotovora*).\n",
    "\n",
    "Most bioinformatics tools for working on sequence data will accept FASTA format input."
   ]
  },
  {
   "cell_type": "markdown",
   "metadata": {
    "deletable": true,
    "editable": true
   },
   "source": [
    "### Resources\n",
    "\n",
    "* [NCBI Entrez Programming Utilities](https://www.ncbi.nlm.nih.gov/books/NBK25497/)"
   ]
  }
 ],
 "metadata": {
  "kernelspec": {
   "display_name": "Python 3",
   "language": "python",
   "name": "python3"
  },
  "language_info": {
   "codemirror_mode": {
    "name": "ipython",
    "version": 3
   },
   "file_extension": ".py",
   "mimetype": "text/x-python",
   "name": "python",
   "nbconvert_exporter": "python",
   "pygments_lexer": "ipython3",
   "version": "3.6.0"
  }
 },
 "nbformat": 4,
 "nbformat_minor": 2
}
