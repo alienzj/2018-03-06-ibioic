{
 "cells": [
  {
   "cell_type": "markdown",
   "metadata": {
    "deletable": true,
    "editable": true
   },
   "source": [
    "<img src=\"images/JHI_STRAP_Web.png\" style=\"width: 150px; float: right;\">\n",
    "# 01 - Introduction to sequence data and bioinformatics"
   ]
  },
  {
   "cell_type": "markdown",
   "metadata": {
    "deletable": true,
    "editable": true
   },
   "source": [
    "## Table of Contents\n",
    "\n",
    "1. [Introduction](#introduction)\n",
    "2. [FASTA format](#fasta_format)\n",
    "3. [GenBank format](#genbank_format)\n",
    "3. [Downloading GenBank files](#downloading_gb)"
   ]
  },
  {
   "cell_type": "markdown",
   "metadata": {
    "deletable": true,
    "editable": true
   },
   "source": [
    "<a id=\"introduction\"></a>\n",
    "## Introduction\n",
    "\n",
    "<div class=\"alert-success\">\n",
    "<b>We've come up with a little example to motivate the specific sample data we we be using.</b>\n",
    "</div>\n",
    "\n",
    "In the course of this workshop we're going to be looking at two forms of a lipase protein from the bacteria *Proteus mirabilis*, both the natural wild-type and an engineered form of this enzyme.\n",
    "\n",
    "To prepare for this we're going to first have to introduce some widely used sequence file formats for storing nucleotide and amino acid sequence data, or entire genome sequences."
   ]
  },
  {
   "cell_type": "markdown",
   "metadata": {
    "deletable": true,
    "editable": true
   },
   "source": [
    "<a id=\"fasta\"></a>\n",
    "## FASTA format\n",
    "\n",
    "<p></p>\n",
    "<div class=\"alert-success\">\n",
    "<b>What is FASTA format?</b>\n",
    "</div>\n",
    "\n",
    "The FASTA format (named after an early bioinformatics tool of the same name) uses a special ``>`` marker line to indicate the start of each sequence. This ``>`` header line should begin with an identifier, and then optional a space and description (all one one line). The subsequence lines (until the next ``>`` marker) are the associated sequence data, usually line wrapped (but the line wrapping has no meaning).\n",
    "\n",
    "In a new terminal window, please change to this data directory using:\n",
    "\n",
    "``` bash\n",
    "$ cd ~/Teaching-IBioIC-Intro-to-Bioinformatics/01-introduction/data\n",
    "```\n",
    "\n",
    "If you list the *.fasta files, you should see:\n",
    "\n",
    "``` bash\n",
    "$ ls *.fasta\n",
    "engineered_nt.fasta     glycoside_hydrolases_aa.fasta wildtype_nt.fasta\n",
    "```\n",
    "\n",
    "The wildtype.fasta file should look like this using the more command:\n",
    "\n",
    "``` bash\n",
    "$ more wildtype_nt.fasta\n",
    ">wildtype lipase protein from Proteus mirabilis\n",
    "ATGAGCACCAAGTACCCCATCGTGCTGGTGCACGGCCTGGCCGGCTTCAACGAGATCGTG\n",
    "GGCTTCCCCTACTTCTACGGCATCGCCGACGCCCTGAGGCAGGACGGCCACCAGGTGTTC\n",
    "ACCGCCAGCCTGAGCGCCTTCAACAGCAACGAGGTGAGGGGCAAGCAGCTGTGGCAGTTC\n",
    "GTGCAGACCCTGCTGCAGGAGACCCAGGCCAAGAAGGTGAACTTCATCGGCCACAGCCAG\n",
    "GGCCCCCTGGCCTGCAGGTACGTGGCCGCCAACTACCCCGACAGCGTGGCCAGCGTGACC\n",
    "AGCATCAACGGCGTGAACCACGGCAGCGAGATCGCCGACCTGTACAGGAGGATCATGAGG\n",
    "AAGGACAGCATCCCCGAGTACATCGTGGAGAAGGTGCTGAACGCCTTCGGCACCATCATC\n",
    "AGCACCTTCAGCGGCCACAGGGGCGACCCCCAGGACGCCATCGCCGCCCTGGAGAGCCTG\n",
    "ACCACCGAGCAGGTGACCGAGTTCAACAACAAGTACCCCCAGGCCCTGCCCAAGACCCCC\n",
    "GGCGGCGAGGGCGACGAGATCGTGAACGGCGTGCACTACTACTGCTTCGGCAGCTACATC\n",
    "CAGGGCCTGATCGCCGGCGAGAAGGGCAACCTGCTGGACCCCACCCACGCCGCCATGAGG\n",
    "GTGCTGAACACCTTCTTCACCGAGAAGCAGAACGACGGCCTGGTGGGCAGGAGCAGCATG\n",
    "AGGCTGGGCAAGCTGATCAAGGACGACTACGCCCAGGACCACATCGACATGGTGAACCAG\n",
    "GTGGCCGGCCTGGTGGGCTACAACGAGGACATCGTGGCCATCTACACCCAGCACGCCAAG\n",
    "TACCTGGCCAGCAAGCAGCTG\n",
    "```\n",
    "\n",
    "The engineered.fasta file should look like this with more:\n",
    "\n",
    "``` bash\n",
    "$ more engineered_nt.fasta\n",
    ">engineered lipase protein from Proteus mirabilis\n",
    "ATGAGCACCAAGTACCCCATCGTGCTGGTGCACGGCCTGGCCGGCTTCAGCGAGATCGTG\n",
    "GGCTTCCCCTACTTCTACGGCATCGCCGACGCCCTGACCCAGGACGGCCACCAGGTGTTC\n",
    "ACCGCCAGCCTGAGCGCCTTCAACAGCAACGAGGTGAGGGGCAAGCAGCTGTGGCAGTTC\n",
    "GTGCAGACCATCCTGCAGGAGACCCAGACCAAGAAGGTGAACTTCATCGGCCACAGCCAG\n",
    "GGCCCCCTGGCCTGCAGGTACGTGGCCGCCAACTACCCCGACAGCGTGGCCAGCGTGACC\n",
    "AGCATCAACGGCGTGAACCACGGCAGCGAGATCGCCGACCTGTACAGGAGGATCATCAGG\n",
    "AAGGACAGCATCCCCGAGTACATCGTGGAGAAGGTGCTGAACGCCTTCGGCACCATCATC\n",
    "AGCACCTTCAGCGGCCACAGGGGCGACCCCCAGGACGCCATCGCCGCCCTGGAGAGCCTG\n",
    "ACCACCGAGCAGGTGACCGAGTTCAACAACAAGTACCCCCAGGCCCTGCCCAAGACCCCC\n",
    "TGCGGCGAGGGCGACGAGATCGTGAACGGCGTGCACTACTACTGCTTCGGCAGCTACATC\n",
    "CAGGAGCTGATCGCCGGCGAGAACGGCAACCTGCTGGACCCCACCCACGCCGCCATGAGG\n",
    "GTGCTGAACACCCTGTTCACCGAGAAGCAGAACGACGGCCTGGTGGGCAGGTGCAGCATG\n",
    "AGGCTGGGCAAGCTGATCAAGGACGACTACGCCCAGGACCACTTCGACATGGTGAACCAG\n",
    "GTGGCCGGCCTGGTGAGCTACAACGAGAACATCGTGGCCATCTACACCCTGCACGCCAAG\n",
    "TACCTGGCCAGCAAGCAGCTG\n",
    "```\n",
    "\n",
    "Here we have two short FASTA files, each just five lines long, and each containing a single nucelotide sequence - which by eye look almost identical. We will come back to this later.\n",
    "\n",
    "FASTA files can contain much longer sequences - like whole chromosomes.\n",
    "\n",
    "FASTA files often contain multiple sequences - like all the proteins from a bacteria, all the gene coding seqeuences, or any hand compiled set of nucleotide sequences of interest. Have a look at the third file, ``glycoside_hydrolases_nt.fasta`` for comparison:\n",
    "\n",
    "```bash\n",
    "$ more glycoside_hydrolases_nt.fasta\n",
    ">ECA0662 6-phospho-beta-glucosidase\n",
    "ATGAAAGCATTCCCCGACGGATTTTTATGGGGCGGTTCAGTCGCAGCAAATCAGGTTGAA\n",
    "GGGGCATGGAATGAAGACGGCAAAGGCGTGTCGACCTCCGATCTTCAGCTAAAGGGCGTG\n",
    "CATGGTCCGGTGACAGAACGCGATGAGAGCATTAGCTGCATCAAAGATCGGGCAATCGAT\n",
    "...\n",
    "```\n",
    "\n",
    "You should find this contains eight nucleotide sequences. We'll look at the genome these came from soon, the bacteria *Pectobacterium carotovorum* accession [NC_004547.1](https://www.ncbi.nlm.nih.gov/nuccore/NC_004547.2) (originally known as *Erwinia carotovora*).\n",
    "\n",
    "Most bioinformatics tools for working on sequence data will accept FASTA format input."
   ]
  },
  {
   "cell_type": "markdown",
   "metadata": {
    "deletable": true,
    "editable": true
   },
   "source": [
    "<a id=\"genbank_format\"></a>\n",
    "## GenBank format\n",
    "\n",
    "When a new genome sequence gets published, it should be deposited in the global sequence archive under the International Nucleotide Sequence Database Collaboration (INSDC), via one of the three mirrors run by the NCBI in America, EMBL-EBI in Europe, and DDBJ in Japan.\n",
    "\n",
    "We're going to be using the NCBI website here, and the NCBI default view here shows the whole genome as a webpage with clickable links based on the plain text NCBI GenBank format.\n",
    "\n",
    "GenBank format is intended to be human readable (see this [sample record](https://www.ncbi.nlm.nih.gov/Sitemap/samplerecord.html)), and is a widely used file format for annotated genomes. The related EMBL file format used in the European sequence database which mirrors the NCBI sequence database shares the same INSDC feature table design.\n",
    "\n",
    "A sequence record in GenBank format has three main sections:\n",
    "\n",
    "- header starting with the ``LOCUS`` line \n",
    "- feature table listing any annotated features like genes\n",
    "- the actual sequence (or how it is built up from other records), ending with a ``//`` line.\n",
    "\n",
    "With bacterial genomes, for each annotated gene you expect to see a pair of features - a ``gene`` immediately followed by a ``CDS`` entry for the coding sequence, using the same location co-ordindates. With eukaryotes in addition there is usually an ``mRNA`` entry, and the CDS location is more complicated in order to describe only the exons which make up the coding sequence.\n",
    "\n",
    "Here we've picked a *Pectobacterium carotovorum* (previously known as *Erwinia carotovora*) genome as an example, [NC_004547.1](https://www.ncbi.nlm.nih.gov/nuccore/NC_004547.2). You can scroll down to see the genes, or search within the page once it has fully loaded.\n",
    "\n",
    "Supposing you were interested in the gene with original locus tag ``ECA0662`` (which is the first entry in example file ``glycoside_hydrolases_nt.fasta``), you should find it here:\n",
    "\n",
    "\n",
    "```\n",
    "     gene            complement(736847..738235)\n",
    "                     /locus_tag=\"ECA_RS03295\"\n",
    "                     /old_locus_tag=\"ECA0662\"\n",
    "                     /db_xref=\"GeneID:2881615\"\n",
    "     CDS             complement(736847..738235)\n",
    "                     /locus_tag=\"ECA_RS03295\"\n",
    "                     /old_locus_tag=\"ECA0662\"\n",
    "                     /inference=\"EXISTENCE: similar to AA\n",
    "                     sequence:RefSeq:WP_011092278.1\"\n",
    "                     /note=\"Derived by automated computational analysis using\n",
    "                     gene prediction method: Protein Homology.\"\n",
    "                     /codon_start=1\n",
    "                     /transl_table=11\n",
    "                     /product=\"6-phospho-beta-glucosidase\"\n",
    "                     /protein_id=\"WP_039289952.1\"\n",
    "                     /db_xref=\"GeneID:2881615\"\n",
    "```\n",
    "\n",
    "We will talk about the meaning of this entry, and the gene context. But first, since we're going to work more with this GenBank file directly, we'll download it first."
   ]
  },
  {
   "cell_type": "markdown",
   "metadata": {
    "deletable": true,
    "editable": true
   },
   "source": [
    "<a id=\"downloading_gb\"></a>\n",
    "## Downloading GenBank files\n",
    "\n",
    "You *could* download the the GenBank file we want via the NCBI website, but it takes a lot of manual steps. Currently you would start with the \"send\" menu to the top right of screen, picking \"Complete Record\", destination \"File\", and format \"GenBank (full)\". Save the two files as ``NC_004547.gbk``.\n",
    "\n",
    "![NCBI menu to send a record to file in GenBank format](./images/ncbi_send_to_file_genbank_full.png)\n",
    "\n",
    "If you accidently use format \"GenBank\", then with these examples you'll get a much smaller file missing all the features and sequence data. Also, depending on your browser's settings, the file may be saved with a default name like ``sequence.gb.txt`` in your downloads folder, which means you'd have to move the file to the working folder and rename it.\n",
    "\n",
    "Thankfully the NCBI provide a way to automate this, which they call the [NCBI Entrez Programming Utilities](https://www.ncbi.nlm.nih.gov/books/NBK25497/). This can be used from many different programming languages, but we will use it from Python using the Biopython wrapper ``Bio.Entrez`` to help."
   ]
  },
  {
   "cell_type": "code",
   "execution_count": null,
   "metadata": {
    "collapsed": false,
    "deletable": true,
    "editable": true
   },
   "outputs": [],
   "source": [
    "########################################################################\n",
    "# For the purposes of this workshop, don't worry about how this works, #\n",
    "# a key point here is if you run this you'll all get the same file.    #\n",
    "########################################################################\n",
    "\n",
    "# Biopython's module to access the NCBI Entrez Programming Utilities\n",
    "from Bio import Entrez\n",
    "\n",
    "# The NCBI likes to know who is using their services in case of problems,\n",
    "Entrez.email = \"your.name.here@example.org\"\n",
    "\n",
    "accession = \"NC_004547\"\n",
    "\n",
    "print(\"Fetching %s from NCBI...\" % accession)\n",
    "\n",
    "# Return type \"gbwithparts\" matches \"GenBank (full)\" on the website\n",
    "fetch_handle = Entrez.efetch(\"nuccore\", id=accession, rettype=\"gbwithparts\", retmode=\"text\")\n",
    "\n",
    "# Open an output file, and write all the data from the NCBI to it\n",
    "with open(accession + \".gbk\", \"w\") as output_handle:\n",
    "    output_handle.write(fetch_handle.read())\n",
    "\n",
    "print(\"Saved %s.gbk\" % accession)"
   ]
  },
  {
   "cell_type": "markdown",
   "metadata": {},
   "source": [
    "If you look at ``NC_004547.gbk`` in a text editor, or simply view it at the command line using ``more``, it should look like the NCBI website's content - although there are some interesting differences..."
   ]
  },
  {
   "cell_type": "markdown",
   "metadata": {
    "deletable": true,
    "editable": true
   },
   "source": [
    "### Resources\n",
    "\n",
    "* [NCBI Entrez Programming Utilities](https://www.ncbi.nlm.nih.gov/books/NBK25497/)"
   ]
  }
 ],
 "metadata": {
  "kernelspec": {
   "display_name": "Python 3",
   "language": "python",
   "name": "python3"
  },
  "language_info": {
   "codemirror_mode": {
    "name": "ipython",
    "version": 3
   },
   "file_extension": ".py",
   "mimetype": "text/x-python",
   "name": "python",
   "nbconvert_exporter": "python",
   "pygments_lexer": "ipython3",
   "version": "3.6.0"
  }
 },
 "nbformat": 4,
 "nbformat_minor": 2
}
