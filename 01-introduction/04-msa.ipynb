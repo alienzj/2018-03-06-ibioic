{
 "cells": [
  {
   "cell_type": "markdown",
   "metadata": {
    "deletable": true,
    "editable": true
   },
   "source": [
    "<img src=\"images/JHI_STRAP_Web.png\" style=\"width: 150px; float: right;\">\n",
    "# 04 - Multiple Sequence Alignment"
   ]
  },
  {
   "cell_type": "markdown",
   "metadata": {
    "deletable": true,
    "editable": true
   },
   "source": [
    "## Table of Contents\n",
    "\n",
    "1. [Introduction](#introduction)\n",
    "2. [Muscle](#muscle)\n",
    "3. [Jalview](#jalview)"
   ]
  },
  {
   "cell_type": "markdown",
   "metadata": {
    "deletable": true,
    "editable": true
   },
   "source": [
    "<a id=\"introduction\"></a>\n",
    "## Introduction\n",
    "\n",
    "<div class=\"alert-success\">\n",
    "<b>Multiple Sequence Alignment is a useful approach to comparing members of a gene family.</b>\n",
    "</div>\n",
    "\n",
    "To recap, we've downloaded the *Pectobacterium carotovorum* genome in GenBank format as ``NC_004547.gbk``, and then extracted eight glycoside hydrolase genes from it as two FASTA files with their nucleotide and protein seqeunces giving files ``nucleotides.fasta`` and ``proteins.fasta``.\n",
    "\n",
    "When you have a set of gene you think form a gene family, a natural thing to do it comparse the sequence to each other. A standard approach here is to build a multiple sequence alignment, and while there are many tools for this we will use Muscle.\n",
    "\n",
    "These tools will generally work even on a pair of sequences, but here there even more options and ways to visualise the similarities or differences in a pairwise alignment."
   ]
  },
  {
   "cell_type": "markdown",
   "metadata": {},
   "source": [
    "<a id=\"muscle\"></a>\n",
    "## Running Muscle\n",
    "\n",
    "[Muscle](http://www.drive5.com/muscle/) is a popular tool for multiple sequence alignment of nucleotides or proteins. By default it expects the input sequences in FASTA format, and will produce the output alignment in FASTA format where minus signs ``-`` have been inserted into the sequences as gap character. Let's try this with our proteins:\n",
    "\n",
    "```bash\n",
    "$ cd ~/Teaching-IBioIC-Intro-to-Bioinformatics/01-introduction/data\n",
    "$ muscle -in proteins.fasta -out proteins_aligned.fasta\n",
    "\n",
    "MUSCLE v3.8.31 by Robert C. Edgar\n",
    "\n",
    "http://www.drive5.com/muscle\n",
    "This software is donated to the public domain.\n",
    "Please cite: Edgar, R.C. Nucleic Acids Res 32(5), 1792-97.\n",
    "\n",
    "proteins 8 seqs, max length 1473, avg  length 1423\n",
    "00:00:00      1 MB(0%)  Iter   1  100.00%  K-mer dist pass 1\n",
    "00:00:00      1 MB(0%)  Iter   1  100.00%  K-mer dist pass 2\n",
    "00:00:00     12 MB(0%)  Iter   1  100.00%  Align node       \n",
    "00:00:00     12 MB(0%)  Iter   1  100.00%  Root alignment\n",
    "00:00:01     14 MB(0%)  Iter   2  100.00%  Refine tree   \n",
    "00:00:01     14 MB(0%)  Iter   2  100.00%  Root alignment\n",
    "00:00:01     14 MB(0%)  Iter   2  100.00%  Root alignment\n",
    "00:00:01     15 MB(0%)  Iter   3  100.00%  Refine biparts\n",
    "00:00:02     15 MB(0%)  Iter   4  100.00%  Refine biparts\n",
    "00:00:02     15 MB(0%)  Iter   5  100.00%  Refine biparts\n",
    "```\n",
    "\n",
    "You should now have a new file ``proteins_aligned.fasta`` which you can look at within the command line terminal using more:\n",
    "\n",
    "```bash\n",
    "$ more proteins_aligned.fasta \n",
    ">ECA3646\n",
    "ATGAGTAAGGTTTCACTGAC------TA---TTCCCCCAGATTTTATTCTGGGTGCGGCG\n",
    "GCATCGGCATGGCAAACGGAAGGATGGAGCGGCAAGAAGGCAGGGCAGGAT--TCCTATT\n",
    "TGGATCTC-------------------------------------TGGTACAAGCAG---\n",
    "...\n",
    "```\n",
    "\n",
    "This isn't intended to be interpreted by eye - the best way to view this is with a graphical tool, and here we will use Jalview."
   ]
  },
  {
   "cell_type": "markdown",
   "metadata": {
    "deletable": true,
    "editable": true
   },
   "source": [
    "<a id=\"jalview\"></a>\n",
    "### Running Jalview\n",
    "\n",
    "We're just going to use [Jalview](http://www.jalview.org) as a multiple sequence aligment viewer, but it is capable of much more.\n",
    "\n",
    "You could run ``jalview`` via the command line, and then using the application menu \"File\", \"Input Alignment\", \"from File\" to pick our ``proteins_aligned.fasta`` file. But that's a lot of clicks and its quicker and easier to open the file directly via the command line:\n",
    "\n",
    "```bash\n",
    "$ jalview -open proteins_aligned.fasta\n",
    "...\n",
    "```\n",
    "\n",
    "This will print *lots* of debugging information in the terminal, but also pop up the main Jalview window with our protein alignment loaded:\n",
    "\n",
    "![Jalview with our protein alignment loaded](images/jalview_gh_default.png)\n",
    "\n",
    "Try using the \"Colour\" menu to brighten this up and help show where these proteins agree with each other."
   ]
  },
  {
   "cell_type": "markdown",
   "metadata": {
    "deletable": true,
    "editable": true
   },
   "source": [
    "### Resources\n",
    "\n",
    "* [Muscle alignment tool](http://www.drive5.com/muscle/)\n",
    "* [Jalview](http://www.jalview.org)\n",
    "\n",
    " "
   ]
  }
 ],
 "metadata": {
  "kernelspec": {
   "display_name": "Python 3",
   "language": "python",
   "name": "python3"
  },
  "language_info": {
   "codemirror_mode": {
    "name": "ipython",
    "version": 3
   },
   "file_extension": ".py",
   "mimetype": "text/x-python",
   "name": "python",
   "nbconvert_exporter": "python",
   "pygments_lexer": "ipython3",
   "version": "3.6.0"
  }
 },
 "nbformat": 4,
 "nbformat_minor": 2
}
