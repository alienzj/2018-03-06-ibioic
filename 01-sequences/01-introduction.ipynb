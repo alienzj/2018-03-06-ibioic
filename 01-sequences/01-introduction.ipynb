{
 "cells": [
  {
   "cell_type": "markdown",
   "metadata": {
    "deletable": true,
    "editable": true
   },
   "source": [
    "<img src=\"images/JHI_STRAP_Web.png\" style=\"width: 150px; float: right;\">\n",
    "# 01 - Introduction"
   ]
  },
  {
   "cell_type": "markdown",
   "metadata": {
    "deletable": true,
    "editable": true
   },
   "source": [
    "## Table of Contents\n",
    "\n",
    "1. [Introduction](#introduction)"
   ]
  },
  {
   "cell_type": "markdown",
   "metadata": {},
   "source": [
    "<a id=\"introduction\"></a>\n",
    "## Introduction\n",
    "\n",
    "<div class=\"alert-success\">\n",
    "<b>We've come up with a little example to motivate the specific sample data we we be using.</b>\n",
    "</div>\n",
    "\n",
    "We're going to be looking at two forms of a lipase protein from the bacteria <i>Proteus mirabilis</i>, the natural wild-type and an engineered form of this enzyme:\n",
    "\n",
    "* WT: http://www.uniprot.org/uniprot/C2LFD0\n",
    "* Engineered: http://www.uniprot.org/uniprot/B4EVM3\n",
    "\n",
    "You can explore these two sequences on the UniProt website by following the URLs. You'll find lots of information, including the actual protein sequences which we will look at first."
   ]
  },
  {
   "cell_type": "markdown",
   "metadata": {},
   "source": [
    "### Sequences in FASTA format\n",
    "\n",
    "<div class=\"alert-success\">\n",
    "<b>We will download and view two small FASTA sequence files.</b>\n",
    "</div>\n",
    "\n",
    "The UniProt website provides links to download the sequence data in FASTA format, a simple widely used plain text format for storing sequence data.\n",
    "\n",
    "* WT: http://www.uniprot.org/uniprot/C2LFD0.fasta\n",
    "* Engineered: http://www.uniprot.org/uniprot/B4EVM3.fasta\n",
    "\n",
    "You can try downloading these FASTA files though your web-browser, and viewing them in a text editor.\n",
    "\n",
    "The ``C2LFD0.fasta`` file should look like this:\n",
    "\n",
    "```\n",
    ">tr|C2LFD0|C2LFD0_PROMI Hydrolase, alpha/beta domain protein OS=Proteus mirabilis ATCC 29906 GN=HMPREF0693_0570 PE=1 SV=1\n",
    "MSTKYPIVLVHGLAGFNEIVGFPYFYGIADALRQDGHQVFTASLSAFNSNEVRGKQLWQF\n",
    "VQTLLQETQAKKVNFIGHSQGPLACRYVAANYPDSVASVTSINGVNHGSEIADLYRRIMR\n",
    "KDSIPEYIVEKVLNAFGTIISTFSGHRGDPQDAIAALESLTTEQVTEFNNKYPQALPKIP\n",
    "GGEGDEIVNGVHYYCFGSYIQGLIAGEKGNLLDPTHAAMRVLNTFFTEKQNDGLVGRSSM\n",
    "RLGKLIKDDYAQDHIDMVNQVAGLVGYNEDIVAIYTQHAKYLASKQL\n",
    "```\n",
    "\n",
    "The ``B4EVM3.fasta`` file should look like this:\n",
    "\n",
    "```\n",
    ">tr|B4EVM3|B4EVM3_PROMH Putative lipase OS=Proteus mirabilis (strain HI4320) GN=PMI0999 PE=1 SV=1\n",
    "MSTKYPIVLVHGLAGFNEIVGFPYFYGIADALRQDGHQVFTASLSAFNSNEVRGKQLWQF\n",
    "VQTLLQETQAKKVNFIGHSQGPLACRYVAANYPDSVASVTSINGVNHGSEIADLYRRIMR\n",
    "KDSIPEYIVEKVLNAFGTIISTFSGHRGDPQDAIAALESLTTEQVTEFNNKYPQALPKTP\n",
    "GGEGDEIVNGVHYYCFGSYIQGLIAGEKGNLLDPTHAAMRVLNTFFTEKQNDGLVGRSSM\n",
    "RLGKLIKDDYAQDHIDMVNQVAGLVGYNEDIVAIYTQHAKYLASKQL\n",
    "```\n",
    "\n",
    "The FASTA format (named after an early bioinformatics tool of the same name) uses a special ``>`` marker line to indicate the start of each sequence. This ``>`` header line should begin with an identifier, and then optional a space and description (all one one line). The subsequence lines (until the next ``>`` marker) are the associated sequence data, usually line wrapped.\n",
    "\n",
    "Here we have two short FASTA files, each just six lines long, and each containing a single protein sequence - which by eye look almost identical. We will come back to this later."
   ]
  },
  {
   "cell_type": "markdown",
   "metadata": {
    "deletable": true,
    "editable": true
   },
   "source": [
    "### Fetching and viewing sequences at the command line\n",
    "\n",
    "Downloading *just* two files via your web-browser, and opening them in a text file editor is fairly easy. However, but with larger tasks dealing with many files, working at the command line or with scripting can be more efficient.\n",
    "\n",
    "We will now do the command line equivalent for downloading and viewing these files."
   ]
  },
  {
   "cell_type": "code",
   "execution_count": null,
   "metadata": {
    "collapsed": false
   },
   "outputs": [],
   "source": [
    "%%bash\n",
    "# Here we use the Unix \"curl\" command to download these FASTA files\n",
    "# (\"wget\" can be used instead, but is not included on macOS by default)\n",
    "curl -O http://www.uniprot.org/uniprot/C2LFD0.fasta\n",
    "curl -O http://www.uniprot.org/uniprot/B4EVM3.fasta"
   ]
  },
  {
   "cell_type": "code",
   "execution_count": null,
   "metadata": {
    "collapsed": false
   },
   "outputs": [],
   "source": [
    "%%bash\n",
    "# The Unix \"cat\" command will show the full contents of a file,\n",
    "# for larger files the \"more\" will show the content gradually\n",
    "more C2LFD0.fasta"
   ]
  },
  {
   "cell_type": "code",
   "execution_count": null,
   "metadata": {
    "collapsed": false
   },
   "outputs": [],
   "source": [
    "%%bash\n",
    "more B4EVM3.fasta"
   ]
  },
  {
   "cell_type": "markdown",
   "metadata": {},
   "source": [
    "Once you are familiar with the command line, you will come to appreciate certain advantages. These include the fact that these instructions are easy to repeat, for example with copy-and-paste, compared to describing a series of mouse clicks on a website or program menus."
   ]
  },
  {
   "cell_type": "markdown",
   "metadata": {
    "deletable": true,
    "editable": true
   },
   "source": [
    "### Resources\n",
    "\n",
    "* [UniProt webpage](http://www.uniprot.org/uniprot/)"
   ]
  }
 ],
 "metadata": {
  "kernelspec": {
   "display_name": "Python 3",
   "language": "python",
   "name": "python3"
  },
  "language_info": {
   "codemirror_mode": {
    "name": "ipython",
    "version": 3
   },
   "file_extension": ".py",
   "mimetype": "text/x-python",
   "name": "python",
   "nbconvert_exporter": "python",
   "pygments_lexer": "ipython3",
   "version": "3.6.0"
  }
 },
 "nbformat": 4,
 "nbformat_minor": 2
}
