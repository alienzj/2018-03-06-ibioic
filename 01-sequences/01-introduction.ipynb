{
 "cells": [
  {
   "cell_type": "markdown",
   "metadata": {
    "deletable": true,
    "editable": true
   },
   "source": [
    "<img src=\"images/JHI_STRAP_Web.png\" style=\"width: 150px; float: right;\">\n",
    "# 01 - Introduction"
   ]
  },
  {
   "cell_type": "markdown",
   "metadata": {
    "deletable": true,
    "editable": true
   },
   "source": [
    "## Table of Contents\n",
    "\n",
    "1. [Introduction](#introduction)"
   ]
  },
  {
   "cell_type": "markdown",
   "metadata": {
    "deletable": true,
    "editable": true
   },
   "source": [
    "<a id=\"introduction\"></a>\n",
    "## Introduction\n",
    "\n",
    "<div class=\"alert-success\">\n",
    "<b>We've come up with a little example to motivate the specific sample data we we be using.</b>\n",
    "</div>\n",
    "\n",
    "We're going to be looking at two forms of a lipase protein from the bacteria <i>Proteus mirabilis</i>, the natural wild-type and an engineered form of this enzyme:\n",
    "\n",
    "* WT: http://www.uniprot.org/uniprot/C2LFD0\n",
    "* Engineered: http://www.uniprot.org/uniprot/B4EVM3\n",
    "\n",
    "You can example these two sequences on the UniProt website by following the URLs, and from there download the sequence data in FASTA format, a simple widely used plain text format for storing sequence data."
   ]
  },
  {
   "cell_type": "markdown",
   "metadata": {
    "deletable": true,
    "editable": true
   },
   "source": [
    "### Resources\n",
    "\n",
    "* [UniProt webpage](http://www.uniprot.org/uniprot/)"
   ]
  }
 ],
 "metadata": {
  "kernelspec": {
   "display_name": "Python 3",
   "language": "python",
   "name": "python3"
  },
  "language_info": {
   "codemirror_mode": {
    "name": "ipython",
    "version": 3
   },
   "file_extension": ".py",
   "mimetype": "text/x-python",
   "name": "python",
   "nbconvert_exporter": "python",
   "pygments_lexer": "ipython3",
   "version": "3.6.0"
  }
 },
 "nbformat": 4,
 "nbformat_minor": 2
}
