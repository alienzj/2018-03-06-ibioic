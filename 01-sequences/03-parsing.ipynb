{
 "cells": [
  {
   "cell_type": "markdown",
   "metadata": {
    "deletable": true,
    "editable": true
   },
   "source": [
    "<img src=\"images/JHI_STRAP_Web.png\" style=\"width: 150px; float: right;\">\n",
    "# 03 - Parsing"
   ]
  },
  {
   "cell_type": "markdown",
   "metadata": {
    "deletable": true,
    "editable": true
   },
   "source": [
    "## Table of Contents\n",
    "\n",
    "1. [Introduction](#introduction)"
   ]
  },
  {
   "cell_type": "markdown",
   "metadata": {
    "deletable": true,
    "editable": true
   },
   "source": [
    "<a id=\"introduction\"></a>\n",
    "## Introduction\n",
    "\n",
    "<div class=\"alert-success\">\n",
    "<b>Thus far we've looked at GenBank files by eye and in Artemis. Now we'll do this with a Python script.</b>\n",
    "</div>\n",
    "\n",
    "To recap, we've used the NCBI Entrez Programming Utilities via Biopython's ``Bio.Entrez`` to download two genomes in GenBank format,\n",
    "\n",
    "- ``NZ_GG668576.gbk`` including our wild-type gene of interest with NCBI protein ID ``WP_004242549.1``\n",
    "- ``NC_010554.gbk`` including our engineered gene of interest with NCBI protein ID ``WP_004247922.1``\n",
    "\n",
    "What we're going to do now is pull out the nucleotide coding sequence for these genes using the CDS feature with the desired protein ID.\n",
    "\n",
    "We'll use Biopython to parse each genome, which gives all the features as a list. We'll then loop over the list of features to find the desired CDS feature:"
   ]
  },
  {
   "cell_type": "code",
   "execution_count": 8,
   "metadata": {
    "collapsed": false,
    "deletable": true,
    "editable": true
   },
   "outputs": [
    {
     "name": "stdout",
     "output_type": "stream",
     "text": [
      "type: CDS\n",
      "location: [46145:47009](+)\n",
      "qualifiers:\n",
      "    Key: codon_start, Value: ['1']\n",
      "    Key: inference, Value: ['COORDINATES: similar to AA sequence:RefSeq:WP_004242549.1']\n",
      "    Key: locus_tag, Value: ['HMPREF0693_RS00250']\n",
      "    Key: note, Value: ['Derived by automated computational analysis using gene prediction method: Protein Homology.']\n",
      "    Key: old_locus_tag, Value: ['HMPREF0693_0570']\n",
      "    Key: product, Value: ['lipase']\n",
      "    Key: protein_id, Value: ['WP_004242549.1']\n",
      "    Key: transl_table, Value: ['11']\n",
      "    Key: translation, Value: ['MSTKYPIVLVHGLAGFNEIVGFPYFYGIADALRQDGHQVFTASLSAFNSNEVRGKQLWQFVQTLLQETQAKKVNFIGHSQGPLACRYVAANYPDSVASVTSINGVNHGSEIADLYRRIMRKDSIPEYIVEKVLNAFGTIISTFSGHRGDPQDAIAALESLTTEQVTEFNNKYPQALPKIPGGEGDEIVNGVHYYCFGSYIQGLIAGEKGNLLDPTHAAMRVLNTFFTEKQNDGLVGRSSMRLGKLIKDDYAQDHIDMVNQVAGLVGYNEDIVAIYTQHAKYLASKQL']\n",
      "\n",
      "type: CDS\n",
      "location: [1063080:1063944](+)\n",
      "qualifiers:\n",
      "    Key: codon_start, Value: ['1']\n",
      "    Key: db_xref, Value: ['GeneID:6803666']\n",
      "    Key: inference, Value: ['EXISTENCE: similar to AA sequence:RefSeq:WP_004242549.1']\n",
      "    Key: locus_tag, Value: ['PMI_RS04850']\n",
      "    Key: note, Value: ['Derived by automated computational analysis using gene prediction method: Protein Homology.']\n",
      "    Key: old_locus_tag, Value: ['PMI0999']\n",
      "    Key: product, Value: ['lipase']\n",
      "    Key: protein_id, Value: ['WP_004247922.1']\n",
      "    Key: transl_table, Value: ['11']\n",
      "    Key: translation, Value: ['MSTKYPIVLVHGLAGFNEIVGFPYFYGIADALRQDGHQVFTASLSAFNSNEVRGKQLWQFVQTLLQETQAKKVNFIGHSQGPLACRYVAANYPDSVASVTSINGVNHGSEIADLYRRIMRKDSIPEYIVEKVLNAFGTIISTFSGHRGDPQDAIAALESLTTEQVTEFNNKYPQALPKTPGGEGDEIVNGVHYYCFGSYIQGLIAGEKGNLLDPTHAAMRVLNTFFTEKQNDGLVGRSSMRLGKLIKDDYAQDHIDMVNQVAGLVGYNEDIVAIYTQHAKYLASKQL']\n",
      "\n"
     ]
    }
   ],
   "source": [
    "# Biopython's SeqIO module handles sequence input/output\n",
    "from Bio import SeqIO\n",
    "\n",
    "def get_cds_feature_with_protein_id(accession, protein_id):\n",
    "    \"\"\"Function to load a GenBank file and look for CDS feature.\"\"\"\n",
    "    # Ask Biopython to parse the GenBank format file \n",
    "    genome_record = SeqIO.read(accession + \".gbk\", \"genbank\")\n",
    "    # print(\"Loaded %s\" % genome_record.description)\n",
    "\n",
    "    # Loop over the features\n",
    "    for feature in genome_record.features:\n",
    "        if feature.type == \"CDS\" and protein_id in feature.qualifiers.get(\"protein_id\", []):\n",
    "            # print(\"Found feature with protein id %s\" % protein_id)\n",
    "            return feature\n",
    "    # Could not find it\n",
    "    return None\n",
    "\n",
    "wildtype_cds = get_cds_feature_with_protein_id(\"NZ_GG668576\", \"WP_004242549.1\")\n",
    "print(wildtype_cds)\n",
    "\n",
    "engineered_cds = get_cds_feature_with_protein_id(\"NC_010554\", \"WP_004247922.1\")\n",
    "print(engineered_cds)"
   ]
  },
  {
   "cell_type": "markdown",
   "metadata": {
    "deletable": true,
    "editable": true
   },
   "source": [
    "Note that because of how we downloaded ``NZ_GG668576.gbk`` and ``NC_010554.gbk`` using NCBI Entrez, the CDS features include the protein translation. You may recall when we looked at these genomes on the NCBI website the translation was not shown."
   ]
  },
  {
   "cell_type": "markdown",
   "metadata": {
    "deletable": true,
    "editable": true
   },
   "source": [
    "### Resources\n",
    "\n",
    "* [Biopython Tutorial and Cookbook](http://biopython.org/DIST/docs/tutorial/Tutorial.html)\n",
    "* [Biopython Tutorial and Cookbook (PDF)](http://biopython.org/DIST/docs/tutorial/Tutorial.pdf)\n",
    "\n",
    " "
   ]
  }
 ],
 "metadata": {
  "kernelspec": {
   "display_name": "Python 3",
   "language": "python",
   "name": "python3"
  },
  "language_info": {
   "codemirror_mode": {
    "name": "ipython",
    "version": 3
   },
   "file_extension": ".py",
   "mimetype": "text/x-python",
   "name": "python",
   "nbconvert_exporter": "python",
   "pygments_lexer": "ipython3",
   "version": "3.6.0"
  }
 },
 "nbformat": 4,
 "nbformat_minor": 2
}
