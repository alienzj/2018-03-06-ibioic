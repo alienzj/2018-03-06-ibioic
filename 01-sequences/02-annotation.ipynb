{
 "cells": [
  {
   "cell_type": "markdown",
   "metadata": {
    "deletable": true,
    "editable": true
   },
   "source": [
    "<img src=\"images/JHI_STRAP_Web.png\" style=\"width: 150px; float: right;\">\n",
    "# 01 - Annotation"
   ]
  },
  {
   "cell_type": "markdown",
   "metadata": {
    "deletable": true,
    "editable": true
   },
   "source": [
    "## Table of Contents\n",
    "\n",
    "1. [Introduction](#introduction)"
   ]
  },
  {
   "cell_type": "markdown",
   "metadata": {
    "deletable": true,
    "editable": true
   },
   "source": [
    "<a id=\"introduction\"></a>\n",
    "## Introduction\n",
    "\n",
    "<div class=\"alert-success\">\n",
    "<b>We'll go from UniProt to the original genomes on the NCBI.</b>\n",
    "</div>\n",
    "\n",
    "We're starting from two forms of a lipase protein available in the UniProt database:\n",
    "\n",
    "* WT: http://www.uniprot.org/uniprot/C2LFD0 from organism *Proteus mirabilis* ATCC 29906\n",
    "* Engineered: http://www.uniprot.org/uniprot/B4EVM3 from organism *Proteus mirabilis* (strain HI4320)\n",
    "\n",
    "UniProt is by design protein centric, and now we'd like to consider the genomic context of the genes encoding these proteins. UniProt has a cross-references section which includes links to *Sequence databases* where we can find the NCBI Reference Sequence (RefSef) database entries for the source genomes.\n",
    "\n",
    "* WT: http://www.uniprot.org/uniprot/C2LFD0 matches NCBI Reference Squence protein [WP_004242549.1](https://www.ncbi.nlm.nih.gov/protein/WP_004242549.1) from [NZ_GG668576.1](https://www.ncbi.nlm.nih.gov/nuccore/NZ_GG668576.1) *Proteus mirabilis* ATCC 29906 SCAFFOLD1, whole genome shotgun sequence\n",
    "* Engineered: http://www.uniprot.org/uniprot/B4EVM3 matches multi-species protein [WP_004247922.1](https://www.ncbi.nlm.nih.gov/protein/WP_004247922.1), but UniProt specifically links to [NC_010554.1](https://www.ncbi.nlm.nih.gov/nuccore/NC_010554.1) *Proteus mirabilis* strain HI4320, complete genome"
   ]
  },
  {
   "cell_type": "markdown",
   "metadata": {
    "deletable": true,
    "editable": true
   },
   "source": [
    "<a id=\"introduction\"></a>\n",
    "## The GenBank format\n",
    "\n",
    "<div class=\"alert-success\">\n",
    "<b>We'll introduce the GenBank file format used by the NCBI to share annotated genomes.</b>\n",
    "</div>\n",
    "\n",
    "Starting with our wild-type protein, clicking on the genome accession [NZ_GG668576.1](https://www.ncbi.nlm.nih.gov/nuccore/NZ_GG668576.1), we can see the whole genome shown as a webpage with clickable links based on the plain text GenBank format.\n",
    "\n",
    "GenBank format is intended to be human readable, and is a widely used file format for annotated genomes. The related EMBL file format used in the European sequence database which mirrors the NCBI sequence database shares the same INSDC feature table design.\n",
    "\n",
    "With bacterial genomes, for each annotated gene you expect to see a pair of features - a ``gene`` immediately followed by a ``CDS`` entry for the coding sequence, using the same location co-ordindates. With eukaryotes in addition there is usually an ``mRNA`` entry, and the CDS location is more complicated in order to describe only the exons which make up the coding sequence.\n",
    "\n",
    "Within [NZ_GG668576.1](https://www.ncbi.nlm.nih.gov/nuccore/NZ_GG668576.1) using the browser's search we can find the NCBI's protein identifier ``WP_004242549.1`` to look at the gene annotation:\n",
    "\n",
    "```\n",
    "     gene            46146..47009\n",
    "                     /locus_tag=\"HMPREF0693_RS00250\"\n",
    "                     /old_locus_tag=\"HMPREF0693_0570\"\n",
    "     CDS             46146..47009\n",
    "                     /locus_tag=\"HMPREF0693_RS00250\"\n",
    "                     /old_locus_tag=\"HMPREF0693_0570\"\n",
    "                     /inference=\"COORDINATES: similar to AA\n",
    "                     sequence:RefSeq:WP_004242549.1\"\n",
    "                     /note=\"Derived by automated computational analysis using\n",
    "                     gene prediction method: Protein Homology.\"\n",
    "                     /codon_start=1\n",
    "                     /transl_table=11\n",
    "                     /product=\"lipase\"\n",
    "                     /protein_id=\"WP_004242549.1\"\n",
    "```\n",
    "\n",
    "Likewise for our engineered protein, click on its genome accession [NC_010554.1](https://www.ncbi.nlm.nih.gov/nuccore/NC_010554.1) and find the matching NCBI protein identifier ``WP_004247922.1``:\n",
    "\n",
    "```\n",
    "     gene            1063081..1063944\n",
    "                     /locus_tag=\"PMI_RS04850\"\n",
    "                     /old_locus_tag=\"PMI0999\"\n",
    "                     /db_xref=\"GeneID:6803666\"\n",
    "     CDS             1063081..1063944\n",
    "                     /locus_tag=\"PMI_RS04850\"\n",
    "                     /old_locus_tag=\"PMI0999\"\n",
    "                     /inference=\"EXISTENCE: similar to AA\n",
    "                     sequence:RefSeq:WP_004242549.1\"\n",
    "                     /note=\"Derived by automated computational analysis using\n",
    "                     gene prediction method: Protein Homology.\"\n",
    "                     /codon_start=1\n",
    "                     /transl_table=11\n",
    "                     /product=\"lipase\"\n",
    "                     /protein_id=\"WP_004247922.1\"\n",
    "                     /db_xref=\"GeneID:6803666\"\n",
    "```\n",
    "\n",
    "We're going to work more with these GenBank files, so let's download them."
   ]
  },
  {
   "cell_type": "markdown",
   "metadata": {
    "deletable": true,
    "editable": true
   },
   "source": [
    "## Downloading GenBank files\n",
    "\n",
    "You *could* download the two GenBank files we want via the NCBI website, but it takes a lot of manual steps. Currently you would start with the \"send\" menu to the top right of screen, picking \"Complete Record\", destination \"File\", and format \"GenBank (full)\". Save the two files as ``NZ_GG668576.gbk`` and ``NC_010554.gbk`` respectively.\n",
    "\n",
    "![NCBI menu to send a record to file in GenBank format](./images/ncbi_send_to_file_genbank_full.png)\n",
    "\n",
    "If you accidently use format \"GenBank\", then with these examples you'll get a much smaller file missing all the features and sequence data. Also, depending on your browser's settings, the file may be saved with a default name like ``sequence.gb.txt`` in your downloads folder, which means you'd have to move the file to the working folder and rename it.\n",
    "\n",
    "Thankfully the NCBI provide a way to automate this, which they call the [NCBI Entrez Programming Utilities](https://www.ncbi.nlm.nih.gov/books/NBK25497/). This can be used from many different programming languages, but we will use it from Python using the Biopython wrapper ``Bio.Entrez`` to help."
   ]
  },
  {
   "cell_type": "code",
   "execution_count": null,
   "metadata": {
    "collapsed": false,
    "deletable": true,
    "editable": true
   },
   "outputs": [],
   "source": [
    "# Biopython's module to access the NCBI Entrez Programming Utilities\n",
    "from Bio import Entrez\n",
    "\n",
    "# The NCBI likes to know who is using their services in case of problems,\n",
    "Entrez.email = \"your.name.here@example.org\"\n",
    "\n",
    "for accession in (\"NZ_GG668576\", \"NC_010554\"):\n",
    "    print(\"Fetching %s from NCBI...\" % accession)\n",
    "    # Return type \"gbwithparts\" matches \"GenBank (full)\" on the website\n",
    "    fetch_handle = Entrez.efetch(\"nuccore\", id=accession, rettype=\"gbwithparts\", retmode=\"text\")\n",
    "    with open(accession + \".gbk\", \"w\") as output_handle:\n",
    "        output_handle.write(fetch_handle.read())\n",
    "    print(\"Saved %s.gbk\" % accession)\n",
    "              "
   ]
  },
  {
   "cell_type": "markdown",
   "metadata": {
    "deletable": true,
    "editable": true
   },
   "source": [
    "If you open ``NZ_GG668576.gbk`` and ``NC_010554.gbk`` in a text editor, or simply view them at the command line using ``more``, it should look like the NCBI website's content."
   ]
  },
  {
   "cell_type": "markdown",
   "metadata": {
    "deletable": true,
    "editable": true
   },
   "source": [
    "### Genomic context\n",
    "\n",
    "You can look directly at the GenBank file see what genes or other features are annotated nearby, and deduce if these genes are part of a gene locus etc. However, this is much easier to see graphically.\n",
    "\n",
    "You might have noticed on the NCBI website display that in the second case (``WP_004247922.1`` for our engineered protein) these feature have a clickable NCBI GeneID, [GeneID:6803666](https://www.ncbi.nlm.nih.gov/sites/entrez?db=gene&cmd=Retrieve&dopt=full_report&list_uids=6803666) - that will show you the gene on the *Proteus mirabilis* strain HI4320 genome visually.\n",
    "\n",
    "![Genomic context for GeneID:6803666](./images/genome_context_GeneID_6803666.png)\n",
    "\n",
    "Frustratingly for our wild type protein there does not seem to be a matching NCBI gene database entry, so we need another way to vizualise the genomic context.\n",
    "\n",
    "For this we will open the downloaded GenBank plain text files in the [Sanger Institute's tool Artemis](http://www.sanger.ac.uk/science/tools/artemis), which is able to view and edit annotation files."
   ]
  },
  {
   "cell_type": "code",
   "execution_count": null,
   "metadata": {
    "collapsed": false,
    "deletable": true,
    "editable": true
   },
   "outputs": [],
   "source": [
    "%%bash\n",
    "art NZ_GG668576.gbk &"
   ]
  },
  {
   "cell_type": "markdown",
   "metadata": {},
   "source": [
    "Artemis is a graphical tool written in Java, and should pop up a separate window from this Notebook - or from your terminal window if you run it directly at the command line. After a couple of harmless warnings, you should get a window like this:\n",
    "\n",
    "![Artemis with NZ_GG668576.gbk loaded](images/artemis_NZ_GG668576_default.png)\n",
    "\n",
    "The main window should have three regions,\n",
    "- Zoomed out view (showing genes as coloured bars)\n",
    "- Zoomed in view (showing individual bases and translated reading frames)\n",
    "- List of features\n",
    "\n",
    "Using the menu entry \"Goto\", \"Navigator...\" (or by pressing Ctrl+g) tell Artemis to goto feature with the qualifier value ``WP_004242549.1`` (the NCBI protein ID), and you should see something like this:\n",
    "\n",
    "![Artemis with NZ_GG668576.gbk loaded showing WP_004242549.1](images/artemis_NZ_GG668576_goto.png)\n",
    "\n",
    "You should notice how one of the pale blue CDS features has been highlighted with black. Also notice that just to the right of our gene there is a gap region (a run of ``NNN...``) reflecting difficulties in the assembly of this genome.\n",
    "\n",
    "You can open and view ``NC_010554.gbk`` in the same way and jump to ``WP_004247922.1``, giving:\n",
    "\n",
    "![Artemis with NZ_GG668576.gbk loaded showing WP_004247922.1](images/artemis_NC_010554_goto.png)\n",
    "\n",
    "Interestingly the local gene context looks similar, but here to the right of our gene there is a repeat region marked (shown in steel blue). Repeatetive genomic regions are hard to assembly, so this is seems consistent with the other genome."
   ]
  },
  {
   "cell_type": "markdown",
   "metadata": {
    "deletable": true,
    "editable": true
   },
   "source": [
    "### Resources\n",
    "\n",
    "* [UniProt webpage](http://www.uniprot.org/uniprot/)\n",
    "* [NCBI page about RefSeq non-redundant proteins](https://www.ncbi.nlm.nih.gov/refseq/about/nonredundantproteins/)\n",
    "* [NCBI Entrez Programming Utilities](https://www.ncbi.nlm.nih.gov/books/NBK25497/)\n",
    "* [Sanger Institute's tool Artemis](http://www.sanger.ac.uk/science/tools/artemis)\n",
    " "
   ]
  }
 ],
 "metadata": {
  "kernelspec": {
   "display_name": "Python 3",
   "language": "python",
   "name": "python3"
  },
  "language_info": {
   "codemirror_mode": {
    "name": "ipython",
    "version": 3
   },
   "file_extension": ".py",
   "mimetype": "text/x-python",
   "name": "python",
   "nbconvert_exporter": "python",
   "pygments_lexer": "ipython3",
   "version": "3.6.0"
  }
 },
 "nbformat": 4,
 "nbformat_minor": 2
}
