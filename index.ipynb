{
 "cells": [
  {
   "cell_type": "markdown",
   "metadata": {
    "deletable": true,
    "editable": true
   },
   "source": [
    "<img src=\"images/JHI_STRAP_Web.png\" style=\"width: 150px; float: right;\">\n",
    "# IBioIC Introduction to Bioinformatics\n",
    "\n",
    "This repository contains files in support of the IBioIC Introduction to Bioinformatics course, run by members of the [Information and Computational Sciences](https://ics.hutton.ac.uk/) group at the [James Hutton Institute](http://www.hutton.ac.uk/), and presented at the University of Strathclyde, Glasgow, in March 2017.\n",
    "\n",
    "* Course website\n",
    "\n",
    "<br><div class=\"alert-warning\">\n",
    "<b>Run course notebooks in your browser</b>\n",
    "</div></br>\n",
    "\n",
    "Many of the course materials are designed to be compatible with [`MyBinder`](http://mybinder.org:/repo/widdowquinn/teaching-ibioic-intro-to-bioinformatics). To start an instance of this repository in your browser and run Python and other exercises remotely in the cloud, click on the badge below.\n",
    "\n",
    "[![Binder](http://mybinder.org/badge.svg)](http://mybinder.org:/repo/widdowquinn/teaching-ibioic-intro-to-bioinformatics)"
   ]
  },
  {
   "cell_type": "markdown",
   "metadata": {
    "deletable": true,
    "editable": true
   },
   "source": [
    "## Course Sections"
   ]
  },
  {
   "cell_type": "markdown",
   "metadata": {
    "deletable": true,
    "editable": true
   },
   "source": [
    "### 1. Sequences\n",
    "\n",
    "#### Lessons\n",
    "\n",
    "* [01. Introduction (`browser`)](01-sequences/01-introduction.ipynb) - <font color='green'><b>introductory</b></font>\n",
    "* [02. Annotation (`notebook`)](01-sequences/02-annotation.ipynb) - <font color='green'><b>introductory</b></font>\n",
    "* [03. Parsing (`notebook`)](01-sequences/03-parsing.ipynb) - <font color='orange'><b>intermediate</b></font>\n",
    "\n",
    "\n",
    "#### Learning Outcomes\n",
    "\n",
    "* Familiarity with FASTA file format\n",
    "* Familiarity with GenBank file format"
   ]
  },
  {
   "cell_type": "markdown",
   "metadata": {
    "deletable": true,
    "editable": true
   },
   "source": [
    "### 2. Mining Public Databases\n",
    "\n",
    "#### Lessons\n",
    "\n",
    "* [01. `BLAST+` at NCBI (`browser`)](02-sequence_databases/01-blast_at_NCBI_website.ipynb) - <font color='green'><b>introductory</b></font>\n",
    "* [02. `BLAST+` at the terminal (`terminal`)](02-sequence_databases/02-blast_at_terminal.ipynb) - <font color='green'><b>introductory</b></font>\n",
    "* [03. Programming for local `BLAST` searches (`notebook`)](02-sequence_databases/03-programming_for_blast.ipynb) - <font color='orange'><b>intermediate</b></font>\n",
    "* [04. Using NCBI `BLAST+` service with Python (`notebook`)](02-sequence_databases/04-programming_for_web_blast.ipynb) - <font color='orange'><b>intermediate</b></font>\n",
    "* [05.  Reciprocal `BLAST` Hits (RBH) (`notebook`)](02-sequence_databases/05-blast_for_rbh.ipynb) - <font color='red'><b>advanced</b></font>\n",
    "* [06.  `UniProt` (`browser`)](02-sequence_databases/06-uniprot_browser.ipynb) - <font color='green'><b>introductory</b></font>\n",
    "* [07.  Programming for `UniProt` (`notebook`)](02-sequence_databases/07-uniprot_programming.ipynb) - <font color='orange'><b>intermediate</b></font>\n",
    "* [08.  `KEGG` (`browser`)](02-sequence_databases/08-kegg_browser.ipynb) - <font color='green'><b>introductory</b></font>\n",
    "* [09.  Programming for `KEGG` (`notebook`)](02-sequence_databases/09-kegg_programming.ipynb) - <font color='orange'><b>intermediate</b></font>\n",
    "* [10.  `Ensembl` (`browser`)](02-sequence_databases/10-ensembl_browser.ipynb) - <font color='green'><b>introductory</b></font>\n",
    "\n",
    "\n",
    "#### Learning Outcomes\n",
    "\n",
    "* Programmatic control of common bioinformatics tools\n",
    "* Programmatic querying of online bioinformatics resources\n",
    "* Analysis of bioinformatics tool output with `pandas`\n",
    "* Visualisation of bioinformatics tool output with `biopython` and `seaborn`\n",
    "* Interpretation of bioinformatics tool output"
   ]
  },
  {
   "cell_type": "markdown",
   "metadata": {},
   "source": [
    "### 3. Worked Example\n",
    "\n",
    "#### Lessons\n",
    "\n",
    "* [00. Challenge (`notebook`/`browser`)](03-lipases/00-challenge.ipynb) - <font color='green'><b>introductory</b></font>/<font color='orange'><b>intermediate</b></font>\n",
    "\n",
    "#### Learning Outcomes\n",
    "\n",
    "* The importance of reproducible research\n",
    "* Production of reproducible, runnable analysis notebooks\n",
    "* Integration of bionformatics tools and resources to generate a report on a real-world example.\n",
    "* Revision of concepts and tools from sections 1 and 2."
   ]
  },
  {
   "cell_type": "markdown",
   "metadata": {},
   "source": [
    "### 4. Structural Bioinformatics\n",
    "\n",
    "#### Lessons\n",
    "\n",
    "* [01. RCSB (`browser`)](04-structure/04Structure-01.ipynb) - <font color='green'><b>introductory</b></font>\n",
    "* [02. Web-based visualisation (`browser`)](04-structure/04Structure-02.ipynb) - <font color='green'><b>introductory</b></font>\n",
    "* [03. JMol visualisation (`terminal`)](04-structure/04Structure-03.ipynb) - <font color='green'><b>intermediate</b></font>\n",
    "* [04. Structure comparisons (`browser`)](04-structure/04Structure-04.ipynb) - <font color='green'><b>introductory</b></font>\n",
    "* [04. Structure prediction (`browser`)](04-structure/04Structure-05.ipynb) - <font color='green'><b>introductory</b></font>\n",
    "\n",
    "\n",
    "#### Learning Outcomes\n",
    "\n",
    "* Obtaining representative structures from public databases\n",
    "* Visualisation and interpretation of protein structure\n",
    "* Scripting structure visualisation tools to generate images for publication\n",
    "* Comparison of protein structures to make functional inferences\n",
    "* Predicting protein structure from sequence"
   ]
  },
  {
   "cell_type": "markdown",
   "metadata": {
    "collapsed": true,
    "deletable": true,
    "editable": true
   },
   "source": [
    "## About the authors and tutors\n",
    "\n",
    "* [Peter Cock](http://www.hutton.ac.uk/staff/peter-cock) is a computational biologist at the [James Hutton Institute](http://www.hutton.ac.uk/), and lead developer for [Biopython](http://biopython.org/wiki/Documentation). He works largely with nematodes and viruses.\n",
    "* [Sue Jones](http://www.hutton.ac.uk/staff/sue-jones) is a computational biologist at the [James Hutton Institute](http://www.hutton.ac.uk/), with interests in functional genomics, transcriptional regulation, and viruses.\n",
    "* [Leighton Pritchard](http://www.hutton.ac.uk/staff/leighton-pritchard) is a computational biologist at the [James Hutton Institute](http://www.hutton.ac.uk/), with particular interests in host-microbe interactions, and systems and synthetic biology."
   ]
  },
  {
   "cell_type": "code",
   "execution_count": null,
   "metadata": {
    "collapsed": true,
    "deletable": true,
    "editable": true
   },
   "outputs": [],
   "source": []
  }
 ],
 "metadata": {
  "kernelspec": {
   "display_name": "Python 3",
   "language": "python",
   "name": "python3"
  },
  "language_info": {
   "codemirror_mode": {
    "name": "ipython",
    "version": 3
   },
   "file_extension": ".py",
   "mimetype": "text/x-python",
   "name": "python",
   "nbconvert_exporter": "python",
   "pygments_lexer": "ipython3",
   "version": "3.6.0"
  }
 },
 "nbformat": 4,
 "nbformat_minor": 2
}
