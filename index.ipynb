{
 "cells": [
  {
   "cell_type": "markdown",
   "metadata": {},
   "source": [
    "# IBioIC Introduction to Bioinformatics\n",
    "\n",
    "This repository contains files in support of the IBioIC Introduction to Bioinformatics course, run at the University of Strathclyde, Glasgow, in March 2017.\n",
    "\n",
    "* Course website\n",
    "\n",
    "<br><div class=\"alert-warning\">\n",
    "<b>Run course notebooks in your browser</b>\n",
    "</div></br>\n",
    "\n",
    "Many of the course materials are designed to be compatible with [`MyBinder`](http://mybinder.org:/repo/widdowquinn/teaching-ibioic-intro-to-bioinformatics). To start an instance of this repository in your browser, click on the badge below.\n",
    "\n",
    "[![Binder](http://mybinder.org/badge.svg)](http://mybinder.org:/repo/widdowquinn/teaching-ibioic-intro-to-bioinformatics)"
   ]
  },
  {
   "cell_type": "markdown",
   "metadata": {},
   "source": [
    "## Course Sections"
   ]
  },
  {
   "cell_type": "markdown",
   "metadata": {},
   "source": [
    "### 2. Mining Public Databases\n",
    "\n",
    "#### Notebooks\n",
    "\n",
    "* [01. Programming for `BLAST`](02-sequence_databases/01-programming_for_blast.ipynb)\n",
    "\n",
    "#### Learning Outcomes\n",
    "\n",
    "* Programmatic control of common bioinformatics tools\n",
    "* Programmatic querying of online bioinformatics resources\n",
    "* Analysis of bioinformatics tool output with `pandas`\n",
    "* Visualisation of bioinformatics tool output with `biopython` and `seaborn`\n",
    "* Interpretation of bioinformatics tool output"
   ]
  },
  {
   "cell_type": "code",
   "execution_count": null,
   "metadata": {
    "collapsed": true
   },
   "outputs": [],
   "source": []
  }
 ],
 "metadata": {
  "kernelspec": {
   "display_name": "Python 3",
   "language": "python",
   "name": "python3"
  },
  "language_info": {
   "codemirror_mode": {
    "name": "ipython",
    "version": 3
   },
   "file_extension": ".py",
   "mimetype": "text/x-python",
   "name": "python",
   "nbconvert_exporter": "python",
   "pygments_lexer": "ipython3",
   "version": "3.5.2"
  }
 },
 "nbformat": 4,
 "nbformat_minor": 2
}
