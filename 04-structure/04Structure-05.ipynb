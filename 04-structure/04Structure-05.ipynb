{
 "cells": [
  {
   "cell_type": "markdown",
   "metadata": {},
   "source": [
    "<img src=\"../images/JHI_STRAP_Web.png\" style=\"width: 150px; float: right;\">\n",
    "# 05 -  But what if we have no structure, can 3D structure be predicted from sequence?"
   ]
  },
  {
   "cell_type": "markdown",
   "metadata": {},
   "source": [
    "## Table of Contents\n",
    "\n",
    "1. [Introduction](#introduction)\n",
    "2. [Secondary structure prediction](#secondary)\n",
    "3. [Exercise 01](#ex01)\n",
    "2. [Tertiary structure prediction](#tertiary)\n",
    "3. [Exercise 02](#ex01)"
   ]
  },
  {
   "cell_type": "markdown",
   "metadata": {},
   "source": [
    "<a id=\"introduction\"></a>\n",
    "## Introduction\n",
    "\n",
    "The sequence-structure gap is BIG ([77 million sequences](http://www.ebi.ac.uk/uniprot/TrEMBLstats) vs [123K structures](http://www.rcsb.org/pdb/)), so its quite likely that a specific protein of interest has no experimentally solved 3D structure. For such proteins it may be possible to predict the secondary and tertiary structure from the amino acids sequence. There are many different programs designed for structure prediction. In the 2016 [CASP 12](http://www.predictioncenter.org/casp12/index.cgi) (Critical assessement of protein structure prediction) competition (essentially a bake-off for fold prediction programs), more than 100 different programs were tested, all with varing degress of success.\n",
    "\n",
    "\n",
    "In this practical we will make predictions for two small proteins which do not have a known (experimentally solved) 3D structure.\n",
    "\n",
    "| Uniprot ID  | Protein Description | Organism\n",
    "|:------------- |:--------------- |:--------\n",
    "|A6NFH5 | Fatty acid-binding protein| Human|\n",
    "|Q93VI0| DNA-binding protein S1FA3| Arabidopsis|\n",
    "\n",
    "\n",
    "----\n",
    "```\n",
    ">sp|A6NFH5|Fatty acid-binding protein 12 OS=Homo sapiens\n",
    "MIDQLQGTWKSISCENSEDYMKELGIGRASRKLGRLAKPTVTISTDGDVITIKTKSIFKN\n",
    "NEISFKLGEEFEEITPGGHKTKSKVTLDKESLIQVQDWDGKETTITRKLVDGKMVVESTV\n",
    "NSVICTRTYEKVSSNSVSNS\n",
    "\n",
    "```\n",
    "\n",
    "----\n",
    "----\n",
    "```\n",
    ">sp|Q93VI0|DNA-binding protein S1FA3 OS=Arabidopsis thaliana \n",
    "MAAEFDGKIESKGLNPGLIVLLVIGGLLLTFLVGNFILYTYAQKNLPPRKKKPVSKKKMK\n",
    "KEKMKQGVQVPGE\n",
    "```\n",
    "\n",
    "----\n",
    "\n",
    "This [list](http://bip.weizmann.ac.il/toolbox/structure/3d.htm) provides a good summary of the many tools available for structure prediction. For this practical we will use tools that are relatively quick to give results. These might not be the 'best' tools but they will give you a feel for how such tools work. \n",
    "\n",
    "In this practical we will \n",
    "\n",
    "1. predict the secondary structure of the proteins using [Jpred4](http://www.compbio.dundee.ac.uk/jpred4/index.html) and [NetSurfP](http://www.cbs.dtu.dk/services/NetSurfP-1.1/)\n",
    "2. predict the 3D structure of the protein using [SWISS-MODEL](https://swissmodel.expasy.org/)."
   ]
  },
  {
   "cell_type": "markdown",
   "metadata": {},
   "source": [
    "<a id=\"secondary\"></a>\n",
    "## Secondary structure prediction\n",
    "\n",
    "* [Jpred4](http://www.compbio.dundee.ac.uk/jpred4) is a web-based protein secondary structure and solvent accessibility prediction server based on the JNet algorithm (that users a neural network) with a published three-state (helix,strand, coil) prediction accuracy of 82%  [Drozdetskiy et al., 2015](https://doi.org/10.1093/nar/gkv332) \n",
    "\n",
    "* [NetSurfP](http://www.cbs.dtu.dk/services/NetSurfP-1.1/) is a server that predicts the surface accessibility and secondary structure of an amino acid sequence using a neural network [Petersen et al., 2009](https://doi.org/10.1186/1472-6807-9-51)"
   ]
  },
  {
   "cell_type": "markdown",
   "metadata": {},
   "source": [
    "<a id=\"ex01\"></a>\n",
    "<img src=\"./images/exercise.png\" style=\"width: 40px; float: left;\">\n",
    "## Exercise 01: [10 mins] Secondary structure prediction.  \n",
    "\n",
    "Submit each of the sequences A6NFH5 and Q93VI0 to the Jpred and NetSurfP servers and compare the results. \n",
    "\n",
    "<p></p>\n",
    "<div class=\"alert-danger\">\n",
    "<ul>\n",
    "<li> Did Jpred operate in the same way for both structures?\n",
    "<li> What secondary structure elements are predicted for A6NFH5?\n",
    "<li> Are the predictions from each server the same for A6NFH5?\n",
    "<li> What secondary structure elements are predicted for Q93VI0?\n",
    "<li> Are the predictions from each server the same for Q93VI0?\n",
    "</ul>\n",
    "</div>"
   ]
  },
  {
   "cell_type": "markdown",
   "metadata": {
    "deletable": true,
    "editable": true
   },
   "source": [
    "<a id=\"tertiary\"></a>\n",
    "## Tertiary structure prediction\n",
    "\n",
    "Making secondary structure predictions gives us some understanding of the how the proteins might operate in 3D space. But to get a greater understanding of how sequence features influence protein function we need to know how these secondary structure elements fold together in 3D.\n",
    "\n",
    "\n",
    "We will use [SWISS-MODEL](https://swissmodel.expasy.org) which is a fully automated protein structure homology-modelling server to make predictions for our two proteins. \n",
    "\n",
    "<a id=\"ex03\"></a>\n",
    "<img src=\"./images/exercise.png\" style=\"width: 40px; float: left;\">\n",
    "## Exercise 02: [15 mins] Tertiary structure prediction.  \n",
    "\n",
    "Submit each of the above sequences Q93VI0 and A6NFH5 to [SWISS-MODEL](https://swissmodel.expasy.org). \n",
    "\n",
    "<p></p>\n",
    "<div class=\"alert-danger\">\n",
    "<ul>\n",
    "<li> What template is used to model A6NFH5 and what is the sequence similarity?\n",
    "<li> What template is used to model A6NFH5 and what is the sequence similarity?\n",
    "<li> What 3D folds are predicted for each of the sequences?\n",
    "<li> How do you evaluate the accuracy of the models you have built?\n",
    "</ul>\n",
    "</div>\n",
    "\n",
    "If you have more time, explore the use of some of the other prediction servers e.g. \n",
    "\n",
    "* [PSIPRED](http://bioinf.cs.ucl.ac.uk/psipred/): which provides a protein sequence analysis workbench, including secondary structure predictions and fold recognition. \n",
    "\n",
    "* [Phyre2](http://www.sbg.bio.ic.ac.uk/phyre2/): a server for protein modelling and prediction."
   ]
  },
  {
   "cell_type": "code",
   "execution_count": null,
   "metadata": {
    "collapsed": true
   },
   "outputs": [],
   "source": []
  }
 ],
 "metadata": {
  "kernelspec": {
   "display_name": "Python 3",
   "language": "python",
   "name": "python3"
  },
  "language_info": {
   "codemirror_mode": {
    "name": "ipython",
    "version": 3
   },
   "file_extension": ".py",
   "mimetype": "text/x-python",
   "name": "python",
   "nbconvert_exporter": "python",
   "pygments_lexer": "ipython3",
   "version": "3.6.0"
  }
 },
 "nbformat": 4,
 "nbformat_minor": 2
}
