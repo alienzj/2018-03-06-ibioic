{
 "cells": [
  {
   "cell_type": "markdown",
   "metadata": {},
   "source": [
    "<img src=\"../images/JHI_STRAP_Web.png\" style=\"width: 150px; float: right;\">\n",
    "# 04 - Jmol - superimposing multiple structures"
   ]
  },
  {
   "cell_type": "markdown",
   "metadata": {},
   "source": [
    "## Table of Contents\n",
    "\n",
    "1. [Introduction](#introduction)\n",
    "2. [Structure superimposition](#superimposition)"
   ]
  },
  {
   "cell_type": "markdown",
   "metadata": {},
   "source": [
    "<a id=\"introduction\"></a>\n",
    "## Introduction\n",
    "\n",
    "It would be easier to compare the WT and the mutant PML protein structures if we could superimpose them. There are many different programs that can be used to superimpose protein structures to observe differences. It is possible to superimpose protein structures through web-based tools from the RCSB. Here we will use the [FATCAT tool](http://fatcat.sanfordburnham.org/) (accessed via the RCSB database) to superimpose the wild type PML (PDB: 4GW3) and the mutated enzyme Dieselzyme4 (4HS9).\n",
    "\n",
    "We will see how the mutations in region A (G202E, K208N, G266S) and B (G181C, S238C) affect the structure. "
   ]
  },
  {
   "cell_type": "markdown",
   "metadata": {},
   "source": [
    "<a id=\"superimposition\"></a>\n",
    "## Structure superimposition\n",
    "Go to the [Analyse section](http://www.rcsb.org/pdb/home/home.do#Category-analyze) of the RCSB. Enter the PDB IDs of the 2 structures (make sure you enter them in the order First ID: 4gw3, Second ID: 4hs9 (as this influences how we can maniplulate the structures in Jmol using scripts later on). \n",
    "\n",
    "\n",
    "<img src=\"images/RCSB-analyse1.png\">\n",
    "\n",
    "Run the FATCAT rigid superposition. Enter the pdb IDs and select Align.\n",
    "\n",
    "<img src=\"images/RCSB-analyse2.png\">\n",
    "\n",
    "This gives the alignment results in a new webpage with an interactive Jsmol viewer for quick visualization.\n",
    "\n",
    "<img src=\"images/RCSB-analyse3.png\">\n",
    "\n",
    "Download the superimposed structures (in PDB format). Scroll to the bottom of the results page and select\n",
    "\n",
    "<img src=\"images/RCSB-analyse4.png\">\n",
    "\n",
    "This shows the PDB formatted alignment file in a new window and then you can use your webrowser's save-as facility to save the file.\n",
    "\n",
    "<img src=\"images/RCSB-analyse5.png\">\n",
    "\n",
    "Note that the structural alignment is saved as two models in one PDB file, model 1 (4gw3) and model 2 (4hs9)\n",
    "\n",
    "\n",
    "Load the superimposed structures into Jmol (use open file).\n",
    "\n",
    "<img src=\"images/align1.png\">\n",
    "\n",
    "There are two structures in this file and to select each one separately the notation is 1.1 for the first and 1.2 for the second. Before you use the script below we need to activate both models in the Jmol viewer by right clicking and selecting \"All 2 models\" and ticking all. \n",
    "\n",
    "<img src=\"images/align2.png\">\n",
    "\n",
    "\n",
    "Now we can use the script below to highlight the mutated regions. Drag and drop this script into your Jmol script editor window and run it.\n",
    "\n",
    "----\n",
    "```\n",
    "select 1.1\n",
    "colour palegreen\n",
    "cartoons only\n",
    "select 1.2\n",
    "colour lightblue\n",
    "cartoons only\n",
    "select all\n",
    "wireframe\n",
    "select 181/1\n",
    "wireframe 100\n",
    "colour yellow\n",
    "select 181/2\n",
    "wireframe 100\n",
    "colour red\n",
    "select 238/1\n",
    "wireframe 100\n",
    "colour yellow\n",
    "select 238/2\n",
    "wireframe 100\n",
    "colour red\n",
    "select 401/1\n",
    "colour purple\n",
    "spacefill\n",
    "select 203/1,204/1,205/1,206/1,207/1\n",
    "colour yellow\n",
    "select 203/2,204/2,205/2,206/2,207/2\n",
    "colour red\n",
    "```\n",
    "\n",
    "----\n",
    "You will see the two structures superimposed with two mutation regions highlighted.\n",
    "\n",
    "<img src=\"images/align3.png\">\n",
    "\n",
    "\n",
    "To take a closer look at the remodelled loop (residues 200-208), add the following commands to the above script.\n",
    "\n",
    "---\n",
    "```\n",
    "restrict 200-210\n",
    "select 202,208,210\n",
    "wireframe 150\n",
    "```\n",
    "\n",
    "---\n",
    "<img src=\"images/align4.png\">"
   ]
  },
  {
   "cell_type": "markdown",
   "metadata": {
    "deletable": true,
    "editable": true
   },
   "source": [
    "<div class=\"alert-warning\">\n",
    "<b>QUESTIONS</b>\n",
    "<ol>\n",
    "<li> How might the disulphide bond introduced by the G181C/S238C mutations make the structure more thermo stable?\n",
    "<li> How might the remodelling of the loop region caused by the G202E,K208N,G266S mutations influence the effects of methanol?\n",
    "</ol>\n",
    "</div>"
   ]
  },
  {
   "cell_type": "code",
   "execution_count": null,
   "metadata": {
    "collapsed": true
   },
   "outputs": [],
   "source": []
  }
 ],
 "metadata": {
  "kernelspec": {
   "display_name": "Python 3",
   "language": "python",
   "name": "python3"
  },
  "language_info": {
   "codemirror_mode": {
    "name": "ipython",
    "version": 3
   },
   "file_extension": ".py",
   "mimetype": "text/x-python",
   "name": "python",
   "nbconvert_exporter": "python",
   "pygments_lexer": "ipython3",
   "version": "3.6.0"
  }
 },
 "nbformat": 4,
 "nbformat_minor": 2
}
