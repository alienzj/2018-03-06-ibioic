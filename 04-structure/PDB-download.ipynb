{
 "cells": [
  {
   "cell_type": "code",
   "execution_count": 34,
   "metadata": {
    "collapsed": false
   },
   "outputs": [
    {
     "name": "stderr",
     "output_type": "stream",
     "text": [
      "WARNING: The default download format has changed from PDB to PDBx/mmCif\n"
     ]
    },
    {
     "name": "stdout",
     "output_type": "stream",
     "text": [
      "Downloading PDB structure '4GW3'...\n"
     ]
    },
    {
     "data": {
      "text/plain": [
       "'pdb-files/4gw3.cif'"
      ]
     },
     "execution_count": 34,
     "metadata": {},
     "output_type": "execute_result"
    }
   ],
   "source": [
    "#Retrieve single pdb file\n",
    "import Bio\n",
    "from Bio.PDB import PDBList\n",
    "\n",
    "pdbl.retrieve_pdb_file(\"4GW3\", pdir='pdb-files')\n"
   ]
  },
  {
   "cell_type": "code",
   "execution_count": 25,
   "metadata": {
    "collapsed": false
   },
   "outputs": [
    {
     "name": "stdout",
     "output_type": "stream",
     "text": [
      "Structure exists: 'PDB/4gw3.cif' \n",
      "Structure exists: 'PDB/4hs9.cif' \n"
     ]
    },
    {
     "name": "stderr",
     "output_type": "stream",
     "text": [
      "WARNING: The default download format has changed from PDB to PDBx/mmCif\n",
      "WARNING: The default download format has changed from PDB to PDBx/mmCif\n"
     ]
    }
   ],
   "source": [
    "#Retrieve a list of PDB files\n",
    "import Bio\n",
    "from Bio.PDB import PDBList\n",
    "\n",
    "PDBs=['4GW3','4HS9']\n",
    "pdbl=PDBList()\n",
    "for i in PDBs:\n",
    "    pdbl.retrieve_pdb_file(i,pdir='PDB')"
   ]
  },
  {
   "cell_type": "code",
   "execution_count": 119,
   "metadata": {
    "collapsed": false
   },
   "outputs": [
    {
     "ename": "SyntaxError",
     "evalue": "EOL while scanning string literal (<ipython-input-119-dc657221d80b>, line 13)",
     "output_type": "error",
     "traceback": [
      "\u001b[0;36m  File \u001b[0;32m\"<ipython-input-119-dc657221d80b>\"\u001b[0;36m, line \u001b[0;32m13\u001b[0m\n\u001b[0;31m    s = 'The value of x is ' ' '+ resol'\u001b[0m\n\u001b[0m                                        ^\u001b[0m\n\u001b[0;31mSyntaxError\u001b[0m\u001b[0;31m:\u001b[0m EOL while scanning string literal\n"
     ]
    }
   ],
   "source": [
    "import Bio\n",
    "#from Bio.PDB.MMCIFParser import MMCIFParser\n",
    "from Bio.PDB.MMCIF2Dict import MMCIF2Dict\n",
    "import numpy as np\n",
    "\n",
    "pdbl.retrieve_pdb_file(\"4GW3\", pdir='PDB')\n",
    "mmcif_dict=MMCIF2Dict(\"PDB/4GW3.cif\")\n",
    "\n",
    "\n",
    "exp =mmcif_dict['_exptl.method']\n",
    "resol=mmcif_dict['_reflns.d_resolution_high']\n",
    "\n",
    "print(resol)\n",
    "\n",
    "\n",
    "\n",
    "x_list = mmcif_dict['_atom_site.Cartn_x']\n",
    "y_list = mmcif_dict['_atom_site.Cartn_y']\n",
    "z_list = mmcif_dict['_atom_site.Cartn_z']\n",
    "atom_list = mmcif_dict['_atom_site.auth_atom_id']\n",
    "chain_list= mmcif_dict['_atom_site.auth_asym_id']\n",
    "res_list= mmcif_dict['_atom_site.auth_comp_id']\n",
    "atom_no_list= mmcif_dict['_atom_site.id']\n",
    "res_no_list= mmcif_dict['_atom_site.auth_seq_id']\n",
    "\n",
    "\n",
    "i=0\n",
    "x=0\n",
    "\n",
    "while i < len(y_list):\n",
    "    if (res_list[i]==\"CA\"and res_no_list[i] ==\"401\"): \n",
    "        print(res_list[i], atom_list[i], x_list[i], y_list[i], z_list[i], atom_no_list[i], res_no_list[i])\n",
    "        xa= x_list[i]\n",
    "        ya= y_list[i]\n",
    "        za= z_list[i]\n",
    "    if (res_list[i]==\"ALA\" and res_no_list[i]==\"217\" and atom_list[i]==\"CA\"):\n",
    "        print(res_list[i], atom_list[i], y_list[i], atom_no_list[i], res_no_list[i])\n",
    "        xb= x_list[i]\n",
    "        yb= y_list[i]\n",
    "        zb= z_list[i]           \n",
    "    i += 1\n",
    "\n",
    "a=np.array((xa, ya, za),dtype=float)\n",
    "b=np.array((xb, yb, zb),dtype=float)\n",
    "print(a)\n",
    "\n",
    "dist=np.linalg.norm(a-b)\n",
    "print(dist)\n",
    "    \n",
    "#print(\"There are %d CA atoms\", % x)\n",
    "\n",
    "\n"
   ]
  },
  {
   "cell_type": "code",
   "execution_count": null,
   "metadata": {
    "collapsed": true
   },
   "outputs": [],
   "source": [
    "import math\n",
    "def distance(c1, c2):\n",
    "    x_dist = (c1[0] - c2[0])**2\n",
    "    y_dist = (c1[1] - c2[1])**2\n",
    "    z_dist = (c1[2] - c2[2])**2\n",
    "    return math.sqrt(x_dist + y_dist + z_dist)\n",
    "\n",
    "import numpy as np\n",
    "distance = np.linalg.norm(np.array(a.coord) - np.array(b.coord))\n",
    "\n",
    "MMTFParser reads the coordinates as a list (init_atom(str(atom_name), [x, y, z] ..., line 53), unlike PDBParser which reads the coordinates as a Numpy array (coord = numpy.array((x, y, z), \"f\"), line 187).\n",
    "\n",
    "In order to get the distance you can convert the coordinate lists to a Numpy array and then calculate the distance.\n",
    "\n",
    "import numpy as np\n",
    "distance = np.linalg.norm(np.array(a.coord) - np.array(b.coord))"
   ]
  },
  {
   "cell_type": "code",
   "execution_count": 95,
   "metadata": {
    "collapsed": false
   },
   "outputs": [
    {
     "ename": "KeyError",
     "evalue": "(' ', 1, ' ')",
     "output_type": "error",
     "traceback": [
      "\u001b[0;31m---------------------------------------------------------------------------\u001b[0m",
      "\u001b[0;31mKeyError\u001b[0m                                  Traceback (most recent call last)",
      "\u001b[0;32m<ipython-input-95-8898f2afa951>\u001b[0m in \u001b[0;36m<module>\u001b[0;34m()\u001b[0m\n\u001b[1;32m      6\u001b[0m \u001b[0mmodel\u001b[0m \u001b[0;34m=\u001b[0m \u001b[0mstructure\u001b[0m\u001b[0;34m[\u001b[0m\u001b[0;36m0\u001b[0m\u001b[0;34m]\u001b[0m\u001b[0;34m\u001b[0m\u001b[0m\n\u001b[1;32m      7\u001b[0m \u001b[0mchain\u001b[0m \u001b[0;34m=\u001b[0m \u001b[0mmodel\u001b[0m\u001b[0;34m[\u001b[0m\u001b[0;34m'A'\u001b[0m\u001b[0;34m]\u001b[0m\u001b[0;34m\u001b[0m\u001b[0m\n\u001b[0;32m----> 8\u001b[0;31m \u001b[0mresidue1\u001b[0m \u001b[0;34m=\u001b[0m \u001b[0mchain\u001b[0m\u001b[0;34m[\u001b[0m\u001b[0;36m1\u001b[0m\u001b[0;34m]\u001b[0m\u001b[0;34m\u001b[0m\u001b[0m\n\u001b[0m\u001b[1;32m      9\u001b[0m \u001b[0mresidue2\u001b[0m \u001b[0;34m=\u001b[0m \u001b[0mchain\u001b[0m\u001b[0;34m[\u001b[0m\u001b[0;36m2\u001b[0m\u001b[0;34m]\u001b[0m\u001b[0;34m\u001b[0m\u001b[0m\n\u001b[1;32m     10\u001b[0m \u001b[0matom1\u001b[0m \u001b[0;34m=\u001b[0m \u001b[0mresidue1\u001b[0m\u001b[0;34m[\u001b[0m\u001b[0;34m'CA'\u001b[0m\u001b[0;34m]\u001b[0m\u001b[0;34m\u001b[0m\u001b[0m\n",
      "\u001b[0;32m/Applications/anaconda/lib/python3.6/site-packages/Bio/PDB/Chain.py\u001b[0m in \u001b[0;36m__getitem__\u001b[0;34m(self, id)\u001b[0m\n\u001b[1;32m     72\u001b[0m         \"\"\"\n\u001b[1;32m     73\u001b[0m         \u001b[0mid\u001b[0m \u001b[0;34m=\u001b[0m \u001b[0mself\u001b[0m\u001b[0;34m.\u001b[0m\u001b[0m_translate_id\u001b[0m\u001b[0;34m(\u001b[0m\u001b[0mid\u001b[0m\u001b[0;34m)\u001b[0m\u001b[0;34m\u001b[0m\u001b[0m\n\u001b[0;32m---> 74\u001b[0;31m         \u001b[0;32mreturn\u001b[0m \u001b[0mEntity\u001b[0m\u001b[0;34m.\u001b[0m\u001b[0m__getitem__\u001b[0m\u001b[0;34m(\u001b[0m\u001b[0mself\u001b[0m\u001b[0;34m,\u001b[0m \u001b[0mid\u001b[0m\u001b[0;34m)\u001b[0m\u001b[0;34m\u001b[0m\u001b[0m\n\u001b[0m\u001b[1;32m     75\u001b[0m \u001b[0;34m\u001b[0m\u001b[0m\n\u001b[1;32m     76\u001b[0m     \u001b[0;32mdef\u001b[0m \u001b[0m__contains__\u001b[0m\u001b[0;34m(\u001b[0m\u001b[0mself\u001b[0m\u001b[0;34m,\u001b[0m \u001b[0mid\u001b[0m\u001b[0;34m)\u001b[0m\u001b[0;34m:\u001b[0m\u001b[0;34m\u001b[0m\u001b[0m\n",
      "\u001b[0;32m/Applications/anaconda/lib/python3.6/site-packages/Bio/PDB/Entity.py\u001b[0m in \u001b[0;36m__getitem__\u001b[0;34m(self, id)\u001b[0m\n\u001b[1;32m     38\u001b[0m     \u001b[0;32mdef\u001b[0m \u001b[0m__getitem__\u001b[0m\u001b[0;34m(\u001b[0m\u001b[0mself\u001b[0m\u001b[0;34m,\u001b[0m \u001b[0mid\u001b[0m\u001b[0;34m)\u001b[0m\u001b[0;34m:\u001b[0m\u001b[0;34m\u001b[0m\u001b[0m\n\u001b[1;32m     39\u001b[0m         \u001b[0;34m\"\"\"Return the child with given id.\"\"\"\u001b[0m\u001b[0;34m\u001b[0m\u001b[0m\n\u001b[0;32m---> 40\u001b[0;31m         \u001b[0;32mreturn\u001b[0m \u001b[0mself\u001b[0m\u001b[0;34m.\u001b[0m\u001b[0mchild_dict\u001b[0m\u001b[0;34m[\u001b[0m\u001b[0mid\u001b[0m\u001b[0;34m]\u001b[0m\u001b[0;34m\u001b[0m\u001b[0m\n\u001b[0m\u001b[1;32m     41\u001b[0m \u001b[0;34m\u001b[0m\u001b[0m\n\u001b[1;32m     42\u001b[0m     \u001b[0;32mdef\u001b[0m \u001b[0m__delitem__\u001b[0m\u001b[0;34m(\u001b[0m\u001b[0mself\u001b[0m\u001b[0;34m,\u001b[0m \u001b[0mid\u001b[0m\u001b[0;34m)\u001b[0m\u001b[0;34m:\u001b[0m\u001b[0;34m\u001b[0m\u001b[0m\n",
      "\u001b[0;31mKeyError\u001b[0m: (' ', 1, ' ')"
     ]
    }
   ],
   "source": [
    "from Bio import PDB\n",
    "parser = PDB.PDBParser()\n",
    "\n",
    "pdb1 ='4gw3.pdb' \n",
    "structure = parser.get_structure(\"4gw3\", pdb1) \n",
    "model = structure[0] \n",
    "chain = model['A'] \n",
    "residue1 = chain[1] \n",
    "residue2 = chain[2]\n",
    "atom1 = residue1['CA'] \n",
    "atom2 = residue2['CA'] \n",
    "\n",
    "print(atom1.coord)\n",
    "\n",
    "distance = atom1-atom2 \n",
    "\n",
    "print(distance)"
   ]
  },
  {
   "cell_type": "markdown",
   "metadata": {},
   "source": [
    "Plan: download mcif files - wildtype and mutated liapse\n",
    "extract and print key facts: e.g. experimetal type and resolution\n",
    "count how many calcium ions in strcuture\n",
    "calculate distance between ALA 205 (in remodelled loop but not actually muatted) and 217 - carbon in ALA 217\n",
    "\n",
    "\n"
   ]
  }
 ],
 "metadata": {
  "kernelspec": {
   "display_name": "Python 3",
   "language": "python",
   "name": "python3"
  },
  "language_info": {
   "codemirror_mode": {
    "name": "ipython",
    "version": 3
   },
   "file_extension": ".py",
   "mimetype": "text/x-python",
   "name": "python",
   "nbconvert_exporter": "python",
   "pygments_lexer": "ipython3",
   "version": "3.6.0"
  }
 },
 "nbformat": 4,
 "nbformat_minor": 2
}
