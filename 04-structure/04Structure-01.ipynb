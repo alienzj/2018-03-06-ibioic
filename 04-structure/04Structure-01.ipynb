{
 "cells": [
  {
   "cell_type": "markdown",
   "metadata": {},
   "source": [
    "<img src=\"images/JHI_STRAP_Web.png\" style=\"width: 150px; float: right;\">\n",
    "# 01 - Searching in the RSCB for PM lipase structures"
   ]
  },
  {
   "cell_type": "markdown",
   "metadata": {},
   "source": [
    "## Table of Contents\n",
    "\n",
    "1. [Introduction](#introduction)\n",
    "2. [Searching the RCSB](#rcsb)\n",
    "3. [Exercise 01](#ex01)"
   ]
  },
  {
   "cell_type": "markdown",
   "metadata": {},
   "source": [
    "<a id=\"introduction\"></a>\n",
    "## Introduction\n",
    "We will use the RCSB to search for the structures of PMLs and explore  their 3D structures. Its is possible to search the RCSB in a number of ways, including by PBDcode ID and sequence similarity.\n",
    "\n",
    "From the previous session on PML sequences it is possible to find that PDB code ID for the wildtype (WT) PM lipase is 4GW3 (there were cross references to the RCSB from the [Uniprot entry: B4EVM3_PROMH](http://www.uniprot.org/uniprot/B4EVM3))"
   ]
  },
  {
   "cell_type": "markdown",
   "metadata": {},
   "source": [
    "<a id=\"rcsb\"></a>\n",
    "## Searching the RCSB\n",
    "Use the search box at the top of the [RCSB homepage](http://www.rcsb.org/) to search for entry 4GW3.\n",
    "\n",
    "<img src=\"images/PDB-search-box.png\">\n",
    "\n",
    "This shows the \"Structure Summary\" page for [4GW3](http://www.rcsb.org/pdb/explore/explore.do?structureId=4gw3)\n",
    "\n",
    "<img src=\"images/PDB-4GW3.png\">\n",
    "\n",
    "Note the different tabs at the top of the entry which give access to difference types of information about the 4GW3 structure.\n",
    "\n",
    "Using the expanded Macromolecules section of the Structure Summary page, \n",
    "\n",
    "<img src=\"images/expand-domain-view.png\">\n",
    "\n",
    "we see that this structure has one [Pfam](http://pfam.xfam.org/) sequence domain and we will come back to view this domain on the structure later.\n",
    "\n",
    "<img src=\"images/RCSB-4GW3-domain2.png\">"
   ]
  },
  {
   "cell_type": "markdown",
   "metadata": {
    "deletable": true,
    "editable": true
   },
   "source": [
    "<a id=\"ex01\"></a>\n",
    "<img src=\"./images/exercise.png\" style=\"width: 40px; float: left;\">\n",
    "## Exercise 1: [5 mins] \n",
    "Browse the RCSB 4GW3 entry and answer the following questions\n",
    "\n",
    "<div class=\"alert-danger\">\n",
    "<ol>\n",
    "<li> What method has been used to solve the structure of 4GW3 and is the \"quality\" of the structure suitable for analysis of its ligand binding sites?\n",
    "<li> How many amino residues does this PML structure have?\n",
    "<li> What ligands does this PML structure have bound?\n",
    "<li> What is the protein stoichiometry of 4GW3?\n",
    "<li> Which Pfam domain is present in this protein and what residues does it span?\n",
    "<li> What other proteins in the PDB share 95% sequence similarity with 4GW3 and do you think that these proteins have the same structure and function?\n",
    "</div>"
   ]
  },
  {
   "cell_type": "code",
   "execution_count": null,
   "metadata": {
    "collapsed": true
   },
   "outputs": [],
   "source": []
  }
 ],
 "metadata": {
  "kernelspec": {
   "display_name": "Python 3",
   "language": "python",
   "name": "python3"
  },
  "language_info": {
   "codemirror_mode": {
    "name": "ipython",
    "version": 3
   },
   "file_extension": ".py",
   "mimetype": "text/x-python",
   "name": "python",
   "nbconvert_exporter": "python",
   "pygments_lexer": "ipython3",
   "version": "3.6.0"
  }
 },
 "nbformat": 4,
 "nbformat_minor": 2
}
