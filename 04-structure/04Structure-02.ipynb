{
 "cells": [
  {
   "cell_type": "markdown",
   "metadata": {
    "deletable": true,
    "editable": true
   },
   "source": [
    "<img src=\"../images/JHI_STRAP_Web.png\" style=\"width: 150px; float: right;\">\n",
    "# 02 - Visualization of PML structures using a web-based tool (NGL)"
   ]
  },
  {
   "cell_type": "markdown",
   "metadata": {
    "deletable": true,
    "editable": true
   },
   "source": [
    "## Table of Contents\n",
    "\n",
    "1. [Introduction](#introduction)\n",
    "2. [Using NGL](#ngl)\n",
    "3. [Exercise 01](#ex01)"
   ]
  },
  {
   "cell_type": "markdown",
   "metadata": {
    "deletable": true,
    "editable": true
   },
   "source": [
    "<a id=\"introduction\"></a>\n",
    "## Introduction\n",
    "In the first practical (4-01) the sequence similarity tab in RCSB showed the sequence similarity clusters of 4GW3. These clusters showed 4 structures that have 95% sequence identity. \n",
    "<img src=\"images/PML-clust.png\">\n",
    "\n",
    "\n",
    "| RCSB Code  | Structure Description | \n",
    "|:------------- |:--------------- \n",
    "| 4GW3      \t| PML- wild type (WT)   \n",
    "| 4GXN     \t| PML -WT Diethylphosphonate Inhibited                  \n",
    "|4HS9\t\t\t| PML Methonal tolerant mutant      \n",
    "|3W9u \t\t\t| PM Lipk107         \n",
    "\n",
    "We will concentrate on the first 3 structures, as the 4th is poorly annotated and does not have a publication associated with the RCSB entry. Hence it is more uncertain what this structure actually is."
   ]
  },
  {
   "cell_type": "markdown",
   "metadata": {
    "deletable": true,
    "editable": true
   },
   "source": [
    "<a id=\"ngl\"></a>\n",
    "## Using NGL\n",
    "\n",
    "The RCSB uses a number of web-based applications (e.g. JSmol and NGL) to allow visualization of protein structures directly from the website.\n",
    "\n",
    "Click on the [3D View tab]( http://www.rcsb.org/pdb/explore/jmol.do?structureId=4GW3&bionumber=1) at the top of the 4GW3 entry to view the structure. By default it loads the JSmol application, but use the selection box below the structure to use NGL.\n",
    " \n",
    "<img src=\"images/select-NGL.png\">\n",
    " \n",
    "This will load 4GW3 showing the secondary structure. \n",
    " \n",
    "<img src=\"images/NGL-4GW3.png\">\n",
    "\n",
    "\n",
    "You can use the Diplay and View Options to alter how the protein and its ligands are drawn. The colour scheme options can be used to display the surface of the protein in different ways E.g. colour by hydrophobicity.\n",
    "\n",
    "\n",
    "<img src=\"images/NGL-4GW3-hydro.png\">\n",
    "\n",
    "\n",
    "If there are ligands or ions in the structure you can use the Interaction option to zoom in and display the binding pockets and amino acids involved in the interactions. e.g Binding pocket for Pentaethylene Glycol (PEG)(1PE).\n",
    "\n",
    "<img src=\"images/NGL-PA-BP.png\">"
   ]
  },
  {
   "cell_type": "markdown",
   "metadata": {
    "deletable": true,
    "editable": true
   },
   "source": [
    "<a id=\"ex01\"></a>\n",
    "<img src=\"../images/exercise.png\" style=\"width: 40px; float: left;\">\n",
    "## Exercise 01: [10 mins]: \n",
    "Use the ''Display and Viewer Options'' on the right hand side to: \n",
    "\n",
    "<div class=\"alert-danger\">\n",
    "<ol>\n",
    "<li> colour 4GW3 by secondary structure \n",
    "<li> show the position of calcium ions in 4GW3\n",
    "<li> view the surface of the protein and colour by hydrophocity\n",
    "<li> view the surface of the protein and colour by b-factor\n",
    "</ol>\n",
    "</div>"
   ]
  },
  {
   "cell_type": "markdown",
   "metadata": {
    "deletable": true,
    "editable": true
   },
   "source": [
    "<div class=\"alert-warning\">\n",
    "<b>QUESTIONS:</b>\n",
    "<ol>\n",
    "<li> What fold does 4GW3 have? Search the [CATH database](http://www.cathdb.info/) to help you answer this.\n",
    "<li> What amino acids residues are involved in binding Calcium ion CA 401?\n",
    "<li> What does the hydrophobicty colour scheme show you about the binding pocket where the ligands PEG occurs?\n",
    "<li> Each atom of protein crystal structure can have a B-factor (also known as the temperature or Debye-Waller factor ) associated with it. This essentially describes the degree to which the electron desnity is spread out. When you colour the protein surface by this factor what do you think it shows you? \n",
    "</ol>\n",
    "</div>"
   ]
  },
  {
   "cell_type": "code",
   "execution_count": null,
   "metadata": {
    "collapsed": true,
    "deletable": true,
    "editable": true
   },
   "outputs": [],
   "source": []
  }
 ],
 "metadata": {
  "kernelspec": {
   "display_name": "Python 3 (IBioIC)",
   "language": "python",
   "name": "python3_ibioic_course"
  },
  "language_info": {
   "codemirror_mode": {
    "name": "ipython",
    "version": 3
   },
   "file_extension": ".py",
   "mimetype": "text/x-python",
   "name": "python",
   "nbconvert_exporter": "python",
   "pygments_lexer": "ipython3",
   "version": "3.6.0"
  }
 },
 "nbformat": 4,
 "nbformat_minor": 2
}
