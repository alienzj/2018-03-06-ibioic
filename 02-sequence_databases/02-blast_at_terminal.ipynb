{
 "cells": [
  {
   "cell_type": "markdown",
   "metadata": {
    "deletable": true,
    "editable": true
   },
   "source": [
    "<img src=\"./images/JHI_STRAP_Web.png\" style=\"width: 150px; float: right;\">\n",
    "\n",
    "# 02-`BLAST+` at the terminal"
   ]
  },
  {
   "cell_type": "markdown",
   "metadata": {
    "deletable": true,
    "editable": true
   },
   "source": [
    "## Table of Contents\n",
    "\n",
    "1. [Introduction](#introduction)\n",
    "2. [Using `BLAST+` in the terminal](#terminal)\n",
    "  1. [Build a `BLAST+` database](#database)\n",
    "  2. [Exercise 01](#ex01)\n",
    "  3. [Construct a `BLASTN` query](#query)\n",
    "  4. [Exercise 02](#ex02)"
   ]
  },
  {
   "cell_type": "markdown",
   "metadata": {
    "deletable": true,
    "editable": true
   },
   "source": [
    "<a id=\"introduction\"></a>\n",
    "## Introduction\n",
    "\n",
    "The `BLAST/BLAST+` package can be installed on your own machine (desktop or laptop) or on a shared server. This gives you full control over how to use the program, and allows you to build custom databases (useful for proprietary information). However, you are limited to the computing power you have available. Happily, `BLAST` doesn't require excessive amounts of computing resources and for many tasks a desktop or laptop machine is sufficient."
   ]
  },
  {
   "cell_type": "markdown",
   "metadata": {
    "deletable": true,
    "editable": true
   },
   "source": [
    "### Resources\n",
    "\n",
    "* [`ncbi-blast+` download](https://blast.ncbi.nlm.nih.gov/Blast.cgi?PAGE_TYPE=BlastDocs&DOC_TYPE=Download)\n",
    "* [Original publication: Altschul *et al.* (1990)](http://dx.doi.org/10.1016/S0022-2836(05)80360-2)\n",
    "* [Gapped `BLAST` publication: Altschul *et al.* (1997)](https://www.ncbi.nlm.nih.gov/pmc/articles/PMC146917/)"
   ]
  },
  {
   "cell_type": "markdown",
   "metadata": {
    "deletable": true,
    "editable": true
   },
   "source": [
    "<a id=\"terminal\"></a>\n",
    "## Using `BLAST+` in the terminal\n",
    "\n",
    "* If necessary, open a terminal window in the virtual machine (VM)\n",
    "\n",
    "![Empty terminal window](./images/02-01_empty_terminal.png)\n",
    "\n",
    "* Change directory to the `~IBioIC/Teaching-IBioIC-Intro-to-Bioinformatics/02-sequence_databases` lesson directory:\n",
    "\n",
    "```\n",
    "cd IBioIC/Teaching-IBioIC-Intro-to-Bioinformatics/02-sequence-databases\n",
    "ls\n",
    "```\n",
    "\n",
    "![Change directory to lesson](./images/02-02_cd_lesson.png)\n",
    "\n",
    "* Establish that `BLASTN` works by issuing a command to get the short help message:\n",
    "\n",
    "```\n",
    "blastn -h\n",
    "```\n",
    "\n",
    "![BLASTN help](./images/02-03_blast_help.png)"
   ]
  },
  {
   "cell_type": "markdown",
   "metadata": {
    "deletable": true,
    "editable": true
   },
   "source": [
    "<a id=\"database\"></a>\n",
    "### Build a `BLAST+` database\n",
    "\n",
    "The program that builds `BLAST+` sequence databases is `makeblastdb`. You can get basic help on the command by issuing:\n",
    "\n",
    "```\n",
    "makeblastdb -h\n",
    "```\n",
    "![makeblastdb help](./images/02-04_makeblastdb_help.png)\n",
    "\n",
    "<div class=\"alert-success\">\n",
    "To build a `BLAST` database we need to provide the following information:\n",
    "\n",
    "<ol>\n",
    "<li> A file containing the sequences that will be in the database\n",
    "<li> What kind of sequence (nucleotide or protein) data the file contains\n",
    "<li> A name for the database (optional)\n",
    "<li> A path to write the database files to (optional)\n",
    "</ol>\n",
    "</div>\n",
    "\n",
    "* Create a new `BLAST` database with the following command:\n",
    "\n",
    "```\n",
    "makeblastdb -in data/kitasatospora/GCA_001905465.1_ASM190546v1_cds_from_genomic.fna \\\n",
    "            -dbtype nucl \\\n",
    "            -title kitasatospora_cds \\\n",
    "            -out data/kitasatospora/kitasatospora_cds\n",
    "```\n",
    "\n",
    "This will return some information to the terminal, and create the database.\n",
    "\n",
    "![makeblastdb help](./images/02-05_makeblastdb.png)\n",
    "\n",
    "This creates three files, which together comprise a new `BLAST` nucleotide database against which you can make queries.\n",
    "\n",
    "![makeblastdb help](./images/02-06_db_files.png)"
   ]
  },
  {
   "cell_type": "markdown",
   "metadata": {
    "deletable": true,
    "editable": true
   },
   "source": [
    "<a id=\"ex01\"></a>\n",
    "<img src=\"./images/exercise.png\" style=\"width: 40px; float: left;\">\n",
    "\n",
    "## Exercise 01: Get `BLAST` help at the Terminal\n",
    "\n",
    "<div class=\"alert-danger\">\n",
    "Use the following commands to get the long-format help messages for `BLASTN` and `BLASTX`: \n",
    "\n",
    "<ul>\n",
    "<li> `blastn -help`\n",
    "<li> `blastx -help`\n",
    "</ul>\n",
    "\n",
    "Pay particular attention to the options for output `-outfmt` and `-out`, and the options that control the general search parameters.\n",
    "</div>"
   ]
  },
  {
   "cell_type": "markdown",
   "metadata": {
    "deletable": true,
    "editable": true
   },
   "source": [
    "<a id=\"query\"></a>\n",
    "### Construct a `BLASTN` query\n",
    "\n",
    "After looking at the help information in the exercise above, you will have seen that there are several input relevant input options:\n",
    "\n",
    "* `-query`: path to the query sequence(s)\n",
    "* `-db`: path to the `BLAST` database\n",
    "* `-outfmt`: the output format you want `BLAST` to produce\n",
    "* `-o`: path to the output file you want `BLAST` to write\n",
    "\n",
    "<div class=\"alert-success\">\n",
    "<b>Building a `BLAST` query at the command-line/terminal is a matter of using the appropriate program (here `blastn`) and passing it the input options you need to use.</b>\n",
    "</div>\n",
    "\n",
    "In this case:\n",
    "\n",
    "* your query sequence is `data/kitasatospora/lantibiotic.fasta`\n",
    "* the database you're searching against is the one you created above: `data/kitasatospora/kitasatospora_cds`\n",
    "\n",
    "and you'll generate output in two formats (the same ones that were produced from the NCBI website search). You will need to construct two commands, each with the same query and database, but different output format values, and output filenames:\n",
    "\n",
    "* no format specified, filename: `output/kitasatospora/terminal_blastn_query_01.txt`\n",
    "* format: `6` (tabular), filename: `output/kitasatospora/terminal_blastn_query_01.tab`\n",
    "\n",
    "* Run the first command at the terminal:\n",
    "\n",
    "```\n",
    "blastn -query data/kitasatospora/lantibiotic.fasta \\\n",
    "       -db data/kitasatospora/kitasatospora_cds \\\n",
    "       -out output/kitasatospora/terminal_blastn_query_01.txt\n",
    "```\n",
    "\n",
    "<div class=\"alert-success\">\n",
    "<b>The command will run without producing any output on the screen, but you can see the first few lines of the output by issuing:</b>\n",
    "</div>\n",
    "\n",
    "```\n",
    "head -n 40 output/kitasatospora/terminal_blastn_query_01.txt\n",
    "```\n",
    "\n",
    "* Run the second command, now specifying a different (tabular) output format:\n",
    "\n",
    "```\n",
    "blastn -query data/kitasatospora/lantibiotic.fasta \\\n",
    "       -db data/kitasatospora/kitasatospora_cds \\\n",
    "       -outfmt 6 \\\n",
    "       -out output/kitasatospora/terminal_blastn_query_01.tab\n",
    "```\n",
    "\n",
    "You can inspect the contents of this file by issuing the command:\n",
    "\n",
    "```\n",
    "less output/kitasatospora/terminal_blastn_query_01.tab\n",
    "```"
   ]
  },
  {
   "cell_type": "markdown",
   "metadata": {
    "deletable": true,
    "editable": true
   },
   "source": [
    "<div class=\"alert-warning\">\n",
    "<h4>QUESTIONS</h4>\n",
    "\n",
    "<div>\n",
    "<ol>\n",
    "<li> How many hits were found\n",
    "<li> How large was the database?\n",
    "<li> How does the tabular output compare to the plain text output?\n",
    "</ol>\n",
    "</div>"
   ]
  },
  {
   "cell_type": "markdown",
   "metadata": {
    "deletable": true,
    "editable": true
   },
   "source": [
    "<a id=\"ex02\"></a>\n",
    "<img src=\"./images/exercise.png\" style=\"width: 40px; float: left;\">\n",
    "\n",
    "## Exercise 02: Using `BLAST` at the Terminal\n",
    "\n",
    "<div class=\"alert-danger\">\n",
    "Using `BLAST` in the terminal:\n",
    "\n",
    "<ul>\n",
    "<li> Conduct a `BLASTX` query with `data/kitastaospora/lantibiotic.fasta` against the `data/kitasatospora/kitasatospora_proteins.faa` database, writing results in `Text` and `Table(CSV)` format to \n",
    "  <ul>\n",
    "  <li> `output/kitasatospora/terminal_blastx_query_02.txt`\n",
    "  <li> `output/kitasatospora/terminal_blastx_query_02.csv`\n",
    "  </ul>\n",
    "</ul>\n",
    "</div>"
   ]
  },
  {
   "cell_type": "markdown",
   "metadata": {
    "deletable": true,
    "editable": true
   },
   "source": [
    "<div class=\"alert-warning\">\n",
    "<h4>QUESTIONS</h4>\n",
    "\n",
    "<ol>\n",
    "<li> How many hits do you find?\n",
    "<li> What is the \"best hit\" to the query? Why do you think it is the \"best hit\" (what in the results tells you this?)\n",
    "<li> At what point do you think the matches start to become less reliable? Why do you think this? (*HINT:* inspect the alignments)\n",
    "</ol>"
   ]
  }
 ],
 "metadata": {
  "kernelspec": {
   "display_name": "Python 3 (IBioIC)",
   "language": "python",
   "name": "python3_ibioic_course"
  },
  "language_info": {
   "codemirror_mode": {
    "name": "ipython",
    "version": 3
   },
   "file_extension": ".py",
   "mimetype": "text/x-python",
   "name": "python",
   "nbconvert_exporter": "python",
   "pygments_lexer": "ipython3",
   "version": "3.6.0"
  }
 },
 "nbformat": 4,
 "nbformat_minor": 2
}
