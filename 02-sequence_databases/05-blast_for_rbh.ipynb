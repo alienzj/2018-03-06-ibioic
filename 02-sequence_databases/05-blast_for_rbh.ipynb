{
 "cells": [
  {
   "cell_type": "markdown",
   "metadata": {},
   "source": [
    "<img src=\"../images/JHI_STRAP_Web.png\" style=\"width: 150px; float: right;\">\n",
    "# 05 - Reciprocal `BLAST` Hits (RBH)"
   ]
  },
  {
   "cell_type": "markdown",
   "metadata": {},
   "source": [
    "## Table of Contents\n",
    "\n",
    "1. [Introduction](#introduction)\n",
    "2. [Python imports](#imports)\n",
    "3. [Pairwise Reciprocal Best `BLAST` Hits](#rbbh)\n",
    "  1. [Using local `BLAST` for RBH analysis](#rbbh_code)\n",
    "  2. [Loading BLAST results](#load)\n",
    "  3. [Normalised bit score](#bitscore)\n",
    "  4. [Visualising one-way match results](#oneway)\n",
    "  5. [Identifying reciprocal best matches](#reciprocal)\n",
    "  6. [Visualising RBH results](#visualise_rbh)\n",
    "4. [RBH For Multiple Gene Sets](#multiple)"
   ]
  },
  {
   "cell_type": "markdown",
   "metadata": {},
   "source": [
    "## Introduction\n",
    "\n",
    "This notebook presents an example of programmatic use of `BLAST` to solve a biological problem: which gene features in a set of organisms are likely to be *orthologues*.\n",
    "\n",
    "The term *orthologue* originally applied to features that derived from a common ancestor, and diverged through speciation. Where an unambiguous sequence counterpart can be identified in each of two diverged organisms, this may be taken to imply that the sequences are *orthologues*.  \n",
    "\n",
    "![orthologues diverge by speciation](images/05-01_orthologues.png)\n",
    "\n",
    "<p></p>\n",
    "<div class=\"alert-warning\">\n",
    "An assumption can be made that the function carried out by that feature was important in the ancestor, and is also important in its descendents (that is why the feature is retained). It can also be assumed that the function of that feature is broadly conserved, and that is why the feature is retained (this is known as \"The Orthologue Conjecture\").\n",
    "</div>\n",
    "\n",
    "Biology is rarely that simple, however. In reality, gene duplication and gene transfer events complicate the picture. Gene duplication results in two copies of a gene being made, theoretically allowing the function of one to diverge. This may occur multiple times, and any (or no) copies may be retained. Alternatively, gene transfer from one organism to another may displace the inherited gene, or make it appear as though a gene was acquired through inheritance when it was not.\n",
    "\n",
    "![paralogues diverge by duplication](images/05-02_paralogues.png)\n",
    "\n",
    "Despite these and other complication, the identification of *reciprocal best hits* for gene products is a good first approximation to the identification of *orthologues* in two or more organisms. It forms the basis for many orthology-finding tools, such as `MCL`, `OrthoMCL` and `OrthoFinder`. It can be carried out by carrying out `BLAST+` searches using a short program, and this will be illustrated below.\n",
    "\n",
    "<p></p>\n",
    "<div class=\"alert-warning\">\n",
    "<b>Differences in the composition of gene complements (e.g. presence/absence of *orthologues*) my support hypotheses for functional or phenotypic differences, and identify characteristic signals for diagnostics and epidemiology. In an industrial biotechnology context, they can be used to identify common \"parts lists\" that allow the construction of \"wiring diagrams\" that can be exploited by systems and synthetic biology.</b>\n",
    "</div>"
   ]
  },
  {
   "cell_type": "markdown",
   "metadata": {},
   "source": [
    "<a id=\"imports\"></a>\n",
    "## Python imports\n",
    "\n",
    "To interact with the local installation of `BLAST`, we will use the free `Biopython` programming tools. These provide an interface to interact with `BLAST`, run jobs, and to read in the output files.\n",
    "\n",
    "* to collate the `BLAST` search results as dataframes/tables for analysis, we will use the `pandas` package.\n",
    "* to graph the downstream results, we will use the `seaborn` visualisation package.\n",
    "\n",
    "We import these tools, and some standard library packages for working with files (`os`) below."
   ]
  },
  {
   "cell_type": "code",
   "execution_count": 1,
   "metadata": {
    "collapsed": true
   },
   "outputs": [],
   "source": [
    "# Show plots as part of the notebook\n",
    "%matplotlib inline\n",
    "import matplotlib.pyplot as plt\n",
    "\n",
    "# Standard library packages\n",
    "import os\n",
    "\n",
    "# Import Numpy, Pandas and Seaborn\n",
    "import numpy as np\n",
    "import pandas as pd\n",
    "import seaborn as sns\n",
    "\n",
    "# Import Biopython tools for running local BLASTX\n",
    "from Bio.Blast.Applications import NcbiblastpCommandline\n",
    "\n",
    "# Colour scale transformation\n",
    "from matplotlib.colors import LogNorm"
   ]
  },
  {
   "cell_type": "markdown",
   "metadata": {},
   "source": [
    "<a id=\"rbbh\"></a>\n",
    "## Reciprocal Best `BLAST` Hits\n",
    "\n",
    "A procedure for identifying reciprocal best hits between the protein complements of two organisms proceeds as follows:\n",
    "\n",
    "#### 1. Identify protein sets\n",
    "* Take all the protein sequences from organism 1, and call this $S_1$\n",
    "* Take all the protein sequences from organism 2, and call this $S_2$\n",
    "\n",
    "#### 2. Conduct forward and reverse `BLAST` searches\n",
    "* Use `BLAST+` to query the proteins from $S_1$ against those in $S_2$. These are the *forward results*.\n",
    "* Use `BLAST+` to query the proteins from $S_2$ against those in $S_1$. These are the *reverse results*.\n",
    "\n",
    "#### 3. Identify forward best hits\n",
    "* Consider each query sequence from $S_1$ in turn, and from the *forward results* identify the 'best match' in $S_2$.\n",
    "* Make a table associating each sequence from $S_1$ with its best match in $S_2$. These are the *forward best hits*\n",
    "\n",
    "#### 4. Identify reverse best hits\n",
    "* Consider each query sequence from $S_2$ in turn, and from the *reverse results* identify the 'best match' in $S_1$.\n",
    "* Make a table associating each sequence from $S_2$ with its best match in $S_1$. These are the *reverse best hits*\n",
    "\n",
    "#### 5. Identify RBH\n",
    "* Consider each query sequence (call this $p_1$) from $S_1$ in turn, and from the *forward best hits* table identify its 'best match' in $S_2$ (call this $p_2$).\n",
    "* Check the *reverse best hits table* to find the 'best match' in the reverse direction for $p_2$.\n",
    "* **If this 'best match' is $p_1$, then $p_1$ and $p_2$ are *reciprocal best matches*. **\n",
    "\n",
    "We will write code to do this analysis in the cells below."
   ]
  },
  {
   "cell_type": "markdown",
   "metadata": {},
   "source": [
    "<a id=\"rbbh_code\"></a>\n",
    "### Using local `BLAST` for pairwise RBH analysis\n",
    "\n",
    "You need firstly to identify our two input protein sets: these are FASTA format multiple sequence files describing protein sets from two *Kitasatospora* isolates:\n",
    "\n",
    "* `data/kitasatospora/GCA_001424875.1_Root107_protein.faa`\n",
    "* `data/kitasatospora/GCA_001429805.1_Root187_protein.faa`\n",
    "\n",
    "and, as you did in [notebook 03](03-programming_for_blast.ipynb), construct and execute a local `BLASTP` search of each protein set against the other. For ease of processing, you will obtain `BLAST` results in tabular format."
   ]
  },
  {
   "cell_type": "code",
   "execution_count": 2,
   "metadata": {
    "collapsed": true
   },
   "outputs": [],
   "source": [
    "# Define input and output directories\n",
    "datadir = os.path.join('data', 'kitasatospora')\n",
    "outdir = os.path.join('output', 'kitasatospora')\n",
    "os.makedirs(outdir, exist_ok=True)\n",
    "\n",
    "# Define input file paths\n",
    "s1 = os.path.join(datadir, 'GCA_001424875.1_Root107_protein.faa')\n",
    "s2 = os.path.join(datadir, 'GCA_001429805.1_Root187_protein.faa')\n",
    "\n",
    "# Define output BLAST results\n",
    "fwd_out = os.path.join(outdir, '05-fwd-results.tab')\n",
    "rev_out = os.path.join(outdir, '05-rev-results.tab')"
   ]
  },
  {
   "cell_type": "markdown",
   "metadata": {},
   "source": [
    "<p></p>\n",
    "<div class=\"alert-success\">\n",
    "<b>`BLASTP` allows the definition of `-query` and `-subject` sequence sets, so you don't have to build a database every time. However database searches are, in general, much faster</b>\n",
    "</div>\n",
    "\n",
    "We can use two features of command-line `BLAST` that make our job easier later.\n",
    "\n",
    "* We will restrict the number of matches to be returned to 1, by using the `-max_target_seqs` argument. This will only report the best database hit to each query.\n",
    "* We will ask only for specific information in the returned results, using the `-outfmt` argument to recover: query ID, subject ID, percentage identity, percentage coverage, alignment score, and alignment E-value. (See the `blastp -help` output for more information on these options)."
   ]
  },
  {
   "cell_type": "code",
   "execution_count": 3,
   "metadata": {},
   "outputs": [
    {
     "name": "stdout",
     "output_type": "stream",
     "text": [
      "FORWARD: blastp -out output/kitasatospora/05-fwd-results.tab -outfmt '6 qseqid sseqid pident qcovs qlen slen length bitscore evalue' -query data/kitasatospora/GCA_001424875.1_Root107_protein.faa -max_target_seqs 1 -subject data/kitasatospora/GCA_001429805.1_Root187_protein.faa\n",
      "REVERSE: blastp -out output/kitasatospora/05-rev-results.tab -outfmt '6 qseqid sseqid pident qcovs qlen slen length bitscore evalue' -query data/kitasatospora/GCA_001429805.1_Root187_protein.faa -max_target_seqs 1 -subject data/kitasatospora/GCA_001424875.1_Root107_protein.faa\n"
     ]
    }
   ],
   "source": [
    "# Create BLAST command-lines for forward and reverse BLAST searches\n",
    "fwd_blastp = NcbiblastpCommandline(query=s1, subject=s2, out=fwd_out,\n",
    "                                   outfmt=\"\\'6 qseqid sseqid pident qcovs qlen slen length bitscore evalue\\'\",\n",
    "                                   max_target_seqs=1)\n",
    "rev_blastp = NcbiblastpCommandline(query=s2, subject=s1, out=rev_out,\n",
    "                                   outfmt=\"\\'6 qseqid sseqid pident qcovs qlen slen length bitscore evalue\\'\",\n",
    "                                   max_target_seqs=1)\n",
    "\n",
    "# Inspect command-lines\n",
    "print(\"FORWARD: %s\" % fwd_blastp)\n",
    "print(\"REVERSE: %s\" % rev_blastp)"
   ]
  },
  {
   "cell_type": "markdown",
   "metadata": {},
   "source": [
    "<div class=\"alert-danger\">\n",
    "<b>The cell below will execute two large local `BLASTP` searches. This can cause quite a delay in the lesson as the searches are carried out, so the results have been precalculated and are provided in another location. The rest of the lesson can progress using these pre-calculated results</b>\n",
    "</div>"
   ]
  },
  {
   "cell_type": "code",
   "execution_count": 4,
   "metadata": {
    "collapsed": true
   },
   "outputs": [],
   "source": [
    "# THIS CELL RUNS LARGE LOCAL BLAST SEARCHES\n",
    "# IT IS SKIPPED BY DEFAULT\n",
    "\n",
    "# Run BLAST searches\n",
    "# !! Uncomment to run local BLAST searches !!\n",
    "#fwd_stdout, fwd_stderr = fwd_blastp()\n",
    "#rev_stdout, rev_stderr = rev_blastp()\n",
    "\n",
    "# Check STDOUT, STDERR\n",
    "#print(\"FWD STDOUT: %s\" % fwd_stdout)\n",
    "#print(\"FWD STDERR: %s\" % fwd_stderr)\n",
    "#print(\"REV STDOUT: %s\" % rev_stdout)\n",
    "#print(\"REV STDERR: %s\" % rev_stderr)"
   ]
  },
  {
   "cell_type": "markdown",
   "metadata": {},
   "source": [
    "<a id=\"load\"></a>\n",
    "### Loading `BLAST` results\n",
    "\n",
    "Once the `BLAST` searches are finished, you can load the tabular format results into two `pandas` dataframes, so that the output can be modified and inspected.\n",
    "\n",
    "The `BLAST` output does not come with column headers in the file, so we have to add these ourselves, to match the columns requested in the original `BLAST` query.\n",
    "\n",
    "<p></p>\n",
    "<div class=\"alert-danger\">\n",
    "<b>The cell below loads in pre-calculated results, to save lesson time. To use results calculated by the cell above, comment out the lines defining `fwd_out` and `rev_out`.</b>\n",
    "</div>"
   ]
  },
  {
   "cell_type": "code",
   "execution_count": 5,
   "metadata": {
    "collapsed": true
   },
   "outputs": [],
   "source": [
    "# PRECALCULATED BLAST RESULTS\n",
    "# COMMENT OUT THESE TWO LINES IF YOU WANT TO USE THE RESULTS FROM THE CELL ABOVE\n",
    "fwd_out = os.path.join('prepped', 'kitasatospora', '05-fwd-results.tab')\n",
    "rev_out = os.path.join('prepped', 'kitasatospora', '05-rev-results.tab')\n",
    "\n",
    "# Load the BLAST results into Pandas dataframes\n",
    "fwd_results = pd.read_csv(fwd_out, sep=\"\\t\", header=None)\n",
    "rev_results = pd.read_csv(rev_out, sep=\"\\t\", header=None)\n",
    "\n",
    "# Add headers to forward and reverse results dataframes\n",
    "headers = [\"query\", \"subject\", \"identity\", \"coverage\",\n",
    "           \"qlength\", \"slength\", \"alength\",\n",
    "           \"bitscore\", \"E-value\"]\n",
    "fwd_results.columns = headers\n",
    "rev_results.columns = headers"
   ]
  },
  {
   "cell_type": "markdown",
   "metadata": {},
   "source": [
    "<a id=\"bitscore\"></a>\n",
    "### Normalised bit score, and coverage\n",
    "\n",
    "<p></p>\n",
    "<div class=\"alert-success\">\n",
    "<b>Before you examine the `BLAST` results themselves, it is useful to define a new quantity: the <i>normalised bitscore</i>.\n",
    "</div>\n",
    "\n",
    "The bitscore reported by `BLAST` is the sum of the qualities of the aligned symbols over the whole alignment. This is an accurate measure of the alignment strength, but long sequences tend to have higher bitscores than short sequences, even when the matches are of about the same quality. To correct for this length effect, we can calculate a *normalised bitscore* where:\n",
    "\n",
    "$$\\textrm{normalised bitscore} = \\frac{\\textrm{bitscore}}{\\textrm{query length}}$$\n",
    "\n",
    "This makes comparisons of bitscore between proteins of different lengths a bit more fair.\n",
    "\n",
    "#### Calculations using `pandas` columns\n",
    "\n",
    "Rather than looping over every item in a `pandas` dataframe column, it is possible to carry out calculations on entire columns in one action. So, to divide the contents of the `bitscore` column by the contents of the `qlength` column in the `fwd_results` dataframe, on a row-by-row basis, we can use the Python code:\n",
    "\n",
    "```python\n",
    "norm_bitscore = fwd_results.bitscore/fwd_results.qlength\n",
    "```\n",
    "\n",
    "<p></p>\n",
    "<div class=\"alert-success\">\n",
    "<b>You will also find it useful to consider two types of <i>coverage</i>: query coverage and alignment coverage.\n",
    "</div>\n",
    "\n",
    "The query and subject sequences in a `BLAST` alignment may not be of the same length, so it is possible that an alignment that covers the whole of one of the sequences may only cover a small part of the other sequence (e.g. if the query sequence is a single domain protein, and that domain is part of a multi-domain protein subject sequence). That is to say, for the same alignment, the coverage of the *query* and the *subject* sequences can differ. `BLAST+` only reports the query coverage, so we must calculate subject coverage ourselves.\n",
    "\n",
    "We can define two more columns in the dataframe:\n",
    "\n",
    "$$\\textrm{query coverage} = \\frac{\\textrm{alignment length}}{\\textrm{query length}}$$\n",
    "$$\\textrm{subject coverage} = \\frac{\\textrm{alignment length}}{\\textrm{subject length}}$$\n"
   ]
  },
  {
   "cell_type": "code",
   "execution_count": 6,
   "metadata": {
    "collapsed": true
   },
   "outputs": [],
   "source": [
    "# Create a new column in both dataframes: normalised bitscore\n",
    "fwd_results['norm_bitscore'] = fwd_results.bitscore/fwd_results.qlength\n",
    "rev_results['norm_bitscore'] = rev_results.bitscore/rev_results.qlength\n",
    "\n",
    "# Create query and subject coverage columns in both dataframes\n",
    "fwd_results['qcov'] = fwd_results.alength/fwd_results.qlength\n",
    "rev_results['qcov'] = rev_results.alength/rev_results.qlength\n",
    "fwd_results['scov'] = fwd_results.alength/fwd_results.slength\n",
    "rev_results['scov'] = rev_results.alength/rev_results.slength\n",
    "\n",
    "# Clip maximum coverage values at 1.0\n",
    "fwd_results['qcov'] = fwd_results['qcov'].clip_upper(1)\n",
    "rev_results['qcov'] = rev_results['qcov'].clip_upper(1)\n",
    "fwd_results['scov'] = fwd_results['scov'].clip_upper(1)\n",
    "rev_results['scov'] = rev_results['scov'].clip_upper(1)"
   ]
  },
  {
   "cell_type": "code",
   "execution_count": 7,
   "metadata": {},
   "outputs": [
    {
     "data": {
      "text/html": [
       "<div>\n",
       "<style>\n",
       "    .dataframe thead tr:only-child th {\n",
       "        text-align: right;\n",
       "    }\n",
       "\n",
       "    .dataframe thead th {\n",
       "        text-align: left;\n",
       "    }\n",
       "\n",
       "    .dataframe tbody tr th {\n",
       "        vertical-align: top;\n",
       "    }\n",
       "</style>\n",
       "<table border=\"1\" class=\"dataframe\">\n",
       "  <thead>\n",
       "    <tr style=\"text-align: right;\">\n",
       "      <th></th>\n",
       "      <th>query</th>\n",
       "      <th>subject</th>\n",
       "      <th>identity</th>\n",
       "      <th>coverage</th>\n",
       "      <th>qlength</th>\n",
       "      <th>slength</th>\n",
       "      <th>alength</th>\n",
       "      <th>bitscore</th>\n",
       "      <th>E-value</th>\n",
       "      <th>norm_bitscore</th>\n",
       "      <th>qcov</th>\n",
       "      <th>scov</th>\n",
       "    </tr>\n",
       "  </thead>\n",
       "  <tbody>\n",
       "    <tr>\n",
       "      <th>0</th>\n",
       "      <td>KQV03227.1</td>\n",
       "      <td>KRB66190.1</td>\n",
       "      <td>100.0</td>\n",
       "      <td>100</td>\n",
       "      <td>567</td>\n",
       "      <td>567</td>\n",
       "      <td>567</td>\n",
       "      <td>1134.0</td>\n",
       "      <td>0.000000e+00</td>\n",
       "      <td>2.000000</td>\n",
       "      <td>1.0</td>\n",
       "      <td>1.0</td>\n",
       "    </tr>\n",
       "    <tr>\n",
       "      <th>1</th>\n",
       "      <td>KQV03228.1</td>\n",
       "      <td>KRB66189.1</td>\n",
       "      <td>100.0</td>\n",
       "      <td>100</td>\n",
       "      <td>98</td>\n",
       "      <td>98</td>\n",
       "      <td>98</td>\n",
       "      <td>193.0</td>\n",
       "      <td>6.800000e-67</td>\n",
       "      <td>1.969388</td>\n",
       "      <td>1.0</td>\n",
       "      <td>1.0</td>\n",
       "    </tr>\n",
       "    <tr>\n",
       "      <th>2</th>\n",
       "      <td>KQV03229.1</td>\n",
       "      <td>KRB66188.1</td>\n",
       "      <td>100.0</td>\n",
       "      <td>100</td>\n",
       "      <td>252</td>\n",
       "      <td>252</td>\n",
       "      <td>252</td>\n",
       "      <td>470.0</td>\n",
       "      <td>2.760000e-171</td>\n",
       "      <td>1.865079</td>\n",
       "      <td>1.0</td>\n",
       "      <td>1.0</td>\n",
       "    </tr>\n",
       "    <tr>\n",
       "      <th>3</th>\n",
       "      <td>KQV03230.1</td>\n",
       "      <td>KRB66187.1</td>\n",
       "      <td>100.0</td>\n",
       "      <td>100</td>\n",
       "      <td>337</td>\n",
       "      <td>337</td>\n",
       "      <td>337</td>\n",
       "      <td>670.0</td>\n",
       "      <td>0.000000e+00</td>\n",
       "      <td>1.988131</td>\n",
       "      <td>1.0</td>\n",
       "      <td>1.0</td>\n",
       "    </tr>\n",
       "    <tr>\n",
       "      <th>4</th>\n",
       "      <td>KQV03231.1</td>\n",
       "      <td>KRB66186.1</td>\n",
       "      <td>100.0</td>\n",
       "      <td>100</td>\n",
       "      <td>143</td>\n",
       "      <td>143</td>\n",
       "      <td>143</td>\n",
       "      <td>274.0</td>\n",
       "      <td>1.530000e-97</td>\n",
       "      <td>1.916084</td>\n",
       "      <td>1.0</td>\n",
       "      <td>1.0</td>\n",
       "    </tr>\n",
       "  </tbody>\n",
       "</table>\n",
       "</div>"
      ],
      "text/plain": [
       "        query     subject  identity  coverage  qlength  slength  alength  \\\n",
       "0  KQV03227.1  KRB66190.1     100.0       100      567      567      567   \n",
       "1  KQV03228.1  KRB66189.1     100.0       100       98       98       98   \n",
       "2  KQV03229.1  KRB66188.1     100.0       100      252      252      252   \n",
       "3  KQV03230.1  KRB66187.1     100.0       100      337      337      337   \n",
       "4  KQV03231.1  KRB66186.1     100.0       100      143      143      143   \n",
       "\n",
       "   bitscore        E-value  norm_bitscore  qcov  scov  \n",
       "0    1134.0   0.000000e+00       2.000000   1.0   1.0  \n",
       "1     193.0   6.800000e-67       1.969388   1.0   1.0  \n",
       "2     470.0  2.760000e-171       1.865079   1.0   1.0  \n",
       "3     670.0   0.000000e+00       1.988131   1.0   1.0  \n",
       "4     274.0   1.530000e-97       1.916084   1.0   1.0  "
      ]
     },
     "execution_count": 7,
     "metadata": {},
     "output_type": "execute_result"
    }
   ],
   "source": [
    "# Inspect the forward results data\n",
    "fwd_results.head()"
   ]
  },
  {
   "cell_type": "code",
   "execution_count": 8,
   "metadata": {},
   "outputs": [
    {
     "data": {
      "text/html": [
       "<div>\n",
       "<style>\n",
       "    .dataframe thead tr:only-child th {\n",
       "        text-align: right;\n",
       "    }\n",
       "\n",
       "    .dataframe thead th {\n",
       "        text-align: left;\n",
       "    }\n",
       "\n",
       "    .dataframe tbody tr th {\n",
       "        vertical-align: top;\n",
       "    }\n",
       "</style>\n",
       "<table border=\"1\" class=\"dataframe\">\n",
       "  <thead>\n",
       "    <tr style=\"text-align: right;\">\n",
       "      <th></th>\n",
       "      <th>query</th>\n",
       "      <th>subject</th>\n",
       "      <th>identity</th>\n",
       "      <th>coverage</th>\n",
       "      <th>qlength</th>\n",
       "      <th>slength</th>\n",
       "      <th>alength</th>\n",
       "      <th>bitscore</th>\n",
       "      <th>E-value</th>\n",
       "      <th>norm_bitscore</th>\n",
       "      <th>qcov</th>\n",
       "      <th>scov</th>\n",
       "    </tr>\n",
       "  </thead>\n",
       "  <tbody>\n",
       "    <tr>\n",
       "      <th>0</th>\n",
       "      <td>KRB60369.1</td>\n",
       "      <td>KQV20977.1</td>\n",
       "      <td>100.0</td>\n",
       "      <td>100</td>\n",
       "      <td>324</td>\n",
       "      <td>324</td>\n",
       "      <td>324</td>\n",
       "      <td>640.0</td>\n",
       "      <td>0.000000e+00</td>\n",
       "      <td>1.975309</td>\n",
       "      <td>1.0</td>\n",
       "      <td>1.0</td>\n",
       "    </tr>\n",
       "    <tr>\n",
       "      <th>1</th>\n",
       "      <td>KRB60370.1</td>\n",
       "      <td>KQV20976.1</td>\n",
       "      <td>100.0</td>\n",
       "      <td>100</td>\n",
       "      <td>244</td>\n",
       "      <td>244</td>\n",
       "      <td>244</td>\n",
       "      <td>488.0</td>\n",
       "      <td>1.110000e-178</td>\n",
       "      <td>2.000000</td>\n",
       "      <td>1.0</td>\n",
       "      <td>1.0</td>\n",
       "    </tr>\n",
       "    <tr>\n",
       "      <th>2</th>\n",
       "      <td>KRB60371.1</td>\n",
       "      <td>KQV20975.1</td>\n",
       "      <td>100.0</td>\n",
       "      <td>100</td>\n",
       "      <td>102</td>\n",
       "      <td>102</td>\n",
       "      <td>102</td>\n",
       "      <td>203.0</td>\n",
       "      <td>1.210000e-70</td>\n",
       "      <td>1.990196</td>\n",
       "      <td>1.0</td>\n",
       "      <td>1.0</td>\n",
       "    </tr>\n",
       "    <tr>\n",
       "      <th>3</th>\n",
       "      <td>KRB60372.1</td>\n",
       "      <td>KQV20974.1</td>\n",
       "      <td>100.0</td>\n",
       "      <td>100</td>\n",
       "      <td>103</td>\n",
       "      <td>103</td>\n",
       "      <td>103</td>\n",
       "      <td>213.0</td>\n",
       "      <td>1.140000e-74</td>\n",
       "      <td>2.067961</td>\n",
       "      <td>1.0</td>\n",
       "      <td>1.0</td>\n",
       "    </tr>\n",
       "    <tr>\n",
       "      <th>4</th>\n",
       "      <td>KRB60373.1</td>\n",
       "      <td>KQV20973.1</td>\n",
       "      <td>100.0</td>\n",
       "      <td>100</td>\n",
       "      <td>299</td>\n",
       "      <td>299</td>\n",
       "      <td>299</td>\n",
       "      <td>595.0</td>\n",
       "      <td>0.000000e+00</td>\n",
       "      <td>1.989967</td>\n",
       "      <td>1.0</td>\n",
       "      <td>1.0</td>\n",
       "    </tr>\n",
       "  </tbody>\n",
       "</table>\n",
       "</div>"
      ],
      "text/plain": [
       "        query     subject  identity  coverage  qlength  slength  alength  \\\n",
       "0  KRB60369.1  KQV20977.1     100.0       100      324      324      324   \n",
       "1  KRB60370.1  KQV20976.1     100.0       100      244      244      244   \n",
       "2  KRB60371.1  KQV20975.1     100.0       100      102      102      102   \n",
       "3  KRB60372.1  KQV20974.1     100.0       100      103      103      103   \n",
       "4  KRB60373.1  KQV20973.1     100.0       100      299      299      299   \n",
       "\n",
       "   bitscore        E-value  norm_bitscore  qcov  scov  \n",
       "0     640.0   0.000000e+00       1.975309   1.0   1.0  \n",
       "1     488.0  1.110000e-178       2.000000   1.0   1.0  \n",
       "2     203.0   1.210000e-70       1.990196   1.0   1.0  \n",
       "3     213.0   1.140000e-74       2.067961   1.0   1.0  \n",
       "4     595.0   0.000000e+00       1.989967   1.0   1.0  "
      ]
     },
     "execution_count": 8,
     "metadata": {},
     "output_type": "execute_result"
    }
   ],
   "source": [
    "# Inspect the reverse results data\n",
    "rev_results.head()"
   ]
  },
  {
   "cell_type": "markdown",
   "metadata": {},
   "source": [
    "<a id=\"oneway\"></a>\n",
    "### Visualising one-way match results\n",
    "\n",
    "<p></p>\n",
    "<div class=\"alert-success\">\n",
    "<b>Each result dataframe contains one row per query sequence, showing the best match, and some properties of the sequence alignment.</b>\n",
    "</div>\n",
    "\n",
    "Using the `seaborn` package, you can summarise elements of this data visually, to get some insight into an organism-vs-organism `BLAST` search. For instance, a single line of code can produce a distribution plot (kernel density estimate, and histogram) of the `bitscore` for each `BLAST` hit. The bitscore encapsulates the *quality* of the match, and is a single measure that reflects the number of similar residues in the alignment, and their similarity."
   ]
  },
  {
   "cell_type": "code",
   "execution_count": 9,
   "metadata": {},
   "outputs": [
    {
     "data": {
      "image/png": "[encoded data removed]",
      "text/plain": [
       "<matplotlib.figure.Figure at 0x11147b3c8>"
      ]
     },
     "metadata": {},
     "output_type": "display_data"
    }
   ],
   "source": [
    "# Set up the figure\n",
    "f, axes = plt.subplots(1, 2, figsize=(14, 7), sharex=True)\n",
    "sns.despine(left=True)\n",
    "\n",
    "# Plot distribution of forward and reverse hit bitscores\n",
    "sns.distplot(fwd_results.norm_bitscore, color=\"b\", ax=axes[0], axlabel=\"forward normalised bitscores\")\n",
    "sns.distplot(rev_results.norm_bitscore, color=\"g\", ax=axes[1], axlabel=\"reverse normalised bitscores\");"
   ]
  },
  {
   "cell_type": "markdown",
   "metadata": {},
   "source": [
    "The two plots that result from this code show the distributions of the *one-way* best hit `BLAST` bitscores.\n",
    "\n",
    "<p></p>\n",
    "<div class=\"alert-warning\">\n",
    "<b>The first thing you have probably noticed is that the distributions are *bimodal*: most hits lie in the main bulk of the distribution, but in both the forward and reverse searches there is a relatively small set of matches that have a low bitscore. These are likely to be low-quality matches that are either very short, sequence-dissimilar, or both.</b>\n",
    "</div>\n",
    "\n",
    "A second plot that is useful for interpretation is the heatmap/2D density plot of query sequence coverage and subject sequence coverage:"
   ]
  },
  {
   "cell_type": "code",
   "execution_count": 10,
   "metadata": {
    "scrolled": false
   },
   "outputs": [
    {
     "data": {
      "image/png": "[encoded data removed]",
      "text/plain": [
       "<matplotlib.figure.Figure at 0x11270edd8>"
      ]
     },
     "metadata": {},
     "output_type": "display_data"
    }
   ],
   "source": [
    "# Plot 2D density histograms\n",
    "# !! YOU DO NOT NEED TO UNDERSTAND THIS CODE TO FOLLOW THE LESSON !!\n",
    "\n",
    "# Calculate 2D density histograms for counts of matches at several coverage levels\n",
    "(Hfwd, xedgesf, yedgesf) = np.histogram2d(fwd_results.qcov, fwd_results.scov, bins=20)\n",
    "(Hrev, xedgesr, yedgesr) = np.histogram2d(rev_results.qcov, rev_results.scov, bins=20)\n",
    "\n",
    "# Create a 1x2 figure array\n",
    "fig, axes = plt.subplots(1, 2, figsize=(15, 6), sharex=True, sharey=True)\n",
    "\n",
    "# Plot histogram for forward matches\n",
    "im = axes[0].imshow(Hfwd, cmap=plt.cm.Blues, norm=LogNorm(),\n",
    "                    extent=[xedgesf[0], xedgesf[-1], yedgesf[0], yedgesf[-1]],\n",
    "                    origin='lower', aspect=1)\n",
    "axes[0].set_title(\"Forward\")\n",
    "axes[0].set_xlabel(\"query\")\n",
    "axes[0].set_ylabel(\"subject\")\n",
    "\n",
    "# Plot histogram for reverse matches\n",
    "im = axes[1].imshow(Hrev, cmap=plt.cm.Blues, norm=LogNorm(),\n",
    "                    extent=[xedgesr[0], xedgesr[-1], yedgesr[0], yedgesr[-1]],\n",
    "                    origin='lower', aspect=1)\n",
    "axes[1].set_title(\"Reverse\")\n",
    "axes[1].set_xlabel(\"query\")\n",
    "axes[1].set_ylabel(\"subject\")\n",
    "\n",
    "# Add colourbars\n",
    "fig.colorbar(im, ax=axes[0])\n",
    "fig.colorbar(im, ax=axes[1]);"
   ]
  },
  {
   "cell_type": "markdown",
   "metadata": {},
   "source": [
    "<div class=\"alert-success\">\n",
    "<b>The important information from the 2D density plots is:</b>\n",
    "</div>\n",
    "\n",
    "* Most one-way matches for this data are at 100% query coverage and 100% subject coverage\n",
    "* The remaining matches can be classified as either 'on the diagonal' or 'off the diagonal'\n",
    "  * Hits 'on the diagonal' have approximately the same coverage in query and subject sequences: these are likely diverged proteins\n",
    "  * Hits 'off the diagonal' have more coverage in either the query or subject sequence: these may be single-domain matches, poor alignments, or some other result that is unlikely to be a very good match.\n",
    "\n",
    "It is unlikely that off-diagonal hits are one-to-one matches between orthologues."
   ]
  },
  {
   "cell_type": "markdown",
   "metadata": {},
   "source": [
    "<a id=\"reciprocal\"></a>\n",
    "### Identifying reciprocal best matches\n",
    "\n",
    "<p></p>\n",
    "<div class=\"alert-success\">\n",
    "<b>There is more than one way to programmatically identify reciprocal best matches. In this lesson, you will use the dataframe structure to help you. The logic of this is as follows:</b>\n",
    "</div>\n",
    "\n",
    "* For each query sequence named in `fwd_results.query`, there is a single subject sequence named in the `fwd_results.subject` column (though there may be several rows, reflecting multiple alignments between the same subject and query).\n",
    "* The two dataframes `fwd_results` and `rev_results` are merged such that rows are combined when `fwd_results.subject` is the same as `rev_results.query`. This produces a new dataframe called `rbbh`, where the *forward results* query and subject columns are renamed `query_x` and `subject_x`, while the *reverse results* query and subject columns are renamed `query_y` and `subject_y`.\n",
    "* Reciprocal best hits are then those where the value in `query_x` matches the value in `subject_y`.\n",
    "* All rows where `query_x` does not match `subject_y` are not reciprocal best hits, so these are discarded.\n",
    "* All rows containing duplicate hits between the same query and subject sequences are grouped into a single row, taking the largest value for each column in that group.\n",
    "\n",
    "Applying this logical approach leaves us with a single dataframe describing the reciprocal best hits for these two gene sets."
   ]
  },
  {
   "cell_type": "code",
   "execution_count": 11,
   "metadata": {
    "collapsed": true
   },
   "outputs": [],
   "source": [
    "# Merge forward and reverse results\n",
    "rbbh = pd.merge(fwd_results, rev_results[['query', 'subject']],\n",
    "                left_on='subject', right_on='query',\n",
    "                how='outer')\n",
    "\n",
    "# Discard rows that are not RBH\n",
    "rbbh = rbbh.loc[rbbh.query_x == rbbh.subject_y]\n",
    "\n",
    "# Group duplicate RBH rows, taking the maximum value in each column\n",
    "rbbh = rbbh.groupby(['query_x', 'subject_x']).max()"
   ]
  },
  {
   "cell_type": "code",
   "execution_count": 12,
   "metadata": {},
   "outputs": [
    {
     "data": {
      "text/html": [
       "<div>\n",
       "<style>\n",
       "    .dataframe thead tr:only-child th {\n",
       "        text-align: right;\n",
       "    }\n",
       "\n",
       "    .dataframe thead th {\n",
       "        text-align: left;\n",
       "    }\n",
       "\n",
       "    .dataframe tbody tr th {\n",
       "        vertical-align: top;\n",
       "    }\n",
       "</style>\n",
       "<table border=\"1\" class=\"dataframe\">\n",
       "  <thead>\n",
       "    <tr style=\"text-align: right;\">\n",
       "      <th></th>\n",
       "      <th></th>\n",
       "      <th>identity</th>\n",
       "      <th>coverage</th>\n",
       "      <th>qlength</th>\n",
       "      <th>slength</th>\n",
       "      <th>alength</th>\n",
       "      <th>bitscore</th>\n",
       "      <th>E-value</th>\n",
       "      <th>norm_bitscore</th>\n",
       "      <th>qcov</th>\n",
       "      <th>scov</th>\n",
       "      <th>query_y</th>\n",
       "      <th>subject_y</th>\n",
       "    </tr>\n",
       "    <tr>\n",
       "      <th>query_x</th>\n",
       "      <th>subject_x</th>\n",
       "      <th></th>\n",
       "      <th></th>\n",
       "      <th></th>\n",
       "      <th></th>\n",
       "      <th></th>\n",
       "      <th></th>\n",
       "      <th></th>\n",
       "      <th></th>\n",
       "      <th></th>\n",
       "      <th></th>\n",
       "      <th></th>\n",
       "      <th></th>\n",
       "    </tr>\n",
       "  </thead>\n",
       "  <tbody>\n",
       "    <tr>\n",
       "      <th>KQV03227.1</th>\n",
       "      <th>KRB66190.1</th>\n",
       "      <td>100.0</td>\n",
       "      <td>100.0</td>\n",
       "      <td>567.0</td>\n",
       "      <td>567.0</td>\n",
       "      <td>567.0</td>\n",
       "      <td>1134.0</td>\n",
       "      <td>0.000000e+00</td>\n",
       "      <td>2.000000</td>\n",
       "      <td>1.0</td>\n",
       "      <td>1.0</td>\n",
       "      <td>KRB66190.1</td>\n",
       "      <td>KQV03227.1</td>\n",
       "    </tr>\n",
       "    <tr>\n",
       "      <th>KQV03228.1</th>\n",
       "      <th>KRB66189.1</th>\n",
       "      <td>100.0</td>\n",
       "      <td>100.0</td>\n",
       "      <td>98.0</td>\n",
       "      <td>98.0</td>\n",
       "      <td>98.0</td>\n",
       "      <td>193.0</td>\n",
       "      <td>6.800000e-67</td>\n",
       "      <td>1.969388</td>\n",
       "      <td>1.0</td>\n",
       "      <td>1.0</td>\n",
       "      <td>KRB66189.1</td>\n",
       "      <td>KQV03228.1</td>\n",
       "    </tr>\n",
       "    <tr>\n",
       "      <th>KQV03229.1</th>\n",
       "      <th>KRB66188.1</th>\n",
       "      <td>100.0</td>\n",
       "      <td>100.0</td>\n",
       "      <td>252.0</td>\n",
       "      <td>252.0</td>\n",
       "      <td>252.0</td>\n",
       "      <td>470.0</td>\n",
       "      <td>2.760000e-171</td>\n",
       "      <td>1.865079</td>\n",
       "      <td>1.0</td>\n",
       "      <td>1.0</td>\n",
       "      <td>KRB66188.1</td>\n",
       "      <td>KQV03229.1</td>\n",
       "    </tr>\n",
       "    <tr>\n",
       "      <th>KQV03230.1</th>\n",
       "      <th>KRB66187.1</th>\n",
       "      <td>100.0</td>\n",
       "      <td>100.0</td>\n",
       "      <td>337.0</td>\n",
       "      <td>337.0</td>\n",
       "      <td>337.0</td>\n",
       "      <td>670.0</td>\n",
       "      <td>0.000000e+00</td>\n",
       "      <td>1.988131</td>\n",
       "      <td>1.0</td>\n",
       "      <td>1.0</td>\n",
       "      <td>KRB66187.1</td>\n",
       "      <td>KQV03230.1</td>\n",
       "    </tr>\n",
       "    <tr>\n",
       "      <th>KQV03231.1</th>\n",
       "      <th>KRB66186.1</th>\n",
       "      <td>100.0</td>\n",
       "      <td>100.0</td>\n",
       "      <td>143.0</td>\n",
       "      <td>143.0</td>\n",
       "      <td>143.0</td>\n",
       "      <td>274.0</td>\n",
       "      <td>1.530000e-97</td>\n",
       "      <td>1.916084</td>\n",
       "      <td>1.0</td>\n",
       "      <td>1.0</td>\n",
       "      <td>KRB66186.1</td>\n",
       "      <td>KQV03231.1</td>\n",
       "    </tr>\n",
       "  </tbody>\n",
       "</table>\n",
       "</div>"
      ],
      "text/plain": [
       "                       identity  coverage  qlength  slength  alength  \\\n",
       "query_x    subject_x                                                   \n",
       "KQV03227.1 KRB66190.1     100.0     100.0    567.0    567.0    567.0   \n",
       "KQV03228.1 KRB66189.1     100.0     100.0     98.0     98.0     98.0   \n",
       "KQV03229.1 KRB66188.1     100.0     100.0    252.0    252.0    252.0   \n",
       "KQV03230.1 KRB66187.1     100.0     100.0    337.0    337.0    337.0   \n",
       "KQV03231.1 KRB66186.1     100.0     100.0    143.0    143.0    143.0   \n",
       "\n",
       "                       bitscore        E-value  norm_bitscore  qcov  scov  \\\n",
       "query_x    subject_x                                                        \n",
       "KQV03227.1 KRB66190.1    1134.0   0.000000e+00       2.000000   1.0   1.0   \n",
       "KQV03228.1 KRB66189.1     193.0   6.800000e-67       1.969388   1.0   1.0   \n",
       "KQV03229.1 KRB66188.1     470.0  2.760000e-171       1.865079   1.0   1.0   \n",
       "KQV03230.1 KRB66187.1     670.0   0.000000e+00       1.988131   1.0   1.0   \n",
       "KQV03231.1 KRB66186.1     274.0   1.530000e-97       1.916084   1.0   1.0   \n",
       "\n",
       "                          query_y   subject_y  \n",
       "query_x    subject_x                           \n",
       "KQV03227.1 KRB66190.1  KRB66190.1  KQV03227.1  \n",
       "KQV03228.1 KRB66189.1  KRB66189.1  KQV03228.1  \n",
       "KQV03229.1 KRB66188.1  KRB66188.1  KQV03229.1  \n",
       "KQV03230.1 KRB66187.1  KRB66187.1  KQV03230.1  \n",
       "KQV03231.1 KRB66186.1  KRB66186.1  KQV03231.1  "
      ]
     },
     "execution_count": 12,
     "metadata": {},
     "output_type": "execute_result"
    }
   ],
   "source": [
    "# Inspect the results\n",
    "rbbh.head()"
   ]
  },
  {
   "cell_type": "markdown",
   "metadata": {},
   "source": [
    "<a id=\"visualise_rbh\"></a>\n",
    "### Visualising RBH results\n",
    "\n",
    "Now that we have RBH results, we can produce similar visualisations to those we used for the one-way hits, to see what has changed.\n",
    "\n",
    "First, we produce a distribution plot of the normalised bitscores, using `seaborn`'s `distplot()` function:"
   ]
  },
  {
   "cell_type": "code",
   "execution_count": 13,
   "metadata": {},
   "outputs": [
    {
     "data": {
      "image/png": "[encoded data removed]",
      "text/plain": [
       "<matplotlib.figure.Figure at 0x112cd2a20>"
      ]
     },
     "metadata": {},
     "output_type": "display_data"
    }
   ],
   "source": [
    "# Plot distribution of RBH bitscores\n",
    "sns.distplot(rbbh.norm_bitscore, color=\"b\", axlabel=\"RBH normalised bitscores\");"
   ]
  },
  {
   "cell_type": "markdown",
   "metadata": {},
   "source": [
    "<p></p>\n",
    "<div class=\"alert-success\">\n",
    "<b>From this plot we can see that the distribution is now unimodal: the matches with low normalised bitscores have disappeared. Taking reciprocal best matches has filtered out nearly all the low-quality hits.</b>\n",
    "</div>\n",
    "\n",
    "What does the 2D distribution of coverage look like? We can plot this, as before:"
   ]
  },
  {
   "cell_type": "code",
   "execution_count": 14,
   "metadata": {},
   "outputs": [
    {
     "data": {
      "image/png": "[encoded data removed]",
      "text/plain": [
       "<matplotlib.figure.Figure at 0x112ee62e8>"
      ]
     },
     "metadata": {},
     "output_type": "display_data"
    }
   ],
   "source": [
    "# Plot 2D density histograms\n",
    "# !! YOU DO NOT NEED TO UNDERSTAND THIS CODE TO FOLLOW THE LESSON !!\n",
    "\n",
    "# Calculate 2D density histograms for counts of matches at several coverage levels\n",
    "(H, xedges, yedges) = np.histogram2d(rbbh.qcov, rbbh.scov, bins=20)\n",
    "\n",
    "# Create a 1x2 figure array\n",
    "fig, ax = plt.subplots(1, 1, figsize=(6, 6), sharex=True, sharey=True)\n",
    "\n",
    "# Plot histogram for RBBH\n",
    "im = ax.imshow(H, cmap=plt.cm.Blues, norm=LogNorm(),\n",
    "                 extent=[xedges[0], xedges[-1], yedges[0], yedges[-1]],\n",
    "                 origin='lower', aspect=1)\n",
    "ax.set_title(\"RBBH\")\n",
    "ax.set_xlabel(\"query\")\n",
    "ax.set_ylabel(\"subject\")\n",
    "\n",
    "# Add colourbar\n",
    "fig.colorbar(im, ax=ax);"
   ]
  },
  {
   "cell_type": "markdown",
   "metadata": {},
   "source": [
    "The difference here is even more striking. Almost all the matches along the diagonal, and off the diagonal, have disappeared. Taking reciprocal best matches has restricted the comparison between the two gene sets almost completely to proteins that are similar across almost their entire length. These are likely to be a good starting point for further analysis and transfer of functional annotation.\n",
    "\n",
    "<p></p>\n",
    "<div class=\"alert-success\">\n",
    "<b>Using reciprocal best hits as a filter, it is possible to discard a large number of low-quality alignments and improve your confidence in having found matches to sequences that are likely to be equivalent (in some way).</b>\n",
    "</div>"
   ]
  },
  {
   "cell_type": "markdown",
   "metadata": {},
   "source": [
    "<a id=\"multiple\"></a>\n",
    "## RBH For Multiple Gene Sets\n",
    "\n",
    "<p></p>\n",
    "<div class=\"alert-success\">\n",
    "<b>So far you have looked at a single RBH analysis between the gene complements of a pair of genomes. You may however want to conduct this kind of analysis on several genomes.</b>\n",
    "</div>\n",
    "\n",
    "In the cell below, we define five protein sequence files. If we want to conduct RBH analysis on these protein sequence sets, we need to perform `BLAST` searches using each of the five sequence sets as a query, against each of the other four sequence sets. This would be tedious to do by hand - especially for larger numbers of input files, so we can make the computer do all the hard work for us."
   ]
  },
  {
   "cell_type": "code",
   "execution_count": 15,
   "metadata": {},
   "outputs": [
    {
     "name": "stdout",
     "output_type": "stream",
     "text": [
      "['data/kitasatospora/GCA_000269985.1_ASM26998v1_protein.faa', 'data/kitasatospora/GCA_000696185.1_ASM69618v1_protein.faa', 'data/kitasatospora/GCA_000836635.1_ASM83663v1_protein.faa', 'data/kitasatospora/GCA_001424875.1_Root107_protein.faa', 'data/kitasatospora/GCA_001429805.1_Root187_protein.faa']\n"
     ]
    }
   ],
   "source": [
    "# Define input protein sequence files\n",
    "infiles = ['GCA_000269985.1_ASM26998v1_protein.faa',\n",
    "           'GCA_000696185.1_ASM69618v1_protein.faa',\n",
    "           'GCA_000836635.1_ASM83663v1_protein.faa',\n",
    "           'GCA_001424875.1_Root107_protein.faa',\n",
    "           'GCA_001429805.1_Root187_protein.faa']\n",
    "\n",
    "# Add the data directory to each of the input sequence files\n",
    "infiles = [os.path.join(datadir, fname) for fname in infiles]\n",
    "print(infiles)"
   ]
  },
  {
   "cell_type": "markdown",
   "metadata": {},
   "source": [
    "Our goal is to generate forward and reverse blast results for each of the input files. We could approach this in several ways.\n",
    "\n",
    "* A naïve approach would be to loop over this list of input files one at a time, as the query sequence set. Then, for each of these query sets, loop over the list of input files again, and create `BLAST+` commands to conduct the searches we need.\n",
    "\n",
    "While this approach would work, it has a couple of inefficiencies: we would need to avoid creating `BLAST+` command lines to search a sequence set against itself. We'd also be looping twice over the same data, which can be slow for larger datasets.\n",
    "\n",
    "<p></p>\n",
    "<div class=\"alert-success\">\n",
    "<b>There is a more elegant way to build this set of `BLAST+` commands, and we demonstrate it in the code cell below:</b>\n",
    "</div>"
   ]
  },
  {
   "cell_type": "code",
   "execution_count": 16,
   "metadata": {},
   "outputs": [
    {
     "name": "stdout",
     "output_type": "stream",
     "text": [
      "CURRENT ELEMENT: A\n",
      "\tA vs B; B vs A\n",
      "\tA vs C; C vs A\n",
      "\tA vs D; D vs A\n",
      "\tA vs E; E vs A\n",
      "CURRENT ELEMENT: B\n",
      "\tB vs C; C vs B\n",
      "\tB vs D; D vs B\n",
      "\tB vs E; E vs B\n",
      "CURRENT ELEMENT: C\n",
      "\tC vs D; D vs C\n",
      "\tC vs E; E vs C\n",
      "CURRENT ELEMENT: D\n",
      "\tD vs E; E vs D\n",
      "CURRENT ELEMENT: E\n",
      "my_commands: ['A vs B', 'A vs C', 'A vs D', 'A vs E', 'B vs A', 'B vs C', 'B vs D', 'B vs E', 'C vs A', 'C vs B', 'C vs D', 'C vs E', 'D vs A', 'D vs B', 'D vs C', 'D vs E', 'E vs A', 'E vs B', 'E vs C', 'E vs D']\n"
     ]
    }
   ],
   "source": [
    "# Firstly, we create a list of five elements, A to E:\n",
    "my_list = [\"A\", \"B\", \"C\", \"D\", \"E\"]\n",
    "\n",
    "# We can loop over these five elements and generate all pairs of\n",
    "# letters, without having to loop over the whole list twice.\n",
    "# Instead, we can loop over the whole list *once*, but each time\n",
    "# we get a new element, we loop over the remaining list, and\n",
    "# generate the forward- and reverse-pairs, as follows:\n",
    "my_commands = []  # An empty list\n",
    "for idx, element in enumerate(my_list):                  # OUTER LOOP\n",
    "    print(\"CURRENT ELEMENT: %s\" % element)\n",
    "    # Now loop over the remaining elements in the list only.\n",
    "    # This gives us the element we're dealing with, and a\n",
    "    # second element as a comparator.\n",
    "    # We build a command string, and put it in the list called\n",
    "    # my_commands\n",
    "    for comparator in my_list[idx+1:]:                   # INNER LOOP\n",
    "        cmd1 = \"{0} vs {1}\".format(element, comparator)  # Create forward command\n",
    "        cmd2 = \"{1} vs {0}\".format(element, comparator)  # Create reverse command\n",
    "        my_commands += [cmd1, cmd2]                      # Add commands to list\n",
    "        print(\"\\t{0} vs {1}; {1} vs {0}\".format(element, comparator))  # Print this cycle's commands\n",
    "\n",
    "# We now have a list of nonredundant commands in my_commands:\n",
    "print(\"my_commands:\", sorted(my_commands))"
   ]
  },
  {
   "cell_type": "markdown",
   "metadata": {},
   "source": [
    "In a similar way, it is possible to generate all `BLAST+` commands to cover all the pairwise comparisons between each of the sequence files in `infiles`, with no repetition, or comparisons of a sequence set against itself."
   ]
  },
  {
   "cell_type": "markdown",
   "metadata": {},
   "source": [
    "<img src=\"../images/exercise.png\" style=\"width: 100px; float: left;\">\n",
    "<a id=\"ex01\"></a>\n",
    "### Exercise 01 (20min)\n",
    "\n",
    "Using the sequence file locations in the file `infiles`, can you:\n",
    "\n",
    "<br></br>\n",
    "<div class=\"alert-danger\">\n",
    "<ul>\n",
    "<li> create a set of `BLASTP` commands as `NcbiblastpCommandline` objects that will conduct all pairwise reciprocal best hit calculations between those files? <b>(HINT: you will need a different output filename for each comparison)</b>\n",
    "<li> print a list of those commands?\n",
    "</ul>\n",
    "</div>"
   ]
  },
  {
   "cell_type": "code",
   "execution_count": 17,
   "metadata": {},
   "outputs": [
    {
     "name": "stdout",
     "output_type": "stream",
     "text": [
      "blastp -out GCA_000269985.1_ASM26998v1_protein.faa_vs_GCA_000696185.1_ASM69618v1_protein.faa -outfmt '6 qseqid sseqid pident qcovs qlen slen length bitscore evalue' -query data/kitasatospora/GCA_000269985.1_ASM26998v1_protein.faa -max_target_seqs 1 -subject data/kitasatospora/GCA_000696185.1_ASM69618v1_protein.faa\n",
      "\n",
      "blastp -out GCA_000696185.1_ASM69618v1_protein.faa_vs_GCA_000269985.1_ASM26998v1_protein.faa -outfmt '6 qseqid sseqid pident qcovs qlen slen length bitscore evalue' -query data/kitasatospora/GCA_000696185.1_ASM69618v1_protein.faa -max_target_seqs 1 -subject data/kitasatospora/GCA_000269985.1_ASM26998v1_protein.faa\n",
      "\n",
      "blastp -out GCA_000269985.1_ASM26998v1_protein.faa_vs_GCA_000836635.1_ASM83663v1_protein.faa -outfmt '6 qseqid sseqid pident qcovs qlen slen length bitscore evalue' -query data/kitasatospora/GCA_000269985.1_ASM26998v1_protein.faa -max_target_seqs 1 -subject data/kitasatospora/GCA_000836635.1_ASM83663v1_protein.faa\n",
      "\n",
      "blastp -out GCA_000836635.1_ASM83663v1_protein.faa_vs_GCA_000269985.1_ASM26998v1_protein.faa -outfmt '6 qseqid sseqid pident qcovs qlen slen length bitscore evalue' -query data/kitasatospora/GCA_000836635.1_ASM83663v1_protein.faa -max_target_seqs 1 -subject data/kitasatospora/GCA_000269985.1_ASM26998v1_protein.faa\n",
      "\n",
      "blastp -out GCA_000269985.1_ASM26998v1_protein.faa_vs_GCA_001424875.1_Root107_protein.faa -outfmt '6 qseqid sseqid pident qcovs qlen slen length bitscore evalue' -query data/kitasatospora/GCA_000269985.1_ASM26998v1_protein.faa -max_target_seqs 1 -subject data/kitasatospora/GCA_001424875.1_Root107_protein.faa\n",
      "\n",
      "blastp -out GCA_001424875.1_Root107_protein.faa_vs_GCA_000269985.1_ASM26998v1_protein.faa -outfmt '6 qseqid sseqid pident qcovs qlen slen length bitscore evalue' -query data/kitasatospora/GCA_001424875.1_Root107_protein.faa -max_target_seqs 1 -subject data/kitasatospora/GCA_000269985.1_ASM26998v1_protein.faa\n",
      "\n",
      "blastp -out GCA_000269985.1_ASM26998v1_protein.faa_vs_GCA_001429805.1_Root187_protein.faa -outfmt '6 qseqid sseqid pident qcovs qlen slen length bitscore evalue' -query data/kitasatospora/GCA_000269985.1_ASM26998v1_protein.faa -max_target_seqs 1 -subject data/kitasatospora/GCA_001429805.1_Root187_protein.faa\n",
      "\n",
      "blastp -out GCA_001429805.1_Root187_protein.faa_vs_GCA_000269985.1_ASM26998v1_protein.faa -outfmt '6 qseqid sseqid pident qcovs qlen slen length bitscore evalue' -query data/kitasatospora/GCA_001429805.1_Root187_protein.faa -max_target_seqs 1 -subject data/kitasatospora/GCA_000269985.1_ASM26998v1_protein.faa\n",
      "\n",
      "blastp -out GCA_000696185.1_ASM69618v1_protein.faa_vs_GCA_000836635.1_ASM83663v1_protein.faa -outfmt '6 qseqid sseqid pident qcovs qlen slen length bitscore evalue' -query data/kitasatospora/GCA_000696185.1_ASM69618v1_protein.faa -max_target_seqs 1 -subject data/kitasatospora/GCA_000836635.1_ASM83663v1_protein.faa\n",
      "\n",
      "blastp -out GCA_000836635.1_ASM83663v1_protein.faa_vs_GCA_000696185.1_ASM69618v1_protein.faa -outfmt '6 qseqid sseqid pident qcovs qlen slen length bitscore evalue' -query data/kitasatospora/GCA_000836635.1_ASM83663v1_protein.faa -max_target_seqs 1 -subject data/kitasatospora/GCA_000696185.1_ASM69618v1_protein.faa\n",
      "\n",
      "blastp -out GCA_000696185.1_ASM69618v1_protein.faa_vs_GCA_001424875.1_Root107_protein.faa -outfmt '6 qseqid sseqid pident qcovs qlen slen length bitscore evalue' -query data/kitasatospora/GCA_000696185.1_ASM69618v1_protein.faa -max_target_seqs 1 -subject data/kitasatospora/GCA_001424875.1_Root107_protein.faa\n",
      "\n",
      "blastp -out GCA_001424875.1_Root107_protein.faa_vs_GCA_000696185.1_ASM69618v1_protein.faa -outfmt '6 qseqid sseqid pident qcovs qlen slen length bitscore evalue' -query data/kitasatospora/GCA_001424875.1_Root107_protein.faa -max_target_seqs 1 -subject data/kitasatospora/GCA_000696185.1_ASM69618v1_protein.faa\n",
      "\n",
      "blastp -out GCA_000696185.1_ASM69618v1_protein.faa_vs_GCA_001429805.1_Root187_protein.faa -outfmt '6 qseqid sseqid pident qcovs qlen slen length bitscore evalue' -query data/kitasatospora/GCA_000696185.1_ASM69618v1_protein.faa -max_target_seqs 1 -subject data/kitasatospora/GCA_001429805.1_Root187_protein.faa\n",
      "\n",
      "blastp -out GCA_001429805.1_Root187_protein.faa_vs_GCA_000696185.1_ASM69618v1_protein.faa -outfmt '6 qseqid sseqid pident qcovs qlen slen length bitscore evalue' -query data/kitasatospora/GCA_001429805.1_Root187_protein.faa -max_target_seqs 1 -subject data/kitasatospora/GCA_000696185.1_ASM69618v1_protein.faa\n",
      "\n",
      "blastp -out GCA_000836635.1_ASM83663v1_protein.faa_vs_GCA_001424875.1_Root107_protein.faa -outfmt '6 qseqid sseqid pident qcovs qlen slen length bitscore evalue' -query data/kitasatospora/GCA_000836635.1_ASM83663v1_protein.faa -max_target_seqs 1 -subject data/kitasatospora/GCA_001424875.1_Root107_protein.faa\n",
      "\n",
      "blastp -out GCA_001424875.1_Root107_protein.faa_vs_GCA_000836635.1_ASM83663v1_protein.faa -outfmt '6 qseqid sseqid pident qcovs qlen slen length bitscore evalue' -query data/kitasatospora/GCA_001424875.1_Root107_protein.faa -max_target_seqs 1 -subject data/kitasatospora/GCA_000836635.1_ASM83663v1_protein.faa\n",
      "\n",
      "blastp -out GCA_000836635.1_ASM83663v1_protein.faa_vs_GCA_001429805.1_Root187_protein.faa -outfmt '6 qseqid sseqid pident qcovs qlen slen length bitscore evalue' -query data/kitasatospora/GCA_000836635.1_ASM83663v1_protein.faa -max_target_seqs 1 -subject data/kitasatospora/GCA_001429805.1_Root187_protein.faa\n",
      "\n",
      "blastp -out GCA_001429805.1_Root187_protein.faa_vs_GCA_000836635.1_ASM83663v1_protein.faa -outfmt '6 qseqid sseqid pident qcovs qlen slen length bitscore evalue' -query data/kitasatospora/GCA_001429805.1_Root187_protein.faa -max_target_seqs 1 -subject data/kitasatospora/GCA_000836635.1_ASM83663v1_protein.faa\n",
      "\n",
      "blastp -out GCA_001424875.1_Root107_protein.faa_vs_GCA_001429805.1_Root187_protein.faa -outfmt '6 qseqid sseqid pident qcovs qlen slen length bitscore evalue' -query data/kitasatospora/GCA_001424875.1_Root107_protein.faa -max_target_seqs 1 -subject data/kitasatospora/GCA_001429805.1_Root187_protein.faa\n",
      "\n",
      "blastp -out GCA_001429805.1_Root187_protein.faa_vs_GCA_001424875.1_Root107_protein.faa -outfmt '6 qseqid sseqid pident qcovs qlen slen length bitscore evalue' -query data/kitasatospora/GCA_001429805.1_Root187_protein.faa -max_target_seqs 1 -subject data/kitasatospora/GCA_001424875.1_Root107_protein.faa\n"
     ]
    }
   ],
   "source": [
    "# SOLUTION - EXERCISE 01\n",
    "\n",
    "# List to hold commands\n",
    "my_commands = []\n",
    "\n",
    "# Loop over input files and create forward and reverse commands\n",
    "for idx, org1 in enumerate(infiles):\n",
    "    for org2 in infiles[idx+1:]:\n",
    "        fwd_out = \"{0}_vs_{1}\".format(os.path.split(org1)[-1],\n",
    "                                      os.path.split(org2)[-1])      # Forward output file\n",
    "        rev_out = \"{1}_vs_{0}\".format(os.path.split(org1)[-1],\n",
    "                                      os.path.split(org2)[-1])      # Reverse output file\n",
    "        fwd_blastp = NcbiblastpCommandline(query=org1, subject=org2, out=fwd_out,\n",
    "                                   outfmt=\"\\'6 qseqid sseqid pident qcovs qlen slen length bitscore evalue\\'\",\n",
    "                                   max_target_seqs=1)  # Forward command\n",
    "        rev_blastp = NcbiblastpCommandline(query=org2, subject=org1, out=rev_out,\n",
    "                                   outfmt=\"\\'6 qseqid sseqid pident qcovs qlen slen length bitscore evalue\\'\",\n",
    "                                   max_target_seqs=1)  # Reverse commmand\n",
    "        my_commands += [fwd_blastp, rev_blastp]\n",
    "        \n",
    "# Print out commands\n",
    "print('\\n\\n'.join([str(cmd) for cmd in my_commands]))"
   ]
  },
  {
   "cell_type": "code",
   "execution_count": null,
   "metadata": {
    "collapsed": true
   },
   "outputs": [],
   "source": []
  }
 ],
 "metadata": {
  "kernelspec": {
   "display_name": "Python 3",
   "language": "python",
   "name": "python3"
  },
  "language_info": {
   "codemirror_mode": {
    "name": "ipython",
    "version": 3
   },
   "file_extension": ".py",
   "mimetype": "text/x-python",
   "name": "python",
   "nbconvert_exporter": "python",
   "pygments_lexer": "ipython3",
   "version": "3.6.3"
  }
 },
 "nbformat": 4,
 "nbformat_minor": 2
}
