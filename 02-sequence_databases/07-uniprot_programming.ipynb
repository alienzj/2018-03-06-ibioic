{
 "cells": [
  {
   "cell_type": "markdown",
   "metadata": {},
   "source": [
    "<img src=\"images/JHI_STRAP_Web.png\" style=\"width: 150px; float: right;\">\n",
    "# 07 - Programming for `UniProt`"
   ]
  },
  {
   "cell_type": "markdown",
   "metadata": {},
   "source": [
    "## Table of Contents\n",
    "\n",
    "1. [Introduction](#introduction)\n",
    "2. [Python imports](#imports)\n",
    "3. [Running a remote `UniProt` query](#uniprot)\n",
    "  1. [Connecting to `UniProt`](#connect)\n",
    "  2. [Constructing a query](#query)\n",
    "  3. [Perform the query](#search)\n",
    "  4. [EXAMPLE: Putting it together](#example01)\n",
    "4. [Advanced queries](#advanced)\n",
    "  1. [`key:value` queries](#keyvalue)\n",
    "  2. [Exercise 01](#exercise01)\n",
    "  3. [Combining queries](#combine)\n",
    "4. [Processing query results](#processing)"
   ]
  },
  {
   "cell_type": "markdown",
   "metadata": {},
   "source": [
    "<a id=\"introduction\"></a>\n",
    "## Introduction\n",
    "\n",
    "The `UniProt` browser interface is very powerful, but you will have noticed that even the most complex queries can be converted into a single string that describes the search being made of the `UniProt` databases. This string is generated for you, and placed into the search field at the top of the `UniProt` webpage every time you run a search.\n",
    "\n",
    "It can be tedious and time-consuming to point-and-click your way through a large number of browser-based searches, but by using the `UniProt` webservice, the search strings you've already seen, and a Python module called `bioservices`, we can compose and run as many searches as we like using computer code, and pull the results of those searches\n",
    "\n",
    "This notebook presents examples of methods for using `UniProt` programmatically, via a webservice, and you will be controlling the searches using Python code in this notebook.\n",
    "\n",
    "<div class=\"alert-success\">\n",
    "<b>There are a number of advantages to this approach:</b>\n",
    "</div>\n",
    "\n",
    "* It is easy to set up repeatable searches for many sequences, or collections of sequences\n",
    "* It is easy to read in the search results and conduct downstream analyses that add value to your search\n",
    "\n",
    "Where it is not practical to submit a large number of simultaneous queries via a web form (because it is tiresome to point-and-click over and over again), this can be handled programmatically instead. You have the opportunity to change custom options to help refine your query, compared to the website interface. If you need to repeat a query, it can be trivial to get the same settings every time, if you use a programmatic approach."
   ]
  },
  {
   "cell_type": "markdown",
   "metadata": {},
   "source": [
    "<a id=\"imports\"></a>\n",
    "## Python imports"
   ]
  },
  {
   "cell_type": "code",
   "execution_count": 2,
   "metadata": {
    "collapsed": false
   },
   "outputs": [
    {
     "name": "stdout",
     "output_type": "stream",
     "text": [
      "Populating the interactive namespace from numpy and matplotlib\n"
     ]
    }
   ],
   "source": [
    "# Show plots as part of the notebook\n",
    "%pylab inline\n",
    "\n",
    "# Standard library packages\n",
    "import os\n",
    "\n",
    "# Import bioservices module, to run remote UniProt queries\n",
    "from bioservices import UniProt"
   ]
  },
  {
   "cell_type": "markdown",
   "metadata": {},
   "source": [
    "<a id=\"uniprot\"></a>\n",
    "## Running a remote `UniProt` query\n",
    "\n",
    "There are three key steps to running a remote `UniProt` query with `bioservices`:\n",
    "\n",
    "1. Make a link to the `UniProt` webservice\n",
    "2. Construct a query string\n",
    "3. Send the query to `UniProt`, and catch the result in a variable\n",
    "\n",
    "Once the search result is caught, it can be processed in any way you like, written to a file, or ignored.\n",
    "\n",
    "<a id=\"connect\"></a>\n",
    "### Connecting to `UniProt`\n",
    "\n",
    "To open a connection to `UniProt`, you make an *instance* of the `UniProt()` *class* from `bioservices`. This is persistent, so once it is created, you can interact with it over and over again. To make the instance, you need to assign `UniProt()` to a variable.\n",
    "\n",
    "```\n",
    "service = UniProt() # it is good practice to have a meaningful variable name\n",
    "```\n",
    "\n",
    "<a id=\"query\"></a>\n",
    "### Constructing a query\n",
    "\n",
    "`UniProt` allows for the construction of complex searches by combining *fields*. A full discussion is beyond the scope of this lesson, but you will have seen in [notebook 06](06-uniprot_browser.ipynb) that the searches you constructed by pointing and clicking on the `UniProt` website were converted into text in the search field at the top. \n",
    "\n",
    "To describe the format briefly: there are a set of defined *keys* - keywords that indicate the specific type of data you want to search in (such as `host`, `annotation`, or sequence `length`), and these are combined with a particular *value* you want to search for (such as `mouse`, or `40674`) in a `key:value` pair, separated by a colon, such as `host:mouse` or `ec:3.2.1.23`.\n",
    "\n",
    "* `UniProt` query fields: [http://www.uniprot.org/help/query-fields](http://www.uniprot.org/help/query-fields)\n",
    "\n",
    "If you provide a string, instead of a `key:value` pair, `UniProt` will search in all *fields* for your search term.\n",
    "\n",
    "Programmatically, we construct the query as a *string*, e.g.\n",
    "\n",
    "```\n",
    "query = \"Q9AJE3\"  # this query means we want to look in all fields for Q9AJE3\n",
    "```\n",
    "\n",
    "<a id=\"search\"></a>\n",
    "### Perform the query\n",
    "\n",
    "To send the query to `UniProt`, you will use the `.search()` *method* of your active instance of the `UniProt()` *class*. If you have assigned this instance to the variable `service` (as above), then you can run the query with the line:\n",
    "\n",
    "```\n",
    "result = service.search(query)  # Run a query and catch the output in result\n",
    "```\n",
    "\n",
    "In the line above, the output of the search (i.e. your results) are stored in a variable called `result`. It is good practice to make variable names short and descriptive - this makes your code easier to read."
   ]
  },
  {
   "cell_type": "markdown",
   "metadata": {},
   "source": [
    "<a id=\"example01\"></a>\n",
    "### EXAMPLE: Putting it together\n",
    "\n",
    "The code in the cell below uses the example code above to create an instance of the `UniProt()` class, and use it to submit a pre-stored query to the `UniProt` service, then catch the result in a variable called `result`. The `print()` statement then shows us what the result looks like, as returned by the service."
   ]
  },
  {
   "cell_type": "code",
   "execution_count": 4,
   "metadata": {
    "collapsed": false
   },
   "outputs": [
    {
     "name": "stdout",
     "output_type": "stream",
     "text": [
      "Entry\tEntry name\tStatus\tProtein names\tGene names\tOrganism\tLength\n",
      "Q9AJE3\tCYC2_KITGR\treviewed\tTerpentetriene synthase (EC 4.2.3.36)\tcyc2\tKitasatospora griseola (Streptomyces griseolosporeus)\t311\n",
      "\n"
     ]
    }
   ],
   "source": [
    "# Make a link to the UniProt webservice\n",
    "service = UniProt()\n",
    "\n",
    "# Build a query string\n",
    "query = \"Q9AJE3\"\n",
    "\n",
    "# Send the query to UniProt, and catch the search result in a variable\n",
    "result = service.search(query)\n",
    "\n",
    "# Inspect the result\n",
    "print(result)"
   ]
  },
  {
   "cell_type": "markdown",
   "metadata": {},
   "source": [
    "The `UniProt()` instance defined in the cell above is *persistent*, so you can reuse it to make another query, as in the cell below:"
   ]
  },
  {
   "cell_type": "code",
   "execution_count": 6,
   "metadata": {
    "collapsed": false
   },
   "outputs": [
    {
     "name": "stdout",
     "output_type": "stream",
     "text": [
      "Entry\tEntry name\tStatus\tProtein names\tGene names\tOrganism\tLength\n",
      "Q01844\tEWS_HUMAN\treviewed\tRNA-binding protein EWS (EWS oncogene) (Ewing sarcoma breakpoint region 1 protein)\tEWSR1 EWS\tHomo sapiens (Human)\t656\n",
      "Q12933\tTRAF2_HUMAN\treviewed\tTNF receptor-associated factor 2 (EC 2.3.2.27) (E3 ubiquitin-protein ligase TRAF2) (RING-type E3 ubiquitin transferase TRAF2) (Tumor necrosis factor type 2 receptor-associated protein 3)\tTRAF2 TRAP3\tHomo sapiens (Human)\t501\n",
      "Q13077\tTRAF1_HUMAN\treviewed\tTNF receptor-associated factor 1 (Epstein-Barr virus-induced protein 6)\tTRAF1 EBI6\tHomo sapiens (Human)\t416\n",
      "O15162\tPLS1_HUMAN\treviewed\tPhospholipid scramblase 1 (PL scramblase 1) (Ca(2+)-dependent phospholipid scramblase 1) (Erythrocyte phospholipid scramblase) (MmTRA1b)\tPLSCR1\tHomo sapiens (Human)\t318\n",
      "Q99873\tANM1_HUMAN\treviewed\tProtein arginine N-methyltransferase 1 (EC 2.1.1.319) (Histone-arginine N-methyltransferase PRMT1) (Interferon receptor 1-bound protein 4)\tPRMT1 HMT2 HRMT1L2 IR1B4\tHomo sapiens (Human)\t361\n",
      "P35637\tFUS_HUMAN\treviewed\tRNA-binding protein FUS (75 kDa DNA-pairing protein) (Oncogene FUS) (Oncogene TLS) (POMp75) (Translocated in liposarcoma protein)\tFUS TLS\tHomo sapiens (Human)\t526\n",
      "Q9NS23\tRASF1_HUMAN\treviewed\tRas association domain-containing protein 1\tRASSF1 RDA32\tHomo sapiens (Human)\t344\n",
      "Q92734\tTFG_HUMAN\treviewed\tProtein TFG (TRK-fused gene protein)\tTFG\tHomo sapiens (Human)\t400\n",
      "Q8N5M1\tATPF2_HUMAN\treviewed\tATP synthase mitochondrial F1 complex assembly factor 2 (ATP12 homolog)\tATPAF2 ATP12 LP3663\tHomo sapiens (Human)\t289\n",
      "O94855\tSC24D_HUMAN\treviewed\tProtein transport protein Sec24D (SEC24-related protein D)\tSEC24D KIAA0755\tHomo sapiens (Human)\t1032\n",
      "O95486\tSC24A_HUMAN\treviewed\tProtein transport protein Sec24A (SEC24-related protein A)\tSEC24A\tHomo sapiens (Human)\t1093\n",
      "Q9UBV8\tPEF1_HUMAN\treviewed\tPeflin (PEF protein with a long N-terminal hydrophobic domain) (Penta-EF hand domain-containing protein 1)\tPEF1 ABP32 UNQ1845/PRO3573\tHomo sapiens (Human)\t284\n",
      "Q9NZ81\tPRR13_HUMAN\treviewed\tProline-rich protein 13 (Taxane-resistance protein)\tPRR13 TXR1 BM-041\tHomo sapiens (Human)\t148\n",
      "Q9BWW4\tSSBP3_HUMAN\treviewed\tSingle-stranded DNA-binding protein 3 (Sequence-specific single-stranded-DNA-binding protein)\tSSBP3 SSDP SSDP1\tHomo sapiens (Human)\t388\n",
      "Q8NDC0\tMISSL_HUMAN\treviewed\tMAPK-interacting and spindle-stabilizing protein-like (Mitogen-activated protein kinase 1-interacting protein 1-like)\tMAPK1IP1L C14orf32\tHomo sapiens (Human)\t245\n",
      "P49910\tZN165_HUMAN\treviewed\tZinc finger protein 165 (Cancer/testis antigen 53) (CT53) (LD65) (Zinc finger and SCAN domain-containing protein 7)\tZNF165 ZPF165 ZSCAN7\tHomo sapiens (Human)\t485\n",
      "\n"
     ]
    }
   ],
   "source": [
    "# Make a new query string, and run a remote search at UniProt\n",
    "new_query = \"Q01844\"\n",
    "new_result = service.search(new_query)\n",
    "\n",
    "# Inspect the result\n",
    "print(new_result)"
   ]
  },
  {
   "cell_type": "markdown",
   "metadata": {},
   "source": [
    "<a id=\"advanced\"></a>\n",
    "## Advanced queries\n",
    "\n",
    "The examples above built queries that were simple strings. They did not exploit the `key:value` search structure, or combine search terms. In this section, you will explore some queries that use the `UniProt` query fields, and combine them into powerful, filtering searches.\n",
    "\n",
    "<a id=\"keyvalue\"></a>\n",
    "### `key:value` queries\n",
    "\n",
    "As noted above (and at [http://www.uniprot.org/help/query-fields](http://www.uniprot.org/help/query-fields)) particular values of specific data can be requested by using `key:value` pairs to restrict searches to named *fields* in the `UniProt` database.\n",
    "\n",
    "As a first example, you will note that the result returned for the query `\"Q01844\"` has multiple entries. Only one of these is the sequence with `accession` value equal to `\"Q01844\"`, but the other entries make reference to this sequence somewhere in their database record. If we want to restrict our result only to the particular entry `\"Q01844\"`, we can specify the field we want to search as `accession`, and build the following query:\n",
    "\n",
    "```\n",
    "query = \"accession:Q01844\"  # specify a search on the accession field\n",
    "```\n",
    "\n",
    "Note that we can use the same variable name `query` as earlier. The code below runs the search and shows the output:"
   ]
  },
  {
   "cell_type": "code",
   "execution_count": 8,
   "metadata": {
    "collapsed": false
   },
   "outputs": [
    {
     "name": "stdout",
     "output_type": "stream",
     "text": [
      "Entry\tEntry name\tStatus\tProtein names\tGene names\tOrganism\tLength\n",
      "Q01844\tEWS_HUMAN\treviewed\tRNA-binding protein EWS (EWS oncogene) (Ewing sarcoma breakpoint region 1 protein)\tEWSR1 EWS\tHomo sapiens (Human)\t656\n",
      "\n"
     ]
    }
   ],
   "source": [
    "# Make a new query string, and run a remote search at UniProt\n",
    "query = \"accession:Q01844\"\n",
    "result = service.search(query)\n",
    "\n",
    "# Inspect the result\n",
    "print(result)"
   ]
  },
  {
   "cell_type": "markdown",
   "metadata": {},
   "source": [
    "<div class=\"alert-success\">\n",
    "<b>By using this and other `key:value` constructions, we can refine our searches to give us only the entries we're interested in</b>"
   ]
  },
  {
   "cell_type": "markdown",
   "metadata": {},
   "source": [
    "<img src=\"images/exercise.png\" style=\"width: 100px; float: left;\">\n",
    "<a id=\"ex01\"></a>\n",
    "### Exercise 01 (10min)\n",
    "\n",
    "Using `key:value` searches, can you find and download sets of entries for proteins that satisfy the following requirements (**HINT** the links to the `UniProt` query fields may be helpful, here):\n",
    "\n",
    "<br></br>\n",
    "<div class=\"alert-danger\">\n",
    "<ul>\n",
    "<li> Have publications authored by someone with the surname Broadhurst\n",
    "<li> Have protein length between 900aa and 1000aa\n",
    "<li> Derive from the taipan snake\n",
    "<li> Have been found in the eye\n",
    "</ul>\n",
    "</div>"
   ]
  },
  {
   "cell_type": "code",
   "execution_count": null,
   "metadata": {
    "collapsed": false,
    "scrolled": true
   },
   "outputs": [],
   "source": [
    "# SOLUTION - EXERCISE 01\n",
    "queries = [\"author:broadhurst\", \"length:[1200 TO 1220]\", \"organism:taipan\", \"tissue:eye\"]\n",
    "\n",
    "for query in queries:\n",
    "    print(\"\\n%s\" % query)\n",
    "    result = service.search(query)\n",
    "    print(result)"
   ]
  },
  {
   "cell_type": "markdown",
   "metadata": {},
   "source": [
    "<a id=\"processing\"></a>\n",
    "## Processing query results"
   ]
  },
  {
   "cell_type": "code",
   "execution_count": null,
   "metadata": {
    "collapsed": true
   },
   "outputs": [],
   "source": []
  }
 ],
 "metadata": {
  "kernelspec": {
   "display_name": "Python 3 (IBioIC)",
   "language": "python",
   "name": "python3_ibioic_course"
  },
  "language_info": {
   "codemirror_mode": {
    "name": "ipython",
    "version": 3
   },
   "file_extension": ".py",
   "mimetype": "text/x-python",
   "name": "python",
   "nbconvert_exporter": "python",
   "pygments_lexer": "ipython3",
   "version": "3.6.0"
  }
 },
 "nbformat": 4,
 "nbformat_minor": 2
}
