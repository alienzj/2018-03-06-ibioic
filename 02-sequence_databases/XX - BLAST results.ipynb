{
 "cells": [
  {
   "cell_type": "markdown",
   "metadata": {
    "deletable": true,
    "editable": true
   },
   "source": [
    "<img src=\"../images/JHI_STRAP_Web.png\" style=\"width: 150px; float: right;\">\n",
    "# XX - Interpreting `BLAST` results"
   ]
  },
  {
   "cell_type": "markdown",
   "metadata": {
    "deletable": true,
    "editable": true
   },
   "source": [
    "## Introduction\n",
    "\n",
    "In this short exercise, we will look at an example `BLAST` output file, and consider some features important for interpretation.\n",
    "\n",
    "<p></p>\n",
    "<div class=\"alert-success\">\n",
    "<b>Check your post-it notes to see which group you are in: A, B, C, or D</b>\n",
    "</div>"
   ]
  },
  {
   "cell_type": "markdown",
   "metadata": {
    "deletable": true,
    "editable": true
   },
   "source": [
    "## Get your `BLAST` output\n",
    "\n",
    "* **Change the value of the variable `mygroup` in the cell below, and execute the cell to obtain your `BLAST` output for this exercise.**"
   ]
  },
  {
   "cell_type": "code",
   "execution_count": null,
   "metadata": {
    "collapsed": false
   },
   "outputs": [],
   "source": [
    "# Import Python modules\n",
    "import os\n",
    "from Bio.Blast.Applications import NcbiblastpCommandline\n",
    "\n",
    "# CHANGE YOUR GROUP, HERE\n",
    "mygroup = \"D\"\n",
    "\n",
    "# Run BLAST\n",
    "blastdir = os.path.join(\"data\", \"blast\")                           # BLAST data directory\n",
    "query = os.path.join(blastdir, \"query.fasta\")                      # query sequence\n",
    "db = os.path.join(blastdir, \"db{0}\".format(mygroup))               # database for search\n",
    "blastout = os.path.join(blastdir, \"group{0}.out\".format(mygroup))  # output\n",
    "\n",
    "# Create and run BLASTP command\n",
    "cmd = NcbiblastpCommandline(query=query, out=blastout, db=db,\n",
    "                            num_alignments=1, num_descriptions=1)  # create\n",
    "cmd()                                                              # run\n",
    "\n",
    "with open(blastout, 'r') as fh:                                    # load BLAST output\n",
    "    data = fh.read()\n",
    "print(data)                                                        # show BLAST output"
   ]
  },
  {
   "cell_type": "code",
   "execution_count": null,
   "metadata": {
    "collapsed": true
   },
   "outputs": [],
   "source": []
  }
 ],
 "metadata": {
  "kernelspec": {
   "display_name": "Python 3 (IBioIC)",
   "language": "python",
   "name": "python3_ibioic_course"
  },
  "language_info": {
   "codemirror_mode": {
    "name": "ipython",
    "version": 3
   },
   "file_extension": ".py",
   "mimetype": "text/x-python",
   "name": "python",
   "nbconvert_exporter": "python",
   "pygments_lexer": "ipython3",
   "version": "3.6.0"
  }
 },
 "nbformat": 4,
 "nbformat_minor": 2
}
