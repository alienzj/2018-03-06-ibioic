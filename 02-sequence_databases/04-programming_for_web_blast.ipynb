{
 "cells": [
  {
   "cell_type": "markdown",
   "metadata": {
    "deletable": true,
    "editable": true
   },
   "source": [
    "<img src=\"images/JHI_STRAP_Web.png\" style=\"width: 150px; float: right;\">\n",
    "# 04 - Using NCBI `BLAST+` Service  with Biopython"
   ]
  },
  {
   "cell_type": "markdown",
   "metadata": {
    "deletable": true,
    "editable": true
   },
   "source": [
    "## Learning Outcomes\n",
    "\n",
    "* Use of `NCBI` remote `BLAST+` using Python and Biopython in the Jupyter notebook\n",
    "* Creating a remote `BLAST+` query, and its connection to running a `BLAST+` search on the server\n",
    "* Reading `BLAST+` output from the `NCBI` server into a Python variable\n",
    "* Using Entrez queries to customise your remote search\n",
    "* Computational analysis and visualisation of `BLAST+` output"
   ]
  },
  {
   "cell_type": "markdown",
   "metadata": {
    "deletable": true,
    "editable": true
   },
   "source": [
    "## Table of Contents\n",
    "\n",
    "1. [Introduction](#introduction)\n",
    "2. [Python imports](#imports)\n",
    "3. [Running and analysing a remote BLASTX search](#blastx)\n",
    "  1. [Run `BLASTX`](#runblastx)\n",
    "  2. [Load `BLASTX` results](#loadresults)\n",
    "  3. [Exercise 01](#ex01)"
   ]
  },
  {
   "cell_type": "markdown",
   "metadata": {
    "deletable": true,
    "editable": true
   },
   "source": [
    "## Introduction\n",
    "\n",
    "<p></p>\n",
    "<div class=\"alert-success\">\n",
    "<b>This notebook presents examples of methods for using `BLAST` programmatically, with the webservice provided by NCBI. All calculations will be run on NCBI's servers, using NCBI's databases (not your local `BLAST` installation), but you will be controlling the search using Python code in this notebook.</b>\n",
    "</div>\n",
    "\n",
    "The advantages to using a programmatic interface for remote BLAST queries are the same as those listed in [notebook 03](03-programming_for_blast):\n",
    "\n",
    "* It is easy to set up repeatable searches for many sequences, or collections of sequences\n",
    "* It is easy to read in the search results and conduct downstream analyses that add value to your search\n",
    "\n",
    "Where it is impractical to submit a large number of similar queries via a web form (because it is tiresome to point-and-click over and over again), this can be handled programmatically instead. You have the opportunity to change custom options to help refine your query, just as in the website interface. If you need to repeat a query, it can be trivial to get the same settings every time, if you use a programmatic approach."
   ]
  },
  {
   "cell_type": "markdown",
   "metadata": {
    "deletable": true,
    "editable": true
   },
   "source": [
    "<a id=\"imports\"></a>\n",
    "## Python imports\n",
    "\n",
    "<p></p>\n",
    "<div class=\"alert-success\">\n",
    "<b>To interact with the NCBI's `BLAST` service, we will again use the free `Biopython` programming tools. These provide an interface to interact with NCBI's `BLAST` server, run jobs, and to retrieve the output files.</b>\n",
    "</div>\n",
    "\n",
    "We import these tools, and some standard library packages for working with files (`os`) below."
   ]
  },
  {
   "cell_type": "code",
   "execution_count": null,
   "metadata": {
    "collapsed": false,
    "deletable": true,
    "editable": true
   },
   "outputs": [],
   "source": [
    "# Show plots as part of the notebook\n",
    "%pylab inline\n",
    "\n",
    "# Standard library packages\n",
    "import os\n",
    "\n",
    "# Import Biopython tools for running remote BLAST searches\n",
    "from Bio.Blast import NCBIWWW\n",
    "\n",
    "# Import Biopython SeqIO module to handle reading sequence data\n",
    "from Bio import SeqIO"
   ]
  },
  {
   "cell_type": "markdown",
   "metadata": {
    "deletable": true,
    "editable": true
   },
   "source": [
    "<a id=\"blastx\"></a>\n",
    "## Running and analysing a remote BLASTX search\n",
    "\n",
    "<p></p>\n",
    "<div class=\"alert-success\">\n",
    "<b>As in [notebook 03](03-programming_for_blast.ipynb), your first worked example will be to run a `BLASTX` search, querying a nucleotide sequence against a protein database, to identify potential homologues. What is different about this search is that you will be conducting it at NCBI, and using a different database.</b>\n",
    "</div>\n",
    "\n",
    "You will use `Biopython` in the code blocks below to first perform the same `BLASTX` search you carried out in the exercise from [notebook 01](01-blast_at_NCBI_website.ipynb) - this will query a lantibiotic biosynthesis protein from *Kitasatospora* against other *Kitasatospora* species - and write the results to file. Then you will parse the results into a `pandas` dataframe, and finally plot some summary statistics using `seaborn`."
   ]
  },
  {
   "cell_type": "markdown",
   "metadata": {
    "deletable": true,
    "editable": true
   },
   "source": [
    "<a id=\"runblastx\"></a>\n",
    "### Run `BLASTX`\n",
    "\n",
    "<p></p>\n",
    "<div class=\"alert-success\">\n",
    "<b>Running a remote `BLAST` search with `Biopython` is, in some ways, simpler than running a local `BLAST` query. The key steps are:</b>\n",
    "</div>\n",
    "\n",
    "1. Read the query sequence(s) from a source (possibly a local file, but maybe a remote database)\n",
    "2. Run a remote job with the `NCBIWWW.qblast()` method, specifying your query sequence, database, and `BLAST` program\n",
    "3. Parse the output you get back from NCBI\n",
    "\n",
    "To run the remote job, you need the same kind of information as if you were running `BLAST` via the web interface - these arguments are compulsory:\n",
    "\n",
    "* the `BLAST` program to use\n",
    "* query sequence(s) to search with\n",
    "* the database to search in\n",
    "\n",
    "but you can provide some extra choices when you run the remote job, including restricting the remote search on the basis of taxonomy, just as you did in the exercise from `notebook 01` (you will do this later)."
   ]
  },
  {
   "cell_type": "markdown",
   "metadata": {
    "deletable": true,
    "editable": true
   },
   "source": [
    "<div class=\"alert-success\">\n",
    "<b>Firstly, you will obtain a query sequence for the search.</b>\n",
    "</div>\n",
    "\n",
    "You will use the same penicillin-binding protein from `notebook 01`, reading it as before from a local file, but this time using `Biopython's` `SeqIO()` module.\n",
    "\n",
    "<p></p>\n",
    "<div class=\"alert-warning\">\n",
    "<b>When data such as biological sequences are read in, their metadata - information on database IDs, and other features - follows them. `Biopython` does a nice job of showing us this information if we look at it with the `print()` function:</b>\n",
    "</div>"
   ]
  },
  {
   "cell_type": "code",
   "execution_count": null,
   "metadata": {
    "collapsed": false,
    "deletable": true,
    "editable": true
   },
   "outputs": [],
   "source": [
    "# Define path to data directory\n",
    "datadir = os.path.join(\"data\", \"kitasatospora\")\n",
    "\n",
    "# Load sequence of penicillin-binding protein, and inspect the information\n",
    "seqfile = os.path.join(datadir, \"k_sp_CB01950_penicillin.fasta\")\n",
    "seq = SeqIO.read(seqfile, \"fasta\")\n",
    "print(seq)"
   ]
  },
  {
   "cell_type": "markdown",
   "metadata": {
    "deletable": true,
    "editable": true
   },
   "source": [
    "<div class=\"alert-warning\">\n",
    "<b>However, the remote `BLAST` server requires us to present our sequence in `FASTA` format!</b>\n",
    "</div>\n",
    "\n",
    "One of the clever things about `Biopython`'s sequence objects - and a big advantage of using programmatic approaches - is that we can readily convert our sequence information into a number of different formats. To do this, we can use the sequence's `.format()` method to produce a `FASTA`-formatted string.\n",
    "\n",
    "Doing this does not change the original sequence or its information in any way, but it creates a new presentation of that data, which we can use as our query:"
   ]
  },
  {
   "cell_type": "code",
   "execution_count": null,
   "metadata": {
    "collapsed": false,
    "deletable": true,
    "editable": true
   },
   "outputs": [],
   "source": [
    "# We need the sequence as a string, so use the .format() method\n",
    "print(seq.format(\"fasta\"))"
   ]
  },
  {
   "cell_type": "markdown",
   "metadata": {
    "deletable": true,
    "editable": true
   },
   "source": [
    "<div class=\"alert-success\">\n",
    "<b>You are now almost ready to build your remote `BLAST` query</b>\n",
    "</div>\n",
    "\n",
    "The last two things you need to do are to consider the database we're going to search against, and the format you want the data returned in.\n",
    "\n",
    "* You are going to query against the `pdbaa` database (which contains amino acid sequences for the set of proteins with known structures) as this is small, and should return a result fairly quickly. This is a useful way to identify protein structures that may be useful for threading or other analyses (structural analyses will be covered in session 04).\n",
    "* You are going to request `\"Text\"` format output, which will be easy for humans to read.\n",
    "\n",
    "<p></p>\n",
    "<div class=\"alert-warning\">\n",
    "<b>The search will return a special kind of object called a 'handle', which we still need to do some work with, to turn into a file, or read the results from.</b>\n",
    "</div>\n",
    "\n",
    "<p></p>\n",
    "<div class=\"alert-danger\">\n",
    "<b>NOTE: the remote search may take some time.</b>\n",
    "</div>"
   ]
  },
  {
   "cell_type": "code",
   "execution_count": null,
   "metadata": {
    "collapsed": false,
    "deletable": true,
    "editable": true
   },
   "outputs": [],
   "source": [
    "# Run a remote BLASTX search, with the penicillin-binding protein as a query,\n",
    "# against the pdbaa database, getting text output\n",
    "result_handle = NCBIWWW.qblast(\"blastx\", \"pdbaa\", seq.format(\"fasta\"),\n",
    "                               format_type=\"Text\")"
   ]
  },
  {
   "cell_type": "markdown",
   "metadata": {
    "deletable": true,
    "editable": true
   },
   "source": [
    "Once the search has completed, you can `read()` the contents of the handle into a variable called `output`, and then inspect the contents using the `print()` function."
   ]
  },
  {
   "cell_type": "code",
   "execution_count": null,
   "metadata": {
    "collapsed": false,
    "deletable": true,
    "editable": true
   },
   "outputs": [],
   "source": [
    "# Read the contents of the handle, and print to the cell\n",
    "output = result_handle.read()\n",
    "print(output)"
   ]
  },
  {
   "cell_type": "markdown",
   "metadata": {
    "deletable": true,
    "editable": true
   },
   "source": [
    "<div class=\"alert-warning\">\n",
    "<h3>QUESTIONS</h3>\n",
    "<ol>\n",
    "<li> How is this output different to that from command-line and web-interface `BLAST` results?\n",
    "<li> How many hits are there?\n",
    "<li> What is the \"best hit\" to the query? Do you think it is a 'good' hit?\n",
    "<li> At what point do you think the matches start to become less reliable? Why do you think this? (*HINT:* inspect the alignments)\n",
    "</ol>\n",
    "</div>"
   ]
  },
  {
   "cell_type": "markdown",
   "metadata": {
    "deletable": true,
    "editable": true
   },
   "source": [
    "<a id=\"save\"></a>\n",
    "### Save `BLASTX` results to file\n",
    "\n",
    "The results you obtianed above are human-readable, and similar to the default output type you saw from command-line/terminal `BLAST` in [notebook 02](02-blast_at_terminal.ipynb). But, for now, they exist only in the variable called `output`. If we want to come back to these results at some time in the future, we will need to save them to a file somewhere.\n",
    "\n",
    "This is a common operation in programmatic approaches to bioinformatics: once a result is obtained, we usually want to save it to a file. Most command-line programs will do this for you, but when working programmatically mostly you will need to save it explicitly, yourself.\n",
    "\n",
    "The Python code for saving the contents of `output` to the file `output/kitasatospora/remote_blastx_query_01.txt` is given in the cell below:"
   ]
  },
  {
   "cell_type": "code",
   "execution_count": null,
   "metadata": {
    "collapsed": false,
    "deletable": true,
    "editable": true
   },
   "outputs": [],
   "source": [
    "# Make directory to save output, if it doesn't exist\n",
    "outdir = os.path.join(\"output\", \"kitasatospora\")\n",
    "os.makedirs(outdir, exist_ok=True)\n",
    "\n",
    "# Save output to file\n",
    "outfilename = os.path.join(outdir, \"remote_blastx_query_01.txt\")\n",
    "with open(outfilename, 'w') as outfh:\n",
    "    outfh.write(output)"
   ]
  },
  {
   "cell_type": "markdown",
   "metadata": {
    "deletable": true,
    "editable": true
   },
   "source": [
    "This code does three main things:\n",
    "\n",
    "1. It creates a variable called `outfilename`, with the path to the file we want to write\n",
    "2. It opens that file, ready for writing, as a *handle* called `outfh`\n",
    "3. It writes the contents of `output` into the `outfh` *handle* (and then closes the *handle*)\n",
    "\n",
    "When this is done, the `BLAST` search results we got from NCBI are written to the file `output/kitasatospora/remote_blastx_query_01.txt`, just as though we did the search locally. You can inspect the contents of that file at the terminal using a command like:\n",
    "\n",
    "```bash\n",
    "less output/kitasatospora/remote_blastx_query_01.txt\n",
    "```"
   ]
  },
  {
   "cell_type": "markdown",
   "metadata": {
    "deletable": true,
    "editable": true
   },
   "source": [
    "<a id=\"entrez\"></a>\n",
    "### Using Entrez queries to modify the remote database\n",
    "\n",
    "The remote NCBI `BLAST+` service provides large, comprehensive databases such as `nr`, `nt` and `refseq`, but it doesn't provide very many specialised databases. Searches against large databases - where you don't care about most of the sequences, and most of the sequences are unlikely to match - can be wasteful and take longer than necessary to get the useful answer you're looking for. But a smaller, specialised organism-centric database - which would be much quicker to search - may not exist separately.\n",
    "\n",
    "<p></p>\n",
    "<div class=\"alert-success\">\n",
    "<b>NCBI provide a service called `Entrez E-Utilities` which allows for complex text-based searches to be defined. A detailed consideration of this very powerful tool is beyond the scope of this course, but we will use the service to replicate the `Organism` field of the NCBI web browser interface that allowed us to restrict the `nr` database only to <i>Kitasatospora</i> sequences.</b>\n",
    "</div>"
   ]
  },
  {
   "cell_type": "markdown",
   "metadata": {
    "deletable": true,
    "editable": true
   },
   "source": [
    "In [notebook 01](01-blast_at_NCBI_website.ipynb) you used the `Organism` field in the web browser interface to specify `Kitasatospora (taxid: 2063)` when querying against the complete `nr` database. This had the effect of only querying against sequences in `nr` that originated from *Kitasatospora*, reducing the overall search time and giving you the relevant hits you needed without producing a very large set of output.\n",
    "\n",
    "To perform a similar filtering of the search using `NCBIWWW.qblast()`, you specify the argument `entrez_query`. The value to be passed is a string that describes the search field you want to filter on. There are many search field options (see the [list here](https://www.ncbi.nlm.nih.gov/books/NBK49540/)), but we will use only one in this lesson: the `organism` field.\n",
    "\n",
    "<p></p>\n",
    "<div class=\"alert-warning\">\n",
    "<b>The `Entrez` query syntax is the same syntax that you would use in any browser-based NCBI database search, and is reported back to you when you refine searches at NCBI. Looking at that output is a good way to find interesting ways to slice large databases into smaller subsets of interest.</b>\n",
    "</div>"
   ]
  },
  {
   "cell_type": "markdown",
   "metadata": {
    "deletable": true,
    "editable": true
   },
   "source": [
    "#### The `organism` field `[ORGN]`\n",
    "\n",
    "The syntax for filtering on organism is `<value>[ORGN]` where `<value>` is the term you want to filter on. This can be the name of the organism, or an identifier such as the NCBI taxon ID.\n",
    "\n",
    "<p></p>\n",
    "<div class=\"alert-warning\">\n",
    "<b>In the cell below, the remote search is conducted on the `nr` database, but restricted only to the set of sequences originating from *Kitasatospora*, by specififying `entrez_query=\"kitasatospora[ORGN]\"`:</b>\n",
    "</div>"
   ]
  },
  {
   "cell_type": "code",
   "execution_count": null,
   "metadata": {
    "collapsed": false,
    "deletable": true,
    "editable": true
   },
   "outputs": [],
   "source": [
    "# Repeat the BLAST search on the nr database, restricted to Kitasatospora spp.\n",
    "result_handle = NCBIWWW.qblast(\"blastx\", \"nr\", seq.format(\"fasta\"),\n",
    "                               entrez_query=\"kitasatospora[ORGN]\",\n",
    "                               format_type=\"Text\")"
   ]
  },
  {
   "cell_type": "code",
   "execution_count": null,
   "metadata": {
    "collapsed": false,
    "deletable": true,
    "editable": true
   },
   "outputs": [],
   "source": [
    "# Show human-readable results\n",
    "output = result_handle.read()\n",
    "print(output)\n",
    "\n",
    "# Save output to file\n",
    "outfilename = os.path.join(outdir, \"remote_blastx_query_02.txt\")\n",
    "with open(outfilename, 'w') as outfh:\n",
    "    outfh.write(output)"
   ]
  },
  {
   "cell_type": "markdown",
   "metadata": {
    "deletable": true,
    "editable": true
   },
   "source": [
    "<div class=\"alert-warning\">\n",
    "<h3>QUESTIONS</h3>\n",
    "<ol>\n",
    "<li> How does this output differ from that of the same search conducted through the web browser interface?\n",
    "</ol>\n",
    "</div>"
   ]
  },
  {
   "cell_type": "markdown",
   "metadata": {
    "deletable": true,
    "editable": true
   },
   "source": [
    "<img src=\"images/exercise.png\" style=\"width: 100px; float: left;\">\n",
    "<a id=\"ex01\"></a>\n",
    "### Exercise 01 (10min)\n",
    "\n",
    "Using the sequence in the file `data/kitasatospora/lantibiotic.fasta` as a query, can you do the following?\n",
    "\n",
    "<br><div class=\"alert-danger\">\n",
    "<ul>\n",
    "<li> Conduct a remote `BLASTX` query against the `nr` database, restricted to <i>Kitasatospora</i> proteins\n",
    "<li> Write the output to a new file called `lantibiotic_blastx_nr_kitasatospora.txt` in the output directory `output/kitasatospora`.\n",
    "<li> Compare the results to the output from Exercise 01 in `notebook 03`.\n",
    "</ul>\n",
    "</div></br>"
   ]
  },
  {
   "cell_type": "code",
   "execution_count": null,
   "metadata": {
    "collapsed": true,
    "deletable": true,
    "editable": true
   },
   "outputs": [],
   "source": [
    "# SOLUTION - EXERCISE 01\n",
    "\n",
    "# Load sequence of lantibiotic synthesis protein, and inspect the information\n",
    "seq = SeqIO.read(\"data/kitasatospora/lantibiotic.fasta\", \"fasta\")\n",
    "\n",
    "# Run the BLASTX search on the nr database, restricted to Kitasatospora spp.\n",
    "result_handle = NCBIWWW.qblast(\"blastx\", \"nr\", seq.format(\"fasta\"),\n",
    "                               entrez_query=\"kitasatospora[ORGN]\",\n",
    "                               format_type=\"Text\")\n",
    "\n",
    "# Save output to file\n",
    "outfilename = os.path.join('output', 'kitasatospora', 'lantibiotic_blastx_nr_kitasatospora.txt')\n",
    "with open(outfilename, 'w') as outfh:\n",
    "    outfh.write(result_handle.read())"
   ]
  },
  {
   "cell_type": "code",
   "execution_count": null,
   "metadata": {
    "collapsed": true,
    "deletable": true,
    "editable": true
   },
   "outputs": [],
   "source": []
  }
 ],
 "metadata": {
  "kernelspec": {
   "display_name": "Python 3 (IBioIC)",
   "language": "python",
   "name": "python3_ibioic_course"
  },
  "language_info": {
   "codemirror_mode": {
    "name": "ipython",
    "version": 3
   },
   "file_extension": ".py",
   "mimetype": "text/x-python",
   "name": "python",
   "nbconvert_exporter": "python",
   "pygments_lexer": "ipython3",
   "version": "3.6.0"
  }
 },
 "nbformat": 4,
 "nbformat_minor": 2
}
