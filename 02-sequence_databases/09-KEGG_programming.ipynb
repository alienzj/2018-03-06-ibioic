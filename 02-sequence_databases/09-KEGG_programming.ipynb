{
 "cells": [
  {
   "cell_type": "markdown",
   "metadata": {},
   "source": [
    "<img src=\"images/JHI_STRAP_Web.png\" style=\"width: 150px; float: right;\">\n",
    "# 09 - Programming for `KEGG`"
   ]
  },
  {
   "cell_type": "markdown",
   "metadata": {},
   "source": [
    "## Table of Contents\n",
    "\n",
    "1. [Introduction](#introduction)\n",
    "2. [Python imports](#imports)\n",
    "3. [Running a remote `KEGG` query](#kegg)\n",
    "  1. [`kegg_info()`](#kegg_info)\n",
    "  2. [`kegg_list()`](#kegg_list)\n",
    "  2. [`kegg_find()`](#kegg_find)\n",
    "  3. [`kegg_get()`](#kegg_get)\n",
    "  4. [EXAMPLE: Putting it together](#example01)"
   ]
  },
  {
   "cell_type": "markdown",
   "metadata": {},
   "source": [
    "<a id=\"introduction\"></a>\n",
    "## Introduction\n",
    "\n",
    "The `KEGG` browser interface, while able to integrate searches across comprehensive and quite disparate datasets, dooes not always present the most convenient interface to extract that information (such as downloading FASTA sequences for an entry). As will all browser-based interfaces, it can also be tedious and time-consuming to point-and-click your way through a large number of browser-based searches.\n",
    "\n",
    "This notebook presents examples of methods for using `KEGG` programmatically, via the Biopython programming libraries, and you will be controlling the searches using Python code in this notebook.\n",
    "\n",
    "<div class=\"alert-success\">\n",
    "<b>As with all programmatic searches, there are a number of advantages to this approach:</b>\n",
    "</div>\n",
    "\n",
    "* It is easy to set up repeatable searches for many sequences, or collections of sequences\n",
    "* It is easy to read in the search results and conduct downstream analyses that add value to your search\n",
    "\n",
    "Where it is not practical to submit a large number of simultaneous queries via a web form (because it is tiresome to point-and-click over and over again), this can be handled programmatically instead. You have the opportunity to change custom options to help refine your query, compared to the website interface. If you need to repeat a query, it can be trivial to get the same settings every time, if you use a programmatic approach.\n",
    "\n",
    "The Biopython interface to `KEGG` has several other advantages that we will not cover in this lesson, in that it allows for a much greater range of image manipulations for the pathway maps that `KEGG` returns."
   ]
  },
  {
   "cell_type": "markdown",
   "metadata": {},
   "source": [
    "<a id=\"imports\"></a>\n",
    "## Python imports"
   ]
  },
  {
   "cell_type": "code",
   "execution_count": null,
   "metadata": {
    "collapsed": false
   },
   "outputs": [],
   "source": [
    "# Show plots as part of the notebook\n",
    "%pylab inline\n",
    "\n",
    "# Show images inline\n",
    "from IPython.display import Image\n",
    "\n",
    "# Standard library packages\n",
    "import io\n",
    "import os\n",
    "\n",
    "# Import Biopython modules to interact with KEGG\n",
    "from Bio import SeqIO\n",
    "from Bio.KEGG import REST\n",
    "from Bio.KEGG.KGML import KGML_parser\n",
    "from Bio.Graphics.KGML_vis import KGMLCanvas\n",
    "\n",
    "# Import Pandas, so we can use dataframes\n",
    "import pandas as pd"
   ]
  },
  {
   "cell_type": "markdown",
   "metadata": {},
   "source": [
    "### Python functions\n",
    "\n",
    "In the cell below, we define a couple of useful functions that convert some returned output into Pandas dataframe form, and display `.pdf` images directly in the notebook. You do not need to understand these to follow the lesson."
   ]
  },
  {
   "cell_type": "code",
   "execution_count": null,
   "metadata": {
    "collapsed": true
   },
   "outputs": [],
   "source": [
    "# A bit of code that will help us display the PDF output\n",
    "def PDF(filename):\n",
    "    return HTML('<iframe src=%s width=700 height=350></iframe>' % filename)\n",
    "\n",
    "# Some code to return a Pandas dataframe, given tabular text\n",
    "def to_df(result):\n",
    "    return pd.read_table(io.StringIO(result), header=None)"
   ]
  },
  {
   "cell_type": "markdown",
   "metadata": {},
   "source": [
    "<a id=\"kegg\"></a>\n",
    "## Running a remote `KEGG` query\n",
    "\n",
    "There is typically only a single step involved in obtaining a result from `KEGG` with Biopython: run one of the functions in `Bio.KEGG.REST`, and catch the result in a variable.\n",
    "\n",
    "The available functions are:\n",
    "\n",
    "* `kegg_conv()` - convert identifiers from `KEGG` to those for other databases\n",
    "* `kegg_find()` - find `KEGG` entries with matching query data\n",
    "* `kegg_get()` - retrieve data for a specific entry from `KEGG` \n",
    "* `kegg_info()` - get information about a `KEGG` database\n",
    "* `kegg_link()` - find entries in `KEGG` using a database cross-reference\n",
    "* `kegg_list()` - list entries in a a database"
   ]
  },
  {
   "cell_type": "markdown",
   "metadata": {},
   "source": [
    "<a id=\"kegg_info\"></a>\n",
    "### `kegg_info()`\n",
    "\n",
    "This function returns basic information about a specified `KEGG` database - much like visiting the landing page for that database.\n",
    "\n",
    "For instance, to get information about the `KEGG` databases as a whole, we can use `kegg_info(\"kegg\")` to get a *handle* from `KEGG` describing the databases, and catch it in a variable:\n",
    "\n",
    "```\n",
    "result = REST.kegg_info(\"kegg\").read()\n",
    "```\n",
    "\n",
    "We could convert this *handle* to a Pandas dataframe with the function defined above: `to_df()`:\n",
    "\n",
    "```\n",
    "to_df(result)\n",
    "```\n",
    "\n",
    "<div class=\"alert-danger\">\n",
    "<b>Not all data is suited to `pandas` dataframe representation</b>\n",
    "</div>\n",
    "\n",
    "or `.read()` the handle, and print it to output directly with the `print()` statement:\n",
    "\n",
    "```\n",
    "print(result)\n",
    "```"
   ]
  },
  {
   "cell_type": "code",
   "execution_count": null,
   "metadata": {
    "collapsed": false
   },
   "outputs": [],
   "source": [
    "# Perform the query\n",
    "result = REST.kegg_info(\"kegg\").read()\n",
    "\n",
    "# Print the result\n",
    "print(result)\n",
    "\n",
    "# Convert result to dataframe\n",
    "# NOTE: this request does not produce a suitable data format for dataframe representation\n",
    "#to_df(result)"
   ]
  },
  {
   "cell_type": "markdown",
   "metadata": {},
   "source": [
    "This gives us a similar overview to the available resources as the [`KEGG` landing page](http://www.genome.jp/kegg/kegg2.html). However, the `kegg_info()` function is a little more powerful, as it can find information about specific databases:"
   ]
  },
  {
   "cell_type": "code",
   "execution_count": null,
   "metadata": {
    "collapsed": false
   },
   "outputs": [],
   "source": [
    "# Print information about the PATHWAY database\n",
    "result = REST.kegg_info(\"pathway\").read()\n",
    "print(result)"
   ]
  },
  {
   "cell_type": "markdown",
   "metadata": {},
   "source": [
    "and even about specific organisms (identified with their three-letter code):"
   ]
  },
  {
   "cell_type": "code",
   "execution_count": null,
   "metadata": {
    "collapsed": false
   },
   "outputs": [],
   "source": [
    "# Print information about Kitasatospora setae\n",
    "result = REST.kegg_info(\"ksk\").read()\n",
    "print(result)"
   ]
  },
  {
   "cell_type": "markdown",
   "metadata": {},
   "source": [
    "<a id=\"kegg_list\"></a>\n",
    "### `kegg_list()`\n",
    "\n",
    "The `kegg_list()` function returns a table of entry identifiers and definitions for a specified database. For example, to list all the entries in the PATHWAY database, you could use:"
   ]
  },
  {
   "cell_type": "code",
   "execution_count": null,
   "metadata": {
    "collapsed": false
   },
   "outputs": [],
   "source": [
    "# Get all entries in the PATHWAY database as a dataframe\n",
    "result = REST.kegg_list(\"pathway\").read()\n",
    "to_df(result)"
   ]
  },
  {
   "cell_type": "markdown",
   "metadata": {},
   "source": [
    "and to restrict the results only to those pathways that are present in *K. setae*, you can filter the database results with a query string `ksk`, as the second argument:"
   ]
  },
  {
   "cell_type": "code",
   "execution_count": null,
   "metadata": {
    "collapsed": false
   },
   "outputs": [],
   "source": [
    "# Get all entries in the PATHWAY database for K. setae as a dataframe\n",
    "result = REST.kegg_list(\"pathway\", \"ksk\").read()\n",
    "to_df(result)"
   ]
  },
  {
   "cell_type": "markdown",
   "metadata": {},
   "source": [
    "<div class=\"alert-warning\">\n",
    "<b>QUESTIONS</b>\n",
    "<ol>\n",
    "<li> How many entries are in the complete PATHWAY database\n",
    "<li> How many entries in the PATHWAY database are also present in <i>K. setae</i>\n",
    "<li> Are these the same answers you got in lesson 08?\n",
    "</ol>\n",
    "</div>"
   ]
  },
  {
   "cell_type": "markdown",
   "metadata": {},
   "source": [
    "If, instead of specifying one of the top-level `KEGG` databases, you specify an organism code, `KEGG` will return a list of gene entries for that organism:"
   ]
  },
  {
   "cell_type": "code",
   "execution_count": null,
   "metadata": {
    "collapsed": false
   },
   "outputs": [],
   "source": [
    "# Get all genes from K. setae as a dataframe\n",
    "result = REST.kegg_list(\"ksk\").read()\n",
    "to_df(result)"
   ]
  },
  {
   "cell_type": "markdown",
   "metadata": {},
   "source": [
    "<a id=\"kegg_find\"></a>\n",
    "### `kegg_find()`\n",
    "\n",
    "The `kegg_find()` function will search a named `KEGG` database with a specified query term. For instance, to query the GENES database with the entry accession `KSE_17560` you could use:"
   ]
  },
  {
   "cell_type": "code",
   "execution_count": null,
   "metadata": {
    "collapsed": false
   },
   "outputs": [],
   "source": [
    "# Find a specific entry with a precise search term\n",
    "result = REST.kegg_find(\"genes\", \"KSE_17560\").read()\n",
    "to_df(result)"
   ]
  },
  {
   "cell_type": "markdown",
   "metadata": {},
   "source": [
    "With the query above, `KEGG` returns information for the exact entry we've requested. But we can also use less precise search terms, and combine them with the `+` symbol. For example, to search for `shiga toxin` we would use the query:\n",
    "\n",
    "```\n",
    "\"shiga+toxin\"\n",
    "```"
   ]
  },
  {
   "cell_type": "code",
   "execution_count": null,
   "metadata": {
    "collapsed": false
   },
   "outputs": [],
   "source": [
    "# Find all shiga toxin genes\n",
    "result = REST.kegg_find(\"genes\", \"shiga+toxin\").read()\n",
    "to_df(result)"
   ]
  },
  {
   "cell_type": "markdown",
   "metadata": {},
   "source": [
    "We can restrict this search to specific organisms, such as *Escherichia coli* O111 H-11128 (EHEC), by supplying its three letter code (here, `eoi`) as the database to be searched:"
   ]
  },
  {
   "cell_type": "code",
   "execution_count": null,
   "metadata": {
    "collapsed": false
   },
   "outputs": [],
   "source": [
    "# Find all shiga toxin genes in eoi\n",
    "result = REST.kegg_find(\"eoi\", \"shiga+toxin\").read()\n",
    "to_df(result)"
   ]
  },
  {
   "cell_type": "markdown",
   "metadata": {},
   "source": [
    "The `kegg_find()` query string can also search in specific *fields* of the entry. The format for this is:\n",
    "\n",
    "```\n",
    "<query_value>/<field>\n",
    "```\n",
    "\n",
    "So, to search for all compounds with a molecular weight between 300 and 310 mass units, you can use the code:"
   ]
  },
  {
   "cell_type": "code",
   "execution_count": null,
   "metadata": {
    "collapsed": false
   },
   "outputs": [],
   "source": [
    "# Find all compounds with mass between 300 and 310 units\n",
    "result = REST.kegg_find(\"compound\", \"300-310/mol_weight\").read()\n",
    "to_df(result)"
   ]
  },
  {
   "cell_type": "markdown",
   "metadata": {},
   "source": [
    "<a id=\"kegg_get\"></a>\n",
    "### `kegg_get()`\n",
    "\n",
    "Most functions you've seen so far will return two columns of data: the first column being the entry accession, and the second column being a description of that entry, or the requested value.\n",
    "\n",
    "The `kegg_get()` function lets us retrieve specific entries from `KEGG` - such as our search results - in named formats.\n",
    "\n",
    "For example, the first compound in our search for molecular weights in the range 300-310 above has entry accession `cpd:C00051`. We can recover this entry as follows:"
   ]
  },
  {
   "cell_type": "code",
   "execution_count": null,
   "metadata": {
    "collapsed": false
   },
   "outputs": [],
   "source": [
    "# Get the entry information for cpd:C00051\n",
    "result = REST.kegg_get(\"cpd:C00051\").read()\n",
    "print(result)"
   ]
  },
  {
   "cell_type": "markdown",
   "metadata": {},
   "source": [
    "<div class=\"alert-warning\">\n",
    "<b>QUESTIONS</b>\n",
    "<ol>\n",
    "<li> What information is returned in the default result?\n",
    "</ol>\n",
    "</div>"
   ]
  },
  {
   "cell_type": "markdown",
   "metadata": {},
   "source": [
    "`KEGG` provides a number of different entry types, which cannot all be recovered in exactly the same ways. For instance, the COMPOUND entries typically have an associated molecular structure image, which can be recovered with `kegg_get()` by specifying the format to be `\"image\"`:"
   ]
  },
  {
   "cell_type": "code",
   "execution_count": null,
   "metadata": {
    "collapsed": false
   },
   "outputs": [],
   "source": [
    "# Display molecular structure for cpd:C00051\n",
    "result = REST.kegg_get(\"cpd:C00051\", \"image\").read()\n",
    "Image(result)"
   ]
  },
  {
   "cell_type": "markdown",
   "metadata": {},
   "source": [
    "GENE entries are sequences, so can be recovered as their database entries (default), or as FASTA format nucleotide and/or protein sequences:"
   ]
  },
  {
   "cell_type": "code",
   "execution_count": null,
   "metadata": {
    "collapsed": false
   },
   "outputs": [],
   "source": [
    "# Get entry information for KSE_17560\n",
    "result = REST.kegg_get(\"ksk:KSE_17560\").read()\n",
    "print(result)"
   ]
  },
  {
   "cell_type": "code",
   "execution_count": null,
   "metadata": {
    "collapsed": false
   },
   "outputs": [],
   "source": [
    "# Get coding sequence for KSE_17560\n",
    "result = REST.kegg_get(\"ksk:KSE_17560\", \"ntseq\").read()\n",
    "print(result)"
   ]
  },
  {
   "cell_type": "code",
   "execution_count": null,
   "metadata": {
    "collapsed": false
   },
   "outputs": [],
   "source": [
    "# Get protein sequence for KSE_17560\n",
    "result = REST.kegg_get(\"ksk:KSE_17560\", \"aaseq\").read()\n",
    "print(result)"
   ]
  },
  {
   "cell_type": "code",
   "execution_count": null,
   "metadata": {
    "collapsed": true
   },
   "outputs": [],
   "source": []
  }
 ],
 "metadata": {
  "kernelspec": {
   "display_name": "Python 3 (IBioIC)",
   "language": "python",
   "name": "python3_ibioic_course"
  },
  "language_info": {
   "codemirror_mode": {
    "name": "ipython",
    "version": 3
   },
   "file_extension": ".py",
   "mimetype": "text/x-python",
   "name": "python",
   "nbconvert_exporter": "python",
   "pygments_lexer": "ipython3",
   "version": "3.6.0"
  }
 },
 "nbformat": 4,
 "nbformat_minor": 2
}
