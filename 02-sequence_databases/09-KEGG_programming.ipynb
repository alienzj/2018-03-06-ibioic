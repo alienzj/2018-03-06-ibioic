{
 "cells": [
  {
   "cell_type": "markdown",
   "metadata": {},
   "source": [
    "<img src=\"../images/JHI_STRAP_Web.png\" style=\"width: 150px; float: right;\">\n",
    "# 09 - Programming for `KEGG`"
   ]
  },
  {
   "cell_type": "markdown",
   "metadata": {},
   "source": [
    "## Table of Contents\n",
    "\n",
    "1. [Introduction](#introduction)\n",
    "2. [Python imports](#imports)\n",
    "3. [Running a remote `KEGG` query](#kegg)\n",
    "  1. [`kegg_info()`](#kegg_info)\n",
    "  2. [`kegg_list()`](#kegg_list)\n",
    "  2. [`kegg_find()`](#kegg_find)\n",
    "  3. [`kegg_get()`](#kegg_get)\n",
    "  4. [EXAMPLE: Putting it together](#example01)"
   ]
  },
  {
   "cell_type": "markdown",
   "metadata": {},
   "source": [
    "<a id=\"introduction\"></a>\n",
    "## Introduction\n",
    "\n",
    "The `KEGG` browser interface, while able to integrate searches across comprehensive and quite disparate datasets, does not always present the most convenient interface to extract that information (such as downloading FASTA sequences for an entry). As will all browser-based interfaces, it can also be tedious and time-consuming to point-and-click your way through a large number of browser-based searches.\n",
    "\n",
    "<p></p>\n",
    "<div class=\"alert-success\">\n",
    "<b>This notebook presents examples of methods for using `KEGG` programmatically, via the Biopython programming libraries, and you will be controlling the searches using Python code in this notebook.</b>\n",
    "</div>\n",
    "\n",
    "As with all programmatic searches, there are a number of advantages to an automated approach:\n",
    "\n",
    "* It is easy to set up repeatable searches for many sequences, or collections of sequences\n",
    "* It is easy to read in the search results and conduct downstream analyses that add value to your search\n",
    "\n",
    "Where it is not practical to submit a large number of simultaneous queries via a web form (because it is tiresome to point-and-click over and over again), this can be handled programmatically instead. You have the opportunity to change custom options to help refine your query, compared to the website interface. If you need to repeat a query, it can be trivial to get the same settings every time, if you use a programmatic approach.\n",
    "\n",
    "The Biopython interface to `KEGG` has several other advantages that we will not cover in this lesson, in that it allows for a much greater range of image manipulations for the pathway maps that `KEGG` returns.\n",
    "\n",
    "<p></p>\n",
    "<div class=\"alert-danger\">\n",
    "The `KEGG` interface is not as well documented as some other resources (such as `NCBI` or `Ensembl`), and `KEGG` does not provide any usage guidelines. To avoid risking overloading the service, Biopython restricts us to three calls per second. \n",
    "</div>\n",
    "\n",
    "Be warned also that the conditions of service include:\n",
    "\n",
    "> \"This service should not be used for bulk data downloads\"."
   ]
  },
  {
   "cell_type": "markdown",
   "metadata": {},
   "source": [
    "<a id=\"imports\"></a>\n",
    "## Python imports"
   ]
  },
  {
   "cell_type": "code",
   "execution_count": null,
   "metadata": {},
   "outputs": [],
   "source": [
    "# Show plots as part of the notebook\n",
    "%matplotlib inline\n",
    "\n",
    "# Show images inline\n",
    "from IPython.display import Image\n",
    "\n",
    "# Standard library packages\n",
    "import io\n",
    "import os\n",
    "\n",
    "# Import Biopython modules to interact with KEGG\n",
    "from Bio import SeqIO\n",
    "from Bio.KEGG import REST\n",
    "from Bio.KEGG.KGML import KGML_parser\n",
    "from Bio.Graphics.KGML_vis import KGMLCanvas\n",
    "\n",
    "# Import Pandas, so we can use dataframes\n",
    "import pandas as pd"
   ]
  },
  {
   "cell_type": "markdown",
   "metadata": {},
   "source": [
    "### Python functions\n",
    "\n",
    "In the cell below, we define a couple of useful functions that convert some returned output into Pandas dataframe form, and display `.pdf` images directly in the notebook. \n",
    "\n",
    "<p></p><div class=\"alert-danger\"><b>You do not need to understand these to follow the lesson.</b></div>"
   ]
  },
  {
   "cell_type": "code",
   "execution_count": null,
   "metadata": {
    "collapsed": true
   },
   "outputs": [],
   "source": [
    "# A bit of code that will help us display the PDF output\n",
    "def PDF(filename):\n",
    "    return HTML('<iframe src=%s width=700 height=350></iframe>' % filename)\n",
    "\n",
    "# Some code to return a Pandas dataframe, given tabular text\n",
    "def to_df(result):\n",
    "    return pd.read_table(io.StringIO(result), header=None)"
   ]
  },
  {
   "cell_type": "markdown",
   "metadata": {},
   "source": [
    "<a id=\"kegg\"></a>\n",
    "## Running a remote `KEGG` query\n",
    "\n",
    "<p></p>\n",
    "<div class=\"alert-success\">\n",
    "<b>There is typically only a single step involved in obtaining a result from `KEGG` with Biopython:</b>\n",
    "</div>\n",
    "\n",
    "* **run one of the functions provided by `Bio.KEGG.REST`, and catch the result in a variable.**\n",
    "\n",
    "The available functions are:\n",
    "\n",
    "* `kegg_conv()` - convert identifiers from `KEGG` to those for other databases\n",
    "* `kegg_find()` - find `KEGG` entries with matching query data\n",
    "* `kegg_get()` - retrieve data for a specific entry from `KEGG` \n",
    "* `kegg_info()` - get information about a `KEGG` database\n",
    "* `kegg_link()` - find entries in `KEGG` using a database cross-reference\n",
    "* `kegg_list()` - list entries in a a database\n",
    "\n",
    "The generic form of using these functions to get information from `KEGG` and place the output in the variable `myvar` is:\n",
    "\n",
    "```python\n",
    "myvar = REST.<function>(<query>, <arg1>, <arg2>, `...`).read()\n",
    "```\n",
    "\n",
    "where `<function>` is one of the functions above, `<query>` is a string containing yoru query for `KEGG`, and `<arg1>`, `<arg2>` and so on are arguments that may be required for some of the functions.\n",
    "\n",
    "You will use some of these functions in the notebook cells below to get information from `KEGG`."
   ]
  },
  {
   "cell_type": "markdown",
   "metadata": {},
   "source": [
    "<a id=\"kegg_info\"></a>\n",
    "### `kegg_info()`\n",
    "\n",
    "<p></p>\n",
    "<div class=\"alert-success\">\n",
    "<b>This function returns basic information about a specified `KEGG` database - much like visiting the landing page for that database.</b>\n",
    "</div>\n",
    "\n",
    "For instance, to get information about the `KEGG` databases as a whole, you can use `kegg_info(\"kegg\")` to get a *handle* from `KEGG` describing the databases, and catch it in a variable:\n",
    "\n",
    "```python\n",
    "result = REST.kegg_info(\"kegg\").read()\n",
    "```\n",
    "\n",
    "We could convert this *handle* to a Pandas dataframe with the function defined above: `to_df()`:\n",
    "\n",
    "```python\n",
    "to_df(result)\n",
    "```\n",
    "\n",
    "<p></p>\n",
    "<div class=\"alert-danger\">\n",
    "<b>Not all data is suited to `pandas` dataframe representation</b>\n",
    "</div>\n",
    "\n",
    "or `.read()` the handle, and print it to output directly with the `print()` statement:\n",
    "\n",
    "```python\n",
    "print(result)\n",
    "```"
   ]
  },
  {
   "cell_type": "code",
   "execution_count": null,
   "metadata": {},
   "outputs": [],
   "source": [
    "# Perform the query\n",
    "result = REST.kegg_info(\"kegg\").read()\n",
    "\n",
    "# Print the result\n",
    "print(result)\n",
    "\n",
    "# Convert result to dataframe\n",
    "# NOTE: kegg_info() requests do not produce a suitable data format for dataframe representation\n",
    "#to_df(result)"
   ]
  },
  {
   "cell_type": "markdown",
   "metadata": {},
   "source": [
    "This gives us a similar overview to the available resources as the [`KEGG` landing page](http://www.genome.jp/kegg/kegg2.html). However, the `kegg_info()` function is a little more powerful, as it can find information about specific databases:"
   ]
  },
  {
   "cell_type": "code",
   "execution_count": null,
   "metadata": {},
   "outputs": [],
   "source": [
    "# Print information about the PATHWAY database\n",
    "result = REST.kegg_info(\"pathway\").read()\n",
    "print(result)"
   ]
  },
  {
   "cell_type": "markdown",
   "metadata": {},
   "source": [
    "and even about specific organisms (identified with their three-letter code):"
   ]
  },
  {
   "cell_type": "code",
   "execution_count": null,
   "metadata": {},
   "outputs": [],
   "source": [
    "# Print information about Kitasatospora setae\n",
    "result = REST.kegg_info(\"ksk\").read()\n",
    "print(result)"
   ]
  },
  {
   "cell_type": "markdown",
   "metadata": {},
   "source": [
    "<a id=\"kegg_list\"></a>\n",
    "### `kegg_list()`\n",
    "\n",
    "<p></p>\n",
    "<div class=\"alert-success\">\n",
    "<b>The `kegg_list()` function returns a table of entry identifiers and definitions for a specified database.</b>\n",
    "</div>\n",
    "\n",
    "For example, to list all the entries in the PATHWAY database, you could use:"
   ]
  },
  {
   "cell_type": "code",
   "execution_count": null,
   "metadata": {},
   "outputs": [],
   "source": [
    "# Get all entries in the PATHWAY database as a dataframe\n",
    "result = REST.kegg_list(\"pathway\").read()\n",
    "to_df(result)"
   ]
  },
  {
   "cell_type": "markdown",
   "metadata": {},
   "source": [
    "and to restrict the results only to those pathways that are present in *K. setae*, you can filter the database results with a query string `ksk`, as the second argument:"
   ]
  },
  {
   "cell_type": "code",
   "execution_count": null,
   "metadata": {
    "collapsed": true
   },
   "outputs": [],
   "source": [
    "# Get all entries in the PATHWAY database for K. setae as a dataframe\n",
    "result = REST.kegg_list(\"pathway\", \"ksk\").read()\n",
    "to_df(result)"
   ]
  },
  {
   "cell_type": "markdown",
   "metadata": {},
   "source": [
    "<p></p>\n",
    "<div class=\"alert-warning\">\n",
    "<b>QUESTIONS</b>\n",
    "<ol>\n",
    "<li> How many entries are in the complete PATHWAY database\n",
    "<li> How many entries in the PATHWAY database are also present in <i>K. setae</i>\n",
    "<li> Are these the same answers you got in `lesson 08`?\n",
    "</ol>\n",
    "</div>\n",
    "\n",
    "If, instead of specifying one of the top-level `KEGG` databases, you specify an organism code, `KEGG` will return a list of gene entries for that organism:"
   ]
  },
  {
   "cell_type": "code",
   "execution_count": null,
   "metadata": {},
   "outputs": [],
   "source": [
    "# Get all genes from K. setae as a dataframe\n",
    "result = REST.kegg_list(\"ksk\").read()\n",
    "to_df(result)"
   ]
  },
  {
   "cell_type": "markdown",
   "metadata": {},
   "source": [
    "<a id=\"kegg_find\"></a>\n",
    "### `kegg_find()`\n",
    "\n",
    "<p></p>\n",
    "<div class=\"alert-success\">\n",
    "<b>The `kegg_find()` function will search a named `KEGG` database with a specified query term.</b>\n",
    "</div>\n",
    "\n",
    "For instance, to query the GENES database with the entry accession `KSE_17560` you could use:"
   ]
  },
  {
   "cell_type": "code",
   "execution_count": null,
   "metadata": {},
   "outputs": [],
   "source": [
    "# Find a specific entry with a precise search term\n",
    "result = REST.kegg_find(\"genes\", \"KSE_17560\").read()\n",
    "to_df(result)"
   ]
  },
  {
   "cell_type": "markdown",
   "metadata": {},
   "source": [
    "With the query above, `KEGG` returns information for the exact entry we've requested. But we can also use less precise search terms, and combine them with the `+` symbol. For example, to search for `shiga toxin` we would use the query:\n",
    "\n",
    "```python\n",
    "\"shiga+toxin\"\n",
    "```"
   ]
  },
  {
   "cell_type": "code",
   "execution_count": null,
   "metadata": {},
   "outputs": [],
   "source": [
    "# Find all shiga toxin genes\n",
    "result = REST.kegg_find(\"genes\", \"shiga+toxin\").read()\n",
    "to_df(result)"
   ]
  },
  {
   "cell_type": "markdown",
   "metadata": {},
   "source": [
    "We can restrict this search to specific organisms, such as *Escherichia coli* O111 H-11128 (EHEC), by supplying its three letter code (here, `eoi`) as the database to be searched:"
   ]
  },
  {
   "cell_type": "code",
   "execution_count": null,
   "metadata": {},
   "outputs": [],
   "source": [
    "# Find all shiga toxin genes in eoi\n",
    "result = REST.kegg_find(\"eoi\", \"shiga+toxin\").read()\n",
    "to_df(result)"
   ]
  },
  {
   "cell_type": "markdown",
   "metadata": {},
   "source": [
    "The `kegg_find()` query string can also search in specific *fields* of the entry. The format for this is:\n",
    "\n",
    "```python\n",
    "\"<query_value>/<field>\"\n",
    "```\n",
    "\n",
    "So, to search for all compounds with a molecular weight between 300 and 310 mass units, you can use the code:"
   ]
  },
  {
   "cell_type": "code",
   "execution_count": null,
   "metadata": {},
   "outputs": [],
   "source": [
    "# Find all compounds with mass between 300 and 310 units\n",
    "result = REST.kegg_find(\"compound\", \"300-310/mol_weight\").read()\n",
    "to_df(result)"
   ]
  },
  {
   "cell_type": "markdown",
   "metadata": {},
   "source": [
    "<a id=\"kegg_get\"></a>\n",
    "### `kegg_get()`\n",
    "\n",
    "Most functions you've seen so far will return two columns of data: the first column being the entry accession, and the second column being a description of that entry, or the requested value.\n",
    "\n",
    "<p></p>\n",
    "<div class=\"alert-success\">\n",
    "<b>The `kegg_get()` function lets us retrieve specific entries from `KEGG` - such as our search results - in named formats.</b>\n",
    "</div>\n",
    "\n",
    "For example, the first compound in our search for molecular weights in the range 300-310 above has entry accession `cpd:C00051`. We can recover this entry as follows:"
   ]
  },
  {
   "cell_type": "code",
   "execution_count": null,
   "metadata": {},
   "outputs": [],
   "source": [
    "# Get the entry information for cpd:C00051\n",
    "result = REST.kegg_get(\"cpd:C00051\").read()\n",
    "print(result)"
   ]
  },
  {
   "cell_type": "markdown",
   "metadata": {},
   "source": [
    "<p></p>\n",
    "<div class=\"alert-warning\">\n",
    "<b>QUESTIONS</b>\n",
    "<ol>\n",
    "<li> What information is returned in the default result?\n",
    "</ol>\n",
    "</div>"
   ]
  },
  {
   "cell_type": "markdown",
   "metadata": {},
   "source": [
    "`KEGG` provides a number of different entry types, which cannot all be recovered in exactly the same ways. For instance, the COMPOUND entries typically have an associated molecular structure image, which can be recovered with `kegg_get()` by specifying the format to be `\"image\"`:"
   ]
  },
  {
   "cell_type": "code",
   "execution_count": null,
   "metadata": {},
   "outputs": [],
   "source": [
    "# Display molecular structure for cpd:C00051\n",
    "result = REST.kegg_get(\"cpd:C00051\", \"image\").read()\n",
    "Image(result)"
   ]
  },
  {
   "cell_type": "markdown",
   "metadata": {},
   "source": [
    "GENE entries are sequences, so can be recovered as their database entries (default), or as FASTA format nucleotide and/or protein sequences:"
   ]
  },
  {
   "cell_type": "code",
   "execution_count": null,
   "metadata": {},
   "outputs": [],
   "source": [
    "# Get entry information for KSE_17560\n",
    "result = REST.kegg_get(\"ksk:KSE_17560\").read()\n",
    "print(result)"
   ]
  },
  {
   "cell_type": "code",
   "execution_count": null,
   "metadata": {},
   "outputs": [],
   "source": [
    "# Get coding sequence for KSE_17560\n",
    "result = REST.kegg_get(\"ksk:KSE_17560\", \"ntseq\").read()\n",
    "print(result)"
   ]
  },
  {
   "cell_type": "code",
   "execution_count": null,
   "metadata": {},
   "outputs": [],
   "source": [
    "# Get protein sequence for KSE_17560\n",
    "result = REST.kegg_get(\"ksk:KSE_17560\", \"aaseq\").read()\n",
    "print(result)"
   ]
  },
  {
   "cell_type": "markdown",
   "metadata": {
    "collapsed": true
   },
   "source": [
    "<a id=\"pathways\"></a>\n",
    "### Retrieving pathways\n",
    "\n",
    "<p></p>\n",
    "<div class=\"alert-success\">\n",
    "<b>`KEGG` is practically synonymous with its excellent pathway diagrams, and it should be no surprise that you can retrive these using Python, too. You can get these images directly with `kegg_get()`, using the `\"image\"` format.</b>\n",
    "</div>\n",
    "\n",
    "To specify one of the generic pathway maps, you can combine the `map` prefix with the pathway number to make the query `mapNNNNN` as in the cells, below."
   ]
  },
  {
   "cell_type": "code",
   "execution_count": null,
   "metadata": {},
   "outputs": [],
   "source": [
    "# Get map of fatty-acid biosynthesis\n",
    "result = REST.kegg_get(\"map00061\", \"image\").read()\n",
    "Image(result)"
   ]
  },
  {
   "cell_type": "code",
   "execution_count": null,
   "metadata": {},
   "outputs": [],
   "source": [
    "# Get map of central metabolism\n",
    "result = REST.kegg_get(\"map01100\", \"image\").read()\n",
    "Image(result)"
   ]
  },
  {
   "cell_type": "markdown",
   "metadata": {},
   "source": [
    "If you want to retrieve the pathway map corresponding to a particular organism, then you can replace the prefix `map` with the three-letter code for that organism, as in the examples below for *Kitasatospora* where `map` is replaced with `ksk`:"
   ]
  },
  {
   "cell_type": "code",
   "execution_count": null,
   "metadata": {},
   "outputs": [],
   "source": [
    "# Get map of fatty-acid biosynthesis in Kitasatospora\n",
    "result = REST.kegg_get(\"ksk00061\", \"image\").read()\n",
    "Image(result)"
   ]
  },
  {
   "cell_type": "code",
   "execution_count": null,
   "metadata": {},
   "outputs": [],
   "source": [
    "# Get map of central metabolism in Kitasatospora\n",
    "result = REST.kegg_get(\"ksk01100\", \"image\").read()\n",
    "Image(result)"
   ]
  },
  {
   "cell_type": "markdown",
   "metadata": {},
   "source": [
    "`KEGG` provides copious information about pathways in the accompanying database entries, which can be obtained by not providing a download format:"
   ]
  },
  {
   "cell_type": "code",
   "execution_count": null,
   "metadata": {},
   "outputs": [],
   "source": [
    "# Get data for fatty-acid biosynthesis in Kitasatospora\n",
    "result = REST.kegg_get(\"ksk00061\").read()\n",
    "print(result)"
   ]
  },
  {
   "cell_type": "markdown",
   "metadata": {},
   "source": [
    "<a id=\"links\"></a>\n",
    "### Retrieving pathway components\n",
    "\n",
    "As you can see from the database entry for `ksk00061` above, the pathway is composed of many `GENE` and `COMPOUND` entries, but the returned data format is not easy to work with to extract that data.\n",
    "\n",
    "<p></p>\n",
    "<div class=\"alert-success\">\n",
    "<b>You can use the `kegg_link()` function to identify the components of a pathway, by specifying first the `<database>` you want to make a connection to, then the `<entry_id>` for the database entry you are interested in:</b>\n",
    "</div>\n",
    "\n",
    "```python\n",
    "result = REST.kegg_link(<database>, <entry>).read()\n",
    "```\n",
    "\n",
    "\n",
    "For instance, to identify the `GENE` entries represented in the `ksk00061` pathway, you would compose the query:\n",
    "\n",
    "```python\n",
    "result = REST.kegg_link(\"genes\", \"ksk00061\").read()\n",
    "```\n",
    "\n",
    "as below:"
   ]
  },
  {
   "cell_type": "code",
   "execution_count": null,
   "metadata": {
    "scrolled": true
   },
   "outputs": [],
   "source": [
    "# Get genes involved with fatty-acid biosynthesis in Kitasatospora\n",
    "result = REST.kegg_link(\"genes\", \"ksk00061\").read()\n",
    "to_df(result)"
   ]
  },
  {
   "cell_type": "markdown",
   "metadata": {},
   "source": [
    "You can use any of the databases in `KEGG` with this function, though not all may give you a result for any given query.\n",
    "\n",
    "You can use this function to query generic pathways against the very useful reference databases of `KEGG`:\n",
    "\n",
    "* `ko`: `KEGG` orthologues - a collection of functional orthologues\n",
    "* `ec`: `EC` numbers - a collection of Enzyme Commission classifications\n",
    "* `rn`: `REACTION` entries - descriptions of chemical interconversions\n",
    "\n",
    "For example, to identify reactions that are involved in the fatty-acid synthesis pathway, and then get the database entry for one of these, you could use the queries in the cells below:"
   ]
  },
  {
   "cell_type": "code",
   "execution_count": null,
   "metadata": {
    "scrolled": true
   },
   "outputs": [],
   "source": [
    "# Get reactions involved with fatty-acid biosynthesis\n",
    "result = REST.kegg_link(\"rn\", \"map00061\").read()\n",
    "to_df(result)"
   ]
  },
  {
   "cell_type": "code",
   "execution_count": null,
   "metadata": {},
   "outputs": [],
   "source": [
    "# Get reactions R00742\n",
    "result = REST.kegg_get(\"R00742\").read()\n",
    "print(result)"
   ]
  },
  {
   "cell_type": "markdown",
   "metadata": {},
   "source": [
    "<img src=\"../images/exercise.png\" style=\"width: 100px; float: left;\">\n",
    "<a id=\"ex01\"></a>\n",
    "### Exercise 01 (15min)\n",
    "\n",
    "The `UniProt` record `Q05655` describes a human protein kinase. Using `KEGG`, can you discover:\n",
    "\n",
    "<br></br>\n",
    "<div class=\"alert-danger\">\n",
    "<ul>\n",
    "<li> Which genes are associated with this UniProt entry?\n",
    "</ul>\n",
    "</div>"
   ]
  }
 ],
 "metadata": {
  "kernelspec": {
   "display_name": "Python 3",
   "language": "python",
   "name": "python3"
  },
  "language_info": {
   "codemirror_mode": {
    "name": "ipython",
    "version": 3
   },
   "file_extension": ".py",
   "mimetype": "text/x-python",
   "name": "python",
   "nbconvert_exporter": "python",
   "pygments_lexer": "ipython3",
   "version": "3.6.1"
  }
 },
 "nbformat": 4,
 "nbformat_minor": 2
}
