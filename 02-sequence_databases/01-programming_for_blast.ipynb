{
 "cells": [
  {
   "cell_type": "markdown",
   "metadata": {},
   "source": [
    "<img src=\"images/JHI_STRAP_Web.png\" style=\"width: 150px; float: right;\">\n",
    "# 01 - Using BLAST Programmatically"
   ]
  },
  {
   "cell_type": "markdown",
   "metadata": {},
   "source": [
    "## Table of Contents\n",
    "\n",
    "1. [Introduction](#introduction)\n",
    "2. [Python imports](#imports)\n",
    "3. [Running and analysing a local BLASTX search](#blastx)\n",
    "  1. [Run BLASTX](#runblastx)"
   ]
  },
  {
   "cell_type": "markdown",
   "metadata": {},
   "source": [
    "<a id=\"introduction\"></a>\n",
    "## Introduction\n",
    "\n",
    "This notebook presents examples of methods for using `BLAST` programmatically, with a local installation of `BLAST`.\n",
    "\n",
    "It can be very convenient to use a web interface - such as the [NCBI interface](https://blast.ncbi.nlm.nih.gov/Blast.cgi), or a project-specific instance (like this one at the [PGSC](http://solanaceae.plantbiology.msu.edu/blast.shtml)) - for `BLAST` searches, but there can be limitations to this approach.\n",
    "\n",
    "It may not be practical to submit a large number of simultaneous queries via a web form, either because the interface prevents this, or because it is tiresome to point-and-click over and over again. It may be that the interface does not make it easy to change custom options that you might want to modify to help refine your query. It could be the case that the web database does not contain sequences that you are interested in searching against (if, for example, some of the sequences are proprietary), or it might not be constrained to a relevant set of organisms, so the search might take much longer than it needs to for your purposes. If you need to repeat a query, it can be awkward to get the same settings every time.\n",
    "\n",
    "<br><div class=\"alert-success\">\n",
    "<b>Using a programmatic approach to submitting `BLAST` queries provides a number of potential advantages</b>\n",
    "</div></br>\n",
    "\n",
    "* It is easy to set up repeatable searches for many sequences, or collections of sequences\n",
    "* It is easy to read in the search results and conduct downstream analyses that add value to your search\n",
    "* The same code can be readily adapted to different BLAST instances, databases, and servers\n",
    "\n",
    "The code that we develop in this notebook will be adapted for use in the next notebook: `02-programming_web_blast`, but we focus on a local installation now to understand the principles."
   ]
  },
  {
   "cell_type": "markdown",
   "metadata": {},
   "source": [
    "<a id=\"imports\"></a>\n",
    "## Python imports\n",
    "\n",
    "To interact with the local installation of `BLAST`, we will use the free `Biopython` programming tools. These provide an interface to interact with `BLAST`, run jobs, and to read in the output files.\n",
    "\n",
    "To collate the `BLAST` search results as dataframes/tables for analysis, we will use the `pandas` package.\n",
    "\n",
    "To graph the downstream results, we will use the `seaborn` visualisation package.\n",
    "\n",
    "We import these tools, and some standard library packages for working with files (`os`) below."
   ]
  },
  {
   "cell_type": "code",
   "execution_count": 1,
   "metadata": {
    "collapsed": false
   },
   "outputs": [],
   "source": [
    "# Standard library packages\n",
    "import os\n",
    "\n",
    "# Import Pandas\n",
    "import pandas as pd\n",
    "\n",
    "# Import Biopython tools for running local BLASTX\n",
    "from Bio.Blast.Applications import NcbiblastxCommandline"
   ]
  },
  {
   "cell_type": "markdown",
   "metadata": {},
   "source": [
    "<a id=\"blastx\"></a>\n",
    "## Running and analysing a local BLASTX search\n",
    "\n",
    "As a first worked example, we will run a local `BLASTX` search, querying a nucleotide sequence against a local protein database, to identify potential homologues.\n",
    "\n",
    "* The database comprises predicted gene products from five *Kitasatospora* genomes\n",
    "* The query is a single nucleotide sequence of a predicted penicillin-binding protein from *Kitasatospora* sp. CB01950\n",
    "\n",
    "We will use Python/`biopython` in the code blocks below to first perform the `BLASTX` search, then parse the results into a `pandas` dataframe, and finally we will plot some summary statistics using `seaborn`."
   ]
  },
  {
   "cell_type": "markdown",
   "metadata": {},
   "source": [
    "<a id=\"runblastx\"></a>\n",
    "### Run `BLASTX`\n",
    "\n",
    "There are two steps to running a `BLAST` command line with `biopython`.\n",
    "\n",
    "1. Create the command-line object\n",
    "2. Run the command-line object\n",
    "\n",
    "To create the command-line, we need to provide the same information as if we were running `BLAST` at the terminal: the location of the query sequence file, the location of the database, and any arguments that modify the type of `BLAST` search we are running.\n",
    "\n",
    "Firstly, we define two variables that contain the paths to the input data, and the location we want to place our `BLAST` output file. Then we define variables that contain paths to: the input query sequence file; the database we're searching against; and the file containing `BLAST` output"
   ]
  },
  {
   "cell_type": "code",
   "execution_count": 2,
   "metadata": {
    "collapsed": false
   },
   "outputs": [],
   "source": [
    "# Define paths to input and output directories\n",
    "datadir = os.path.join('data', 'kitasatospora')   # input\n",
    "outdir = os.path.join('output', 'kitasatospora')  # output\n",
    "os.makedirs(outdir, exist_ok=True)                # create output directory if it doesn't exist\n",
    "\n",
    "# Define paths to input and output files\n",
    "query = os.path.join(datadir, 'k_sp_CB01950_penicillin.fasta')           # query sequence(s)\n",
    "db = os.path.join(datadir, 'kitasatospora_proteins.faa')                 # BLAST database\n",
    "blastout = os.path.join(outdir, 'AMK19_00175_blastx_kitasatospora.tab')  # BLAST output"
   ]
  },
  {
   "cell_type": "markdown",
   "metadata": {},
   "source": [
    "<div class=\"alert-danger\">\n",
    "When using a Jupyter notebook, if you ever forget how exactly to use a Python function or class, you can use Python's inbuilt `help()` system. We use this in the cell below to get information on how to construct a `BLASTX` command, using the `NcbiblastxCommandline` object we imported above:\n",
    "</div>"
   ]
  },
  {
   "cell_type": "code",
   "execution_count": 3,
   "metadata": {
    "collapsed": false
   },
   "outputs": [
    {
     "name": "stdout",
     "output_type": "stream",
     "text": [
      "Help on class NcbiblastxCommandline in module Bio.Blast.Applications:\n",
      "\n",
      "class NcbiblastxCommandline(_NcbiblastMain2SeqCommandline)\n",
      " |  Wrapper for the NCBI BLAST+ program blastx (nucleotide query, protein database).\n",
      " |  \n",
      " |  With the release of BLAST+ (BLAST rewritten in C++ instead of C), the NCBI\n",
      " |  replaced the old blastall tool with separate tools for each of the searches.\n",
      " |  This wrapper therefore replaces BlastallCommandline with option -p blastx.\n",
      " |  \n",
      " |  >>> from Bio.Blast.Applications import NcbiblastxCommandline\n",
      " |  >>> cline = NcbiblastxCommandline(query=\"m_cold.fasta\", db=\"nr\", evalue=0.001)\n",
      " |  >>> cline\n",
      " |  NcbiblastxCommandline(cmd='blastx', query='m_cold.fasta', db='nr', evalue=0.001)\n",
      " |  >>> print(cline)\n",
      " |  blastx -query m_cold.fasta -db nr -evalue 0.001\n",
      " |  \n",
      " |  You would typically run the command line with cline() or via the Python\n",
      " |  subprocess module, as described in the Biopython tutorial.\n",
      " |  \n",
      " |  Method resolution order:\n",
      " |      NcbiblastxCommandline\n",
      " |      _NcbiblastMain2SeqCommandline\n",
      " |      _Ncbiblast2SeqCommandline\n",
      " |      _NcbiblastCommandline\n",
      " |      _NcbibaseblastCommandline\n",
      " |      Bio.Application.AbstractCommandline\n",
      " |      builtins.object\n",
      " |  \n",
      " |  Methods defined here:\n",
      " |  \n",
      " |  __init__(self, cmd='blastx', **kwargs)\n",
      " |      Create a new instance of a command line wrapper object.\n",
      " |  \n",
      " |  ----------------------------------------------------------------------\n",
      " |  Methods inherited from Bio.Application.AbstractCommandline:\n",
      " |  \n",
      " |  __call__(self, stdin=None, stdout=True, stderr=True, cwd=None, env=None)\n",
      " |      Executes the command, waits for it to finish, and returns output.\n",
      " |      \n",
      " |      Runs the command line tool and waits for it to finish. If it returns\n",
      " |      a non-zero error level, an exception is raised. Otherwise two strings\n",
      " |      are returned containing stdout and stderr.\n",
      " |      \n",
      " |      The optional stdin argument should be a string of data which will be\n",
      " |      passed to the tool as standard input.\n",
      " |      \n",
      " |      The optional stdout and stderr argument may be filenames (string),\n",
      " |      but otherwise are treated as a booleans, and control if the output\n",
      " |      should be captured as strings (True, default), or ignored by sending\n",
      " |      it to /dev/null to avoid wasting memory (False). If sent to a file\n",
      " |      or ignored, then empty string(s) are returned.\n",
      " |      \n",
      " |      The optional cwd argument is a string giving the working directory\n",
      " |      to run the command from. See Python's subprocess module documentation\n",
      " |      for more details.\n",
      " |      \n",
      " |      The optional env argument is a dictionary setting the environment\n",
      " |      variables to be used in the new process. By default the current\n",
      " |      process' environment variables are used. See Python's subprocess\n",
      " |      module documentation for more details.\n",
      " |      \n",
      " |      Default example usage::\n",
      " |      \n",
      " |          from Bio.Emboss.Applications import WaterCommandline\n",
      " |          water_cmd = WaterCommandline(gapopen=10, gapextend=0.5,\n",
      " |                                       stdout=True, auto=True,\n",
      " |                                       asequence=\"a.fasta\", bsequence=\"b.fasta\")\n",
      " |          print(\"About to run: %s\" % water_cmd)\n",
      " |          std_output, err_output = water_cmd()\n",
      " |      \n",
      " |      This functionality is similar to subprocess.check_output() added in\n",
      " |      Python 2.7. In general if you require more control over running the\n",
      " |      command, use subprocess directly.\n",
      " |      \n",
      " |      As of Biopython 1.56, when the program called returns a non-zero error\n",
      " |      level, a custom ApplicationError exception is raised. This includes\n",
      " |      any stdout and stderr strings captured as attributes of the exception\n",
      " |      object, since they may be useful for diagnosing what went wrong.\n",
      " |  \n",
      " |  __repr__(self)\n",
      " |      Return a representation of the command line object for debugging.\n",
      " |      \n",
      " |      e.g.\n",
      " |      >>> from Bio.Emboss.Applications import WaterCommandline\n",
      " |      >>> cline = WaterCommandline(gapopen=10, gapextend=0.5)\n",
      " |      >>> cline.asequence = \"asis:ACCCGGGCGCGGT\"\n",
      " |      >>> cline.bsequence = \"asis:ACCCGAGCGCGGT\"\n",
      " |      >>> cline.outfile = \"temp_water.txt\"\n",
      " |      >>> print(cline)\n",
      " |      water -outfile=temp_water.txt -asequence=asis:ACCCGGGCGCGGT -bsequence=asis:ACCCGAGCGCGGT -gapopen=10 -gapextend=0.5\n",
      " |      >>> cline\n",
      " |      WaterCommandline(cmd='water', outfile='temp_water.txt', asequence='asis:ACCCGGGCGCGGT', bsequence='asis:ACCCGAGCGCGGT', gapopen=10, gapextend=0.5)\n",
      " |  \n",
      " |  __setattr__(self, name, value)\n",
      " |      Set attribute name to value (PRIVATE).\n",
      " |      \n",
      " |      This code implements a workaround for a user interface issue.\n",
      " |      Without this __setattr__ attribute-based assignment of parameters\n",
      " |      will silently accept invalid parameters, leading to known instances\n",
      " |      of the user assuming that parameters for the application are set,\n",
      " |      when they are not.\n",
      " |      \n",
      " |      >>> from Bio.Emboss.Applications import WaterCommandline\n",
      " |      >>> cline = WaterCommandline(gapopen=10, gapextend=0.5, stdout=True)\n",
      " |      >>> cline.asequence = \"a.fasta\"\n",
      " |      >>> cline.bsequence = \"b.fasta\"\n",
      " |      >>> cline.csequence = \"c.fasta\"\n",
      " |      Traceback (most recent call last):\n",
      " |      ...\n",
      " |      ValueError: Option name csequence was not found.\n",
      " |      >>> print(cline)\n",
      " |      water -stdout -asequence=a.fasta -bsequence=b.fasta -gapopen=10 -gapextend=0.5\n",
      " |      \n",
      " |      This workaround uses a whitelist of object attributes, and sets the\n",
      " |      object attribute list as normal, for these.  Other attributes are\n",
      " |      assumed to be parameters, and passed to the self.set_parameter method\n",
      " |      for validation and assignment.\n",
      " |  \n",
      " |  __str__(self)\n",
      " |      Make the commandline string with the currently set options.\n",
      " |      \n",
      " |      e.g.\n",
      " |      >>> from Bio.Emboss.Applications import WaterCommandline\n",
      " |      >>> cline = WaterCommandline(gapopen=10, gapextend=0.5)\n",
      " |      >>> cline.asequence = \"asis:ACCCGGGCGCGGT\"\n",
      " |      >>> cline.bsequence = \"asis:ACCCGAGCGCGGT\"\n",
      " |      >>> cline.outfile = \"temp_water.txt\"\n",
      " |      >>> print(cline)\n",
      " |      water -outfile=temp_water.txt -asequence=asis:ACCCGGGCGCGGT -bsequence=asis:ACCCGAGCGCGGT -gapopen=10 -gapextend=0.5\n",
      " |      >>> str(cline)\n",
      " |      'water -outfile=temp_water.txt -asequence=asis:ACCCGGGCGCGGT -bsequence=asis:ACCCGAGCGCGGT -gapopen=10 -gapextend=0.5'\n",
      " |  \n",
      " |  set_parameter(self, name, value=None)\n",
      " |      Set a commandline option for a program (OBSOLETE).\n",
      " |      \n",
      " |      Every parameter is available via a property and as a named\n",
      " |      keyword when creating the instance. Using either of these is\n",
      " |      preferred to this legacy set_parameter method which is now\n",
      " |      OBSOLETE, and likely to be DEPRECATED and later REMOVED in\n",
      " |      future releases.\n",
      " |  \n",
      " |  ----------------------------------------------------------------------\n",
      " |  Data descriptors inherited from Bio.Application.AbstractCommandline:\n",
      " |  \n",
      " |  __dict__\n",
      " |      dictionary for instance variables (if defined)\n",
      " |  \n",
      " |  __weakref__\n",
      " |      list of weak references to the object (if defined)\n",
      " |  \n",
      " |  ----------------------------------------------------------------------\n",
      " |  Data and other attributes inherited from Bio.Application.AbstractCommandline:\n",
      " |  \n",
      " |  parameters = None\n",
      "\n"
     ]
    }
   ],
   "source": [
    "# Get help with how to construct the command-line\n",
    "help(NcbiblastxCommandline)"
   ]
  },
  {
   "cell_type": "markdown",
   "metadata": {},
   "source": [
    "The information above tells how to pass the paths to the query sequence, database, and how to specify other values to control `BLASTX`, e.g.:\n",
    "\n",
    "```\n",
    "cline = NcbiblastxCommandline(query=\"m_cold.fasta\", db=\"nr\", evalue=0.001)\n",
    "```\n",
    "\n",
    "<br><div class=\"alert-success\">\n",
    "We use this information to create a command-line object in the variable `cmd_blastx` that we can use to run our `BLASTX` query:\n",
    "</div></br>"
   ]
  },
  {
   "cell_type": "code",
   "execution_count": 4,
   "metadata": {
    "collapsed": true
   },
   "outputs": [],
   "source": [
    "# Create command-line for BLASTX\n",
    "cmd_blastx = NcbiblastxCommandline(query=query, out=blastout, outfmt=6, db=db)"
   ]
  },
  {
   "cell_type": "markdown",
   "metadata": {},
   "source": [
    "The `cmd_blastx` object now contains instructions that are equivalent to running `BLASTX` at the command-line. We can even get it to print out a command-line that we could copy-and-paste into the terminal, to run the search:"
   ]
  },
  {
   "cell_type": "code",
   "execution_count": 5,
   "metadata": {
    "collapsed": false
   },
   "outputs": [
    {
     "name": "stdout",
     "output_type": "stream",
     "text": [
      "blastx -out output/kitasatospora/AMK19_00175_blastx_kitasatospora.tab -outfmt 6 -query data/kitasatospora/k_sp_CB01950_penicillin.fasta -db data/kitasatospora/kitasatospora_proteins.faa\n"
     ]
    }
   ],
   "source": [
    "# Get a working command-line\n",
    "print(cmd_blastx)"
   ]
  },
  {
   "cell_type": "markdown",
   "metadata": {},
   "source": [
    "We don't need to use the terminal at all, though. We can run the `BLASTX` search from Python, by *calling* the `cmd_blastx` object, with:\n",
    "\n",
    "```\n",
    "cmd_blastx()\n",
    "```\n",
    "\n",
    "<br><div class=\"alert-warning\">\n",
    "Although the code above is the <i>simplest</i> way to run the command, it can be worth doing something slightly more complex.<br><br />\n",
    "Any Linux command can place information into two special <i>streams</i>: `STDOUT` and `STDERR` (pronounced 'standard-out' and 'standard-error'). As you might expect, `STDOUT` gets 'output', and errors are reported to `STDERR`. It is good practice to 'catch' these streams, and check them for reports from the program that's being run.\n",
    "</class></div>"
   ]
  },
  {
   "cell_type": "code",
   "execution_count": 6,
   "metadata": {
    "collapsed": false
   },
   "outputs": [
    {
     "name": "stdout",
     "output_type": "stream",
     "text": [
      "STDOUT: \n",
      "STDERR: \n"
     ]
    }
   ],
   "source": [
    "# Run BLASTX, and catch STDOUT/STDERR\n",
    "stdout, stderr = cmd_blastx()\n",
    "\n",
    "# Check STDOUT, STDERR\n",
    "print(\"STDOUT: %s\" % stdout)\n",
    "print(\"STDERR: %s\" % stderr)"
   ]
  },
  {
   "cell_type": "markdown",
   "metadata": {},
   "source": [
    "If everything has worked, there should be no information in either `STDOUT` or `STDERR`. You should, however now see a file named `AMK19_00175_blastx_kitasatospora.tab` in the `output/kitasatospora` directory. This file contains your `BLASTX` search results, and we shall import and inspect these in the next section."
   ]
  },
  {
   "cell_type": "code",
   "execution_count": null,
   "metadata": {
    "collapsed": true
   },
   "outputs": [],
   "source": []
  }
 ],
 "metadata": {
  "kernelspec": {
   "display_name": "Python 3",
   "language": "python",
   "name": "python3"
  },
  "language_info": {
   "codemirror_mode": {
    "name": "ipython",
    "version": 3
   },
   "file_extension": ".py",
   "mimetype": "text/x-python",
   "name": "python",
   "nbconvert_exporter": "python",
   "pygments_lexer": "ipython3",
   "version": "3.5.2"
  }
 },
 "nbformat": 4,
 "nbformat_minor": 2
}
