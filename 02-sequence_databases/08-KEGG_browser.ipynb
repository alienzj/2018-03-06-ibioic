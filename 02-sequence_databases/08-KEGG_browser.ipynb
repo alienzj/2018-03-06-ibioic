{
 "cells": [
  {
   "cell_type": "markdown",
   "metadata": {
    "deletable": true,
    "editable": true
   },
   "source": [
    "<img src=\"images/JHI_STRAP_Web.png\" style=\"width: 150px; float: right;\">\n",
    "# 08 - `KEGG`"
   ]
  },
  {
   "cell_type": "markdown",
   "metadata": {
    "deletable": true,
    "editable": true
   },
   "source": [
    "## Table of Contents\n",
    "\n",
    "1. [Introduction](#introduction)\n",
    "2. [The `KEGG` website](#kegg)\n",
    "3. [`KEGG` GENOME](#genome)\n",
    "3. [Exercise 01](#ex01)"
   ]
  },
  {
   "cell_type": "markdown",
   "metadata": {
    "deletable": true,
    "editable": true
   },
   "source": [
    "<a id=\"introduction\"></a>\n",
    "## Introduction\n",
    "\n",
    "<div class=\"alert-success\">\n",
    "<b>`KEGG` is an integrated resource of 16 databases, centred around a collection of biological pathway maps, covering metabolism genetic information processing (regulation), environmental information processing (sensing and signalling), and cellular processes. It also covers drug metabolism, and provides a unique resource to integrate biological systems, genetic processes, and biochemical reactions.</b>\n",
    "</div>\n",
    "\n",
    "The pathway maps - 'wiring diagrams' of molecular interconversions - are hand-drawn, and form the core of `KEGG`. They integrate many molecular types, including proteins, RNA, primary and secondary metabolites, and chemical reactions. The maps are classified in a number of ways (metabolism, disease, and so on), each of which can be considered a conceptual 'view' onto the pathway data.\n",
    "\n",
    "In 2011, `KEGG`'s main data repository - the FTP site - moved to a subscription model, due to funding constraints. As a result, it is no longer possible to download freely the complete `KEGG` collection. However, access via the web browser, and for limited webservice queries, remains free.\n",
    "\n",
    "`KEGG` can be queried in a number of ways, including:\n",
    "\n",
    "* At the `KEGG` website [http://www.genome.jp/kegg/pathway.html) in your web browser\n",
    "* Sending requests to the `KEGG` website, using a programming language\n",
    "\n",
    "### Resources\n",
    "* [`KEGG`](http://www.genome.jp/kegg/pathway.html)\n",
    "1. [Metabolism](http://www.genome.jp/kegg/pathway.html#metabolism)\n",
    "2. [Genetic Information Processing](http://www.genome.jp/kegg/pathway.html#genetic)\n",
    "3. [Environmental Information Processing](http://www.genome.jp/kegg/pathway.html#environmental)\n",
    "4. [Cellular Processes](http://www.genome.jp/kegg/pathway.html#cellular)\n",
    "5. [Organismal Systems](http://www.genome.jp/kegg/pathway.html#organismal)\n",
    "6. [Human Diseases](http://www.genome.jp/kegg/pathway.html#disease)\n",
    "7. [Drug Development](http://www.genome.jp/kegg/pathway.html#drug)"
   ]
  },
  {
   "cell_type": "markdown",
   "metadata": {
    "deletable": true,
    "editable": true
   },
   "source": [
    "<a id=\"kegg\"></a>\n",
    "## The `KEGG` website\n",
    "\n",
    "* Open Google Chrome with the command `google-chrome` and navigate to the [`KEGG` webpage](http://www.genome.jp/kegg/pathway.html). You can use the KEGG bookmark for this.\n",
    "\n",
    "![KEGG landing page](images/08-01_landing.png)\n",
    "\n",
    "The landing page offers a menu of choices: `PATHWAY`, `BRITE`, `MODULE` and so on (the main page shown is the `PATHWAY` page) , which each link to different databases within `KEGG`. For example:\n",
    "\n",
    "* [`BRITE`](http://www.genome.jp/kegg/brite.html): Functional hierarchies and binary relationships of biological entities\n",
    "* [`MODULE`](http://www.genome.jp/kegg/module.html): Functional units for annotating and interpreting genomes\n",
    "* [`KO`](http://www.genome.jp/kegg/ko.html): Linking genomes to pathways by ortholog annotation\n",
    "\n",
    "A full account of all the databases at `KEGG` is beyond the scope of this lesson.\n"
   ]
  },
  {
   "cell_type": "markdown",
   "metadata": {
    "deletable": true,
    "editable": true
   },
   "source": [
    "<a id=\"genome\"></a>\n",
    "## `KEGG` GENOME\n",
    "\n",
    "The `KEGG` databases contain information on a subset of sequenced organisms. These are described in the `KEGG` GENOME database, and each genome receives a unique three-letter code to identify it, though the code `map` is reserved for a generic map.\n",
    "\n",
    "* **Click on the GENOME link in the KEGG menu bar**. This will take you to the `KEGG` GENOME database landing page.\n",
    "\n",
    "* [`KEGG` GENOME](http://www.genome.jp/kegg/genome.html): Organisms and ecosystems with genome sequence information\n",
    "\n",
    "![KEGG GENOME landing page](images/08-02_kegg_genome.png)\n",
    "\n",
    "The landing page presents you with a search field.\n",
    "\n",
    "* **Enter the word \"Kitasatospora\" into the search field, and click on \"Go\"**\n",
    "\n",
    "<div class=\"alert-warning\">\n",
    "<b>QUESTIONS</b>\n",
    "<ol>\n",
    "<li> How many entries are returned?\n",
    "<li> What is the theoretical upper limit on the number of three-letter codes? What does this imply about the capacity of `KEGG` GENOME?\n",
    "</ol>\n",
    "</div>\n",
    "\n",
    "* **Click on the first link in the list of genomes.**\n",
    "\n",
    "![KEGG GENOME search result](images/08-03_kegg_genome_ksk.png)\n",
    "\n",
    "The `KEGG` entry for a genome typically links out to the GenBank record used for the `KEGG` entry but, more importantly for us, links internally to the other `KEGG` databases.\n",
    "\n",
    "<div class=\"alert-warning\">\n",
    "<b>QUESTIONS</b>\n",
    "<ol>\n",
    "<li> Which `KEGG` databases are linked from the GENOME entry?\n",
    "<li> How many <i>Kitasatospora</i> genes are found in `KEGG` GENES?\n",
    "<li> How many `KEGG` PATHWAY pathways include genes from <i>Kitasatospora</i>?\n",
    "</ol>\n",
    "</div>"
   ]
  },
  {
   "cell_type": "markdown",
   "metadata": {
    "collapsed": true,
    "deletable": true,
    "editable": true
   },
   "source": [
    "<a id=\"genes\"></a>\n",
    "## `KEGG` GENES\n",
    "\n",
    "The `KEGG` genes database contains the set of gene catalogues for all complete genomes in the `KEGG` GENOMES database. When genes are imported into the `KEGG` system, several analyses are applied, including assignment to `KO` (KEGG Orthology) groups that attempt to cluster genes that have similar function, on the basis of sequence similarity. These `KO` groups have their own `KEGG` KO database:\n",
    "\n",
    "* [`KEGG` KO](http://www.genome.jp/kegg/ko.html): KO Database of Molecular Functions\n",
    "\n",
    "* **Click on the menu link to the GENES database.**\n",
    "\n",
    "![KEGG GENES landing page](images/08-04_kegg_genes_landing.png)\n",
    "\n",
    "The `KEGG` GENES landing page presents three search fields, allowing you to search the GENES database, a specific organism, or to identify orthologues/paralogues/motifs and other connected information for a given gene. \n",
    "\n",
    "Keeping the *Kitasatospora* genome with code `ksk` as our example from above, we will search for genes whose annotation includes the phrase `xylulose`:\n",
    "\n",
    "* **Set `Organism` to `ksk` and enter `xylulose` in the search field, then click `Go`.**\n",
    "\n",
    "![KEGG GENES xylulose search](images/08-05_xylulose_search.png)\n",
    "\n",
    "<div class=\"alert-warning\">\n",
    "<b>QUESTIONS</b>\n",
    "<ol>\n",
    "<li> How many gene entries are returned?\n",
    "<li> How many different EC numbers are represented in the returned results?\n",
    "</ol>\n",
    "</div>\n",
    "\n",
    "We will select one of the returned genes to focus on: `KSE_17560`.\n",
    "\n",
    "* **Click on the link for `KSE_17560`.**\n",
    "\n",
    "![KSE_17560 entry](images/08-06_KSE_17560.png)\n",
    "\n",
    "The gene record describes links to `KEGG` resources such as pathways, functional modules, and predicted orthologues, paralogues and gene clusters.\n",
    "\n",
    "<div class=\"alert-warning\">\n",
    "<b>QUESTIONS</b>\n",
    "<ol>\n",
    "<li> How many `KEGG` PATHWAY pathways include this gene?\n",
    "<li> How many `KEGG` MODULE modules include this gene?\n",
    "</ol>\n",
    "</div>\n",
    "\n",
    "The record also shows the amino acid and coding sequences (with optional upstream and downstream sequence) for the gene. Links to these sequences can be followed via the `AA seq` or `NT seq` buttons.\n",
    "\n",
    "* **Click on the AA seq button.** \n",
    "\n",
    "<div class=\"alert-warning\">\n",
    "<b>QUESTIONS</b>\n",
    "<ol>\n",
    "<li> How would you download this sequence?\n",
    "</ol>\n",
    "</div>"
   ]
  },
  {
   "cell_type": "code",
   "execution_count": null,
   "metadata": {
    "collapsed": true
   },
   "outputs": [],
   "source": []
  }
 ],
 "metadata": {
  "kernelspec": {
   "display_name": "Python 3 (IBioIC)",
   "language": "python",
   "name": "python3_ibioic_course"
  },
  "language_info": {
   "codemirror_mode": {
    "name": "ipython",
    "version": 3
   },
   "file_extension": ".py",
   "mimetype": "text/x-python",
   "name": "python",
   "nbconvert_exporter": "python",
   "pygments_lexer": "ipython3",
   "version": "3.6.0"
  }
 },
 "nbformat": 4,
 "nbformat_minor": 2
}
