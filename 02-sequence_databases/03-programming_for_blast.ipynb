{
 "cells": [
  {
   "cell_type": "markdown",
   "metadata": {
    "deletable": true,
    "editable": true
   },
   "source": [
    "<img src=\"images/JHI_STRAP_Web.png\" style=\"width: 150px; float: right;\">\n",
    "# 03 - Using `BLAST+` Programmatically with Biopython"
   ]
  },
  {
   "cell_type": "markdown",
   "metadata": {
    "deletable": true,
    "editable": true
   },
   "source": [
    "## Table of Contents\n",
    "\n",
    "1. [Introduction](#introduction)\n",
    "2. [Python imports](#imports)\n",
    "3. [Running and analysing a local BLASTX search](#blastx)\n",
    "  1. [Run `BLASTX`](#runblastx)\n",
    "  2. [Load `BLASTX` results](#loadresults)\n",
    "  3. [Exercise 01](#ex01)"
   ]
  },
  {
   "cell_type": "markdown",
   "metadata": {
    "deletable": true,
    "editable": true
   },
   "source": [
    "<a id=\"introduction\"></a>\n",
    "## Introduction\n",
    "\n",
    "This notebook presents examples of methods for using `BLAST` programmatically, with a local installation of `BLAST`.\n",
    "\n",
    "It can be very convenient to use a web BLAST in the browser - such as the [NCBI interface](https://blast.ncbi.nlm.nih.gov/Blast.cgi), or a project-specific instance (like this one at the [PGSC](http://solanaceae.plantbiology.msu.edu/blast.shtml)) - for `BLAST` searches, but there can be limitations to this approach.\n",
    "\n",
    "It may not be practical to submit a large number of simultaneous queries via a web form, either because the interface prevents this, or because it is tiresome to point-and-click over and over again. It may be that the interface does not make it easy to change custom options that you might want to modify to help refine your query. It could be the case that the web database does not contain sequences that you are interested in searching against (if, for example, some of the sequences are proprietary), or it might not be constrained to a relevant set of organisms, so the search might take much longer than it needs to for your purposes. If you need to repeat a query, it can be awkward to get the same settings every time.\n",
    "\n",
    "<br><div class=\"alert-success\">\n",
    "<b>Using a programmatic approach to submitting `BLAST` queries provides a number of potential advantages</b>\n",
    "</div></br>\n",
    "\n",
    "* It is easy to set up repeatable searches for many sequences, or collections of sequences\n",
    "* It is easy to read in the search results and conduct downstream analyses that add value to your search\n",
    "* The same code can be readily adapted to different BLAST instances, databases, and servers\n",
    "\n",
    "The code that we develop in this notebook will be adapted for use in the next notebook: `02-programming_web_blast`, but we focus on a local installation now to understand the principles."
   ]
  },
  {
   "cell_type": "markdown",
   "metadata": {
    "deletable": true,
    "editable": true
   },
   "source": [
    "<a id=\"imports\"></a>\n",
    "## Python imports\n",
    "\n",
    "To interact with the local installation of `BLAST`, we will use the free `Biopython` programming tools. These provide an interface to interact with `BLAST`, run jobs, and to read in the output files.\n",
    "\n",
    "To collate the `BLAST` search results as dataframes/tables for analysis, we will use the `pandas` package.\n",
    "\n",
    "To graph the downstream results, we will use the `seaborn` visualisation package.\n",
    "\n",
    "We import these tools, and some standard library packages for working with files (`os`) below."
   ]
  },
  {
   "cell_type": "code",
   "execution_count": 1,
   "metadata": {
    "collapsed": false,
    "deletable": true,
    "editable": true
   },
   "outputs": [
    {
     "name": "stdout",
     "output_type": "stream",
     "text": [
      "Populating the interactive namespace from numpy and matplotlib\n"
     ]
    }
   ],
   "source": [
    "# Show plots as part of the notebook\n",
    "%pylab inline\n",
    "\n",
    "# Standard library packages\n",
    "import os\n",
    "\n",
    "# Import Pandas and Seaborn\n",
    "import pandas as pd\n",
    "import seaborn as sns\n",
    "\n",
    "# Import Biopython tools for running local BLASTX\n",
    "from Bio.Blast.Applications import NcbiblastxCommandline"
   ]
  },
  {
   "cell_type": "markdown",
   "metadata": {
    "deletable": true,
    "editable": true
   },
   "source": [
    "<a id=\"blastx\"></a>\n",
    "## Running and analysing a local BLASTX search\n",
    "\n",
    "As a first worked example, we will run a local `BLASTX` search, querying a nucleotide sequence against a local protein database, to identify potential homologues.\n",
    "\n",
    "* The database comprises predicted gene products from five *Kitasatospora* genomes\n",
    "* The query is a single nucleotide sequence of a predicted penicillin-binding protein from *Kitasatospora* sp. CB01950\n",
    "\n",
    "We will use Python/`biopython` in the code blocks below to first perform the `BLASTX` search, then parse the results into a `pandas` dataframe, and finally we will plot some summary statistics using `seaborn`."
   ]
  },
  {
   "cell_type": "markdown",
   "metadata": {
    "deletable": true,
    "editable": true
   },
   "source": [
    "<a id=\"runblastx\"></a>\n",
    "### Run `BLASTX`\n",
    "\n",
    "There are two steps to running a `BLAST` command line with `biopython`.\n",
    "\n",
    "1. Create the command-line object\n",
    "2. Run the command-line object\n",
    "\n",
    "To create the command-line, we need to provide the same information as if we were running `BLAST` at the terminal: the location of the query sequence file, the location of the database, and any arguments that modify the type of `BLAST` search we are running.\n",
    "\n",
    "Firstly, we define two variables that contain the paths to the input data, and the location we want to place our `BLAST` output file. Then we define variables that contain paths to: the input query sequence file; the database we're searching against; and the file containing `BLAST` output"
   ]
  },
  {
   "cell_type": "code",
   "execution_count": 2,
   "metadata": {
    "collapsed": false,
    "deletable": true,
    "editable": true
   },
   "outputs": [],
   "source": [
    "# Define paths to input and output directories\n",
    "datadir = os.path.join('data', 'kitasatospora')   # input\n",
    "outdir = os.path.join('output', 'kitasatospora')  # output\n",
    "os.makedirs(outdir, exist_ok=True)                # create output directory if it doesn't exist\n",
    "\n",
    "# Define paths to input and output files\n",
    "query = os.path.join(datadir, 'k_sp_CB01950_penicillin.fasta')           # query sequence(s)\n",
    "db = os.path.join(datadir, 'kitasatospora_proteins.faa')                 # BLAST database\n",
    "blastout = os.path.join(outdir, 'AMK19_00175_blastx_kitasatospora.tab')  # BLAST output"
   ]
  },
  {
   "cell_type": "markdown",
   "metadata": {
    "deletable": true,
    "editable": true
   },
   "source": [
    "<div class=\"alert-danger\">\n",
    "When using a Jupyter notebook, if you ever forget how exactly to use a Python function or class, you can use Python's inbuilt `help()` system. We use this in the cell below to get information on how to construct a `BLASTX` command, using the `NcbiblastxCommandline` object we imported above:\n",
    "</div>"
   ]
  },
  {
   "cell_type": "code",
   "execution_count": 3,
   "metadata": {
    "collapsed": false,
    "deletable": true,
    "editable": true
   },
   "outputs": [
    {
     "name": "stdout",
     "output_type": "stream",
     "text": [
      "Help on class NcbiblastxCommandline in module Bio.Blast.Applications:\n",
      "\n",
      "class NcbiblastxCommandline(_NcbiblastMain2SeqCommandline)\n",
      " |  Wrapper for the NCBI BLAST+ program blastx (nucleotide query, protein database).\n",
      " |  \n",
      " |  With the release of BLAST+ (BLAST rewritten in C++ instead of C), the NCBI\n",
      " |  replaced the old blastall tool with separate tools for each of the searches.\n",
      " |  This wrapper therefore replaces BlastallCommandline with option -p blastx.\n",
      " |  \n",
      " |  >>> from Bio.Blast.Applications import NcbiblastxCommandline\n",
      " |  >>> cline = NcbiblastxCommandline(query=\"m_cold.fasta\", db=\"nr\", evalue=0.001)\n",
      " |  >>> cline\n",
      " |  NcbiblastxCommandline(cmd='blastx', query='m_cold.fasta', db='nr', evalue=0.001)\n",
      " |  >>> print(cline)\n",
      " |  blastx -query m_cold.fasta -db nr -evalue 0.001\n",
      " |  \n",
      " |  You would typically run the command line with cline() or via the Python\n",
      " |  subprocess module, as described in the Biopython tutorial.\n",
      " |  \n",
      " |  Method resolution order:\n",
      " |      NcbiblastxCommandline\n",
      " |      _NcbiblastMain2SeqCommandline\n",
      " |      _Ncbiblast2SeqCommandline\n",
      " |      _NcbiblastCommandline\n",
      " |      _NcbibaseblastCommandline\n",
      " |      Bio.Application.AbstractCommandline\n",
      " |      builtins.object\n",
      " |  \n",
      " |  Methods defined here:\n",
      " |  \n",
      " |  __init__(self, cmd='blastx', **kwargs)\n",
      " |      Create a new instance of a command line wrapper object.\n",
      " |  \n",
      " |  ----------------------------------------------------------------------\n",
      " |  Methods inherited from Bio.Application.AbstractCommandline:\n",
      " |  \n",
      " |  __call__(self, stdin=None, stdout=True, stderr=True, cwd=None, env=None)\n",
      " |      Executes the command, waits for it to finish, and returns output.\n",
      " |      \n",
      " |      Runs the command line tool and waits for it to finish. If it returns\n",
      " |      a non-zero error level, an exception is raised. Otherwise two strings\n",
      " |      are returned containing stdout and stderr.\n",
      " |      \n",
      " |      The optional stdin argument should be a string of data which will be\n",
      " |      passed to the tool as standard input.\n",
      " |      \n",
      " |      The optional stdout and stderr argument may be filenames (string),\n",
      " |      but otherwise are treated as a booleans, and control if the output\n",
      " |      should be captured as strings (True, default), or ignored by sending\n",
      " |      it to /dev/null to avoid wasting memory (False). If sent to a file\n",
      " |      or ignored, then empty string(s) are returned.\n",
      " |      \n",
      " |      The optional cwd argument is a string giving the working directory\n",
      " |      to run the command from. See Python's subprocess module documentation\n",
      " |      for more details.\n",
      " |      \n",
      " |      The optional env argument is a dictionary setting the environment\n",
      " |      variables to be used in the new process. By default the current\n",
      " |      process' environment variables are used. See Python's subprocess\n",
      " |      module documentation for more details.\n",
      " |      \n",
      " |      Default example usage::\n",
      " |      \n",
      " |          from Bio.Emboss.Applications import WaterCommandline\n",
      " |          water_cmd = WaterCommandline(gapopen=10, gapextend=0.5,\n",
      " |                                       stdout=True, auto=True,\n",
      " |                                       asequence=\"a.fasta\", bsequence=\"b.fasta\")\n",
      " |          print(\"About to run: %s\" % water_cmd)\n",
      " |          std_output, err_output = water_cmd()\n",
      " |      \n",
      " |      This functionality is similar to subprocess.check_output() added in\n",
      " |      Python 2.7. In general if you require more control over running the\n",
      " |      command, use subprocess directly.\n",
      " |      \n",
      " |      As of Biopython 1.56, when the program called returns a non-zero error\n",
      " |      level, a custom ApplicationError exception is raised. This includes\n",
      " |      any stdout and stderr strings captured as attributes of the exception\n",
      " |      object, since they may be useful for diagnosing what went wrong.\n",
      " |  \n",
      " |  __repr__(self)\n",
      " |      Return a representation of the command line object for debugging.\n",
      " |      \n",
      " |      e.g.\n",
      " |      >>> from Bio.Emboss.Applications import WaterCommandline\n",
      " |      >>> cline = WaterCommandline(gapopen=10, gapextend=0.5)\n",
      " |      >>> cline.asequence = \"asis:ACCCGGGCGCGGT\"\n",
      " |      >>> cline.bsequence = \"asis:ACCCGAGCGCGGT\"\n",
      " |      >>> cline.outfile = \"temp_water.txt\"\n",
      " |      >>> print(cline)\n",
      " |      water -outfile=temp_water.txt -asequence=asis:ACCCGGGCGCGGT -bsequence=asis:ACCCGAGCGCGGT -gapopen=10 -gapextend=0.5\n",
      " |      >>> cline\n",
      " |      WaterCommandline(cmd='water', outfile='temp_water.txt', asequence='asis:ACCCGGGCGCGGT', bsequence='asis:ACCCGAGCGCGGT', gapopen=10, gapextend=0.5)\n",
      " |  \n",
      " |  __setattr__(self, name, value)\n",
      " |      Set attribute name to value (PRIVATE).\n",
      " |      \n",
      " |      This code implements a workaround for a user interface issue.\n",
      " |      Without this __setattr__ attribute-based assignment of parameters\n",
      " |      will silently accept invalid parameters, leading to known instances\n",
      " |      of the user assuming that parameters for the application are set,\n",
      " |      when they are not.\n",
      " |      \n",
      " |      >>> from Bio.Emboss.Applications import WaterCommandline\n",
      " |      >>> cline = WaterCommandline(gapopen=10, gapextend=0.5, stdout=True)\n",
      " |      >>> cline.asequence = \"a.fasta\"\n",
      " |      >>> cline.bsequence = \"b.fasta\"\n",
      " |      >>> cline.csequence = \"c.fasta\"\n",
      " |      Traceback (most recent call last):\n",
      " |      ...\n",
      " |      ValueError: Option name csequence was not found.\n",
      " |      >>> print(cline)\n",
      " |      water -stdout -asequence=a.fasta -bsequence=b.fasta -gapopen=10 -gapextend=0.5\n",
      " |      \n",
      " |      This workaround uses a whitelist of object attributes, and sets the\n",
      " |      object attribute list as normal, for these.  Other attributes are\n",
      " |      assumed to be parameters, and passed to the self.set_parameter method\n",
      " |      for validation and assignment.\n",
      " |  \n",
      " |  __str__(self)\n",
      " |      Make the commandline string with the currently set options.\n",
      " |      \n",
      " |      e.g.\n",
      " |      >>> from Bio.Emboss.Applications import WaterCommandline\n",
      " |      >>> cline = WaterCommandline(gapopen=10, gapextend=0.5)\n",
      " |      >>> cline.asequence = \"asis:ACCCGGGCGCGGT\"\n",
      " |      >>> cline.bsequence = \"asis:ACCCGAGCGCGGT\"\n",
      " |      >>> cline.outfile = \"temp_water.txt\"\n",
      " |      >>> print(cline)\n",
      " |      water -outfile=temp_water.txt -asequence=asis:ACCCGGGCGCGGT -bsequence=asis:ACCCGAGCGCGGT -gapopen=10 -gapextend=0.5\n",
      " |      >>> str(cline)\n",
      " |      'water -outfile=temp_water.txt -asequence=asis:ACCCGGGCGCGGT -bsequence=asis:ACCCGAGCGCGGT -gapopen=10 -gapextend=0.5'\n",
      " |  \n",
      " |  set_parameter(self, name, value=None)\n",
      " |      Set a commandline option for a program (OBSOLETE).\n",
      " |      \n",
      " |      Every parameter is available via a property and as a named\n",
      " |      keyword when creating the instance. Using either of these is\n",
      " |      preferred to this legacy set_parameter method which is now\n",
      " |      OBSOLETE, and likely to be DEPRECATED and later REMOVED in\n",
      " |      future releases.\n",
      " |  \n",
      " |  ----------------------------------------------------------------------\n",
      " |  Data descriptors inherited from Bio.Application.AbstractCommandline:\n",
      " |  \n",
      " |  __dict__\n",
      " |      dictionary for instance variables (if defined)\n",
      " |  \n",
      " |  __weakref__\n",
      " |      list of weak references to the object (if defined)\n",
      " |  \n",
      " |  ----------------------------------------------------------------------\n",
      " |  Data and other attributes inherited from Bio.Application.AbstractCommandline:\n",
      " |  \n",
      " |  parameters = None\n",
      "\n"
     ]
    }
   ],
   "source": [
    "# Get help with how to construct the command-line\n",
    "help(NcbiblastxCommandline)"
   ]
  },
  {
   "cell_type": "markdown",
   "metadata": {
    "deletable": true,
    "editable": true
   },
   "source": [
    "The information above tells how to pass the paths to the query sequence, database, and how to specify other values to control `BLASTX`, e.g.:\n",
    "\n",
    "```\n",
    "cline = NcbiblastxCommandline(query=\"m_cold.fasta\", db=\"nr\", evalue=0.001)\n",
    "```\n",
    "\n",
    "<br><div class=\"alert-success\">\n",
    "We use this information to create a command-line object in the variable `cmd_blastx` that we can use to run our `BLASTX` query.\n",
    "</div></br>\n",
    "\n",
    "We provide the locations of the query sequence (the penicillin-binding protein), the database we're searching against (the proteins from five other *Kitosatospora* species), and a location to write the output. \n",
    "\n",
    "<br><div class=\"alert-warning\">\n",
    "We also specify the output format we require, with the option `outfmt=6`. This asks `BLASTX` to write a tab-separated tabular plain text file. This differs from the usual human-readable output you may be used to, but is particularly convenient for automated processing.\n",
    "</div></br>"
   ]
  },
  {
   "cell_type": "code",
   "execution_count": 4,
   "metadata": {
    "collapsed": true,
    "deletable": true,
    "editable": true
   },
   "outputs": [],
   "source": [
    "# Create command-line for BLASTX\n",
    "cmd_blastx = NcbiblastxCommandline(query=query, out=blastout, outfmt=6, db=db)"
   ]
  },
  {
   "cell_type": "markdown",
   "metadata": {
    "deletable": true,
    "editable": true
   },
   "source": [
    "The `cmd_blastx` object now contains instructions that are equivalent to running `BLASTX` at the command-line. We can even get it to print out a command-line that we could copy-and-paste into the terminal, to run the search:"
   ]
  },
  {
   "cell_type": "code",
   "execution_count": 5,
   "metadata": {
    "collapsed": false,
    "deletable": true,
    "editable": true
   },
   "outputs": [
    {
     "name": "stdout",
     "output_type": "stream",
     "text": [
      "blastx -out output/kitasatospora/AMK19_00175_blastx_kitasatospora.tab -outfmt 6 -query data/kitasatospora/k_sp_CB01950_penicillin.fasta -db data/kitasatospora/kitasatospora_proteins.faa\n"
     ]
    }
   ],
   "source": [
    "# Get a working command-line\n",
    "print(cmd_blastx)"
   ]
  },
  {
   "cell_type": "markdown",
   "metadata": {
    "deletable": true,
    "editable": true
   },
   "source": [
    "We don't need to use the terminal at all, though. We can run the `BLASTX` search from Python, by *calling* the `cmd_blastx` object, with:\n",
    "\n",
    "```\n",
    "cmd_blastx()\n",
    "```\n",
    "\n",
    "<br><div class=\"alert-warning\">\n",
    "Although the code above is the <i>simplest</i> way to run the command, it can be worth doing something slightly more complex.<br><br />\n",
    "Any Linux command can place information into two special <i>streams</i>: `STDOUT` and `STDERR` (pronounced 'standard-out' and 'standard-error'). As you might expect, `STDOUT` gets 'output', and errors are reported to `STDERR`. It is good practice to 'catch' these streams, and check them for reports from the program that's being run.\n",
    "</class></div>"
   ]
  },
  {
   "cell_type": "code",
   "execution_count": 6,
   "metadata": {
    "collapsed": false,
    "deletable": true,
    "editable": true
   },
   "outputs": [
    {
     "name": "stdout",
     "output_type": "stream",
     "text": [
      "STDOUT: \n",
      "STDERR: \n"
     ]
    }
   ],
   "source": [
    "# Run BLASTX, and catch STDOUT/STDERR\n",
    "# !! Do not execute cell if skipping computation !!\n",
    "stdout, stderr = cmd_blastx()\n",
    "\n",
    "# Check STDOUT, STDERR\n",
    "print(\"STDOUT: %s\" % stdout)\n",
    "print(\"STDERR: %s\" % stderr)"
   ]
  },
  {
   "cell_type": "markdown",
   "metadata": {
    "deletable": true,
    "editable": true
   },
   "source": [
    "If everything has worked, there should be no information in either `STDOUT` or `STDERR`. You should, however now see a file named `AMK19_00175_blastx_kitasatospora.tab` in the `output/kitasatospora` directory. This file contains your `BLASTX` search results, and we shall import and inspect these in the next section."
   ]
  },
  {
   "cell_type": "markdown",
   "metadata": {
    "deletable": true,
    "editable": true
   },
   "source": [
    "<a id=\"loadresults\"></a>\n",
    "### Load `BLASTX` results\n",
    "\n",
    "We have already defined a variable called `blastout` that holds the `BLASTX` search output, so we can use this when we load the data.\n",
    "\n",
    "`Pandas` is a Python module that provides a dataframe structure, like that used in `R`, which is highly convenient for statistics and data analysis. Many powerful operations come built-in with `pandas`, and we will barely scratch the surface of its utility on this course. We will use it here to load in and inspect the `BLASTX` results that we've just generated.\n",
    "\n",
    "First, we need to load the tab-separated data that describes the search results. We do this with the `read_csv()` function from `pandas`, and put the results into the variable `results`. To make sure that the data is read correctly, we need to tell the function that the symbol which separates columns is a 'tab' (`sep=\\t`), and that there is no column header information provided (`header=None`)."
   ]
  },
  {
   "cell_type": "code",
   "execution_count": 7,
   "metadata": {
    "collapsed": false,
    "deletable": true,
    "editable": true
   },
   "outputs": [],
   "source": [
    "# !! If you are skipping computational steps, uncomment the line below !!\n",
    "blastout = os.path.join('prepped', 'kitasatospora', 'AMK19_00175_blastx_kitasatospora.tab')  # BLAST output\n",
    "\n",
    "# Read BLASTX output\n",
    "results = pd.read_csv(blastout, sep=\"\\t\", header=None)"
   ]
  },
  {
   "cell_type": "markdown",
   "metadata": {
    "deletable": true,
    "editable": true
   },
   "source": [
    "Jupyter notebooks integrate well with `pandas` dataframes, and it is straightforward to see the first few rows of the results table, by using the dataframe's `head()` method:"
   ]
  },
  {
   "cell_type": "code",
   "execution_count": 8,
   "metadata": {
    "collapsed": false,
    "deletable": true,
    "editable": true
   },
   "outputs": [
    {
     "data": {
      "text/html": [
       "<div>\n",
       "<table border=\"1\" class=\"dataframe\">\n",
       "  <thead>\n",
       "    <tr style=\"text-align: right;\">\n",
       "      <th></th>\n",
       "      <th>0</th>\n",
       "      <th>1</th>\n",
       "      <th>2</th>\n",
       "      <th>3</th>\n",
       "      <th>4</th>\n",
       "      <th>5</th>\n",
       "      <th>6</th>\n",
       "      <th>7</th>\n",
       "      <th>8</th>\n",
       "      <th>9</th>\n",
       "      <th>10</th>\n",
       "      <th>11</th>\n",
       "    </tr>\n",
       "  </thead>\n",
       "  <tbody>\n",
       "    <tr>\n",
       "      <th>0</th>\n",
       "      <td>lcl|LISX01000001.1_cds_OKJ16671.1_31</td>\n",
       "      <td>KDN84196.1</td>\n",
       "      <td>93.802</td>\n",
       "      <td>484</td>\n",
       "      <td>30</td>\n",
       "      <td>0</td>\n",
       "      <td>1</td>\n",
       "      <td>1452</td>\n",
       "      <td>1</td>\n",
       "      <td>484</td>\n",
       "      <td>0.0</td>\n",
       "      <td>918.0</td>\n",
       "    </tr>\n",
       "    <tr>\n",
       "      <th>1</th>\n",
       "      <td>lcl|LISX01000001.1_cds_OKJ16671.1_31</td>\n",
       "      <td>KIQ63037.1</td>\n",
       "      <td>89.897</td>\n",
       "      <td>485</td>\n",
       "      <td>48</td>\n",
       "      <td>1</td>\n",
       "      <td>1</td>\n",
       "      <td>1452</td>\n",
       "      <td>1</td>\n",
       "      <td>485</td>\n",
       "      <td>0.0</td>\n",
       "      <td>872.0</td>\n",
       "    </tr>\n",
       "    <tr>\n",
       "      <th>2</th>\n",
       "      <td>lcl|LISX01000001.1_cds_OKJ16671.1_31</td>\n",
       "      <td>BAJ29737.1</td>\n",
       "      <td>84.330</td>\n",
       "      <td>485</td>\n",
       "      <td>75</td>\n",
       "      <td>1</td>\n",
       "      <td>1</td>\n",
       "      <td>1452</td>\n",
       "      <td>1</td>\n",
       "      <td>485</td>\n",
       "      <td>0.0</td>\n",
       "      <td>830.0</td>\n",
       "    </tr>\n",
       "    <tr>\n",
       "      <th>3</th>\n",
       "      <td>lcl|LISX01000001.1_cds_OKJ16671.1_31</td>\n",
       "      <td>KRB64622.1</td>\n",
       "      <td>75.212</td>\n",
       "      <td>472</td>\n",
       "      <td>114</td>\n",
       "      <td>3</td>\n",
       "      <td>1</td>\n",
       "      <td>1407</td>\n",
       "      <td>1</td>\n",
       "      <td>472</td>\n",
       "      <td>0.0</td>\n",
       "      <td>743.0</td>\n",
       "    </tr>\n",
       "    <tr>\n",
       "      <th>4</th>\n",
       "      <td>lcl|LISX01000001.1_cds_OKJ16671.1_31</td>\n",
       "      <td>KQV22225.1</td>\n",
       "      <td>75.212</td>\n",
       "      <td>472</td>\n",
       "      <td>114</td>\n",
       "      <td>3</td>\n",
       "      <td>1</td>\n",
       "      <td>1407</td>\n",
       "      <td>1</td>\n",
       "      <td>472</td>\n",
       "      <td>0.0</td>\n",
       "      <td>743.0</td>\n",
       "    </tr>\n",
       "  </tbody>\n",
       "</table>\n",
       "</div>"
      ],
      "text/plain": [
       "                                     0           1       2    3    4   5   6   \\\n",
       "0  lcl|LISX01000001.1_cds_OKJ16671.1_31  KDN84196.1  93.802  484   30   0   1   \n",
       "1  lcl|LISX01000001.1_cds_OKJ16671.1_31  KIQ63037.1  89.897  485   48   1   1   \n",
       "2  lcl|LISX01000001.1_cds_OKJ16671.1_31  BAJ29737.1  84.330  485   75   1   1   \n",
       "3  lcl|LISX01000001.1_cds_OKJ16671.1_31  KRB64622.1  75.212  472  114   3   1   \n",
       "4  lcl|LISX01000001.1_cds_OKJ16671.1_31  KQV22225.1  75.212  472  114   3   1   \n",
       "\n",
       "     7   8    9    10     11  \n",
       "0  1452   1  484  0.0  918.0  \n",
       "1  1452   1  485  0.0  872.0  \n",
       "2  1452   1  485  0.0  830.0  \n",
       "3  1407   1  472  0.0  743.0  \n",
       "4  1407   1  472  0.0  743.0  "
      ]
     },
     "execution_count": 8,
     "metadata": {},
     "output_type": "execute_result"
    }
   ],
   "source": [
    "# Inspect results table\n",
    "results.head()"
   ]
  },
  {
   "cell_type": "markdown",
   "metadata": {
    "deletable": true,
    "editable": true
   },
   "source": [
    "We can see that the table, like the output file, contains 11 columns. It also contains an additional `index` (on the left), which uniquely labels each row of the table.\n",
    "\n",
    "The table is not as useful as it could be, because it doesn't inform us about the contents of each column. To rectify this we can create column headers, and to do this we define a `list` of column names, then assign that list to the `results` dataframe's `columns` attribute:"
   ]
  },
  {
   "cell_type": "code",
   "execution_count": 9,
   "metadata": {
    "collapsed": false,
    "deletable": true,
    "editable": true
   },
   "outputs": [
    {
     "data": {
      "text/html": [
       "<div>\n",
       "<table border=\"1\" class=\"dataframe\">\n",
       "  <thead>\n",
       "    <tr style=\"text-align: right;\">\n",
       "      <th></th>\n",
       "      <th>query</th>\n",
       "      <th>subject</th>\n",
       "      <th>pc_identity</th>\n",
       "      <th>aln_length</th>\n",
       "      <th>mismatches</th>\n",
       "      <th>gaps_opened</th>\n",
       "      <th>query_start</th>\n",
       "      <th>query_end</th>\n",
       "      <th>subject_start</th>\n",
       "      <th>subject_end</th>\n",
       "      <th>e_value</th>\n",
       "      <th>bitscore</th>\n",
       "    </tr>\n",
       "  </thead>\n",
       "  <tbody>\n",
       "    <tr>\n",
       "      <th>0</th>\n",
       "      <td>lcl|LISX01000001.1_cds_OKJ16671.1_31</td>\n",
       "      <td>KDN84196.1</td>\n",
       "      <td>93.802</td>\n",
       "      <td>484</td>\n",
       "      <td>30</td>\n",
       "      <td>0</td>\n",
       "      <td>1</td>\n",
       "      <td>1452</td>\n",
       "      <td>1</td>\n",
       "      <td>484</td>\n",
       "      <td>0.0</td>\n",
       "      <td>918.0</td>\n",
       "    </tr>\n",
       "    <tr>\n",
       "      <th>1</th>\n",
       "      <td>lcl|LISX01000001.1_cds_OKJ16671.1_31</td>\n",
       "      <td>KIQ63037.1</td>\n",
       "      <td>89.897</td>\n",
       "      <td>485</td>\n",
       "      <td>48</td>\n",
       "      <td>1</td>\n",
       "      <td>1</td>\n",
       "      <td>1452</td>\n",
       "      <td>1</td>\n",
       "      <td>485</td>\n",
       "      <td>0.0</td>\n",
       "      <td>872.0</td>\n",
       "    </tr>\n",
       "    <tr>\n",
       "      <th>2</th>\n",
       "      <td>lcl|LISX01000001.1_cds_OKJ16671.1_31</td>\n",
       "      <td>BAJ29737.1</td>\n",
       "      <td>84.330</td>\n",
       "      <td>485</td>\n",
       "      <td>75</td>\n",
       "      <td>1</td>\n",
       "      <td>1</td>\n",
       "      <td>1452</td>\n",
       "      <td>1</td>\n",
       "      <td>485</td>\n",
       "      <td>0.0</td>\n",
       "      <td>830.0</td>\n",
       "    </tr>\n",
       "    <tr>\n",
       "      <th>3</th>\n",
       "      <td>lcl|LISX01000001.1_cds_OKJ16671.1_31</td>\n",
       "      <td>KRB64622.1</td>\n",
       "      <td>75.212</td>\n",
       "      <td>472</td>\n",
       "      <td>114</td>\n",
       "      <td>3</td>\n",
       "      <td>1</td>\n",
       "      <td>1407</td>\n",
       "      <td>1</td>\n",
       "      <td>472</td>\n",
       "      <td>0.0</td>\n",
       "      <td>743.0</td>\n",
       "    </tr>\n",
       "    <tr>\n",
       "      <th>4</th>\n",
       "      <td>lcl|LISX01000001.1_cds_OKJ16671.1_31</td>\n",
       "      <td>KQV22225.1</td>\n",
       "      <td>75.212</td>\n",
       "      <td>472</td>\n",
       "      <td>114</td>\n",
       "      <td>3</td>\n",
       "      <td>1</td>\n",
       "      <td>1407</td>\n",
       "      <td>1</td>\n",
       "      <td>472</td>\n",
       "      <td>0.0</td>\n",
       "      <td>743.0</td>\n",
       "    </tr>\n",
       "  </tbody>\n",
       "</table>\n",
       "</div>"
      ],
      "text/plain": [
       "                                  query     subject  pc_identity  aln_length  \\\n",
       "0  lcl|LISX01000001.1_cds_OKJ16671.1_31  KDN84196.1       93.802         484   \n",
       "1  lcl|LISX01000001.1_cds_OKJ16671.1_31  KIQ63037.1       89.897         485   \n",
       "2  lcl|LISX01000001.1_cds_OKJ16671.1_31  BAJ29737.1       84.330         485   \n",
       "3  lcl|LISX01000001.1_cds_OKJ16671.1_31  KRB64622.1       75.212         472   \n",
       "4  lcl|LISX01000001.1_cds_OKJ16671.1_31  KQV22225.1       75.212         472   \n",
       "\n",
       "   mismatches  gaps_opened  query_start  query_end  subject_start  \\\n",
       "0          30            0            1       1452              1   \n",
       "1          48            1            1       1452              1   \n",
       "2          75            1            1       1452              1   \n",
       "3         114            3            1       1407              1   \n",
       "4         114            3            1       1407              1   \n",
       "\n",
       "   subject_end  e_value  bitscore  \n",
       "0          484      0.0     918.0  \n",
       "1          485      0.0     872.0  \n",
       "2          485      0.0     830.0  \n",
       "3          472      0.0     743.0  \n",
       "4          472      0.0     743.0  "
      ]
     },
     "execution_count": 9,
     "metadata": {},
     "output_type": "execute_result"
    }
   ],
   "source": [
    "# Define column headers\n",
    "headers = ['query', 'subject',\n",
    "           'pc_identity', 'aln_length', 'mismatches', 'gaps_opened',\n",
    "           'query_start', 'query_end', 'subject_start', 'subject_end',\n",
    "           'e_value', 'bitscore']\n",
    "\n",
    "# Assign headers\n",
    "results.columns = headers\n",
    "\n",
    "# Inspect modified table\n",
    "results.head()"
   ]
  },
  {
   "cell_type": "markdown",
   "metadata": {
    "deletable": true,
    "editable": true
   },
   "source": [
    "Now the results are a little more readable. We can also use these column names directly to work with the information in them.\n",
    "\n",
    "We can, for example, obtain a summary of the information in the table with the dataframe's `.describe()` method:"
   ]
  },
  {
   "cell_type": "code",
   "execution_count": 10,
   "metadata": {
    "collapsed": false,
    "deletable": true,
    "editable": true
   },
   "outputs": [
    {
     "data": {
      "text/html": [
       "<div>\n",
       "<table border=\"1\" class=\"dataframe\">\n",
       "  <thead>\n",
       "    <tr style=\"text-align: right;\">\n",
       "      <th></th>\n",
       "      <th>pc_identity</th>\n",
       "      <th>aln_length</th>\n",
       "      <th>mismatches</th>\n",
       "      <th>gaps_opened</th>\n",
       "      <th>query_start</th>\n",
       "      <th>query_end</th>\n",
       "      <th>subject_start</th>\n",
       "      <th>subject_end</th>\n",
       "      <th>e_value</th>\n",
       "      <th>bitscore</th>\n",
       "    </tr>\n",
       "  </thead>\n",
       "  <tbody>\n",
       "    <tr>\n",
       "      <th>count</th>\n",
       "      <td>53.000000</td>\n",
       "      <td>53.000000</td>\n",
       "      <td>53.000000</td>\n",
       "      <td>53.000000</td>\n",
       "      <td>53.000000</td>\n",
       "      <td>53.000000</td>\n",
       "      <td>53.000000</td>\n",
       "      <td>53.000000</td>\n",
       "      <td>5.300000e+01</td>\n",
       "      <td>53.000000</td>\n",
       "    </tr>\n",
       "    <tr>\n",
       "      <th>mean</th>\n",
       "      <td>35.457000</td>\n",
       "      <td>307.566038</td>\n",
       "      <td>142.584906</td>\n",
       "      <td>9.169811</td>\n",
       "      <td>405.433962</td>\n",
       "      <td>1254.094340</td>\n",
       "      <td>249.773585</td>\n",
       "      <td>532.037736</td>\n",
       "      <td>9.400003e-01</td>\n",
       "      <td>165.126415</td>\n",
       "    </tr>\n",
       "    <tr>\n",
       "      <th>std</th>\n",
       "      <td>17.220367</td>\n",
       "      <td>134.603193</td>\n",
       "      <td>62.425474</td>\n",
       "      <td>6.652749</td>\n",
       "      <td>291.880409</td>\n",
       "      <td>219.724326</td>\n",
       "      <td>159.157353</td>\n",
       "      <td>146.831138</td>\n",
       "      <td>2.316187e+00</td>\n",
       "      <td>236.247836</td>\n",
       "    </tr>\n",
       "    <tr>\n",
       "      <th>min</th>\n",
       "      <td>20.714000</td>\n",
       "      <td>47.000000</td>\n",
       "      <td>29.000000</td>\n",
       "      <td>0.000000</td>\n",
       "      <td>1.000000</td>\n",
       "      <td>495.000000</td>\n",
       "      <td>1.000000</td>\n",
       "      <td>130.000000</td>\n",
       "      <td>0.000000e+00</td>\n",
       "      <td>28.500000</td>\n",
       "    </tr>\n",
       "    <tr>\n",
       "      <th>25%</th>\n",
       "      <td>27.446000</td>\n",
       "      <td>247.000000</td>\n",
       "      <td>94.000000</td>\n",
       "      <td>3.000000</td>\n",
       "      <td>259.000000</td>\n",
       "      <td>1317.000000</td>\n",
       "      <td>141.000000</td>\n",
       "      <td>472.000000</td>\n",
       "      <td>1.140000e-19</td>\n",
       "      <td>58.900000</td>\n",
       "    </tr>\n",
       "    <tr>\n",
       "      <th>50%</th>\n",
       "      <td>28.342000</td>\n",
       "      <td>333.000000</td>\n",
       "      <td>160.000000</td>\n",
       "      <td>11.000000</td>\n",
       "      <td>391.000000</td>\n",
       "      <td>1317.000000</td>\n",
       "      <td>285.000000</td>\n",
       "      <td>573.000000</td>\n",
       "      <td>3.980000e-13</td>\n",
       "      <td>71.200000</td>\n",
       "    </tr>\n",
       "    <tr>\n",
       "      <th>75%</th>\n",
       "      <td>32.432000</td>\n",
       "      <td>419.000000</td>\n",
       "      <td>192.000000</td>\n",
       "      <td>13.000000</td>\n",
       "      <td>475.000000</td>\n",
       "      <td>1350.000000</td>\n",
       "      <td>339.000000</td>\n",
       "      <td>624.000000</td>\n",
       "      <td>3.870000e-09</td>\n",
       "      <td>92.000000</td>\n",
       "    </tr>\n",
       "    <tr>\n",
       "      <th>max</th>\n",
       "      <td>93.802000</td>\n",
       "      <td>485.000000</td>\n",
       "      <td>229.000000</td>\n",
       "      <td>21.000000</td>\n",
       "      <td>1241.000000</td>\n",
       "      <td>1452.000000</td>\n",
       "      <td>572.000000</td>\n",
       "      <td>724.000000</td>\n",
       "      <td>7.500000e+00</td>\n",
       "      <td>918.000000</td>\n",
       "    </tr>\n",
       "  </tbody>\n",
       "</table>\n",
       "</div>"
      ],
      "text/plain": [
       "       pc_identity  aln_length  mismatches  gaps_opened  query_start  \\\n",
       "count    53.000000   53.000000   53.000000    53.000000    53.000000   \n",
       "mean     35.457000  307.566038  142.584906     9.169811   405.433962   \n",
       "std      17.220367  134.603193   62.425474     6.652749   291.880409   \n",
       "min      20.714000   47.000000   29.000000     0.000000     1.000000   \n",
       "25%      27.446000  247.000000   94.000000     3.000000   259.000000   \n",
       "50%      28.342000  333.000000  160.000000    11.000000   391.000000   \n",
       "75%      32.432000  419.000000  192.000000    13.000000   475.000000   \n",
       "max      93.802000  485.000000  229.000000    21.000000  1241.000000   \n",
       "\n",
       "         query_end  subject_start  subject_end       e_value    bitscore  \n",
       "count    53.000000      53.000000    53.000000  5.300000e+01   53.000000  \n",
       "mean   1254.094340     249.773585   532.037736  9.400003e-01  165.126415  \n",
       "std     219.724326     159.157353   146.831138  2.316187e+00  236.247836  \n",
       "min     495.000000       1.000000   130.000000  0.000000e+00   28.500000  \n",
       "25%    1317.000000     141.000000   472.000000  1.140000e-19   58.900000  \n",
       "50%    1317.000000     285.000000   573.000000  3.980000e-13   71.200000  \n",
       "75%    1350.000000     339.000000   624.000000  3.870000e-09   92.000000  \n",
       "max    1452.000000     572.000000   724.000000  7.500000e+00  918.000000  "
      ]
     },
     "execution_count": 10,
     "metadata": {},
     "output_type": "execute_result"
    }
   ],
   "source": [
    "# Show a summary of the results table data\n",
    "results.describe()"
   ]
  },
  {
   "cell_type": "markdown",
   "metadata": {
    "deletable": true,
    "editable": true
   },
   "source": [
    "We can also extract and work with specific columns, by naming them:"
   ]
  },
  {
   "cell_type": "code",
   "execution_count": 11,
   "metadata": {
    "collapsed": false,
    "deletable": true,
    "editable": true
   },
   "outputs": [
    {
     "name": "stdout",
     "output_type": "stream",
     "text": [
      "0     KDN84196.1\n",
      "1     KIQ63037.1\n",
      "2     BAJ29737.1\n",
      "3     KRB64622.1\n",
      "4     KQV22225.1\n",
      "5     BAJ30397.1\n",
      "6     KRB67648.1\n",
      "7     KQV24303.1\n",
      "8     KIQ64169.1\n",
      "9     KDN83954.1\n",
      "10    BAJ28425.1\n",
      "11    KDN85523.1\n",
      "12    KIQ62109.1\n",
      "13    KRB62261.1\n",
      "14    KQV05455.1\n",
      "15    KQV16635.1\n",
      "16    KDN86344.1\n",
      "17    KIQ63880.1\n",
      "18    KIQ62197.1\n",
      "19    KDN85310.1\n",
      "20    BAJ29447.1\n",
      "21    KQV14673.1\n",
      "22    KRB76663.1\n",
      "23    KQV11755.1\n",
      "24    BAJ30400.1\n",
      "25    KRB67277.1\n",
      "26    KQV24009.1\n",
      "27    KDN83125.1\n",
      "28    KIQ63374.1\n",
      "29    KDN84583.1\n",
      "30    BAJ28586.1\n",
      "31    KRB73778.1\n",
      "32    KQV16924.1\n",
      "33    KRB74841.1\n",
      "34    KQV18862.1\n",
      "35    BAJ29692.1\n",
      "36    KIQ64090.1\n",
      "37    KRB76688.1\n",
      "38    KQV11730.1\n",
      "39    KDN84145.1\n",
      "40    BAJ27952.1\n",
      "41    BAJ27952.1\n",
      "42    KRB64587.1\n",
      "43    KQV22189.1\n",
      "44    KIQ65054.1\n",
      "45    KDN83452.1\n",
      "46    BAJ31550.1\n",
      "47    KIQ64869.1\n",
      "48    KRB77579.1\n",
      "49    KQV19304.1\n",
      "50    KDN87199.1\n",
      "51    KRB71233.1\n",
      "52    KQV20035.1\n",
      "Name: subject, dtype: object\n"
     ]
    }
   ],
   "source": [
    "# Show all subject matches\n",
    "print(results['subject'])"
   ]
  },
  {
   "cell_type": "code",
   "execution_count": 12,
   "metadata": {
    "collapsed": false,
    "deletable": true,
    "editable": true
   },
   "outputs": [
    {
     "name": "stdout",
     "output_type": "stream",
     "text": [
      "0     1452\n",
      "1     1452\n",
      "2     1452\n",
      "3     1407\n",
      "4     1407\n",
      "5     1308\n",
      "6     1350\n",
      "7     1350\n",
      "8     1308\n",
      "9     1308\n",
      "10    1020\n",
      "11    1023\n",
      "12    1023\n",
      "13     969\n",
      "14     969\n",
      "15    1038\n",
      "16     975\n",
      "17     975\n",
      "18     879\n",
      "19     888\n",
      "20     927\n",
      "21     924\n",
      "22     888\n",
      "23     888\n",
      "24     984\n",
      "25    1005\n",
      "26    1005\n",
      "27     861\n",
      "28     861\n",
      "29     927\n",
      "30     843\n",
      "31     984\n",
      "32     984\n",
      "33     927\n",
      "34     927\n",
      "35     525\n",
      "36     678\n",
      "37    1059\n",
      "38    1059\n",
      "39     678\n",
      "40     348\n",
      "41     312\n",
      "42     678\n",
      "43     678\n",
      "44     306\n",
      "45     237\n",
      "46     396\n",
      "47     138\n",
      "48     204\n",
      "49     204\n",
      "50     162\n",
      "51     177\n",
      "52     177\n",
      "dtype: int64\n"
     ]
    }
   ],
   "source": [
    "# Create a new column describing how long the alignment is on the query sequence\n",
    "qaln_length = abs(results['query_end'] - results['query_start']) + 1\n",
    "print(qaln_length)"
   ]
  },
  {
   "cell_type": "code",
   "execution_count": 13,
   "metadata": {
    "collapsed": false,
    "deletable": true,
    "editable": true
   },
   "outputs": [
    {
     "data": {
      "text/html": [
       "<div>\n",
       "<table border=\"1\" class=\"dataframe\">\n",
       "  <thead>\n",
       "    <tr style=\"text-align: right;\">\n",
       "      <th></th>\n",
       "      <th>query</th>\n",
       "      <th>subject</th>\n",
       "      <th>pc_identity</th>\n",
       "      <th>aln_length</th>\n",
       "      <th>mismatches</th>\n",
       "      <th>gaps_opened</th>\n",
       "      <th>query_start</th>\n",
       "      <th>query_end</th>\n",
       "      <th>subject_start</th>\n",
       "      <th>subject_end</th>\n",
       "      <th>e_value</th>\n",
       "      <th>bitscore</th>\n",
       "      <th>qaln_length</th>\n",
       "    </tr>\n",
       "  </thead>\n",
       "  <tbody>\n",
       "    <tr>\n",
       "      <th>0</th>\n",
       "      <td>lcl|LISX01000001.1_cds_OKJ16671.1_31</td>\n",
       "      <td>KDN84196.1</td>\n",
       "      <td>93.802</td>\n",
       "      <td>484</td>\n",
       "      <td>30</td>\n",
       "      <td>0</td>\n",
       "      <td>1</td>\n",
       "      <td>1452</td>\n",
       "      <td>1</td>\n",
       "      <td>484</td>\n",
       "      <td>0.0</td>\n",
       "      <td>918.0</td>\n",
       "      <td>1452</td>\n",
       "    </tr>\n",
       "    <tr>\n",
       "      <th>1</th>\n",
       "      <td>lcl|LISX01000001.1_cds_OKJ16671.1_31</td>\n",
       "      <td>KIQ63037.1</td>\n",
       "      <td>89.897</td>\n",
       "      <td>485</td>\n",
       "      <td>48</td>\n",
       "      <td>1</td>\n",
       "      <td>1</td>\n",
       "      <td>1452</td>\n",
       "      <td>1</td>\n",
       "      <td>485</td>\n",
       "      <td>0.0</td>\n",
       "      <td>872.0</td>\n",
       "      <td>1452</td>\n",
       "    </tr>\n",
       "    <tr>\n",
       "      <th>2</th>\n",
       "      <td>lcl|LISX01000001.1_cds_OKJ16671.1_31</td>\n",
       "      <td>BAJ29737.1</td>\n",
       "      <td>84.330</td>\n",
       "      <td>485</td>\n",
       "      <td>75</td>\n",
       "      <td>1</td>\n",
       "      <td>1</td>\n",
       "      <td>1452</td>\n",
       "      <td>1</td>\n",
       "      <td>485</td>\n",
       "      <td>0.0</td>\n",
       "      <td>830.0</td>\n",
       "      <td>1452</td>\n",
       "    </tr>\n",
       "    <tr>\n",
       "      <th>3</th>\n",
       "      <td>lcl|LISX01000001.1_cds_OKJ16671.1_31</td>\n",
       "      <td>KRB64622.1</td>\n",
       "      <td>75.212</td>\n",
       "      <td>472</td>\n",
       "      <td>114</td>\n",
       "      <td>3</td>\n",
       "      <td>1</td>\n",
       "      <td>1407</td>\n",
       "      <td>1</td>\n",
       "      <td>472</td>\n",
       "      <td>0.0</td>\n",
       "      <td>743.0</td>\n",
       "      <td>1407</td>\n",
       "    </tr>\n",
       "    <tr>\n",
       "      <th>4</th>\n",
       "      <td>lcl|LISX01000001.1_cds_OKJ16671.1_31</td>\n",
       "      <td>KQV22225.1</td>\n",
       "      <td>75.212</td>\n",
       "      <td>472</td>\n",
       "      <td>114</td>\n",
       "      <td>3</td>\n",
       "      <td>1</td>\n",
       "      <td>1407</td>\n",
       "      <td>1</td>\n",
       "      <td>472</td>\n",
       "      <td>0.0</td>\n",
       "      <td>743.0</td>\n",
       "      <td>1407</td>\n",
       "    </tr>\n",
       "  </tbody>\n",
       "</table>\n",
       "</div>"
      ],
      "text/plain": [
       "                                  query     subject  pc_identity  aln_length  \\\n",
       "0  lcl|LISX01000001.1_cds_OKJ16671.1_31  KDN84196.1       93.802         484   \n",
       "1  lcl|LISX01000001.1_cds_OKJ16671.1_31  KIQ63037.1       89.897         485   \n",
       "2  lcl|LISX01000001.1_cds_OKJ16671.1_31  BAJ29737.1       84.330         485   \n",
       "3  lcl|LISX01000001.1_cds_OKJ16671.1_31  KRB64622.1       75.212         472   \n",
       "4  lcl|LISX01000001.1_cds_OKJ16671.1_31  KQV22225.1       75.212         472   \n",
       "\n",
       "   mismatches  gaps_opened  query_start  query_end  subject_start  \\\n",
       "0          30            0            1       1452              1   \n",
       "1          48            1            1       1452              1   \n",
       "2          75            1            1       1452              1   \n",
       "3         114            3            1       1407              1   \n",
       "4         114            3            1       1407              1   \n",
       "\n",
       "   subject_end  e_value  bitscore  qaln_length  \n",
       "0          484      0.0     918.0         1452  \n",
       "1          485      0.0     872.0         1452  \n",
       "2          485      0.0     830.0         1452  \n",
       "3          472      0.0     743.0         1407  \n",
       "4          472      0.0     743.0         1407  "
      ]
     },
     "execution_count": 13,
     "metadata": {},
     "output_type": "execute_result"
    }
   ],
   "source": [
    "# Add qaln_length to the results table as a new column\n",
    "results['qaln_length'] = qaln_length\n",
    "results.head()"
   ]
  },
  {
   "cell_type": "markdown",
   "metadata": {
    "deletable": true,
    "editable": true
   },
   "source": [
    "Dataframes also have a `.plot.<plot_type>()` method, which lets us plot information from the table directly.\n",
    "\n",
    "For example, to generate a scatterplot, we can use:\n",
    "\n",
    "```\n",
    "results.plot.scatter(<X_AXIS>, <Y_AXIS>)\n",
    "```\n",
    "\n",
    "where we replace `<X_AXIS>` and `<Y_AXIS>` with the names of the columns we want to see on those axes, as below."
   ]
  },
  {
   "cell_type": "code",
   "execution_count": 14,
   "metadata": {
    "collapsed": false,
    "deletable": true,
    "editable": true
   },
   "outputs": [
    {
     "data": {
      "image/png": "[encoded data removed]",
      "text/plain": [
       "<matplotlib.figure.Figure at 0x111e413c8>"
      ]
     },
     "metadata": {},
     "output_type": "display_data"
    }
   ],
   "source": [
    "# Create a scatterplot\n",
    "results.plot.scatter('pc_identity', 'e_value')\n",
    "plt.title(\"E value vs %identity\");              # add a title to the plot"
   ]
  },
  {
   "cell_type": "markdown",
   "metadata": {
    "deletable": true,
    "editable": true
   },
   "source": [
    "<img src=\"images/exercise.png\" style=\"width: 100px; float: left;\">\n",
    "<a id=\"ex01\"></a>\n",
    "### Exercise 01 (10min)\n",
    "\n",
    "There is a second `BLASTX` query file in the directory `data/kitasatospora`, called `lantibiotic.fasta`. It describes the CDS for a suspected lantibiotic synthesis protein. To begin the analysis with this sequence, can you do the following?\n",
    "\n",
    "<br><div class=\"alert-danger\">\n",
    "<ul>\n",
    "<li> Create a `BLASTX` command-line to query the lantibiotic synthesis CDS against the <i>Kitasatospora</i> protein database, and write the output to a new file called `lantibiotic_blastx_kitasatospora.tab` in the output directory `output/kitasatospora`.\n",
    "<li> Run the `BLASTX` search, capturing the `STDERR` and `STDOUT` streams\n",
    "<li> Load the `BLASTX` results into a new dataframe\n",
    "<li> Create a plot of percentage identity against bit score\n",
    "</div></br>"
   ]
  },
  {
   "cell_type": "code",
   "execution_count": 15,
   "metadata": {
    "collapsed": false,
    "deletable": true,
    "editable": true
   },
   "outputs": [
    {
     "name": "stdout",
     "output_type": "stream",
     "text": [
      "STDOUT: \n",
      "STDERR: \n"
     ]
    }
   ],
   "source": [
    "# SOLUTION - EXERCISE 01\n",
    "# !! Do not execute this cell if skipping computational step !!\n",
    "\n",
    "# We can reuse the directories and db, but need to generate new filenames\n",
    "query = os.path.join(datadir, 'lantibiotic.fasta')                                   # query sequence(s)\n",
    "blastout = os.path.join(outdir, 'lantibiotic_blastx_kitasatospora.tab')              # BLAST output\n",
    "\n",
    "# Create command-line for BLASTX\n",
    "cmd_blastx = NcbiblastxCommandline(query=query, out=blastout, outfmt=6, db=db)\n",
    "\n",
    "# Run BLASTX, and catch STDOUT/STDERR\n",
    "stdout, stderr = cmd_blastx()\n",
    "\n",
    "# Check STDOUT, STDERR\n",
    "print(\"STDOUT: %s\" % stdout)\n",
    "print(\"STDERR: %s\" % stderr)"
   ]
  },
  {
   "cell_type": "code",
   "execution_count": 16,
   "metadata": {
    "collapsed": false,
    "deletable": true,
    "editable": true
   },
   "outputs": [
    {
     "data": {
      "image/png": "[encoded data removed]",
      "text/plain": [
       "<matplotlib.figure.Figure at 0x111f31898>"
      ]
     },
     "metadata": {},
     "output_type": "display_data"
    }
   ],
   "source": [
    "# !! Uncomment the line below, if skipping computational step !!\n",
    "# blastout = os.path.join('prepped', 'kitasatospora', 'lantibiotic_blastx_kitasatospora.tab')\n",
    "\n",
    "# Read BLASTX output, and reuse the column headers defined earlier\n",
    "results = pd.read_csv(blastout, sep=\"\\t\", header=None)\n",
    "results.columns = headers\n",
    "\n",
    "# Create a scatterplot\n",
    "results.plot.scatter('bitscore', 'pc_identity')\n",
    "plt.title(\"%identity vs bitscore\");                                                  # add a title to the plot"
   ]
  },
  {
   "cell_type": "code",
   "execution_count": null,
   "metadata": {
    "collapsed": true,
    "deletable": true,
    "editable": true
   },
   "outputs": [],
   "source": []
  }
 ],
 "metadata": {
  "kernelspec": {
   "display_name": "Python 3 (IBioIC)",
   "language": "python",
   "name": "python3_ibioic_course"
  },
  "language_info": {
   "codemirror_mode": {
    "name": "ipython",
    "version": 3
   },
   "file_extension": ".py",
   "mimetype": "text/x-python",
   "name": "python",
   "nbconvert_exporter": "python",
   "pygments_lexer": "ipython3",
   "version": "3.6.0"
  }
 },
 "nbformat": 4,
 "nbformat_minor": 2
}
