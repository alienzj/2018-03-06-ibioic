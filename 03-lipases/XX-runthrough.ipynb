{
 "cells": [
  {
   "cell_type": "markdown",
   "metadata": {},
   "source": [
    "<img src=\"images/JHI_STRAP_Web.png\" style=\"width: 150px; float: right;\">\n",
    "# XX - Runthrough"
   ]
  },
  {
   "cell_type": "markdown",
   "metadata": {},
   "source": [
    "This is essentially a crib sheet for the tutor.\n",
    "\n",
    "* **Reinforce the value of reproducible research, and literate programming (embedding runnable code and analysis in the same document)**\n",
    "* **Ask the learners to write a short introduction about the goals of the report**"
   ]
  },
  {
   "cell_type": "markdown",
   "metadata": {},
   "source": [
    "## 00 - Python Imports\n",
    "\n",
    "You'll need the following imports:"
   ]
  },
  {
   "cell_type": "code",
   "execution_count": 45,
   "metadata": {
    "collapsed": false
   },
   "outputs": [
    {
     "name": "stdout",
     "output_type": "stream",
     "text": [
      "Populating the interactive namespace from numpy and matplotlib\n"
     ]
    }
   ],
   "source": [
    "# Show graphics inline\n",
    "%pylab inline\n",
    "\n",
    "# PSL\n",
    "import os\n",
    "\n",
    "# Import Pandas and Seaborn\n",
    "import pandas as pd\n",
    "import seaborn as sns\n",
    "\n",
    "# Biopython\n",
    "from Bio import SeqIO\n",
    "from Bio.SeqRecord import SeqRecord\n",
    "from Bio.Blast.Applications import NcbiblastxCommandline, NcbiblastnCommandline, \\\n",
    "                                   NcbitblastnCommandline, NcbitblastxCommandline"
   ]
  },
  {
   "cell_type": "markdown",
   "metadata": {},
   "source": [
    "Also to make an output directory - creation at the command-line is OK."
   ]
  },
  {
   "cell_type": "code",
   "execution_count": 29,
   "metadata": {
    "collapsed": false
   },
   "outputs": [],
   "source": [
    "# Create output directory if needed\n",
    "os.makedirs(\"output\", exist_ok=True)"
   ]
  },
  {
   "cell_type": "markdown",
   "metadata": {},
   "source": [
    "## 01 - Load in the sequences\n",
    "\n",
    "* **The downstream analyses require us to have the sequences available**\n",
    "* **Ask learners to write a little summary of sequence source information**"
   ]
  },
  {
   "cell_type": "markdown",
   "metadata": {},
   "source": [
    "<div class=\"alert-success\">\n",
    "The nucleotide sequences for wildtype (`wildtype`) and engineered (`engineered`) lipases as provided by the Product Development Unit are loaded.\n",
    "</div>"
   ]
  },
  {
   "cell_type": "code",
   "execution_count": 4,
   "metadata": {
    "collapsed": false
   },
   "outputs": [
    {
     "name": "stdout",
     "output_type": "stream",
     "text": [
      ">wildtype lipase protein from Proteus mirabilis\n",
      "ATGGGCAGCAGCCACCACCACCACCACCACAGCAGCGGCCTGGTGCCCAGGGGCAGCCAC\n",
      "ATGAGCACCAAGTACCCCATCGTGCTGGTGCACGGCCTGGCCGGCTTCAACGAGATCGTG\n",
      "GGCTTCCCCTACTTCTACGGCATCGCCGACGCCCTGAGGCAGGACGGCCACCAGGTGTTC\n",
      "ACCGCCAGCCTGAGCGCCTTCAACAGCAACGAGGTGAGGGGCAAGCAGCTGTGGCAGTTC\n",
      "GTGCAGACCCTGCTGCAGGAGACCCAGGCCAAGAAGGTGAACTTCATCGGCCACAGCCAG\n",
      "GGCCCCCTGGCCTGCAGGTACGTGGCCGCCAACTACCCCGACAGCGTGGCCAGCGTGACC\n",
      "AGCATCAACGGCGTGAACCACGGCAGCGAGATCGCCGACCTGTACAGGAGGATCATGAGG\n",
      "AAGGACAGCATCCCCGAGTACATCGTGGAGAAGGTGCTGAACGCCTTCGGCACCATCATC\n",
      "AGCACCTTCAGCGGCCACAGGGGCGACCCCCAGGACGCCATCGCCGCCCTGGAGAGCCTG\n",
      "ACCACCGAGCAGGTGACCGAGTTCAACAACAAGTACCCCCAGGCCCTGCCCAAGACCCCC\n",
      "GGCGGCGAGGGCGACGAGATCGTGAACGGCGTGCACTACTACTGCTTCGGCAGCTACATC\n",
      "CAGGGCCTGATCGCCGGCGAGAAGGGCAACCTGCTGGACCCCACCCACGCCGCCATGAGG\n",
      "GTGCTGAACACCTTCTTCACCGAGAAGCAGAACGACGGCCTGGTGGGCAGGAGCAGCATG\n",
      "AGGCTGGGCAAGCTGATCAAGGACGACTACGCCCAGGACCACATCGACATGGTGAACCAG\n",
      "GTGGCCGGCCTGGTGGGCTACAACGAGGACATCGTGGCCATCTACACCCAGCACGCCAAG\n",
      "TACCTGGCCAGCAAGCAGCTG\n",
      "\n",
      ">engineered lipase protein from Proteus mirabilis\n",
      "ATGGGCAGCAGCCACCACCACCACCACCACAGCAGCGGCCTGGTGCCCAGGGGCAGCCAC\n",
      "ATGAGCACCAAGTACCCCATCGTGCTGGTGCACGGCCTGGCCGGCTTCAGCGAGATCGTG\n",
      "GGCTTCCCCTACTTCTACGGCATCGCCGACGCCCTGACCCAGGACGGCCACCAGGTGTTC\n",
      "ACCGCCAGCCTGAGCGCCTTCAACAGCAACGAGGTGAGGGGCAAGCAGCTGTGGCAGTTC\n",
      "GTGCAGACCATCCTGCAGGAGACCCAGACCAAGAAGGTGAACTTCATCGGCCACAGCCAG\n",
      "GGCCCCCTGGCCTGCAGGTACGTGGCCGCCAACTACCCCGACAGCGTGGCCAGCGTGACC\n",
      "AGCATCAACGGCGTGAACCACGGCAGCGAGATCGCCGACCTGTACAGGAGGATCATCAGG\n",
      "AAGGACAGCATCCCCGAGTACATCGTGGAGAAGGTGCTGAACGCCTTCGGCACCATCATC\n",
      "AGCACCTTCAGCGGCCACAGGGGCGACCCCCAGGACGCCATCGCCGCCCTGGAGAGCCTG\n",
      "ACCACCGAGCAGGTGACCGAGTTCAACAACAAGTACCCCCAGGCCCTGCCCAAGACCCCC\n",
      "TGCGGCGAGGGCGACGAGATCGTGAACGGCGTGCACTACTACTGCTTCGGCAGCTACATC\n",
      "CAGGAGCTGATCGCCGGCGAGAACGGCAACCTGCTGGACCCCACCCACGCCGCCATGAGG\n",
      "GTGCTGAACACCCTGTTCACCGAGAAGCAGAACGACGGCCTGGTGGGCAGGTGCAGCATG\n",
      "AGGCTGGGCAAGCTGATCAAGGACGACTACGCCCAGGACCACTTCGACATGGTGAACCAG\n",
      "GTGGCCGGCCTGGTGAGCTACAACGAGAACATCGTGGCCATCTACACCCTGCACGCCAAG\n",
      "TACCTGGCCAGCAAGCAGCTG\n",
      "\n"
     ]
    }
   ],
   "source": [
    "# Read the wildtype and engineered sequences in from file\n",
    "wildtype = SeqIO.read(os.path.join('data', 'wildtype_nt.fasta'), 'fasta')\n",
    "engineered = SeqIO.read(os.path.join('data', 'engineered_nt.fasta'), 'fasta')\n",
    "\n",
    "# Show the sequences\n",
    "print(wildtype.format('fasta'))\n",
    "print(engineered.format('fasta'))"
   ]
  },
  {
   "cell_type": "code",
   "execution_count": 7,
   "metadata": {
    "collapsed": false
   },
   "outputs": [
    {
     "name": "stdout",
     "output_type": "stream",
     "text": [
      "lengths - WT: 921nt, ENG: 921nt\n"
     ]
    }
   ],
   "source": [
    "# Summarise sequence properties\n",
    "# Lengths\n",
    "print(\"lengths - WT: {0}nt, ENG: {1}nt\".format(len(wildtype), len(engineered)))"
   ]
  },
  {
   "cell_type": "code",
   "execution_count": 9,
   "metadata": {
    "collapsed": false
   },
   "outputs": [
    {
     "name": "stdout",
     "output_type": "stream",
     "text": [
      "Count of differing bases: 18\n"
     ]
    }
   ],
   "source": [
    "# Count and report differences between the sequences (OPTIONAL)\n",
    "diffcount = 0\n",
    "for pos in range(len(wildtype)):\n",
    "    if engineered[pos] != wildtype[pos]:\n",
    "        diffcount += 1\n",
    "print(\"Count of differing bases: {0}\".format(diffcount))"
   ]
  },
  {
   "cell_type": "markdown",
   "metadata": {},
   "source": [
    "<div class=\"alert-success\">\n",
    "The wildtype and engineered sequences are each 921bp in length, with 18 SNPs that distinguish the engineered form.\n",
    "</div>"
   ]
  },
  {
   "cell_type": "markdown",
   "metadata": {},
   "source": [
    "* **Convert nucleotide sequences to protein (use table 11)**\n",
    "* **Note that sequence IDs can't have spaces**\n",
    "* **Ask learners to write sequences to file**\n",
    "* **Ask learners to write short summary of conversion process**"
   ]
  },
  {
   "cell_type": "markdown",
   "metadata": {},
   "source": [
    "<div class=\"alert-success\">\n",
    "The nucleotide sequences are translated into predicted gene products using the `Biopython` `translate()` method, with translation table 11 (bacteria, archaea, plant plastid). \n",
    "</div>"
   ]
  },
  {
   "cell_type": "code",
   "execution_count": 22,
   "metadata": {
    "collapsed": false
   },
   "outputs": [
    {
     "name": "stdout",
     "output_type": "stream",
     "text": [
      ">translated_wildtype wildtype lipase protein from Proteus mirabilis\n",
      "MGSSHHHHHHSSGLVPRGSHMSTKYPIVLVHGLAGFNEIVGFPYFYGIADALRQDGHQVF\n",
      "TASLSAFNSNEVRGKQLWQFVQTLLQETQAKKVNFIGHSQGPLACRYVAANYPDSVASVT\n",
      "SINGVNHGSEIADLYRRIMRKDSIPEYIVEKVLNAFGTIISTFSGHRGDPQDAIAALESL\n",
      "TTEQVTEFNNKYPQALPKTPGGEGDEIVNGVHYYCFGSYIQGLIAGEKGNLLDPTHAAMR\n",
      "VLNTFFTEKQNDGLVGRSSMRLGKLIKDDYAQDHIDMVNQVAGLVGYNEDIVAIYTQHAK\n",
      "YLASKQL\n",
      "\n",
      ">translated_engineered engineered lipase protein from Proteus mirabilis\n",
      "MGSSHHHHHHSSGLVPRGSHMSTKYPIVLVHGLAGFSEIVGFPYFYGIADALTQDGHQVF\n",
      "TASLSAFNSNEVRGKQLWQFVQTILQETQTKKVNFIGHSQGPLACRYVAANYPDSVASVT\n",
      "SINGVNHGSEIADLYRRIIRKDSIPEYIVEKVLNAFGTIISTFSGHRGDPQDAIAALESL\n",
      "TTEQVTEFNNKYPQALPKTPCGEGDEIVNGVHYYCFGSYIQELIAGENGNLLDPTHAAMR\n",
      "VLNTLFTEKQNDGLVGRCSMRLGKLIKDDYAQDHFDMVNQVAGLVSYNENIVAIYTLHAK\n",
      "YLASKQL\n",
      "\n"
     ]
    }
   ],
   "source": [
    "# Translate input nucleotide sequences\n",
    "wildtype_aa = SeqRecord(id=\"translated_\" + wildtype.id,\n",
    "                        description=wildtype.description,\n",
    "                        seq = wildtype.seq.translate(table=11))\n",
    "engineered_aa = SeqRecord(id=\"translated_\" + engineered.id,\n",
    "                        description=engineered.description,\n",
    "                        seq = engineered.seq.translate(table=11))\n",
    "\n",
    "# Show the sequences\n",
    "print(wildtype_aa.format('fasta'))\n",
    "print(engineered_aa.format('fasta'))"
   ]
  },
  {
   "cell_type": "code",
   "execution_count": 24,
   "metadata": {
    "collapsed": false
   },
   "outputs": [
    {
     "name": "stdout",
     "output_type": "stream",
     "text": [
      "lengths - WT: 307aa, ENG: 307aa\n"
     ]
    }
   ],
   "source": [
    "# Summarise sequence properties\n",
    "# Lengths\n",
    "print(\"lengths - WT: {0}aa, ENG: {1}aa\".format(len(wildtype_aa), len(engineered_aa)))"
   ]
  },
  {
   "cell_type": "code",
   "execution_count": 25,
   "metadata": {
    "collapsed": false
   },
   "outputs": [
    {
     "name": "stdout",
     "output_type": "stream",
     "text": [
      "Count of differing residues: 14\n"
     ]
    }
   ],
   "source": [
    "# Count and report differences between the sequences (OPTIONAL)\n",
    "diffcount = 0\n",
    "for pos in range(len(wildtype_aa)):\n",
    "    if engineered_aa[pos] != wildtype_aa[pos]:\n",
    "        diffcount += 1\n",
    "print(\"Count of differing residues: {0}\".format(diffcount))"
   ]
  },
  {
   "cell_type": "code",
   "execution_count": 34,
   "metadata": {
    "collapsed": false
   },
   "outputs": [
    {
     "data": {
      "text/plain": [
       "1"
      ]
     },
     "execution_count": 34,
     "metadata": {},
     "output_type": "execute_result"
    }
   ],
   "source": [
    "# Write sequences to file\n",
    "SeqIO.write(wildtype_aa, os.path.join(\"output\", \"wildtype_aa.fasta\"), \"fasta\")\n",
    "SeqIO.write(engineered_aa, os.path.join(\"output\", \"engineered_aa.fasta\"), \"fasta\")"
   ]
  },
  {
   "cell_type": "markdown",
   "metadata": {},
   "source": [
    "<div class=\"alert-success\">\n",
    "This produces conceptual translations of 307aa in length, with 14 residue substitutions between wild-type and engineered forms. These sequences were written to `output/wildtype_aa.fasta` and `output/engineered_aa.fasta`.\n",
    "</div>"
   ]
  },
  {
   "cell_type": "markdown",
   "metadata": {},
   "source": [
    "## 02 - Identifying a gene model\n",
    "\n",
    "* **The wildtype nt sequence will be `BLAST`ed against the genome to identify a likely location; this will be visualised against the `.gbff` file for the reference.**\n",
    "* **Ask the learners to search for the wildtype sequence on the genome.**\n",
    "* **Allow the learners to use the command-line or notebook to conduct the search**\n",
    "* **In either case, the first step is database creation, which requires dropping to the command-line**"
   ]
  },
  {
   "cell_type": "markdown",
   "metadata": {},
   "source": [
    "<div class=\"alert-success\">\n",
    "The following local `BLAST` databases of the <i>P. mirabilis</i> reference genome are created in the `output` directory, with the names:\n",
    "<ul>\n",
    "    <li> The reference genome sequence (nucleotide) - `ref_genome`\n",
    "    <li> The reference annotated CDS (nucleotide) - `ref_cds`\n",
    "    <li> The reference annotated proteins (protein) - `ref_protein`\n",
    "</ul>\n",
    "</div>"
   ]
  },
  {
   "cell_type": "code",
   "execution_count": 32,
   "metadata": {
    "collapsed": false
   },
   "outputs": [
    {
     "name": "stdout",
     "output_type": "stream",
     "text": [
      "\n",
      "\n",
      "Building a new DB, current time: 03/13/2017 10:29:10\n",
      "New DB name:   /Users/lpritc/Documents/Development/Teaching/Teaching-IBioIC-Intro-to-Bioinformatics/03-lipases/output/ref_genome\n",
      "New DB title:  ref_genome\n",
      "Sequence type: Nucleotide\n",
      "Keep MBits: T\n",
      "Maximum file size: 1000000000B\n",
      "Adding sequences from FASTA; added 2 sequences in 0.048667 seconds.\n",
      "\n",
      "\n",
      "Building a new DB, current time: 03/13/2017 10:29:11\n",
      "New DB name:   /Users/lpritc/Documents/Development/Teaching/Teaching-IBioIC-Intro-to-Bioinformatics/03-lipases/output/ref_cds\n",
      "New DB title:  ref_cds\n",
      "Sequence type: Nucleotide\n",
      "Keep MBits: T\n",
      "Maximum file size: 1000000000B\n",
      "Adding sequences from FASTA; added 3740 sequences in 0.176332 seconds.\n",
      "\n",
      "\n",
      "Building a new DB, current time: 03/13/2017 10:29:11\n",
      "New DB name:   /Users/lpritc/Documents/Development/Teaching/Teaching-IBioIC-Intro-to-Bioinformatics/03-lipases/output/ref_protein\n",
      "New DB title:  ref_protein\n",
      "Sequence type: Protein\n",
      "Keep MBits: T\n",
      "Maximum file size: 1000000000B\n",
      "Adding sequences from FASTA; added 3662 sequences in 0.120675 seconds.\n"
     ]
    }
   ],
   "source": [
    "%%bash\n",
    "# Drop out to bash to create BLAST databases - can do this at the command line\n",
    "\n",
    "# reference genome\n",
    "makeblastdb -in data/GCA_000069965.1_ASM6996v1_genomic.fna \\\n",
    "            -dbtype nucl \\\n",
    "            -title ref_genome \\\n",
    "            -out output/ref_genome\n",
    "            \n",
    "# reference CDS            \n",
    "makeblastdb -in data/GCA_000069965.1_ASM6996v1_cds_from_genomic.fna \\\n",
    "            -dbtype nucl \\\n",
    "            -title ref_cds \\\n",
    "            -out output/ref_cds\n",
    "            \n",
    "# reference protein\n",
    "makeblastdb -in data/GCA_000069965.1_ASM6996v1_protein.faa \\\n",
    "            -dbtype prot \\\n",
    "            -title ref_protein \\\n",
    "            -out output/ref_protein"
   ]
  },
  {
   "cell_type": "markdown",
   "metadata": {},
   "source": [
    "* **However the BLAST search is run, note the utility of having an informative output filename**"
   ]
  },
  {
   "cell_type": "markdown",
   "metadata": {},
   "source": [
    "<div class=\"alert-success\">\n",
    "A `BLASTN` search using the wildtype sequence as query was carried out against the `ref_genome` database to identify a likely genomic location.\n",
    "</div>\n",
    "\n",
    "**Option 1: command-line search**"
   ]
  },
  {
   "cell_type": "code",
   "execution_count": 41,
   "metadata": {
    "collapsed": false
   },
   "outputs": [],
   "source": [
    "%%bash\n",
    "# Command-line search\n",
    "blastn -query data/wildtype_nt.fasta \\\n",
    "       -db output/ref_genome \\\n",
    "       -outfmt 6 \\\n",
    "       -out output/wildtype_blastn_ref_genome.tab"
   ]
  },
  {
   "cell_type": "markdown",
   "metadata": {
    "deletable": true,
    "editable": true
   },
   "source": [
    "**Option 2: notebook search**"
   ]
  },
  {
   "cell_type": "code",
   "execution_count": 44,
   "metadata": {
    "collapsed": false
   },
   "outputs": [
    {
     "name": "stdout",
     "output_type": "stream",
     "text": [
      "STDOUT: \n",
      "STDERR: \n"
     ]
    }
   ],
   "source": [
    "# Create BLASTN command line\n",
    "cmd_blastn = NcbiblastnCommandline(query=os.path.join(\"data\", \"wildtype_nt.fasta\"),\n",
    "                                   db=os.path.join(\"output\", \"ref_genome\"),\n",
    "                                   outfmt=6,\n",
    "                                   out=os.path.join(\"output\", \"wildtype_blastn_ref_genome.tab\"))\n",
    "\n",
    "# Run BLASTN command\n",
    "stdout, stderr = cmd_blastn()\n",
    "print(\"STDOUT: %s\" % stdout)\n",
    "print(\"STDERR: %s\" % stderr)"
   ]
  },
  {
   "cell_type": "markdown",
   "metadata": {},
   "source": [
    "* **Check the output file. This search provides no matches!**\n",
    "* **Ask the learners to consider a different approach - guide them towards `TBLASTX` (translated query, translated subject)**"
   ]
  },
  {
   "cell_type": "markdown",
   "metadata": {},
   "source": [
    "<div class=\"alert-success\">\n",
    "As the `BLASTN` search produced no matches, a `TBLASTX` search was used, with the same input sequence and database.\n",
    "</div>\n",
    "\n",
    "**Option 1: command-line search**"
   ]
  },
  {
   "cell_type": "code",
   "execution_count": 47,
   "metadata": {
    "collapsed": true
   },
   "outputs": [],
   "source": [
    "%%bash\n",
    "# Command-line search\n",
    "tblastx -query data/wildtype_nt.fasta \\\n",
    "        -db output/ref_genome \\\n",
    "        -outfmt 6 \\\n",
    "        -out output/wildtype_tblastx_ref_genome.tab"
   ]
  },
  {
   "cell_type": "markdown",
   "metadata": {},
   "source": [
    "**Option 2: notebook search**"
   ]
  },
  {
   "cell_type": "code",
   "execution_count": 48,
   "metadata": {
    "collapsed": false
   },
   "outputs": [
    {
     "name": "stdout",
     "output_type": "stream",
     "text": [
      "STDOUT: \n",
      "STDERR: \n"
     ]
    }
   ],
   "source": [
    "# Create TBLASTX command line\n",
    "cmd_tblastx = NcbitblastxCommandline(query=os.path.join(\"data\", \"wildtype_nt.fasta\"),\n",
    "                                    db=os.path.join(\"output\", \"ref_genome\"),\n",
    "                                    outfmt=6,\n",
    "                                    out=os.path.join(\"output\", \"wildtype_tblastx_ref_genome.tab\"))\n",
    "\n",
    "# Run BLASTN command\n",
    "stdout, stderr = cmd_tblastx()\n",
    "print(\"STDOUT: %s\" % stdout)\n",
    "print(\"STDERR: %s\" % stderr)"
   ]
  },
  {
   "cell_type": "markdown",
   "metadata": {},
   "source": [
    "* **Ask the learners to read in the output file using `pandas`, and present the matches with appropriate headers and a comment.**"
   ]
  },
  {
   "cell_type": "code",
   "execution_count": 50,
   "metadata": {
    "collapsed": false
   },
   "outputs": [
    {
     "data": {
      "text/html": [
       "<div>\n",
       "<table border=\"1\" class=\"dataframe\">\n",
       "  <thead>\n",
       "    <tr style=\"text-align: right;\">\n",
       "      <th></th>\n",
       "      <th>query</th>\n",
       "      <th>subject</th>\n",
       "      <th>pc_identity</th>\n",
       "      <th>aln_length</th>\n",
       "      <th>mismatches</th>\n",
       "      <th>gaps_opened</th>\n",
       "      <th>query_start</th>\n",
       "      <th>query_end</th>\n",
       "      <th>subject_start</th>\n",
       "      <th>subject_end</th>\n",
       "      <th>e_value</th>\n",
       "      <th>bitscore</th>\n",
       "    </tr>\n",
       "  </thead>\n",
       "  <tbody>\n",
       "    <tr>\n",
       "      <th>0</th>\n",
       "      <td>wildtype</td>\n",
       "      <td>AM942759.1</td>\n",
       "      <td>98.639</td>\n",
       "      <td>294</td>\n",
       "      <td>4</td>\n",
       "      <td>0</td>\n",
       "      <td>40</td>\n",
       "      <td>921</td>\n",
       "      <td>1063060</td>\n",
       "      <td>1063941</td>\n",
       "      <td>0.000000e+00</td>\n",
       "      <td>692.0</td>\n",
       "    </tr>\n",
       "    <tr>\n",
       "      <th>1</th>\n",
       "      <td>wildtype</td>\n",
       "      <td>AM942759.1</td>\n",
       "      <td>70.769</td>\n",
       "      <td>130</td>\n",
       "      <td>38</td>\n",
       "      <td>0</td>\n",
       "      <td>752</td>\n",
       "      <td>363</td>\n",
       "      <td>1063772</td>\n",
       "      <td>1063383</td>\n",
       "      <td>2.820000e-90</td>\n",
       "      <td>197.0</td>\n",
       "    </tr>\n",
       "    <tr>\n",
       "      <th>2</th>\n",
       "      <td>wildtype</td>\n",
       "      <td>AM942759.1</td>\n",
       "      <td>72.289</td>\n",
       "      <td>83</td>\n",
       "      <td>23</td>\n",
       "      <td>0</td>\n",
       "      <td>314</td>\n",
       "      <td>66</td>\n",
       "      <td>1063334</td>\n",
       "      <td>1063086</td>\n",
       "      <td>2.820000e-90</td>\n",
       "      <td>121.0</td>\n",
       "    </tr>\n",
       "    <tr>\n",
       "      <th>3</th>\n",
       "      <td>wildtype</td>\n",
       "      <td>AM942759.1</td>\n",
       "      <td>80.769</td>\n",
       "      <td>26</td>\n",
       "      <td>5</td>\n",
       "      <td>0</td>\n",
       "      <td>920</td>\n",
       "      <td>843</td>\n",
       "      <td>1063940</td>\n",
       "      <td>1063863</td>\n",
       "      <td>2.820000e-90</td>\n",
       "      <td>48.3</td>\n",
       "    </tr>\n",
       "    <tr>\n",
       "      <th>4</th>\n",
       "      <td>wildtype</td>\n",
       "      <td>AM942759.1</td>\n",
       "      <td>80.000</td>\n",
       "      <td>10</td>\n",
       "      <td>2</td>\n",
       "      <td>0</td>\n",
       "      <td>76</td>\n",
       "      <td>105</td>\n",
       "      <td>588332</td>\n",
       "      <td>588303</td>\n",
       "      <td>3.800000e-01</td>\n",
       "      <td>23.1</td>\n",
       "    </tr>\n",
       "    <tr>\n",
       "      <th>5</th>\n",
       "      <td>wildtype</td>\n",
       "      <td>AM942759.1</td>\n",
       "      <td>35.294</td>\n",
       "      <td>34</td>\n",
       "      <td>22</td>\n",
       "      <td>0</td>\n",
       "      <td>202</td>\n",
       "      <td>303</td>\n",
       "      <td>588212</td>\n",
       "      <td>588111</td>\n",
       "      <td>3.800000e-01</td>\n",
       "      <td>23.1</td>\n",
       "    </tr>\n",
       "    <tr>\n",
       "      <th>6</th>\n",
       "      <td>wildtype</td>\n",
       "      <td>AM942759.1</td>\n",
       "      <td>38.889</td>\n",
       "      <td>36</td>\n",
       "      <td>22</td>\n",
       "      <td>0</td>\n",
       "      <td>238</td>\n",
       "      <td>345</td>\n",
       "      <td>3623411</td>\n",
       "      <td>3623304</td>\n",
       "      <td>9.800000e-01</td>\n",
       "      <td>29.5</td>\n",
       "    </tr>\n",
       "    <tr>\n",
       "      <th>7</th>\n",
       "      <td>wildtype</td>\n",
       "      <td>AM942759.1</td>\n",
       "      <td>43.478</td>\n",
       "      <td>23</td>\n",
       "      <td>13</td>\n",
       "      <td>0</td>\n",
       "      <td>787</td>\n",
       "      <td>855</td>\n",
       "      <td>1102334</td>\n",
       "      <td>1102402</td>\n",
       "      <td>9.800000e-01</td>\n",
       "      <td>29.5</td>\n",
       "    </tr>\n",
       "    <tr>\n",
       "      <th>8</th>\n",
       "      <td>wildtype</td>\n",
       "      <td>AM942759.1</td>\n",
       "      <td>52.381</td>\n",
       "      <td>21</td>\n",
       "      <td>10</td>\n",
       "      <td>0</td>\n",
       "      <td>286</td>\n",
       "      <td>348</td>\n",
       "      <td>3298352</td>\n",
       "      <td>3298414</td>\n",
       "      <td>9.800000e-01</td>\n",
       "      <td>29.5</td>\n",
       "    </tr>\n",
       "    <tr>\n",
       "      <th>9</th>\n",
       "      <td>wildtype</td>\n",
       "      <td>AM942759.1</td>\n",
       "      <td>66.667</td>\n",
       "      <td>12</td>\n",
       "      <td>4</td>\n",
       "      <td>0</td>\n",
       "      <td>530</td>\n",
       "      <td>495</td>\n",
       "      <td>3695049</td>\n",
       "      <td>3695084</td>\n",
       "      <td>3.500000e+00</td>\n",
       "      <td>27.6</td>\n",
       "    </tr>\n",
       "    <tr>\n",
       "      <th>10</th>\n",
       "      <td>wildtype</td>\n",
       "      <td>AM942759.1</td>\n",
       "      <td>41.667</td>\n",
       "      <td>24</td>\n",
       "      <td>14</td>\n",
       "      <td>0</td>\n",
       "      <td>560</td>\n",
       "      <td>489</td>\n",
       "      <td>277868</td>\n",
       "      <td>277939</td>\n",
       "      <td>6.500000e+00</td>\n",
       "      <td>26.7</td>\n",
       "    </tr>\n",
       "    <tr>\n",
       "      <th>11</th>\n",
       "      <td>wildtype</td>\n",
       "      <td>AM942759.1</td>\n",
       "      <td>60.000</td>\n",
       "      <td>15</td>\n",
       "      <td>6</td>\n",
       "      <td>0</td>\n",
       "      <td>690</td>\n",
       "      <td>734</td>\n",
       "      <td>1517270</td>\n",
       "      <td>1517314</td>\n",
       "      <td>8.600000e+00</td>\n",
       "      <td>26.3</td>\n",
       "    </tr>\n",
       "    <tr>\n",
       "      <th>12</th>\n",
       "      <td>wildtype</td>\n",
       "      <td>AM942759.1</td>\n",
       "      <td>32.432</td>\n",
       "      <td>37</td>\n",
       "      <td>25</td>\n",
       "      <td>0</td>\n",
       "      <td>337</td>\n",
       "      <td>447</td>\n",
       "      <td>1135838</td>\n",
       "      <td>1135728</td>\n",
       "      <td>9.000000e+00</td>\n",
       "      <td>26.3</td>\n",
       "    </tr>\n",
       "  </tbody>\n",
       "</table>\n",
       "</div>"
      ],
      "text/plain": [
       "       query     subject  pc_identity  aln_length  mismatches  gaps_opened  \\\n",
       "0   wildtype  AM942759.1       98.639         294           4            0   \n",
       "1   wildtype  AM942759.1       70.769         130          38            0   \n",
       "2   wildtype  AM942759.1       72.289          83          23            0   \n",
       "3   wildtype  AM942759.1       80.769          26           5            0   \n",
       "4   wildtype  AM942759.1       80.000          10           2            0   \n",
       "5   wildtype  AM942759.1       35.294          34          22            0   \n",
       "6   wildtype  AM942759.1       38.889          36          22            0   \n",
       "7   wildtype  AM942759.1       43.478          23          13            0   \n",
       "8   wildtype  AM942759.1       52.381          21          10            0   \n",
       "9   wildtype  AM942759.1       66.667          12           4            0   \n",
       "10  wildtype  AM942759.1       41.667          24          14            0   \n",
       "11  wildtype  AM942759.1       60.000          15           6            0   \n",
       "12  wildtype  AM942759.1       32.432          37          25            0   \n",
       "\n",
       "    query_start  query_end  subject_start  subject_end       e_value  bitscore  \n",
       "0            40        921        1063060      1063941  0.000000e+00     692.0  \n",
       "1           752        363        1063772      1063383  2.820000e-90     197.0  \n",
       "2           314         66        1063334      1063086  2.820000e-90     121.0  \n",
       "3           920        843        1063940      1063863  2.820000e-90      48.3  \n",
       "4            76        105         588332       588303  3.800000e-01      23.1  \n",
       "5           202        303         588212       588111  3.800000e-01      23.1  \n",
       "6           238        345        3623411      3623304  9.800000e-01      29.5  \n",
       "7           787        855        1102334      1102402  9.800000e-01      29.5  \n",
       "8           286        348        3298352      3298414  9.800000e-01      29.5  \n",
       "9           530        495        3695049      3695084  3.500000e+00      27.6  \n",
       "10          560        489         277868       277939  6.500000e+00      26.7  \n",
       "11          690        734        1517270      1517314  8.600000e+00      26.3  \n",
       "12          337        447        1135838      1135728  9.000000e+00      26.3  "
      ]
     },
     "execution_count": 50,
     "metadata": {},
     "output_type": "execute_result"
    }
   ],
   "source": [
    "# Define column headers\n",
    "headers = ['query', 'subject',\n",
    "           'pc_identity', 'aln_length', 'mismatches', 'gaps_opened',\n",
    "           'query_start', 'query_end', 'subject_start', 'subject_end',\n",
    "           'e_value', 'bitscore']\n",
    "\n",
    "# Read TBLASTX output and add headers\n",
    "results = pd.read_csv(os.path.join(\"output\", \"wildtype_tblastx_ref_genome.tab\"), sep=\"\\t\", header=None)\n",
    "results.columns = headers\n",
    "\n",
    "# Show results\n",
    "results"
   ]
  },
  {
   "cell_type": "markdown",
   "metadata": {},
   "source": [
    "<div class=\"alert-success\">\n",
    "This query produced a number of candidate genomic region matches. The best match was to the region 1063060-1063941, covering 294 amino acids, at 98.6% identity. This match was taken to be the most likely genomic location for the wildtype sequence.\n",
    "</div>"
   ]
  },
  {
   "cell_type": "markdown",
   "metadata": {},
   "source": [
    "* **Ask the learners to search the annotated proteins from the reference, as for the genome search, and summarise the results in a similar way.**"
   ]
  },
  {
   "cell_type": "markdown",
   "metadata": {},
   "source": [
    "<div class=\"alert-success\">\n",
    "A `BLASTX` search using the wildtype sequence as query was carried out against the `ref_protein` database to identify whether a corresponding protein has been annotated on the reference.\n",
    "</div>\n",
    "\n",
    "**Option 1: command-line search**"
   ]
  },
  {
   "cell_type": "code",
   "execution_count": 51,
   "metadata": {
    "collapsed": true
   },
   "outputs": [],
   "source": [
    "%%bash\n",
    "# Command-line search\n",
    "blastx -query data/wildtype_nt.fasta \\\n",
    "       -db output/ref_protein \\\n",
    "       -outfmt 6 \\\n",
    "       -out output/wildtype_blastx_ref_protein.tab"
   ]
  },
  {
   "cell_type": "markdown",
   "metadata": {},
   "source": [
    "**Option 2: notebook search**"
   ]
  },
  {
   "cell_type": "code",
   "execution_count": 52,
   "metadata": {
    "collapsed": false
   },
   "outputs": [
    {
     "name": "stdout",
     "output_type": "stream",
     "text": [
      "STDOUT: \n",
      "STDERR: \n"
     ]
    }
   ],
   "source": [
    "# Create BLASTX command line\n",
    "cmd_blastx = NcbiblastxCommandline(query=os.path.join(\"data\", \"wildtype_nt.fasta\"),\n",
    "                                   db=os.path.join(\"output\", \"ref_protein\"),\n",
    "                                   outfmt=6,\n",
    "                                   out=os.path.join(\"output\", \"wildtype_blastx_ref_protein.tab\"))\n",
    "\n",
    "# Run BLASTN command\n",
    "stdout, stderr = cmd_blastx()\n",
    "print(\"STDOUT: %s\" % stdout)\n",
    "print(\"STDERR: %s\" % stderr)"
   ]
  },
  {
   "cell_type": "markdown",
   "metadata": {},
   "source": [
    "* **Remind the learners that they can reuse the headers they defined earlier, when presenting the results as a `pandas` dataframe**"
   ]
  },
  {
   "cell_type": "code",
   "execution_count": 53,
   "metadata": {
    "collapsed": false
   },
   "outputs": [
    {
     "data": {
      "text/html": [
       "<div>\n",
       "<table border=\"1\" class=\"dataframe\">\n",
       "  <thead>\n",
       "    <tr style=\"text-align: right;\">\n",
       "      <th></th>\n",
       "      <th>query</th>\n",
       "      <th>subject</th>\n",
       "      <th>pc_identity</th>\n",
       "      <th>aln_length</th>\n",
       "      <th>mismatches</th>\n",
       "      <th>gaps_opened</th>\n",
       "      <th>query_start</th>\n",
       "      <th>query_end</th>\n",
       "      <th>subject_start</th>\n",
       "      <th>subject_end</th>\n",
       "      <th>e_value</th>\n",
       "      <th>bitscore</th>\n",
       "    </tr>\n",
       "  </thead>\n",
       "  <tbody>\n",
       "    <tr>\n",
       "      <th>0</th>\n",
       "      <td>wildtype</td>\n",
       "      <td>CAR42190.1</td>\n",
       "      <td>100.000</td>\n",
       "      <td>287</td>\n",
       "      <td>0</td>\n",
       "      <td>0</td>\n",
       "      <td>61</td>\n",
       "      <td>921</td>\n",
       "      <td>1</td>\n",
       "      <td>287</td>\n",
       "      <td>0.00</td>\n",
       "      <td>595.0</td>\n",
       "    </tr>\n",
       "    <tr>\n",
       "      <th>1</th>\n",
       "      <td>wildtype</td>\n",
       "      <td>CAR41317.1</td>\n",
       "      <td>29.412</td>\n",
       "      <td>102</td>\n",
       "      <td>62</td>\n",
       "      <td>3</td>\n",
       "      <td>76</td>\n",
       "      <td>369</td>\n",
       "      <td>23</td>\n",
       "      <td>118</td>\n",
       "      <td>0.63</td>\n",
       "      <td>28.1</td>\n",
       "    </tr>\n",
       "    <tr>\n",
       "      <th>2</th>\n",
       "      <td>wildtype</td>\n",
       "      <td>CAR46496.1</td>\n",
       "      <td>24.503</td>\n",
       "      <td>151</td>\n",
       "      <td>93</td>\n",
       "      <td>4</td>\n",
       "      <td>442</td>\n",
       "      <td>858</td>\n",
       "      <td>91</td>\n",
       "      <td>232</td>\n",
       "      <td>0.90</td>\n",
       "      <td>28.1</td>\n",
       "    </tr>\n",
       "    <tr>\n",
       "      <th>3</th>\n",
       "      <td>wildtype</td>\n",
       "      <td>CAR42262.1</td>\n",
       "      <td>43.478</td>\n",
       "      <td>23</td>\n",
       "      <td>13</td>\n",
       "      <td>0</td>\n",
       "      <td>787</td>\n",
       "      <td>855</td>\n",
       "      <td>191</td>\n",
       "      <td>213</td>\n",
       "      <td>1.10</td>\n",
       "      <td>27.7</td>\n",
       "    </tr>\n",
       "    <tr>\n",
       "      <th>4</th>\n",
       "      <td>wildtype</td>\n",
       "      <td>CAR45487.1</td>\n",
       "      <td>31.915</td>\n",
       "      <td>47</td>\n",
       "      <td>32</td>\n",
       "      <td>0</td>\n",
       "      <td>295</td>\n",
       "      <td>435</td>\n",
       "      <td>131</td>\n",
       "      <td>177</td>\n",
       "      <td>2.10</td>\n",
       "      <td>26.6</td>\n",
       "    </tr>\n",
       "    <tr>\n",
       "      <th>5</th>\n",
       "      <td>wildtype</td>\n",
       "      <td>CAR46650.1</td>\n",
       "      <td>33.333</td>\n",
       "      <td>33</td>\n",
       "      <td>22</td>\n",
       "      <td>0</td>\n",
       "      <td>566</td>\n",
       "      <td>468</td>\n",
       "      <td>529</td>\n",
       "      <td>561</td>\n",
       "      <td>3.90</td>\n",
       "      <td>25.8</td>\n",
       "    </tr>\n",
       "    <tr>\n",
       "      <th>6</th>\n",
       "      <td>wildtype</td>\n",
       "      <td>CAR42804.1</td>\n",
       "      <td>30.233</td>\n",
       "      <td>43</td>\n",
       "      <td>25</td>\n",
       "      <td>1</td>\n",
       "      <td>760</td>\n",
       "      <td>873</td>\n",
       "      <td>21</td>\n",
       "      <td>63</td>\n",
       "      <td>4.20</td>\n",
       "      <td>23.9</td>\n",
       "    </tr>\n",
       "  </tbody>\n",
       "</table>\n",
       "</div>"
      ],
      "text/plain": [
       "      query     subject  pc_identity  aln_length  mismatches  gaps_opened  \\\n",
       "0  wildtype  CAR42190.1      100.000         287           0            0   \n",
       "1  wildtype  CAR41317.1       29.412         102          62            3   \n",
       "2  wildtype  CAR46496.1       24.503         151          93            4   \n",
       "3  wildtype  CAR42262.1       43.478          23          13            0   \n",
       "4  wildtype  CAR45487.1       31.915          47          32            0   \n",
       "5  wildtype  CAR46650.1       33.333          33          22            0   \n",
       "6  wildtype  CAR42804.1       30.233          43          25            1   \n",
       "\n",
       "   query_start  query_end  subject_start  subject_end  e_value  bitscore  \n",
       "0           61        921              1          287     0.00     595.0  \n",
       "1           76        369             23          118     0.63      28.1  \n",
       "2          442        858             91          232     0.90      28.1  \n",
       "3          787        855            191          213     1.10      27.7  \n",
       "4          295        435            131          177     2.10      26.6  \n",
       "5          566        468            529          561     3.90      25.8  \n",
       "6          760        873             21           63     4.20      23.9  "
      ]
     },
     "execution_count": 53,
     "metadata": {},
     "output_type": "execute_result"
    }
   ],
   "source": [
    "# Read TBLASTX output and add headers\n",
    "results = pd.read_csv(os.path.join(\"output\", \"wildtype_blastx_ref_protein.tab\"), sep=\"\\t\", header=None)\n",
    "results.columns = headers\n",
    "\n",
    "# Show results\n",
    "results"
   ]
  },
  {
   "cell_type": "markdown",
   "metadata": {},
   "source": [
    "<div class=\"alert-success\">\n",
    "The `BLASTX` search showed similarity of the wildtype sequence to seven candidate proteins, but only one candidate, `CAR42190.1`, had more than 30% sequence identity over a considerable part of the sequence.\n",
    "</div>"
   ]
  },
  {
   "cell_type": "markdown",
   "metadata": {},
   "source": [
    "## 03 - Identifying a putative regulatory region\n",
    "\n",
    "To identify a putative regulatory region, the reference genome is inspected in the region of the `TBLASTX` hit and annotated location of `CAR42190.1`, and the region immediately upstream of the operon containing this location extracted as a nucleotide sequence in FASTA format.\n",
    "\n",
    "* **Ask the learners to start `Artemis` (at the command-line)**\n",
    "* **Ask the learners to load the `data/GCA_000069965.1_ASM6996v1_genomic.gbk` file and navigate to the region of the `TBLASTX` match.**\n",
    "\n",
    "![Artemis region match](images/XX-01_region.png)\n",
    "\n",
    "* **Ask the learners to get information about the annotated feature immediately downstream (this is `PMI0999`, and is their `BLASTX` hit). Note that this is confirmation of the `BLASTX` result.**\n",
    "\n",
    "![Artemis feature](images/XX-02_feature.png)\n",
    "\n",
    "* **Ask the learners to select the genomic region on the forward strand between the two features `PMI0998` and `PMI0999`: `1062938..1063081`***\n",
    "\n",
    "![Artemis selection](images/XX-03_select.png)\n",
    "\n",
    "* **Ask the learners to write that sequence out to `output/putative_regulatory_region.fasta`.**\n",
    "\n",
    "![Artemis menu](images/XX-04_menu.png)\n",
    "![Artemis write](images/XX-05_write.png)"
   ]
  },
  {
   "cell_type": "markdown",
   "metadata": {},
   "source": [
    "* **Ask learners to write up their work.**\n",
    "\n",
    "<p></p>\n",
    "<div class=\"alert-success\">\n",
    "The region of the `TBLASTX` match was inspected using `Artemis` and found to include the region annotated with `PMI0999`/`CAR42190`, the hit identified by `BLASTX`. The intergenic region upstream of `PMI0999` was extracted as a FASTA sequence file in `output/putative_regulatory_region.fasta`.\n",
    "</div>"
   ]
  },
  {
   "cell_type": "code",
   "execution_count": null,
   "metadata": {
    "collapsed": true
   },
   "outputs": [],
   "source": []
  }
 ],
 "metadata": {
  "kernelspec": {
   "display_name": "Python 3 (IBioIC)",
   "language": "python",
   "name": "python3_ibioic_course"
  },
  "language_info": {
   "codemirror_mode": {
    "name": "ipython",
    "version": 3
   },
   "file_extension": ".py",
   "mimetype": "text/x-python",
   "name": "python",
   "nbconvert_exporter": "python",
   "pygments_lexer": "ipython3",
   "version": "3.6.0"
  }
 },
 "nbformat": 4,
 "nbformat_minor": 2
}
