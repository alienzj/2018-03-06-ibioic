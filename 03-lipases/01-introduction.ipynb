{
 "cells": [
  {
   "cell_type": "markdown",
   "metadata": {
    "deletable": true,
    "editable": true
   },
   "source": [
    "<img src=\"images/JHI_STRAP_Web.png\" style=\"width: 150px; float: right;\">\n",
    "# 01 - Introduction"
   ]
  },
  {
   "cell_type": "markdown",
   "metadata": {
    "deletable": true,
    "editable": true
   },
   "source": [
    "## Table of Contents\n",
    "\n",
    "1. [Introduction](#introduction)"
   ]
  },
  {
   "cell_type": "markdown",
   "metadata": {
    "deletable": true,
    "editable": true
   },
   "source": [
    "<a id=\"introduction\"></a>\n",
    "## Introduction\n",
    "\n",
    "<p></p>\n",
    "<div class=\"alert-success\">\n",
    "<b>We've come up with a little example to motivate the specific sample data we we be using.</b>\n",
    "</div>\n",
    "\n",
    "We're going to be looking at two forms of a lipase protein from the bacteria *Proteus mirabilis*, the natural wild-type and an engineered form of this enzyme - provided as two files named `wildtype.fasta` and `engineered.fasta`. Here the extension indicates these are plain text FASTA format sequences."
   ]
  },
  {
   "cell_type": "markdown",
   "metadata": {
    "deletable": true,
    "editable": true
   },
   "source": [
    "### Sequences in FASTA format\n",
    "\n",
    "<p></p>\n",
    "<div class=\"alert-success\">\n",
    "<b>We view two small FASTA sequence files.</b>\n",
    "</div>\n",
    "\n",
    "In your terminal window, please change to the lipase data directory using:\n",
    "\n",
    "```bash\n",
    "cd ~/Teaching-IBioIC-Intro-to-Bioinformatics/03-lipases/data\n",
    "```\n",
    "\n",
    "If you list the ``*.fasta`` files, you should see:\n",
    "\n",
    "```bash\n",
    "$ ls *.fasta\n",
    "engineered.fasta\twildtype.fasta\n",
    "```\n",
    "\n",
    "The `wildtype.fasta` file should look like this using the `more` command:\n",
    "\n",
    "```bash\n",
    "$ more wildtype.fasta\n",
    ">wildtype lipase protein from Proteus mirabilis\n",
    "MSTKYPIVLVHGLAGFNEIVGFPYFYGIADALRQDGHQVFTASLSAFNSNEVRGKQLWQF\n",
    "VQTLLQETQAKKVNFIGHSQGPLACRYVAANYPDSVASVTSINGVNHGSEIADLYRRIMR\n",
    "KDSIPEYIVEKVLNAFGTIISTFSGHRGDPQDAIAALESLTTEQVTEFNNKYPQALPKIP\n",
    "GGEGDEIVNGVHYYCFGSYIQGLIAGEKGNLLDPTHAAMRVLNTFFTEKQNDGLVGRSSM\n",
    "RLGKLIKDDYAQDHIDMVNQVAGLVGYNEDIVAIYTQHAKYLASKQL\n",
    "```\n",
    "\n",
    "The `engineered.fasta` file should look like this with `more`:\n",
    "\n",
    "```bash\n",
    "$ more engineered.fasta\n",
    ">engineered lipase protein from Proteus mirabilis\n",
    "MSTKYPIVLVHGLAGFNEIVGFPYFYGIADALRQDGHQVFTASLSAFNSNEVRGKQLWQF\n",
    "VQTLLQETQAKKVNFIGHSQGPLACRYVAANYPDSVASVTSINGVNHGSEIADLYRRIMR\n",
    "KDSIPEYIVEKVLNAFGTIISTFSGHRGDPQDAIAALESLTTEQVTEFNNKYPQALPKTP\n",
    "GGEGDEIVNGVHYYCFGSYIQGLIAGEKGNLLDPTHAAMRVLNTFFTEKQNDGLVGRSSM\n",
    "RLGKLIKDDYAQDHIDMVNQVAGLVGYNEDIVAIYTQHAKYLASKQL\n",
    "```\n",
    "\n",
    "Also try navigating to this directory in the file browser and opening the files to view them in a text editor.\n",
    "\n",
    "The FASTA format (named after an early bioinformatics tool of the same name) uses a special `>` marker line to indicate the start of each sequence. This `>` header line should begin with an identifier, and then optional a space and description (all one one line). The subsequence lines (until the next `>` marker) are the associated sequence data, usually line wrapped.\n",
    "\n",
    "Here we have two short FASTA files, each just five lines long, and each containing a single protein sequence - which by eye look almost identical. We will come back to this later."
   ]
  },
  {
   "cell_type": "markdown",
   "metadata": {
    "deletable": true,
    "editable": true
   },
   "source": [
    "### Resources\n",
    "\n",
    "* ..."
   ]
  }
 ],
 "metadata": {
  "kernelspec": {
   "display_name": "Python 3",
   "language": "python",
   "name": "python3"
  },
  "language_info": {
   "codemirror_mode": {
    "name": "ipython",
    "version": 3
   },
   "file_extension": ".py",
   "mimetype": "text/x-python",
   "name": "python",
   "nbconvert_exporter": "python",
   "pygments_lexer": "ipython3",
   "version": "3.5.2"
  }
 },
 "nbformat": 4,
 "nbformat_minor": 2
}
