{
 "cells": [
  {
   "cell_type": "markdown",
   "metadata": {
    "deletable": true,
    "editable": true
   },
   "source": [
    "<img src=\"images/JHI_STRAP_Web.png\" style=\"width: 150px; float: right;\">\n",
    "# 00 - The Challenge"
   ]
  },
  {
   "cell_type": "markdown",
   "metadata": {
    "deletable": true,
    "editable": true
   },
   "source": [
    "## Motivation\n",
    "\n",
    "You work at Consolidated Incorporated, a producer of [biodiesels](http://www.esru.strath.ac.uk/EandE/Web_sites/02-03/biofuels/what_biodiesel.htm): methyl esters of fatty acids that are usually produced by [base-catalyzed transesterification](https://en.wikipedia.org/wiki/Biodiesel_production) of triacylglyerol with methanol. \n",
    "\n",
    "Some lipase enzymes are effective catalysts for biodiesel synthesis. Natural lipases are often rapidly inactivated by the high methanol concentrations used for biodiesel synthesis, limiting their practical use. The Biochemistry Unit here at Consolidated Incorporated have identified a lipase from [*Proteus mirabilis*](https://en.wikipedia.org/wiki/Proteus_mirabilis) that is a particularly promising catalyst for biodiesel synthesis as it produces high yields of methyl esters even in the presence of large amounts of water and expresses very well in *Escherichia coli*.\n",
    "\n",
    "However, since the *Proteus mirabilis* lipase is only moderately stable and methanol tolerant, these properties needed to be improved before the enzyme can be used industrially. The Product Development Unit have used directed evolution to generate a modified enzyme that has greatly improved thermal stability, dramatically increased methanol tolerance, and retains the ability to synthesize biodiesel\n",
    "\n",
    "The Product Development Unit have asked you to investigate the publicly-available information available about this enzyme and/or its near relatives, with a specific remit to report and comment on the diversity of sequence and function of this enzyme's relatives, and to investigate what features of the modified enzyme explain might its improved performance."
   ]
  },
  {
   "cell_type": "markdown",
   "metadata": {
    "deletable": true,
    "editable": true
   },
   "source": [
    "## Activities\n",
    "\n",
    "You are provided with the FASTA nucleotide sequences for the wild-type [*P. mirabilis* lipase](./data/wildtype_nt.fasta), and for an [engineered form of this protein](./data/engineered_nt.fasta).\n",
    "\n",
    "* WT: [data/wildtype_nt.fasta](./data/wildtype_nt.fasta)\n",
    "* Engineered: [data/engineered_nt.fasta](./data/engineered_nt.fasta)\n",
    "\n",
    "Your manager has asked you to produce a Jupyter notebook, combining analysis and report in one document, taking these sequences through the following processes:\n",
    "\n",
    "* mapping/searching for a CDS on a genome\n",
    "    * working with sequences in Biopython\n",
    "\t* identifying a gene model\n",
    "\t* identifying a putative regulatory region\n",
    "\t\n",
    "* identifying homologues in public databases\n",
    "\t* BLAST/NCBI\n",
    "    * UniProt\n",
    "\t* KEGG\n",
    "\t* generating an orthologue/homologue set\n",
    "\t* identifying sites of conservation/diversity\n",
    "\t\n",
    "* identifying related structural data\n",
    "\t* RCSB search\n",
    "\t* JMOL\n",
    "    * JPRED\n",
    "    * NetSurfP\n",
    "\t* SwissModel\n",
    "\t\n",
    "* comparing engineered to wild type sequence\n",
    "\t* biological/functional interpretation from sequence data"
   ]
  },
  {
   "cell_type": "markdown",
   "metadata": {
    "deletable": true,
    "editable": true
   },
   "source": [
    "## Sequences\n",
    "\n",
    "The nucleotide sequences provided by the Product Development Unit are located at:\n",
    "\n",
    "* **wildtype**: `data/wildtype_nt.fasta`\n",
    "* **engineered variant**: `data/engineered_nt.fasta`\n",
    "\n",
    "A reference GenBank assembly for *Proteus mirabilis* is provided at:\n",
    "\n",
    "* `data/GCA_000069965.1_ASM6996v1_genomic.fna`\n",
    "\n",
    "with feature annotations in GenBank format at:\n",
    "\n",
    "* `data/GCA_000069965.1_ASM6996v1_genomic.gbk`\n",
    "\n",
    "and annotated CDS sequences and their translations at:\n",
    "\n",
    "* `data/GCA_000069965.1_ASM6996v1_cds_from_genomic.fna`\n",
    "* `data/GCA_000069965.1_ASM6996v1_protein.faa`"
   ]
  },
  {
   "cell_type": "code",
   "execution_count": null,
   "metadata": {
    "collapsed": true,
    "deletable": true,
    "editable": true
   },
   "outputs": [],
   "source": []
  }
 ],
 "metadata": {
  "kernelspec": {
   "display_name": "Python 3 (IBioIC)",
   "language": "python",
   "name": "python3_ibioic_course"
  },
  "language_info": {
   "codemirror_mode": {
    "name": "ipython",
    "version": 3
   },
   "file_extension": ".py",
   "mimetype": "text/x-python",
   "name": "python",
   "nbconvert_exporter": "python",
   "pygments_lexer": "ipython3",
   "version": "3.6.0"
  }
 },
 "nbformat": 4,
 "nbformat_minor": 2
}
